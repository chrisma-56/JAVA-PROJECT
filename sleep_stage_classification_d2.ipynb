{
 "cells": [
  {
   "cell_type": "code",
   "execution_count": 1,
   "metadata": {},
   "outputs": [
    {
     "name": "stdout",
     "output_type": "stream",
     "text": [
      "Number of GPU:  1\n",
      "GPU Name:  NVIDIA RTX A6000\n",
      "Using device: cuda\n"
     ]
    }
   ],
   "source": [
    "import torch\n",
    "\n",
    "print(\"Number of GPU: \", torch.cuda.device_count())\n",
    "print(\"GPU Name: \", torch.cuda.get_device_name())\n",
    "\n",
    "\n",
    "device = torch.device('cuda' if torch.cuda.is_available() else 'cpu')\n",
    "print('Using device:', device)"
   ]
  },
  {
   "cell_type": "code",
   "execution_count": 10,
   "metadata": {},
   "outputs": [
    {
     "name": "stdout",
     "output_type": "stream",
     "text": [
      "⚠️ Warning: Hypnogram file not found for SC4801G0-PSG.edf\n",
      "⚠️ Warning: Hypnogram file not found for SC4802G0-PSG.edf\n",
      "⚠️ Warning: Hypnogram file not found for SC4812G0-PSG.edf\n",
      "⚠️ Warning: Hypnogram file not found for ST7021J0-PSG.edf\n",
      "⚠️ Warning: Hypnogram file not found for ST7071J0-PSG.edf\n",
      "⚠️ Warning: Hypnogram file not found for ST7092J0-PSG.edf\n",
      "✅ Matched: SC4092E0-PSG.edf <-> SC4092EC-Hypnogram.edf\n",
      "✅ Matched: SC4101E0-PSG.edf <-> SC4101EC-Hypnogram.edf\n",
      "✅ Matched: SC4102E0-PSG.edf <-> SC4102EC-Hypnogram.edf\n",
      "✅ Matched: SC4111E0-PSG.edf <-> SC4111EC-Hypnogram.edf\n",
      "✅ Matched: SC4112E0-PSG.edf <-> SC4112EC-Hypnogram.edf\n",
      "✅ Matched: SC4121E0-PSG.edf <-> SC4121EC-Hypnogram.edf\n",
      "✅ Matched: SC4122E0-PSG.edf <-> SC4122EV-Hypnogram.edf\n",
      "✅ Matched: SC4131E0-PSG.edf <-> SC4131EC-Hypnogram.edf\n",
      "✅ Matched: SC4141E0-PSG.edf <-> SC4141EU-Hypnogram.edf\n",
      "✅ Matched: SC4142E0-PSG.edf <-> SC4142EU-Hypnogram.edf\n",
      "✅ Matched: SC4151E0-PSG.edf <-> SC4151EC-Hypnogram.edf\n",
      "✅ Matched: SC4152E0-PSG.edf <-> SC4152EC-Hypnogram.edf\n",
      "✅ Matched: SC4161E0-PSG.edf <-> SC4161EC-Hypnogram.edf\n",
      "✅ Matched: SC4162E0-PSG.edf <-> SC4162EC-Hypnogram.edf\n",
      "✅ Matched: SC4171E0-PSG.edf <-> SC4171EU-Hypnogram.edf\n",
      "✅ Matched: SC4172E0-PSG.edf <-> SC4172EC-Hypnogram.edf\n",
      "✅ Matched: SC4181E0-PSG.edf <-> SC4181EC-Hypnogram.edf\n",
      "✅ Matched: SC4182E0-PSG.edf <-> SC4182EC-Hypnogram.edf\n",
      "✅ Matched: SC4191E0-PSG.edf <-> SC4191EP-Hypnogram.edf\n",
      "✅ Matched: SC4192E0-PSG.edf <-> SC4192EV-Hypnogram.edf\n",
      "✅ Matched: SC4201E0-PSG.edf <-> SC4201EC-Hypnogram.edf\n",
      "✅ Matched: SC4202E0-PSG.edf <-> SC4202EC-Hypnogram.edf\n",
      "✅ Matched: SC4211E0-PSG.edf <-> SC4211EC-Hypnogram.edf\n",
      "✅ Matched: SC4212E0-PSG.edf <-> SC4212EC-Hypnogram.edf\n",
      "✅ Matched: SC4221E0-PSG.edf <-> SC4221EJ-Hypnogram.edf\n",
      "✅ Matched: SC4222E0-PSG.edf <-> SC4222EC-Hypnogram.edf\n",
      "✅ Matched: SC4231E0-PSG.edf <-> SC4231EJ-Hypnogram.edf\n",
      "✅ Matched: SC4232E0-PSG.edf <-> SC4232EV-Hypnogram.edf\n",
      "✅ Matched: SC4241E0-PSG.edf <-> SC4241EC-Hypnogram.edf\n",
      "✅ Matched: SC4242E0-PSG.edf <-> SC4242EA-Hypnogram.edf\n",
      "✅ Matched: SC4251E0-PSG.edf <-> SC4251EP-Hypnogram.edf\n",
      "✅ Matched: SC4252E0-PSG.edf <-> SC4252EU-Hypnogram.edf\n",
      "✅ Matched: SC4261F0-PSG.edf <-> SC4261FM-Hypnogram.edf\n",
      "✅ Matched: SC4262F0-PSG.edf <-> SC4262FC-Hypnogram.edf\n",
      "✅ Matched: SC4271F0-PSG.edf <-> SC4271FC-Hypnogram.edf\n",
      "✅ Matched: SC4272F0-PSG.edf <-> SC4272FM-Hypnogram.edf\n",
      "✅ Matched: SC4281G0-PSG.edf <-> SC4281GC-Hypnogram.edf\n",
      "✅ Matched: SC4282G0-PSG.edf <-> SC4282GC-Hypnogram.edf\n",
      "✅ Matched: SC4291G0-PSG.edf <-> SC4291GA-Hypnogram.edf\n",
      "✅ Matched: SC4292G0-PSG.edf <-> SC4292GC-Hypnogram.edf\n",
      "✅ Matched: SC4311E0-PSG.edf <-> SC4311EC-Hypnogram.edf\n",
      "✅ Matched: SC4312E0-PSG.edf <-> SC4312EM-Hypnogram.edf\n",
      "✅ Matched: SC4321E0-PSG.edf <-> SC4321EC-Hypnogram.edf\n",
      "✅ Matched: SC4331F0-PSG.edf <-> SC4331FV-Hypnogram.edf\n",
      "✅ Matched: SC4332F0-PSG.edf <-> SC4332FC-Hypnogram.edf\n",
      "✅ Matched: SC4341F0-PSG.edf <-> SC4341FA-Hypnogram.edf\n",
      "✅ Matched: SC4342F0-PSG.edf <-> SC4342FA-Hypnogram.edf\n",
      "✅ Matched: SC4351F0-PSG.edf <-> SC4351FA-Hypnogram.edf\n",
      "✅ Matched: SC4352F0-PSG.edf <-> SC4352FV-Hypnogram.edf\n",
      "✅ Matched: SC4362F0-PSG.edf <-> SC4362FC-Hypnogram.edf\n",
      "✅ Matched: SC4371F0-PSG.edf <-> SC4371FA-Hypnogram.edf\n",
      "✅ Matched: SC4372F0-PSG.edf <-> SC4372FC-Hypnogram.edf\n",
      "✅ Matched: SC4381F0-PSG.edf <-> SC4381FC-Hypnogram.edf\n",
      "✅ Matched: SC4382F0-PSG.edf <-> SC4382FW-Hypnogram.edf\n",
      "✅ Matched: SC4401E0-PSG.edf <-> SC4401EC-Hypnogram.edf\n",
      "✅ Matched: SC4402E0-PSG.edf <-> SC4402EW-Hypnogram.edf\n",
      "✅ Matched: SC4411E0-PSG.edf <-> SC4411EJ-Hypnogram.edf\n",
      "✅ Matched: SC4412E0-PSG.edf <-> SC4412EM-Hypnogram.edf\n",
      "✅ Matched: SC4421E0-PSG.edf <-> SC4421EA-Hypnogram.edf\n",
      "✅ Matched: SC4422E0-PSG.edf <-> SC4422EA-Hypnogram.edf\n",
      "✅ Matched: SC4431E0-PSG.edf <-> SC4431EM-Hypnogram.edf\n",
      "✅ Matched: SC4432E0-PSG.edf <-> SC4432EM-Hypnogram.edf\n",
      "✅ Matched: SC4441E0-PSG.edf <-> SC4441EC-Hypnogram.edf\n",
      "✅ Matched: SC4442E0-PSG.edf <-> SC4442EV-Hypnogram.edf\n",
      "✅ Matched: SC4451F0-PSG.edf <-> SC4451FY-Hypnogram.edf\n",
      "✅ Matched: SC4452F0-PSG.edf <-> SC4452FW-Hypnogram.edf\n",
      "✅ Matched: SC4461F0-PSG.edf <-> SC4461FA-Hypnogram.edf\n",
      "✅ Matched: SC4462F0-PSG.edf <-> SC4462FJ-Hypnogram.edf\n",
      "✅ Matched: SC4471F0-PSG.edf <-> SC4471FA-Hypnogram.edf\n",
      "✅ Matched: SC4472F0-PSG.edf <-> SC4472FA-Hypnogram.edf\n",
      "✅ Matched: SC4481F0-PSG.edf <-> SC4481FV-Hypnogram.edf\n",
      "✅ Matched: SC4482F0-PSG.edf <-> SC4482FJ-Hypnogram.edf\n",
      "✅ Matched: SC4491G0-PSG.edf <-> SC4491GJ-Hypnogram.edf\n",
      "✅ Matched: SC4492G0-PSG.edf <-> SC4492GJ-Hypnogram.edf\n",
      "✅ Matched: SC4501E0-PSG.edf <-> SC4501EW-Hypnogram.edf\n",
      "✅ Matched: SC4502E0-PSG.edf <-> SC4502EM-Hypnogram.edf\n",
      "✅ Matched: SC4511E0-PSG.edf <-> SC4511EJ-Hypnogram.edf\n",
      "✅ Matched: SC4512E0-PSG.edf <-> SC4512EW-Hypnogram.edf\n",
      "✅ Matched: SC4522E0-PSG.edf <-> SC4522EM-Hypnogram.edf\n",
      "✅ Matched: SC4531E0-PSG.edf <-> SC4531EM-Hypnogram.edf\n",
      "✅ Matched: SC4532E0-PSG.edf <-> SC4532EV-Hypnogram.edf\n",
      "✅ Matched: SC4541F0-PSG.edf <-> SC4541FA-Hypnogram.edf\n",
      "✅ Matched: SC4542F0-PSG.edf <-> SC4542FW-Hypnogram.edf\n",
      "✅ Matched: SC4551F0-PSG.edf <-> SC4551FC-Hypnogram.edf\n",
      "✅ Matched: SC4552F0-PSG.edf <-> SC4552FW-Hypnogram.edf\n",
      "✅ Matched: SC4561F0-PSG.edf <-> SC4561FJ-Hypnogram.edf\n",
      "✅ Matched: SC4562F0-PSG.edf <-> SC4562FJ-Hypnogram.edf\n",
      "✅ Matched: SC4571F0-PSG.edf <-> SC4571FV-Hypnogram.edf\n",
      "✅ Matched: SC4572F0-PSG.edf <-> SC4572FC-Hypnogram.edf\n",
      "✅ Matched: SC4581G0-PSG.edf <-> SC4581GM-Hypnogram.edf\n",
      "✅ Matched: SC4582G0-PSG.edf <-> SC4582GP-Hypnogram.edf\n",
      "✅ Matched: SC4591G0-PSG.edf <-> SC4591GY-Hypnogram.edf\n",
      "✅ Matched: SC4592G0-PSG.edf <-> SC4592GY-Hypnogram.edf\n",
      "✅ Matched: SC4601E0-PSG.edf <-> SC4601EC-Hypnogram.edf\n",
      "✅ Matched: SC4602E0-PSG.edf <-> SC4602EJ-Hypnogram.edf\n",
      "✅ Matched: SC4611E0-PSG.edf <-> SC4611EG-Hypnogram.edf\n",
      "✅ Matched: SC4612E0-PSG.edf <-> SC4612EA-Hypnogram.edf\n",
      "✅ Matched: SC4621E0-PSG.edf <-> SC4621EV-Hypnogram.edf\n",
      "✅ Matched: SC4622E0-PSG.edf <-> SC4622EJ-Hypnogram.edf\n",
      "✅ Matched: SC4631E0-PSG.edf <-> SC4631EM-Hypnogram.edf\n",
      "✅ Matched: SC4632E0-PSG.edf <-> SC4632EA-Hypnogram.edf\n",
      "✅ Matched: SC4641E0-PSG.edf <-> SC4641EP-Hypnogram.edf\n",
      "✅ Matched: SC4651E0-PSG.edf <-> SC4651EP-Hypnogram.edf\n",
      "✅ Matched: SC4652E0-PSG.edf <-> SC4652EG-Hypnogram.edf\n",
      "✅ Matched: SC4661E0-PSG.edf <-> SC4661EJ-Hypnogram.edf\n",
      "✅ Matched: SC4662E0-PSG.edf <-> SC4662EJ-Hypnogram.edf\n",
      "✅ Matched: SC4671G0-PSG.edf <-> SC4671GJ-Hypnogram.edf\n",
      "✅ Matched: SC4672G0-PSG.edf <-> SC4672GV-Hypnogram.edf\n",
      "✅ Matched: SC4701E0-PSG.edf <-> SC4701EC-Hypnogram.edf\n",
      "✅ Matched: SC4702E0-PSG.edf <-> SC4702EA-Hypnogram.edf\n",
      "✅ Matched: SC4711E0-PSG.edf <-> SC4711EC-Hypnogram.edf\n",
      "✅ Matched: SC4712E0-PSG.edf <-> SC4712EA-Hypnogram.edf\n",
      "✅ Matched: SC4721E0-PSG.edf <-> SC4721EC-Hypnogram.edf\n",
      "✅ Matched: SC4722E0-PSG.edf <-> SC4722EM-Hypnogram.edf\n",
      "✅ Matched: SC4731E0-PSG.edf <-> SC4731EM-Hypnogram.edf\n",
      "✅ Matched: SC4732E0-PSG.edf <-> SC4732EJ-Hypnogram.edf\n",
      "✅ Matched: SC4751E0-PSG.edf <-> SC4751EC-Hypnogram.edf\n",
      "✅ Matched: SC4811G0-PSG.edf <-> SC4811GG-Hypnogram.edf\n",
      "✅ Matched: SC4821G0-PSG.edf <-> SC4821GC-Hypnogram.edf\n",
      "✅ Matched: SC4822G0-PSG.edf <-> SC4822GC-Hypnogram.edf\n",
      "✅ Matched: ST7012J0-PSG.edf <-> ST7012JP-Hypnogram.edf\n",
      "✅ Matched: ST7022J0-PSG.edf <-> ST7022JM-Hypnogram.edf\n",
      "✅ Matched: ST7041J0-PSG.edf <-> ST7041JO-Hypnogram.edf\n",
      "✅ Matched: ST7042J0-PSG.edf <-> ST7042JO-Hypnogram.edf\n",
      "✅ Matched: ST7051J0-PSG.edf <-> ST7051JA-Hypnogram.edf\n",
      "✅ Matched: ST7052J0-PSG.edf <-> ST7052JA-Hypnogram.edf\n",
      "✅ Matched: ST7061J0-PSG.edf <-> ST7061JR-Hypnogram.edf\n",
      "✅ Matched: ST7062J0-PSG.edf <-> ST7062JR-Hypnogram.edf\n",
      "✅ Matched: ST7072J0-PSG.edf <-> ST7072JA-Hypnogram.edf\n",
      "✅ Matched: ST7081J0-PSG.edf <-> ST7081JW-Hypnogram.edf\n",
      "✅ Matched: ST7082J0-PSG.edf <-> ST7082JW-Hypnogram.edf\n",
      "✅ Matched: ST7091J0-PSG.edf <-> ST7091JE-Hypnogram.edf\n",
      "✅ Matched: ST7101J0-PSG.edf <-> ST7101JE-Hypnogram.edf\n",
      "✅ Matched: ST7192J0-PSG.edf <-> ST7192JR-Hypnogram.edf\n",
      "✅ Matched: ST7201J0-PSG.edf <-> ST7201JO-Hypnogram.edf\n",
      "✅ Matched: ST7202J0-PSG.edf <-> ST7202JO-Hypnogram.edf\n",
      "✅ Matched: ST7211J0-PSG.edf <-> ST7211JJ-Hypnogram.edf\n",
      "✅ Matched: ST7212J0-PSG.edf <-> ST7212JJ-Hypnogram.edf\n",
      "✅ Matched: ST7221J0-PSG.edf <-> ST7221JA-Hypnogram.edf\n",
      "✅ Matched: ST7222J0-PSG.edf <-> ST7222JA-Hypnogram.edf\n",
      "✅ Matched: ST7241J0-PSG.edf <-> ST7241JO-Hypnogram.edf\n",
      "✅ Matched: ST7242J0-PSG.edf <-> ST7242JO-Hypnogram.edf\n"
     ]
    }
   ],
   "source": [
    "import os\n",
    "\n",
    "edf_folder = r\"E:\\sleep_full_dataset\"  # Change this to the correct folder path\n",
    "\n",
    "# Get all files in the folder\n",
    "all_files = os.listdir(edf_folder)\n",
    "\n",
    "# Extract PSG and Hypnogram file lists\n",
    "psg_files = [f for f in all_files if \"-PSG.edf\" in f]\n",
    "hypnogram_files = [f for f in all_files if \"-Hypnogram.edf\" in f]\n",
    "\n",
    "# Extract subject IDs using only the first 7 characters (e.g., \"SC4022\")\n",
    "psg_subjects = {f[:7]: f for f in psg_files}\n",
    "hypnogram_subjects = {f[:7]: f for f in hypnogram_files}\n",
    "\n",
    "# Find matching PSG & Hypnogram pairs\n",
    "matched_files = []\n",
    "for subject_id, psg_file in psg_subjects.items():\n",
    "    if subject_id in hypnogram_subjects:\n",
    "        matched_files.append((psg_file, hypnogram_subjects[subject_id]))\n",
    "    else:\n",
    "        print(f\"⚠️ Warning: Hypnogram file not found for {psg_file}\")\n",
    "\n",
    "# Print matched PSG-Hypnogram pairs\n",
    "for psg, hypnogram in matched_files:\n",
    "    print(f\"✅ Matched: {psg} <-> {hypnogram}\")"
   ]
  },
  {
   "cell_type": "code",
   "execution_count": 9,
   "metadata": {},
   "outputs": [
    {
     "name": "stdout",
     "output_type": "stream",
     "text": [
      "\n",
      "Summary of Invalid EDF files:\n",
      "\n",
      "Total Invalid EDF files: 0\n"
     ]
    }
   ],
   "source": [
    "import os\n",
    "import pyedflib\n",
    "\n",
    "edf_folder = r\"E:\\sleep_full_dataset\"\n",
    "invalid_files = []\n",
    "\n",
    "for file in os.listdir(edf_folder):\n",
    "    if file.endswith(\".edf\"):\n",
    "        file_path = os.path.join(edf_folder, file)\n",
    "        try:\n",
    "            edf_reader = pyedflib.EdfReader(file_path)\n",
    "            edf_reader.close()\n",
    "        except OSError as e:\n",
    "            print(f\"Invalid EDF file: {file} - Reason: {e}\")\n",
    "            invalid_files.append(file)\n",
    "\n",
    "print(\"\\nSummary of Invalid EDF files:\")\n",
    "for bad_file in invalid_files:\n",
    "    print(bad_file)\n",
    "\n",
    "print(f\"\\nTotal Invalid EDF files: {len(invalid_files)}\")\n"
   ]
  },
  {
   "cell_type": "code",
   "execution_count": 11,
   "metadata": {},
   "outputs": [
    {
     "name": "stderr",
     "output_type": "stream",
     "text": [
      "Processing EEG Data:   1%|          | 1/142 [00:10<24:37, 10.48s/it]"
     ]
    },
    {
     "name": "stdout",
     "output_type": "stream",
     "text": [
      "Processed and saved: SC4092E0-PSG.edf\n"
     ]
    },
    {
     "name": "stderr",
     "output_type": "stream",
     "text": [
      "Processing EEG Data:   1%|▏         | 2/142 [00:20<23:34, 10.10s/it]"
     ]
    },
    {
     "name": "stdout",
     "output_type": "stream",
     "text": [
      "Processed and saved: SC4101E0-PSG.edf\n"
     ]
    },
    {
     "name": "stderr",
     "output_type": "stream",
     "text": [
      "Processing EEG Data:   2%|▏         | 3/142 [00:30<23:43, 10.24s/it]"
     ]
    },
    {
     "name": "stdout",
     "output_type": "stream",
     "text": [
      "Processed and saved: SC4102E0-PSG.edf\n"
     ]
    },
    {
     "name": "stderr",
     "output_type": "stream",
     "text": [
      "Processing EEG Data:   3%|▎         | 4/142 [00:40<23:01, 10.01s/it]"
     ]
    },
    {
     "name": "stdout",
     "output_type": "stream",
     "text": [
      "Processed and saved: SC4111E0-PSG.edf\n"
     ]
    },
    {
     "name": "stderr",
     "output_type": "stream",
     "text": [
      "Processing EEG Data:   4%|▎         | 5/142 [00:50<23:03, 10.10s/it]"
     ]
    },
    {
     "name": "stdout",
     "output_type": "stream",
     "text": [
      "Processed and saved: SC4112E0-PSG.edf\n"
     ]
    },
    {
     "name": "stderr",
     "output_type": "stream",
     "text": [
      "Processing EEG Data:   4%|▍         | 6/142 [01:00<23:01, 10.16s/it]"
     ]
    },
    {
     "name": "stdout",
     "output_type": "stream",
     "text": [
      "Processed and saved: SC4121E0-PSG.edf\n"
     ]
    },
    {
     "name": "stderr",
     "output_type": "stream",
     "text": [
      "Processing EEG Data:   5%|▍         | 7/142 [01:10<22:19,  9.92s/it]"
     ]
    },
    {
     "name": "stdout",
     "output_type": "stream",
     "text": [
      "Processed and saved: SC4122E0-PSG.edf\n"
     ]
    },
    {
     "name": "stderr",
     "output_type": "stream",
     "text": [
      "Processing EEG Data:   6%|▌         | 8/142 [01:20<22:23, 10.03s/it]"
     ]
    },
    {
     "name": "stdout",
     "output_type": "stream",
     "text": [
      "Processed and saved: SC4131E0-PSG.edf\n"
     ]
    },
    {
     "name": "stderr",
     "output_type": "stream",
     "text": [
      "Processing EEG Data:   6%|▋         | 9/142 [01:30<22:12, 10.02s/it]"
     ]
    },
    {
     "name": "stdout",
     "output_type": "stream",
     "text": [
      "Processed and saved: SC4141E0-PSG.edf\n"
     ]
    },
    {
     "name": "stderr",
     "output_type": "stream",
     "text": [
      "Processing EEG Data:   7%|▋         | 10/142 [01:40<22:09, 10.07s/it]"
     ]
    },
    {
     "name": "stdout",
     "output_type": "stream",
     "text": [
      "Processed and saved: SC4142E0-PSG.edf\n"
     ]
    },
    {
     "name": "stderr",
     "output_type": "stream",
     "text": [
      "Processing EEG Data:   8%|▊         | 11/142 [01:50<21:42,  9.94s/it]"
     ]
    },
    {
     "name": "stdout",
     "output_type": "stream",
     "text": [
      "Processed and saved: SC4151E0-PSG.edf\n"
     ]
    },
    {
     "name": "stderr",
     "output_type": "stream",
     "text": [
      "Processing EEG Data:   8%|▊         | 12/142 [02:00<21:50, 10.08s/it]"
     ]
    },
    {
     "name": "stdout",
     "output_type": "stream",
     "text": [
      "Processed and saved: SC4152E0-PSG.edf\n"
     ]
    },
    {
     "name": "stderr",
     "output_type": "stream",
     "text": [
      "Processing EEG Data:   9%|▉         | 13/142 [02:10<21:18,  9.91s/it]"
     ]
    },
    {
     "name": "stdout",
     "output_type": "stream",
     "text": [
      "Processed and saved: SC4161E0-PSG.edf\n"
     ]
    },
    {
     "name": "stderr",
     "output_type": "stream",
     "text": [
      "Processing EEG Data:  10%|▉         | 14/142 [02:20<21:12,  9.94s/it]"
     ]
    },
    {
     "name": "stdout",
     "output_type": "stream",
     "text": [
      "Processed and saved: SC4162E0-PSG.edf\n"
     ]
    },
    {
     "name": "stderr",
     "output_type": "stream",
     "text": [
      "Processing EEG Data:  11%|█         | 15/142 [02:30<21:04,  9.96s/it]"
     ]
    },
    {
     "name": "stdout",
     "output_type": "stream",
     "text": [
      "Processed and saved: SC4171E0-PSG.edf\n"
     ]
    },
    {
     "name": "stderr",
     "output_type": "stream",
     "text": [
      "Processing EEG Data:  11%|█▏        | 16/142 [02:40<20:53,  9.95s/it]"
     ]
    },
    {
     "name": "stdout",
     "output_type": "stream",
     "text": [
      "Processed and saved: SC4172E0-PSG.edf\n"
     ]
    },
    {
     "name": "stderr",
     "output_type": "stream",
     "text": [
      "Processing EEG Data:  12%|█▏        | 17/142 [02:50<20:52, 10.02s/it]"
     ]
    },
    {
     "name": "stdout",
     "output_type": "stream",
     "text": [
      "Processed and saved: SC4181E0-PSG.edf\n"
     ]
    },
    {
     "name": "stderr",
     "output_type": "stream",
     "text": [
      "Processing EEG Data:  13%|█▎        | 18/142 [03:00<20:55, 10.13s/it]"
     ]
    },
    {
     "name": "stdout",
     "output_type": "stream",
     "text": [
      "Processed and saved: SC4182E0-PSG.edf\n"
     ]
    },
    {
     "name": "stderr",
     "output_type": "stream",
     "text": [
      "Processing EEG Data:  13%|█▎        | 19/142 [03:10<20:43, 10.11s/it]"
     ]
    },
    {
     "name": "stdout",
     "output_type": "stream",
     "text": [
      "Processed and saved: SC4191E0-PSG.edf\n"
     ]
    },
    {
     "name": "stderr",
     "output_type": "stream",
     "text": [
      "Processing EEG Data:  14%|█▍        | 20/142 [03:20<20:10,  9.92s/it]"
     ]
    },
    {
     "name": "stdout",
     "output_type": "stream",
     "text": [
      "Processed and saved: SC4192E0-PSG.edf\n"
     ]
    },
    {
     "name": "stderr",
     "output_type": "stream",
     "text": [
      "Processing EEG Data:  15%|█▍        | 21/142 [03:30<20:09,  9.99s/it]"
     ]
    },
    {
     "name": "stdout",
     "output_type": "stream",
     "text": [
      "Processed and saved: SC4201E0-PSG.edf\n"
     ]
    },
    {
     "name": "stderr",
     "output_type": "stream",
     "text": [
      "Processing EEG Data:  15%|█▌        | 22/142 [03:40<19:47,  9.90s/it]"
     ]
    },
    {
     "name": "stdout",
     "output_type": "stream",
     "text": [
      "Processed and saved: SC4202E0-PSG.edf\n"
     ]
    },
    {
     "name": "stderr",
     "output_type": "stream",
     "text": [
      "Processing EEG Data:  16%|█▌        | 23/142 [03:50<19:50, 10.01s/it]"
     ]
    },
    {
     "name": "stdout",
     "output_type": "stream",
     "text": [
      "Processed and saved: SC4211E0-PSG.edf\n"
     ]
    },
    {
     "name": "stderr",
     "output_type": "stream",
     "text": [
      "Processing EEG Data:  17%|█▋        | 24/142 [04:00<19:36,  9.97s/it]"
     ]
    },
    {
     "name": "stdout",
     "output_type": "stream",
     "text": [
      "Processed and saved: SC4212E0-PSG.edf\n"
     ]
    },
    {
     "name": "stderr",
     "output_type": "stream",
     "text": [
      "Processing EEG Data:  18%|█▊        | 25/142 [04:10<19:19,  9.91s/it]"
     ]
    },
    {
     "name": "stdout",
     "output_type": "stream",
     "text": [
      "Processed and saved: SC4221E0-PSG.edf\n"
     ]
    },
    {
     "name": "stderr",
     "output_type": "stream",
     "text": [
      "Processing EEG Data:  18%|█▊        | 26/142 [04:20<19:12,  9.94s/it]"
     ]
    },
    {
     "name": "stdout",
     "output_type": "stream",
     "text": [
      "Processed and saved: SC4222E0-PSG.edf\n"
     ]
    },
    {
     "name": "stderr",
     "output_type": "stream",
     "text": [
      "Processing EEG Data:  19%|█▉        | 27/142 [04:30<19:02,  9.94s/it]"
     ]
    },
    {
     "name": "stdout",
     "output_type": "stream",
     "text": [
      "Processed and saved: SC4231E0-PSG.edf\n"
     ]
    },
    {
     "name": "stderr",
     "output_type": "stream",
     "text": [
      "Processing EEG Data:  20%|█▉        | 28/142 [04:39<18:40,  9.83s/it]"
     ]
    },
    {
     "name": "stdout",
     "output_type": "stream",
     "text": [
      "Processed and saved: SC4232E0-PSG.edf\n"
     ]
    },
    {
     "name": "stderr",
     "output_type": "stream",
     "text": [
      "Processing EEG Data:  20%|██        | 29/142 [04:49<18:30,  9.83s/it]"
     ]
    },
    {
     "name": "stdout",
     "output_type": "stream",
     "text": [
      "Processed and saved: SC4241E0-PSG.edf\n"
     ]
    },
    {
     "name": "stderr",
     "output_type": "stream",
     "text": [
      "Processing EEG Data:  21%|██        | 30/142 [04:59<18:23,  9.85s/it]"
     ]
    },
    {
     "name": "stdout",
     "output_type": "stream",
     "text": [
      "Processed and saved: SC4242E0-PSG.edf\n"
     ]
    },
    {
     "name": "stderr",
     "output_type": "stream",
     "text": [
      "Processing EEG Data:  22%|██▏       | 31/142 [05:09<18:19,  9.90s/it]"
     ]
    },
    {
     "name": "stdout",
     "output_type": "stream",
     "text": [
      "Processed and saved: SC4251E0-PSG.edf\n"
     ]
    },
    {
     "name": "stderr",
     "output_type": "stream",
     "text": [
      "Processing EEG Data:  23%|██▎       | 32/142 [05:19<17:58,  9.80s/it]"
     ]
    },
    {
     "name": "stdout",
     "output_type": "stream",
     "text": [
      "Processed and saved: SC4252E0-PSG.edf\n"
     ]
    },
    {
     "name": "stderr",
     "output_type": "stream",
     "text": [
      "Processing EEG Data:  23%|██▎       | 33/142 [05:29<18:02,  9.93s/it]"
     ]
    },
    {
     "name": "stdout",
     "output_type": "stream",
     "text": [
      "Processed and saved: SC4261F0-PSG.edf\n"
     ]
    },
    {
     "name": "stderr",
     "output_type": "stream",
     "text": [
      "Processing EEG Data:  24%|██▍       | 34/142 [05:39<17:50,  9.91s/it]"
     ]
    },
    {
     "name": "stdout",
     "output_type": "stream",
     "text": [
      "Processed and saved: SC4262F0-PSG.edf\n"
     ]
    },
    {
     "name": "stderr",
     "output_type": "stream",
     "text": [
      "Processing EEG Data:  25%|██▍       | 35/142 [05:47<17:04,  9.57s/it]"
     ]
    },
    {
     "name": "stdout",
     "output_type": "stream",
     "text": [
      "Processed and saved: SC4271F0-PSG.edf\n"
     ]
    },
    {
     "name": "stderr",
     "output_type": "stream",
     "text": [
      "Processing EEG Data:  25%|██▌       | 36/142 [05:58<17:27,  9.88s/it]"
     ]
    },
    {
     "name": "stdout",
     "output_type": "stream",
     "text": [
      "Processed and saved: SC4272F0-PSG.edf\n"
     ]
    },
    {
     "name": "stderr",
     "output_type": "stream",
     "text": [
      "Processing EEG Data:  26%|██▌       | 37/142 [06:08<17:21,  9.92s/it]"
     ]
    },
    {
     "name": "stdout",
     "output_type": "stream",
     "text": [
      "Processed and saved: SC4281G0-PSG.edf\n"
     ]
    },
    {
     "name": "stderr",
     "output_type": "stream",
     "text": [
      "Processing EEG Data:  27%|██▋       | 38/142 [06:18<17:25, 10.06s/it]"
     ]
    },
    {
     "name": "stdout",
     "output_type": "stream",
     "text": [
      "Processed and saved: SC4282G0-PSG.edf\n"
     ]
    },
    {
     "name": "stderr",
     "output_type": "stream",
     "text": [
      "Processing EEG Data:  27%|██▋       | 39/142 [06:28<17:14, 10.05s/it]"
     ]
    },
    {
     "name": "stdout",
     "output_type": "stream",
     "text": [
      "Processed and saved: SC4291G0-PSG.edf\n"
     ]
    },
    {
     "name": "stderr",
     "output_type": "stream",
     "text": [
      "Processing EEG Data:  28%|██▊       | 40/142 [06:38<17:05, 10.06s/it]"
     ]
    },
    {
     "name": "stdout",
     "output_type": "stream",
     "text": [
      "Processed and saved: SC4292G0-PSG.edf\n"
     ]
    },
    {
     "name": "stderr",
     "output_type": "stream",
     "text": [
      "Processing EEG Data:  29%|██▉       | 41/142 [06:48<16:45,  9.96s/it]"
     ]
    },
    {
     "name": "stdout",
     "output_type": "stream",
     "text": [
      "Processed and saved: SC4311E0-PSG.edf\n"
     ]
    },
    {
     "name": "stderr",
     "output_type": "stream",
     "text": [
      "Processing EEG Data:  30%|██▉       | 42/142 [06:58<16:32,  9.92s/it]"
     ]
    },
    {
     "name": "stdout",
     "output_type": "stream",
     "text": [
      "Processed and saved: SC4312E0-PSG.edf\n"
     ]
    },
    {
     "name": "stderr",
     "output_type": "stream",
     "text": [
      "Processing EEG Data:  30%|███       | 43/142 [07:08<16:22,  9.92s/it]"
     ]
    },
    {
     "name": "stdout",
     "output_type": "stream",
     "text": [
      "Processed and saved: SC4321E0-PSG.edf\n"
     ]
    },
    {
     "name": "stderr",
     "output_type": "stream",
     "text": [
      "Processing EEG Data:  31%|███       | 44/142 [07:18<16:17,  9.97s/it]"
     ]
    },
    {
     "name": "stdout",
     "output_type": "stream",
     "text": [
      "Processed and saved: SC4331F0-PSG.edf\n"
     ]
    },
    {
     "name": "stderr",
     "output_type": "stream",
     "text": [
      "Processing EEG Data:  32%|███▏      | 45/142 [07:28<16:05,  9.95s/it]"
     ]
    },
    {
     "name": "stdout",
     "output_type": "stream",
     "text": [
      "Processed and saved: SC4332F0-PSG.edf\n"
     ]
    },
    {
     "name": "stderr",
     "output_type": "stream",
     "text": [
      "Processing EEG Data:  32%|███▏      | 46/142 [07:38<15:53,  9.93s/it]"
     ]
    },
    {
     "name": "stdout",
     "output_type": "stream",
     "text": [
      "Processed and saved: SC4341F0-PSG.edf\n"
     ]
    },
    {
     "name": "stderr",
     "output_type": "stream",
     "text": [
      "Processing EEG Data:  33%|███▎      | 47/142 [07:48<15:45,  9.96s/it]"
     ]
    },
    {
     "name": "stdout",
     "output_type": "stream",
     "text": [
      "Processed and saved: SC4342F0-PSG.edf\n"
     ]
    },
    {
     "name": "stderr",
     "output_type": "stream",
     "text": [
      "Processing EEG Data:  34%|███▍      | 48/142 [07:58<15:30,  9.90s/it]"
     ]
    },
    {
     "name": "stdout",
     "output_type": "stream",
     "text": [
      "Processed and saved: SC4351F0-PSG.edf\n"
     ]
    },
    {
     "name": "stderr",
     "output_type": "stream",
     "text": [
      "Processing EEG Data:  35%|███▍      | 49/142 [08:07<14:57,  9.65s/it]"
     ]
    },
    {
     "name": "stdout",
     "output_type": "stream",
     "text": [
      "Processed and saved: SC4352F0-PSG.edf\n"
     ]
    },
    {
     "name": "stderr",
     "output_type": "stream",
     "text": [
      "Processing EEG Data:  35%|███▌      | 50/142 [08:12<12:55,  8.43s/it]"
     ]
    },
    {
     "name": "stdout",
     "output_type": "stream",
     "text": [
      "Processed and saved: SC4362F0-PSG.edf\n"
     ]
    },
    {
     "name": "stderr",
     "output_type": "stream",
     "text": [
      "Processing EEG Data:  36%|███▌      | 51/142 [08:22<13:33,  8.94s/it]"
     ]
    },
    {
     "name": "stdout",
     "output_type": "stream",
     "text": [
      "Processed and saved: SC4371F0-PSG.edf\n"
     ]
    },
    {
     "name": "stderr",
     "output_type": "stream",
     "text": [
      "Processing EEG Data:  37%|███▋      | 52/142 [08:33<13:59,  9.32s/it]"
     ]
    },
    {
     "name": "stdout",
     "output_type": "stream",
     "text": [
      "Processed and saved: SC4372F0-PSG.edf\n"
     ]
    },
    {
     "name": "stderr",
     "output_type": "stream",
     "text": [
      "Processing EEG Data:  37%|███▋      | 53/142 [08:42<14:04,  9.49s/it]"
     ]
    },
    {
     "name": "stdout",
     "output_type": "stream",
     "text": [
      "Processed and saved: SC4381F0-PSG.edf\n"
     ]
    },
    {
     "name": "stderr",
     "output_type": "stream",
     "text": [
      "Processing EEG Data:  38%|███▊      | 54/142 [08:52<14:07,  9.63s/it]"
     ]
    },
    {
     "name": "stdout",
     "output_type": "stream",
     "text": [
      "Processed and saved: SC4382F0-PSG.edf\n"
     ]
    },
    {
     "name": "stderr",
     "output_type": "stream",
     "text": [
      "Processing EEG Data:  39%|███▊      | 55/142 [09:02<13:52,  9.56s/it]"
     ]
    },
    {
     "name": "stdout",
     "output_type": "stream",
     "text": [
      "Processed and saved: SC4401E0-PSG.edf\n"
     ]
    },
    {
     "name": "stderr",
     "output_type": "stream",
     "text": [
      "Processing EEG Data:  39%|███▉      | 56/142 [09:12<13:52,  9.69s/it]"
     ]
    },
    {
     "name": "stdout",
     "output_type": "stream",
     "text": [
      "Processed and saved: SC4402E0-PSG.edf\n"
     ]
    },
    {
     "name": "stderr",
     "output_type": "stream",
     "text": [
      "Processing EEG Data:  40%|████      | 57/142 [09:22<13:45,  9.71s/it]"
     ]
    },
    {
     "name": "stdout",
     "output_type": "stream",
     "text": [
      "Processed and saved: SC4411E0-PSG.edf\n"
     ]
    },
    {
     "name": "stderr",
     "output_type": "stream",
     "text": [
      "Processing EEG Data:  41%|████      | 58/142 [09:32<13:50,  9.89s/it]"
     ]
    },
    {
     "name": "stdout",
     "output_type": "stream",
     "text": [
      "Processed and saved: SC4412E0-PSG.edf\n"
     ]
    },
    {
     "name": "stderr",
     "output_type": "stream",
     "text": [
      "Processing EEG Data:  42%|████▏     | 59/142 [09:42<13:41,  9.90s/it]"
     ]
    },
    {
     "name": "stdout",
     "output_type": "stream",
     "text": [
      "Processed and saved: SC4421E0-PSG.edf\n"
     ]
    },
    {
     "name": "stderr",
     "output_type": "stream",
     "text": [
      "Processing EEG Data:  42%|████▏     | 60/142 [09:51<13:25,  9.82s/it]"
     ]
    },
    {
     "name": "stdout",
     "output_type": "stream",
     "text": [
      "Processed and saved: SC4422E0-PSG.edf\n"
     ]
    },
    {
     "name": "stderr",
     "output_type": "stream",
     "text": [
      "Processing EEG Data:  43%|████▎     | 61/142 [10:02<13:23,  9.92s/it]"
     ]
    },
    {
     "name": "stdout",
     "output_type": "stream",
     "text": [
      "Processed and saved: SC4431E0-PSG.edf\n"
     ]
    },
    {
     "name": "stderr",
     "output_type": "stream",
     "text": [
      "Processing EEG Data:  44%|████▎     | 62/142 [10:12<13:15,  9.95s/it]"
     ]
    },
    {
     "name": "stdout",
     "output_type": "stream",
     "text": [
      "Processed and saved: SC4432E0-PSG.edf\n"
     ]
    },
    {
     "name": "stderr",
     "output_type": "stream",
     "text": [
      "Processing EEG Data:  44%|████▍     | 63/142 [10:21<12:55,  9.81s/it]"
     ]
    },
    {
     "name": "stdout",
     "output_type": "stream",
     "text": [
      "Processed and saved: SC4441E0-PSG.edf\n"
     ]
    },
    {
     "name": "stderr",
     "output_type": "stream",
     "text": [
      "Processing EEG Data:  45%|████▌     | 64/142 [10:31<12:50,  9.88s/it]"
     ]
    },
    {
     "name": "stdout",
     "output_type": "stream",
     "text": [
      "Processed and saved: SC4442E0-PSG.edf\n"
     ]
    },
    {
     "name": "stderr",
     "output_type": "stream",
     "text": [
      "Processing EEG Data:  46%|████▌     | 65/142 [10:41<12:44,  9.93s/it]"
     ]
    },
    {
     "name": "stdout",
     "output_type": "stream",
     "text": [
      "Processed and saved: SC4451F0-PSG.edf\n"
     ]
    },
    {
     "name": "stderr",
     "output_type": "stream",
     "text": [
      "Processing EEG Data:  46%|████▋     | 66/142 [10:51<12:29,  9.86s/it]"
     ]
    },
    {
     "name": "stdout",
     "output_type": "stream",
     "text": [
      "Processed and saved: SC4452F0-PSG.edf\n"
     ]
    },
    {
     "name": "stderr",
     "output_type": "stream",
     "text": [
      "Processing EEG Data:  47%|████▋     | 67/142 [11:01<12:18,  9.85s/it]"
     ]
    },
    {
     "name": "stdout",
     "output_type": "stream",
     "text": [
      "Processed and saved: SC4461F0-PSG.edf\n"
     ]
    },
    {
     "name": "stderr",
     "output_type": "stream",
     "text": [
      "Processing EEG Data:  48%|████▊     | 68/142 [11:11<12:20, 10.00s/it]"
     ]
    },
    {
     "name": "stdout",
     "output_type": "stream",
     "text": [
      "Processed and saved: SC4462F0-PSG.edf\n"
     ]
    },
    {
     "name": "stderr",
     "output_type": "stream",
     "text": [
      "Processing EEG Data:  49%|████▊     | 69/142 [11:21<12:07,  9.96s/it]"
     ]
    },
    {
     "name": "stdout",
     "output_type": "stream",
     "text": [
      "Processed and saved: SC4471F0-PSG.edf\n"
     ]
    },
    {
     "name": "stderr",
     "output_type": "stream",
     "text": [
      "Processing EEG Data:  49%|████▉     | 70/142 [11:31<11:59,  9.99s/it]"
     ]
    },
    {
     "name": "stdout",
     "output_type": "stream",
     "text": [
      "Processed and saved: SC4472F0-PSG.edf\n"
     ]
    },
    {
     "name": "stderr",
     "output_type": "stream",
     "text": [
      "Processing EEG Data:  50%|█████     | 71/142 [11:41<11:57, 10.11s/it]"
     ]
    },
    {
     "name": "stdout",
     "output_type": "stream",
     "text": [
      "Processed and saved: SC4481F0-PSG.edf\n"
     ]
    },
    {
     "name": "stderr",
     "output_type": "stream",
     "text": [
      "Processing EEG Data:  51%|█████     | 72/142 [11:52<11:54, 10.21s/it]"
     ]
    },
    {
     "name": "stdout",
     "output_type": "stream",
     "text": [
      "Processed and saved: SC4482F0-PSG.edf\n"
     ]
    },
    {
     "name": "stderr",
     "output_type": "stream",
     "text": [
      "Processing EEG Data:  51%|█████▏    | 73/142 [12:02<11:43, 10.19s/it]"
     ]
    },
    {
     "name": "stdout",
     "output_type": "stream",
     "text": [
      "Processed and saved: SC4491G0-PSG.edf\n"
     ]
    },
    {
     "name": "stderr",
     "output_type": "stream",
     "text": [
      "Processing EEG Data:  52%|█████▏    | 74/142 [12:10<10:43,  9.46s/it]"
     ]
    },
    {
     "name": "stdout",
     "output_type": "stream",
     "text": [
      "Processed and saved: SC4492G0-PSG.edf\n"
     ]
    },
    {
     "name": "stderr",
     "output_type": "stream",
     "text": [
      "Processing EEG Data:  53%|█████▎    | 75/142 [12:20<10:49,  9.70s/it]"
     ]
    },
    {
     "name": "stdout",
     "output_type": "stream",
     "text": [
      "Processed and saved: SC4501E0-PSG.edf\n"
     ]
    },
    {
     "name": "stderr",
     "output_type": "stream",
     "text": [
      "Processing EEG Data:  54%|█████▎    | 76/142 [12:30<10:46,  9.79s/it]"
     ]
    },
    {
     "name": "stdout",
     "output_type": "stream",
     "text": [
      "Processed and saved: SC4502E0-PSG.edf\n"
     ]
    },
    {
     "name": "stderr",
     "output_type": "stream",
     "text": [
      "Processing EEG Data:  54%|█████▍    | 77/142 [12:40<10:35,  9.78s/it]"
     ]
    },
    {
     "name": "stdout",
     "output_type": "stream",
     "text": [
      "Processed and saved: SC4511E0-PSG.edf\n"
     ]
    },
    {
     "name": "stderr",
     "output_type": "stream",
     "text": [
      "Processing EEG Data:  55%|█████▍    | 78/142 [12:50<10:29,  9.84s/it]"
     ]
    },
    {
     "name": "stdout",
     "output_type": "stream",
     "text": [
      "Processed and saved: SC4512E0-PSG.edf\n"
     ]
    },
    {
     "name": "stderr",
     "output_type": "stream",
     "text": [
      "Processing EEG Data:  56%|█████▌    | 79/142 [13:00<10:24,  9.91s/it]"
     ]
    },
    {
     "name": "stdout",
     "output_type": "stream",
     "text": [
      "Processed and saved: SC4522E0-PSG.edf\n"
     ]
    },
    {
     "name": "stderr",
     "output_type": "stream",
     "text": [
      "Processing EEG Data:  56%|█████▋    | 80/142 [13:09<10:04,  9.75s/it]"
     ]
    },
    {
     "name": "stdout",
     "output_type": "stream",
     "text": [
      "Processed and saved: SC4531E0-PSG.edf\n"
     ]
    },
    {
     "name": "stderr",
     "output_type": "stream",
     "text": [
      "Processing EEG Data:  57%|█████▋    | 81/142 [13:19<09:57,  9.80s/it]"
     ]
    },
    {
     "name": "stdout",
     "output_type": "stream",
     "text": [
      "Processed and saved: SC4532E0-PSG.edf\n"
     ]
    },
    {
     "name": "stderr",
     "output_type": "stream",
     "text": [
      "Processing EEG Data:  58%|█████▊    | 82/142 [13:29<09:49,  9.82s/it]"
     ]
    },
    {
     "name": "stdout",
     "output_type": "stream",
     "text": [
      "Processed and saved: SC4541F0-PSG.edf\n"
     ]
    },
    {
     "name": "stderr",
     "output_type": "stream",
     "text": [
      "Processing EEG Data:  58%|█████▊    | 83/142 [13:39<09:37,  9.78s/it]"
     ]
    },
    {
     "name": "stdout",
     "output_type": "stream",
     "text": [
      "Processed and saved: SC4542F0-PSG.edf\n"
     ]
    },
    {
     "name": "stderr",
     "output_type": "stream",
     "text": [
      "Processing EEG Data:  59%|█████▉    | 84/142 [13:49<09:32,  9.86s/it]"
     ]
    },
    {
     "name": "stdout",
     "output_type": "stream",
     "text": [
      "Processed and saved: SC4551F0-PSG.edf\n"
     ]
    },
    {
     "name": "stderr",
     "output_type": "stream",
     "text": [
      "Processing EEG Data:  60%|█████▉    | 85/142 [13:59<09:28,  9.98s/it]"
     ]
    },
    {
     "name": "stdout",
     "output_type": "stream",
     "text": [
      "Processed and saved: SC4552F0-PSG.edf\n"
     ]
    },
    {
     "name": "stderr",
     "output_type": "stream",
     "text": [
      "Processing EEG Data:  61%|██████    | 86/142 [14:09<09:15,  9.93s/it]"
     ]
    },
    {
     "name": "stdout",
     "output_type": "stream",
     "text": [
      "Processed and saved: SC4561F0-PSG.edf\n"
     ]
    },
    {
     "name": "stderr",
     "output_type": "stream",
     "text": [
      "Processing EEG Data:  61%|██████▏   | 87/142 [14:19<09:11, 10.02s/it]"
     ]
    },
    {
     "name": "stdout",
     "output_type": "stream",
     "text": [
      "Processed and saved: SC4562F0-PSG.edf\n"
     ]
    },
    {
     "name": "stderr",
     "output_type": "stream",
     "text": [
      "Processing EEG Data:  62%|██████▏   | 88/142 [14:29<09:05, 10.10s/it]"
     ]
    },
    {
     "name": "stdout",
     "output_type": "stream",
     "text": [
      "Processed and saved: SC4571F0-PSG.edf\n"
     ]
    },
    {
     "name": "stderr",
     "output_type": "stream",
     "text": [
      "Processing EEG Data:  63%|██████▎   | 89/142 [14:40<08:59, 10.17s/it]"
     ]
    },
    {
     "name": "stdout",
     "output_type": "stream",
     "text": [
      "Processed and saved: SC4572F0-PSG.edf\n"
     ]
    },
    {
     "name": "stderr",
     "output_type": "stream",
     "text": [
      "Processing EEG Data:  63%|██████▎   | 90/142 [14:50<08:44, 10.09s/it]"
     ]
    },
    {
     "name": "stdout",
     "output_type": "stream",
     "text": [
      "Processed and saved: SC4581G0-PSG.edf\n"
     ]
    },
    {
     "name": "stderr",
     "output_type": "stream",
     "text": [
      "Processing EEG Data:  64%|██████▍   | 91/142 [14:59<08:26,  9.94s/it]"
     ]
    },
    {
     "name": "stdout",
     "output_type": "stream",
     "text": [
      "Processed and saved: SC4582G0-PSG.edf\n"
     ]
    },
    {
     "name": "stderr",
     "output_type": "stream",
     "text": [
      "Processing EEG Data:  65%|██████▍   | 92/142 [15:10<08:23, 10.08s/it]"
     ]
    },
    {
     "name": "stdout",
     "output_type": "stream",
     "text": [
      "Processed and saved: SC4591G0-PSG.edf\n"
     ]
    },
    {
     "name": "stderr",
     "output_type": "stream",
     "text": [
      "Processing EEG Data:  65%|██████▌   | 93/142 [15:17<07:34,  9.27s/it]"
     ]
    },
    {
     "name": "stdout",
     "output_type": "stream",
     "text": [
      "Processed and saved: SC4592G0-PSG.edf\n"
     ]
    },
    {
     "name": "stderr",
     "output_type": "stream",
     "text": [
      "Processing EEG Data:  66%|██████▌   | 94/142 [15:27<07:33,  9.45s/it]"
     ]
    },
    {
     "name": "stdout",
     "output_type": "stream",
     "text": [
      "Processed and saved: SC4601E0-PSG.edf\n"
     ]
    },
    {
     "name": "stderr",
     "output_type": "stream",
     "text": [
      "Processing EEG Data:  67%|██████▋   | 95/142 [15:37<07:35,  9.68s/it]"
     ]
    },
    {
     "name": "stdout",
     "output_type": "stream",
     "text": [
      "Processed and saved: SC4602E0-PSG.edf\n"
     ]
    },
    {
     "name": "stderr",
     "output_type": "stream",
     "text": [
      "Processing EEG Data:  68%|██████▊   | 96/142 [15:47<07:27,  9.73s/it]"
     ]
    },
    {
     "name": "stdout",
     "output_type": "stream",
     "text": [
      "Processed and saved: SC4611E0-PSG.edf\n"
     ]
    },
    {
     "name": "stderr",
     "output_type": "stream",
     "text": [
      "Processing EEG Data:  68%|██████▊   | 97/142 [15:57<07:23,  9.85s/it]"
     ]
    },
    {
     "name": "stdout",
     "output_type": "stream",
     "text": [
      "Processed and saved: SC4612E0-PSG.edf\n"
     ]
    },
    {
     "name": "stderr",
     "output_type": "stream",
     "text": [
      "Processing EEG Data:  69%|██████▉   | 98/142 [16:06<07:07,  9.73s/it]"
     ]
    },
    {
     "name": "stdout",
     "output_type": "stream",
     "text": [
      "Processed and saved: SC4621E0-PSG.edf\n"
     ]
    },
    {
     "name": "stderr",
     "output_type": "stream",
     "text": [
      "Processing EEG Data:  70%|██████▉   | 99/142 [16:17<07:05,  9.90s/it]"
     ]
    },
    {
     "name": "stdout",
     "output_type": "stream",
     "text": [
      "Processed and saved: SC4622E0-PSG.edf\n"
     ]
    },
    {
     "name": "stderr",
     "output_type": "stream",
     "text": [
      "Processing EEG Data:  70%|███████   | 100/142 [16:27<06:56,  9.92s/it]"
     ]
    },
    {
     "name": "stdout",
     "output_type": "stream",
     "text": [
      "Processed and saved: SC4631E0-PSG.edf\n"
     ]
    },
    {
     "name": "stderr",
     "output_type": "stream",
     "text": [
      "Processing EEG Data:  71%|███████   | 101/142 [16:37<06:50, 10.02s/it]"
     ]
    },
    {
     "name": "stdout",
     "output_type": "stream",
     "text": [
      "Processed and saved: SC4632E0-PSG.edf\n"
     ]
    },
    {
     "name": "stderr",
     "output_type": "stream",
     "text": [
      "Processing EEG Data:  72%|███████▏  | 102/142 [16:47<06:39,  9.98s/it]"
     ]
    },
    {
     "name": "stdout",
     "output_type": "stream",
     "text": [
      "Processed and saved: SC4641E0-PSG.edf\n"
     ]
    },
    {
     "name": "stderr",
     "output_type": "stream",
     "text": [
      "Processing EEG Data:  73%|███████▎  | 103/142 [16:57<06:34, 10.11s/it]"
     ]
    },
    {
     "name": "stdout",
     "output_type": "stream",
     "text": [
      "Processed and saved: SC4651E0-PSG.edf\n"
     ]
    },
    {
     "name": "stderr",
     "output_type": "stream",
     "text": [
      "Processing EEG Data:  73%|███████▎  | 104/142 [17:08<06:25, 10.16s/it]"
     ]
    },
    {
     "name": "stdout",
     "output_type": "stream",
     "text": [
      "Processed and saved: SC4652E0-PSG.edf\n"
     ]
    },
    {
     "name": "stderr",
     "output_type": "stream",
     "text": [
      "Processing EEG Data:  74%|███████▍  | 105/142 [17:18<06:14, 10.12s/it]"
     ]
    },
    {
     "name": "stdout",
     "output_type": "stream",
     "text": [
      "Processed and saved: SC4661E0-PSG.edf\n"
     ]
    },
    {
     "name": "stderr",
     "output_type": "stream",
     "text": [
      "Processing EEG Data:  75%|███████▍  | 106/142 [17:28<06:05, 10.16s/it]"
     ]
    },
    {
     "name": "stdout",
     "output_type": "stream",
     "text": [
      "Processed and saved: SC4662E0-PSG.edf\n"
     ]
    },
    {
     "name": "stderr",
     "output_type": "stream",
     "text": [
      "Processing EEG Data:  75%|███████▌  | 107/142 [17:38<05:54, 10.13s/it]"
     ]
    },
    {
     "name": "stdout",
     "output_type": "stream",
     "text": [
      "Processed and saved: SC4671G0-PSG.edf\n"
     ]
    },
    {
     "name": "stderr",
     "output_type": "stream",
     "text": [
      "Processing EEG Data:  76%|███████▌  | 108/142 [17:47<05:36,  9.89s/it]"
     ]
    },
    {
     "name": "stdout",
     "output_type": "stream",
     "text": [
      "Processed and saved: SC4672G0-PSG.edf\n"
     ]
    },
    {
     "name": "stderr",
     "output_type": "stream",
     "text": [
      "Processing EEG Data:  77%|███████▋  | 109/142 [17:57<05:25,  9.86s/it]"
     ]
    },
    {
     "name": "stdout",
     "output_type": "stream",
     "text": [
      "Processed and saved: SC4701E0-PSG.edf\n"
     ]
    },
    {
     "name": "stderr",
     "output_type": "stream",
     "text": [
      "Processing EEG Data:  77%|███████▋  | 110/142 [18:06<05:12,  9.75s/it]"
     ]
    },
    {
     "name": "stdout",
     "output_type": "stream",
     "text": [
      "Processed and saved: SC4702E0-PSG.edf\n"
     ]
    },
    {
     "name": "stderr",
     "output_type": "stream",
     "text": [
      "Processing EEG Data:  78%|███████▊  | 111/142 [18:16<05:03,  9.79s/it]"
     ]
    },
    {
     "name": "stdout",
     "output_type": "stream",
     "text": [
      "Processed and saved: SC4711E0-PSG.edf\n"
     ]
    },
    {
     "name": "stderr",
     "output_type": "stream",
     "text": [
      "Processing EEG Data:  79%|███████▉  | 112/142 [18:27<04:57,  9.91s/it]"
     ]
    },
    {
     "name": "stdout",
     "output_type": "stream",
     "text": [
      "Processed and saved: SC4712E0-PSG.edf\n"
     ]
    },
    {
     "name": "stderr",
     "output_type": "stream",
     "text": [
      "Processing EEG Data:  80%|███████▉  | 113/142 [18:35<04:35,  9.50s/it]"
     ]
    },
    {
     "name": "stdout",
     "output_type": "stream",
     "text": [
      "Processed and saved: SC4721E0-PSG.edf\n"
     ]
    },
    {
     "name": "stderr",
     "output_type": "stream",
     "text": [
      "Processing EEG Data:  80%|████████  | 114/142 [18:45<04:30,  9.66s/it]"
     ]
    },
    {
     "name": "stdout",
     "output_type": "stream",
     "text": [
      "Processed and saved: SC4722E0-PSG.edf\n"
     ]
    },
    {
     "name": "stderr",
     "output_type": "stream",
     "text": [
      "Processing EEG Data:  81%|████████  | 115/142 [18:55<04:25,  9.82s/it]"
     ]
    },
    {
     "name": "stdout",
     "output_type": "stream",
     "text": [
      "Processed and saved: SC4731E0-PSG.edf\n"
     ]
    },
    {
     "name": "stderr",
     "output_type": "stream",
     "text": [
      "Processing EEG Data:  82%|████████▏ | 116/142 [19:04<04:09,  9.61s/it]"
     ]
    },
    {
     "name": "stdout",
     "output_type": "stream",
     "text": [
      "Processed and saved: SC4732E0-PSG.edf\n"
     ]
    },
    {
     "name": "stderr",
     "output_type": "stream",
     "text": [
      "Processing EEG Data:  82%|████████▏ | 117/142 [19:14<04:01,  9.65s/it]"
     ]
    },
    {
     "name": "stdout",
     "output_type": "stream",
     "text": [
      "Processed and saved: SC4751E0-PSG.edf\n"
     ]
    },
    {
     "name": "stderr",
     "output_type": "stream",
     "text": [
      "Processing EEG Data:  83%|████████▎ | 118/142 [19:23<03:44,  9.37s/it]"
     ]
    },
    {
     "name": "stdout",
     "output_type": "stream",
     "text": [
      "Processed and saved: SC4811G0-PSG.edf\n"
     ]
    },
    {
     "name": "stderr",
     "output_type": "stream",
     "text": [
      "Processing EEG Data:  84%|████████▍ | 119/142 [19:33<03:38,  9.51s/it]"
     ]
    },
    {
     "name": "stdout",
     "output_type": "stream",
     "text": [
      "Processed and saved: SC4821G0-PSG.edf\n"
     ]
    },
    {
     "name": "stderr",
     "output_type": "stream",
     "text": [
      "Processing EEG Data:  85%|████████▍ | 120/142 [19:43<03:33,  9.71s/it]"
     ]
    },
    {
     "name": "stdout",
     "output_type": "stream",
     "text": [
      "Processed and saved: SC4822G0-PSG.edf\n"
     ]
    },
    {
     "name": "stderr",
     "output_type": "stream",
     "text": [
      "Processing EEG Data:  85%|████████▌ | 121/142 [19:50<03:09,  9.01s/it]"
     ]
    },
    {
     "name": "stdout",
     "output_type": "stream",
     "text": [
      "Processed and saved: ST7012J0-PSG.edf\n"
     ]
    },
    {
     "name": "stderr",
     "output_type": "stream",
     "text": [
      "Processing EEG Data:  86%|████████▌ | 122/142 [19:58<02:49,  8.50s/it]"
     ]
    },
    {
     "name": "stdout",
     "output_type": "stream",
     "text": [
      "Processed and saved: ST7022J0-PSG.edf\n"
     ]
    },
    {
     "name": "stderr",
     "output_type": "stream",
     "text": [
      "Processing EEG Data:  87%|████████▋ | 123/142 [20:05<02:34,  8.14s/it]"
     ]
    },
    {
     "name": "stdout",
     "output_type": "stream",
     "text": [
      "Processed and saved: ST7041J0-PSG.edf\n"
     ]
    },
    {
     "name": "stderr",
     "output_type": "stream",
     "text": [
      "Processing EEG Data:  87%|████████▋ | 124/142 [20:13<02:26,  8.13s/it]"
     ]
    },
    {
     "name": "stdout",
     "output_type": "stream",
     "text": [
      "Processed and saved: ST7042J0-PSG.edf\n"
     ]
    },
    {
     "name": "stderr",
     "output_type": "stream",
     "text": [
      "Processing EEG Data:  88%|████████▊ | 125/142 [20:21<02:15,  7.97s/it]"
     ]
    },
    {
     "name": "stdout",
     "output_type": "stream",
     "text": [
      "Processed and saved: ST7051J0-PSG.edf\n"
     ]
    },
    {
     "name": "stderr",
     "output_type": "stream",
     "text": [
      "Processing EEG Data:  89%|████████▊ | 126/142 [20:28<02:06,  7.89s/it]"
     ]
    },
    {
     "name": "stdout",
     "output_type": "stream",
     "text": [
      "Processed and saved: ST7052J0-PSG.edf\n"
     ]
    },
    {
     "name": "stderr",
     "output_type": "stream",
     "text": [
      "Processing EEG Data:  89%|████████▉ | 127/142 [20:36<01:57,  7.80s/it]"
     ]
    },
    {
     "name": "stdout",
     "output_type": "stream",
     "text": [
      "Processed and saved: ST7061J0-PSG.edf\n"
     ]
    },
    {
     "name": "stderr",
     "output_type": "stream",
     "text": [
      "Processing EEG Data:  90%|█████████ | 128/142 [20:44<01:48,  7.78s/it]"
     ]
    },
    {
     "name": "stdout",
     "output_type": "stream",
     "text": [
      "Processed and saved: ST7062J0-PSG.edf\n"
     ]
    },
    {
     "name": "stderr",
     "output_type": "stream",
     "text": [
      "Processing EEG Data:  91%|█████████ | 129/142 [20:52<01:43,  7.95s/it]"
     ]
    },
    {
     "name": "stdout",
     "output_type": "stream",
     "text": [
      "Processed and saved: ST7072J0-PSG.edf\n"
     ]
    },
    {
     "name": "stderr",
     "output_type": "stream",
     "text": [
      "Processing EEG Data:  92%|█████████▏| 130/142 [21:01<01:38,  8.18s/it]"
     ]
    },
    {
     "name": "stdout",
     "output_type": "stream",
     "text": [
      "Processed and saved: ST7081J0-PSG.edf\n"
     ]
    },
    {
     "name": "stderr",
     "output_type": "stream",
     "text": [
      "Processing EEG Data:  92%|█████████▏| 131/142 [21:09<01:31,  8.29s/it]"
     ]
    },
    {
     "name": "stdout",
     "output_type": "stream",
     "text": [
      "Processed and saved: ST7082J0-PSG.edf\n"
     ]
    },
    {
     "name": "stderr",
     "output_type": "stream",
     "text": [
      "Processing EEG Data:  93%|█████████▎| 132/142 [21:18<01:24,  8.49s/it]"
     ]
    },
    {
     "name": "stdout",
     "output_type": "stream",
     "text": [
      "Processed and saved: ST7091J0-PSG.edf\n"
     ]
    },
    {
     "name": "stderr",
     "output_type": "stream",
     "text": [
      "Processing EEG Data:  94%|█████████▎| 133/142 [21:28<01:20,  8.95s/it]"
     ]
    },
    {
     "name": "stdout",
     "output_type": "stream",
     "text": [
      "Processed and saved: ST7101J0-PSG.edf\n"
     ]
    },
    {
     "name": "stderr",
     "output_type": "stream",
     "text": [
      "Processing EEG Data:  94%|█████████▍| 134/142 [21:38<01:14,  9.27s/it]"
     ]
    },
    {
     "name": "stdout",
     "output_type": "stream",
     "text": [
      "Processed and saved: ST7192J0-PSG.edf\n"
     ]
    },
    {
     "name": "stderr",
     "output_type": "stream",
     "text": [
      "Processing EEG Data:  95%|█████████▌| 135/142 [21:47<01:04,  9.18s/it]"
     ]
    },
    {
     "name": "stdout",
     "output_type": "stream",
     "text": [
      "Processed and saved: ST7201J0-PSG.edf\n"
     ]
    },
    {
     "name": "stderr",
     "output_type": "stream",
     "text": [
      "Processing EEG Data:  96%|█████████▌| 136/142 [21:56<00:55,  9.19s/it]"
     ]
    },
    {
     "name": "stdout",
     "output_type": "stream",
     "text": [
      "Processed and saved: ST7202J0-PSG.edf\n"
     ]
    },
    {
     "name": "stderr",
     "output_type": "stream",
     "text": [
      "Processing EEG Data:  96%|█████████▋| 137/142 [22:06<00:46,  9.39s/it]"
     ]
    },
    {
     "name": "stdout",
     "output_type": "stream",
     "text": [
      "Processed and saved: ST7211J0-PSG.edf\n"
     ]
    },
    {
     "name": "stderr",
     "output_type": "stream",
     "text": [
      "Processing EEG Data:  97%|█████████▋| 138/142 [22:16<00:37,  9.42s/it]"
     ]
    },
    {
     "name": "stdout",
     "output_type": "stream",
     "text": [
      "Processed and saved: ST7212J0-PSG.edf\n"
     ]
    },
    {
     "name": "stderr",
     "output_type": "stream",
     "text": [
      "Processing EEG Data:  98%|█████████▊| 139/142 [22:26<00:28,  9.55s/it]"
     ]
    },
    {
     "name": "stdout",
     "output_type": "stream",
     "text": [
      "Processed and saved: ST7221J0-PSG.edf\n"
     ]
    },
    {
     "name": "stderr",
     "output_type": "stream",
     "text": [
      "Processing EEG Data:  99%|█████████▊| 140/142 [22:34<00:18,  9.27s/it]"
     ]
    },
    {
     "name": "stdout",
     "output_type": "stream",
     "text": [
      "Processed and saved: ST7222J0-PSG.edf\n"
     ]
    },
    {
     "name": "stderr",
     "output_type": "stream",
     "text": [
      "Processing EEG Data:  99%|█████████▉| 141/142 [22:44<00:09,  9.43s/it]"
     ]
    },
    {
     "name": "stdout",
     "output_type": "stream",
     "text": [
      "Processed and saved: ST7241J0-PSG.edf\n"
     ]
    },
    {
     "name": "stderr",
     "output_type": "stream",
     "text": [
      "Processing EEG Data: 100%|██████████| 142/142 [22:53<00:00,  9.67s/it]"
     ]
    },
    {
     "name": "stdout",
     "output_type": "stream",
     "text": [
      "Processed and saved: ST7242J0-PSG.edf\n",
      "✅ EEG epochs successfully processed and saved with corresponding labels.\n"
     ]
    },
    {
     "name": "stderr",
     "output_type": "stream",
     "text": [
      "\n"
     ]
    }
   ],
   "source": [
    "import os\n",
    "import numpy as np\n",
    "import pyedflib\n",
    "from tqdm import tqdm\n",
    "\n",
    "edf_folder = r\"E:\\sleep_full_dataset\"\n",
    "output_folder = \"processed_epochs\"\n",
    "os.makedirs(output_folder, exist_ok=True)\n",
    "\n",
    "# Required EEG channels\n",
    "required_channels = ['EEG Fpz-Cz', 'EEG Pz-Oz']\n",
    "\n",
    "# Function to extract sleep stage labels from hypnogram\n",
    "def extract_labels(hypnogram_file):\n",
    "    edf_reader = pyedflib.EdfReader(hypnogram_file)\n",
    "    annotations = edf_reader.readAnnotations()\n",
    "    edf_reader.close()\n",
    "    \n",
    "    onset_times = annotations[0]  # Start time of annotation\n",
    "    durations = annotations[1]    # Duration of annotation\n",
    "    labels = annotations[2]       # Sleep stage labels\n",
    "\n",
    "    sleep_stages = []\n",
    "    for onset, duration, label in zip(onset_times, durations, labels):\n",
    "        epoch_count = int(duration // 30)  # Number of 30-sec epochs\n",
    "        sleep_stages.extend([label] * epoch_count)\n",
    "\n",
    "    return np.array(sleep_stages)\n",
    "\n",
    "# Process each matched PSG-Hypnogram pair\n",
    "for psg_file, hypnogram_file in tqdm(matched_files, desc=\"Processing EEG Data\"):\n",
    "    psg_path = os.path.join(edf_folder, psg_file)\n",
    "    hypnogram_path = os.path.join(edf_folder, hypnogram_file)\n",
    "\n",
    "    # Load EEG data from PSG file\n",
    "    edf_reader = pyedflib.EdfReader(psg_path)\n",
    "    channel_labels = edf_reader.getSignalLabels()\n",
    "\n",
    "    # Find indices of required channels\n",
    "    channel_indices = [channel_labels.index(ch) for ch in required_channels if ch in channel_labels]\n",
    "    if not channel_indices:\n",
    "        print(f\"Skipping {psg_file}: Required EEG channels not found!\")\n",
    "        edf_reader.close()\n",
    "        continue\n",
    "\n",
    "    # Extract EEG signals\n",
    "    eeg_signals = np.array([edf_reader.readSignal(idx) for idx in channel_indices])\n",
    "    sampling_rate = edf_reader.getSampleFrequencies()[channel_indices[0]]\n",
    "    edf_reader.close()\n",
    "\n",
    "    # Calculate number of samples per 30s epoch\n",
    "    samples_per_epoch = int(sampling_rate * 30)\n",
    "    num_epochs = eeg_signals.shape[1] // samples_per_epoch  # Number of full epochs\n",
    "\n",
    "    # Trim EEG signals to full epochs only\n",
    "    eeg_epochs = eeg_signals[:, :num_epochs * samples_per_epoch].reshape(num_epochs, len(channel_indices), samples_per_epoch)\n",
    "\n",
    "    # Extract sleep stage labels\n",
    "    sleep_labels = extract_labels(hypnogram_path)\n",
    "\n",
    "    # Ensure sleep labels match the number of epochs\n",
    "    min_epochs = min(num_epochs, len(sleep_labels))\n",
    "    eeg_epochs = eeg_epochs[:min_epochs]\n",
    "    sleep_labels = sleep_labels[:min_epochs]\n",
    "\n",
    "    # Save processed epochs\n",
    "    save_path = os.path.join(output_folder, psg_file.replace(\"-PSG.edf\", \".npz\"))\n",
    "    np.savez(save_path, eeg=eeg_epochs, labels=sleep_labels, fs=sampling_rate, channels=required_channels)\n",
    "\n",
    "    print(f\"Processed and saved: {psg_file}\")\n",
    "\n",
    "print(\"✅ EEG epochs successfully processed and saved with corresponding labels.\")"
   ]
  },
  {
   "cell_type": "markdown",
   "metadata": {},
   "source": [
    "MLP with PSD features"
   ]
  },
  {
   "cell_type": "code",
   "execution_count": 12,
   "metadata": {},
   "outputs": [
    {
     "name": "stdout",
     "output_type": "stream",
     "text": [
      "Model: \"sequential\"\n",
      "_________________________________________________________________\n",
      " Layer (type)                Output Shape              Param #   \n",
      "=================================================================\n",
      " dense (Dense)               (None, 256)               51968     \n",
      "                                                                 \n",
      " batch_normalization (BatchN  (None, 256)              1024      \n",
      " ormalization)                                                   \n",
      "                                                                 \n",
      " dropout (Dropout)           (None, 256)               0         \n",
      "                                                                 \n",
      " dense_1 (Dense)             (None, 128)               32896     \n",
      "                                                                 \n",
      " batch_normalization_1 (Batc  (None, 128)              512       \n",
      " hNormalization)                                                 \n",
      "                                                                 \n",
      " dropout_1 (Dropout)         (None, 128)               0         \n",
      "                                                                 \n",
      " dense_2 (Dense)             (None, 64)                8256      \n",
      "                                                                 \n",
      " batch_normalization_2 (Batc  (None, 64)               256       \n",
      " hNormalization)                                                 \n",
      "                                                                 \n",
      " dropout_2 (Dropout)         (None, 64)                0         \n",
      "                                                                 \n",
      " dense_3 (Dense)             (None, 8)                 520       \n",
      "                                                                 \n",
      "=================================================================\n",
      "Total params: 95,432\n",
      "Trainable params: 94,536\n",
      "Non-trainable params: 896\n",
      "_________________________________________________________________\n",
      "Epoch 1/30\n",
      "9078/9078 [==============================] - 79s 9ms/step - loss: 1.1115 - accuracy: 0.6751 - val_loss: 1.5507 - val_accuracy: 0.4572\n",
      "Epoch 2/30\n",
      "9078/9078 [==============================] - 80s 9ms/step - loss: 1.0626 - accuracy: 0.6853 - val_loss: 1.4931 - val_accuracy: 0.4572\n",
      "Epoch 3/30\n",
      "9078/9078 [==============================] - 80s 9ms/step - loss: 1.0526 - accuracy: 0.6850 - val_loss: 1.4720 - val_accuracy: 0.4572\n",
      "Epoch 4/30\n",
      "9078/9078 [==============================] - 80s 9ms/step - loss: 1.0458 - accuracy: 0.6838 - val_loss: 1.4725 - val_accuracy: 0.4572\n",
      "Epoch 5/30\n",
      "9078/9078 [==============================] - 80s 9ms/step - loss: 1.0410 - accuracy: 0.6835 - val_loss: 1.4766 - val_accuracy: 0.4572\n",
      "Epoch 6/30\n",
      "9078/9078 [==============================] - 80s 9ms/step - loss: 1.0377 - accuracy: 0.6835 - val_loss: 1.4844 - val_accuracy: 0.4572\n",
      "Epoch 7/30\n",
      "9078/9078 [==============================] - 80s 9ms/step - loss: 1.0358 - accuracy: 0.6837 - val_loss: 1.4857 - val_accuracy: 0.4572\n",
      "Epoch 8/30\n",
      "9078/9078 [==============================] - 80s 9ms/step - loss: 1.0346 - accuracy: 0.6837 - val_loss: 1.4856 - val_accuracy: 0.4572\n",
      "Epoch 9/30\n",
      "9078/9078 [==============================] - 80s 9ms/step - loss: 1.0336 - accuracy: 0.6838 - val_loss: 1.4848 - val_accuracy: 0.4572\n",
      "Epoch 10/30\n",
      "9078/9078 [==============================] - 80s 9ms/step - loss: 1.0331 - accuracy: 0.6838 - val_loss: 1.4926 - val_accuracy: 0.4572\n",
      "Epoch 11/30\n",
      "9078/9078 [==============================] - 80s 9ms/step - loss: 1.0327 - accuracy: 0.6838 - val_loss: 1.4920 - val_accuracy: 0.4572\n",
      "Epoch 12/30\n",
      "9078/9078 [==============================] - 80s 9ms/step - loss: 1.0324 - accuracy: 0.6838 - val_loss: 1.4924 - val_accuracy: 0.4572\n",
      "Epoch 13/30\n",
      "9078/9078 [==============================] - 80s 9ms/step - loss: 1.0325 - accuracy: 0.6837 - val_loss: 1.4861 - val_accuracy: 0.4572\n",
      "Epoch 14/30\n",
      "9078/9078 [==============================] - 80s 9ms/step - loss: 1.0326 - accuracy: 0.6837 - val_loss: 1.4872 - val_accuracy: 0.4572\n",
      "Epoch 15/30\n",
      "9078/9078 [==============================] - 80s 9ms/step - loss: 1.0328 - accuracy: 0.6836 - val_loss: 1.4852 - val_accuracy: 0.4572\n",
      "Epoch 16/30\n",
      "9078/9078 [==============================] - 80s 9ms/step - loss: 1.0329 - accuracy: 0.6837 - val_loss: 1.4785 - val_accuracy: 0.4572\n",
      "Epoch 17/30\n",
      "9078/9078 [==============================] - 80s 9ms/step - loss: 1.0332 - accuracy: 0.6837 - val_loss: 1.4860 - val_accuracy: 0.4572\n",
      "Epoch 18/30\n",
      "9078/9078 [==============================] - 80s 9ms/step - loss: 1.0334 - accuracy: 0.6838 - val_loss: 1.4913 - val_accuracy: 0.4572\n",
      "Epoch 19/30\n",
      "9078/9078 [==============================] - 80s 9ms/step - loss: 1.0336 - accuracy: 0.6840 - val_loss: 1.4982 - val_accuracy: 0.4572\n",
      "Epoch 20/30\n",
      "9078/9078 [==============================] - 80s 9ms/step - loss: 1.0338 - accuracy: 0.6840 - val_loss: 1.4869 - val_accuracy: 0.4572\n",
      "Epoch 21/30\n",
      "9078/9078 [==============================] - 80s 9ms/step - loss: 1.0341 - accuracy: 0.6841 - val_loss: 1.4836 - val_accuracy: 0.4572\n",
      "Epoch 22/30\n",
      "9078/9078 [==============================] - 80s 9ms/step - loss: 1.0341 - accuracy: 0.6841 - val_loss: 1.4794 - val_accuracy: 0.4572\n",
      "Epoch 23/30\n",
      "9078/9078 [==============================] - 80s 9ms/step - loss: 1.0343 - accuracy: 0.6841 - val_loss: 1.4847 - val_accuracy: 0.4572\n",
      "Epoch 24/30\n",
      "9078/9078 [==============================] - 80s 9ms/step - loss: 1.0343 - accuracy: 0.6841 - val_loss: 1.4819 - val_accuracy: 0.4572\n",
      "Epoch 25/30\n",
      "9078/9078 [==============================] - 80s 9ms/step - loss: 1.0345 - accuracy: 0.6842 - val_loss: 1.4875 - val_accuracy: 0.4572\n",
      "Epoch 26/30\n",
      "9078/9078 [==============================] - 80s 9ms/step - loss: 1.0346 - accuracy: 0.6841 - val_loss: 1.4740 - val_accuracy: 0.4572\n",
      "Epoch 27/30\n",
      "9078/9078 [==============================] - 80s 9ms/step - loss: 1.0347 - accuracy: 0.6842 - val_loss: 1.4863 - val_accuracy: 0.4574\n",
      "Epoch 28/30\n",
      "9078/9078 [==============================] - 80s 9ms/step - loss: 1.0347 - accuracy: 0.6842 - val_loss: 1.4825 - val_accuracy: 0.4572\n",
      "Epoch 29/30\n",
      "9078/9078 [==============================] - 80s 9ms/step - loss: 1.0348 - accuracy: 0.6843 - val_loss: 1.4840 - val_accuracy: 0.4574\n",
      "Epoch 30/30\n",
      "9078/9078 [==============================] - 80s 9ms/step - loss: 1.0346 - accuracy: 0.6841 - val_loss: 1.4883 - val_accuracy: 0.4572\n"
     ]
    },
    {
     "data": {
      "image/png": "[encoded data removed]",
      "text/plain": [
       "<Figure size 1200x500 with 2 Axes>"
      ]
     },
     "metadata": {},
     "output_type": "display_data"
    },
    {
     "name": "stdout",
     "output_type": "stream",
     "text": [
      "1816/1816 [==============================] - 5s 3ms/step - loss: 1.4883 - accuracy: 0.4572\n",
      "Test Accuracy: 0.46\n",
      "1816/1816 [==============================] - 3s 2ms/step\n",
      "Classification Report:\n",
      "               precision    recall  f1-score   support\n",
      "\n",
      "           0       0.00      0.00      0.00        20\n",
      "           1       0.00      0.00      0.00      4854\n",
      "           2       0.00      0.00      0.00     17390\n",
      "           3       0.00      0.00      0.00      1951\n",
      "           4       0.00      0.00      0.00      1240\n",
      "           6       0.00      0.00      0.00      6078\n",
      "           7       0.46      1.00      0.63     26561\n",
      "\n",
      "    accuracy                           0.46     58094\n",
      "   macro avg       0.07      0.14      0.09     58094\n",
      "weighted avg       0.21      0.46      0.29     58094\n",
      "\n"
     ]
    },
    {
     "name": "stderr",
     "output_type": "stream",
     "text": [
      "c:\\Users\\gpu.arl\\.conda\\envs\\2448507\\lib\\site-packages\\sklearn\\metrics\\_classification.py:1565: UndefinedMetricWarning: Precision is ill-defined and being set to 0.0 in labels with no predicted samples. Use `zero_division` parameter to control this behavior.\n",
      "  _warn_prf(average, modifier, f\"{metric.capitalize()} is\", len(result))\n",
      "c:\\Users\\gpu.arl\\.conda\\envs\\2448507\\lib\\site-packages\\sklearn\\metrics\\_classification.py:1565: UndefinedMetricWarning: Precision is ill-defined and being set to 0.0 in labels with no predicted samples. Use `zero_division` parameter to control this behavior.\n",
      "  _warn_prf(average, modifier, f\"{metric.capitalize()} is\", len(result))\n",
      "c:\\Users\\gpu.arl\\.conda\\envs\\2448507\\lib\\site-packages\\sklearn\\metrics\\_classification.py:1565: UndefinedMetricWarning: Precision is ill-defined and being set to 0.0 in labels with no predicted samples. Use `zero_division` parameter to control this behavior.\n",
      "  _warn_prf(average, modifier, f\"{metric.capitalize()} is\", len(result))\n"
     ]
    }
   ],
   "source": [
    "import os\n",
    "import numpy as np\n",
    "import scipy.signal\n",
    "import tensorflow as tf\n",
    "from tensorflow.keras.models import Sequential\n",
    "from tensorflow.keras.layers import Dense, Dropout, BatchNormalization\n",
    "from tensorflow.keras.optimizers import Adam\n",
    "from sklearn.model_selection import TimeSeriesSplit\n",
    "from sklearn.preprocessing import StandardScaler, LabelEncoder\n",
    "from sklearn.metrics import classification_report\n",
    "import matplotlib.pyplot as plt\n",
    "\n",
    "# Path to processed EEG epochs\n",
    "data_folder = \"processed_epochs\"\n",
    "\n",
    "def extract_psd_features(eeg_epoch, fs):\n",
    "    freqs, psd = scipy.signal.welch(eeg_epoch, fs=fs, nperseg=fs*2)\n",
    "    psd = np.log1p(psd)\n",
    "    return psd.flatten()\n",
    "\n",
    "# Load features and labels\n",
    "X, y = [], []\n",
    "\n",
    "for file in os.listdir(data_folder):\n",
    "    if file.endswith(\".npz\"):\n",
    "        data = np.load(os.path.join(data_folder, file))\n",
    "        eeg_epochs = data[\"eeg\"]\n",
    "        labels = data[\"labels\"]\n",
    "        fs = data[\"fs\"]\n",
    "\n",
    "        for i in range(eeg_epochs.shape[0]):\n",
    "            # Stack PSD features from each channel horizontally\n",
    "            features = np.hstack([extract_psd_features(eeg_epochs[i, ch], fs) \n",
    "                                  for ch in range(eeg_epochs.shape[1])])\n",
    "            X.append(features)\n",
    "            y.append(labels[i])\n",
    "\n",
    "X, y = np.array(X), np.array(y)\n",
    "\n",
    "# Check and replace NaN or Inf values\n",
    "if np.isnan(X).any() or np.isinf(X).any():\n",
    "    print(\"Warning: NaN or Inf detected in feature matrix! Replacing with zero.\")\n",
    "    X = np.nan_to_num(X)\n",
    "\n",
    "# Encode labels\n",
    "label_encoder = LabelEncoder()\n",
    "y = label_encoder.fit_transform(y)\n",
    "num_classes = len(np.unique(y))\n",
    "\n",
    "# Standardize features\n",
    "scaler = StandardScaler()\n",
    "X = scaler.fit_transform(X)\n",
    "\n",
    "# Use TimeSeriesSplit to generate training and test sets\n",
    "tscv = TimeSeriesSplit(n_splits=5)\n",
    "splits = list(tscv.split(X))\n",
    "train_idx, test_idx = splits[-1]  # Use the last fold as the hold-out test set\n",
    "\n",
    "X_train, X_test = X[train_idx], X[test_idx]\n",
    "y_train, y_test = y[train_idx], y[test_idx]\n",
    "\n",
    "# Create tf.data.Datasets for efficient data loading\n",
    "batch_size = 32\n",
    "train_dataset = tf.data.Dataset.from_tensor_slices((X_train, y_train)).batch(batch_size).prefetch(tf.data.AUTOTUNE)\n",
    "test_dataset = tf.data.Dataset.from_tensor_slices((X_test, y_test)).batch(batch_size).prefetch(tf.data.AUTOTUNE)\n",
    "\n",
    "# Build a more complex model architecture\n",
    "input_dim = X_train.shape[1]\n",
    "model = Sequential([\n",
    "    Dense(256, activation='relu', input_shape=(input_dim,)),\n",
    "    BatchNormalization(),\n",
    "    Dropout(0.3),\n",
    "    Dense(128, activation='relu'),\n",
    "    BatchNormalization(),\n",
    "    Dropout(0.3),\n",
    "    Dense(64, activation='relu'),\n",
    "    BatchNormalization(),\n",
    "    Dropout(0.2),\n",
    "    Dense(num_classes, activation='softmax')  \n",
    "])\n",
    "\n",
    "optimizer = Adam(learning_rate=0.001)\n",
    "model.compile(optimizer=optimizer,\n",
    "              loss='sparse_categorical_crossentropy',\n",
    "              metrics=['accuracy'])\n",
    "\n",
    "model.summary()\n",
    "\n",
    "\n",
    "epochs = 30\n",
    "history = model.fit(\n",
    "    train_dataset,\n",
    "    epochs=epochs,\n",
    "    validation_data=test_dataset\n",
    ")\n",
    "\n",
    "# Plot training and validation loss and accuracy\n",
    "plt.figure(figsize=(12, 5))\n",
    "\n",
    "# Plot Loss\n",
    "plt.subplot(1, 2, 1)\n",
    "plt.plot(history.history['loss'], label='Training Loss', marker='o')\n",
    "plt.plot(history.history['val_loss'], label='Validation Loss', marker='o')\n",
    "plt.title('Loss over Epochs')\n",
    "plt.xlabel('Epoch')\n",
    "plt.ylabel('Loss')\n",
    "plt.legend()\n",
    "\n",
    "# Plot Accuracy\n",
    "plt.subplot(1, 2, 2)\n",
    "plt.plot(history.history['accuracy'], label='Training Accuracy', marker='o')\n",
    "plt.plot(history.history['val_accuracy'], label='Validation Accuracy', marker='o')\n",
    "plt.title('Accuracy over Epochs')\n",
    "plt.xlabel('Epoch')\n",
    "plt.ylabel('Accuracy')\n",
    "plt.legend()\n",
    "\n",
    "plt.tight_layout()\n",
    "plt.show()\n",
    "\n",
    "# Evaluate the model on the test dataset\n",
    "test_loss, test_acc = model.evaluate(test_dataset)\n",
    "print(f\"Test Accuracy: {test_acc:.2f}\")\n",
    "\n",
    "# Predict and generate a classification report\n",
    "y_pred_prob = model.predict(test_dataset)\n",
    "y_pred = np.argmax(y_pred_prob, axis=1)\n",
    "\n",
    "print(\"Classification Report:\\n\", classification_report(y_test, y_pred))\n"
   ]
  },
  {
   "cell_type": "markdown",
   "metadata": {},
   "source": [
    "LSTM WITH PSD FEATURES"
   ]
  },
  {
   "cell_type": "code",
   "execution_count": null,
   "metadata": {},
   "outputs": [],
   "source": []
  },
  {
   "cell_type": "code",
   "execution_count": null,
   "metadata": {},
   "outputs": [],
   "source": [
    "LSTM WITH REGULARIZATION"
   ]
  },
  {
   "cell_type": "code",
   "execution_count": null,
   "metadata": {},
   "outputs": [],
   "source": []
  },
  {
   "cell_type": "code",
   "execution_count": 14,
   "metadata": {},
   "outputs": [
    {
     "name": "stdout",
     "output_type": "stream",
     "text": [
      "\n",
      "=== Fold 1 ===\n",
      "Epoch 1/25\n",
      "908/908 [==============================] - 13s 12ms/step - loss: 1.0651 - accuracy: 0.6658 - val_loss: 1.0019 - val_accuracy: 0.6896\n",
      "Epoch 2/25\n",
      "908/908 [==============================] - 10s 11ms/step - loss: 0.9679 - accuracy: 0.6699 - val_loss: 1.0301 - val_accuracy: 0.6715\n",
      "Epoch 3/25\n",
      "908/908 [==============================] - 10s 11ms/step - loss: 0.9334 - accuracy: 0.6757 - val_loss: 1.0413 - val_accuracy: 0.6493\n",
      "Epoch 4/25\n",
      "908/908 [==============================] - 10s 11ms/step - loss: 0.9125 - accuracy: 0.6820 - val_loss: 1.0341 - val_accuracy: 0.6744\n",
      "Epoch 5/25\n",
      "908/908 [==============================] - 10s 11ms/step - loss: 0.8928 - accuracy: 0.6867 - val_loss: 1.1026 - val_accuracy: 0.6580\n",
      "Epoch 6/25\n",
      "908/908 [==============================] - 10s 11ms/step - loss: 0.8794 - accuracy: 0.6896 - val_loss: 1.0496 - val_accuracy: 0.6703\n",
      "1816/1816 [==============================] - 5s 3ms/step\n",
      "Fold 1 Accuracy: 0.6896\n",
      "               precision    recall  f1-score   support\n",
      "\n",
      "Movement time       0.00      0.00      0.00        19\n",
      "Sleep stage 1       0.00      0.00      0.00      2734\n",
      "Sleep stage 2       1.00      0.00      0.00      9498\n",
      "Sleep stage 3       0.00      0.00      0.00      1223\n",
      "Sleep stage 4       0.00      0.00      0.00       619\n",
      "Sleep stage ?       0.00      0.00      0.00         0\n",
      "Sleep stage R       0.00      0.00      0.00      3936\n",
      "Sleep stage W       0.69      1.00      0.82     40065\n",
      "\n",
      "     accuracy                           0.69     58094\n",
      "    macro avg       0.21      0.12      0.10     58094\n",
      " weighted avg       0.64      0.69      0.56     58094\n",
      "\n",
      "\n",
      "=== Fold 2 ===\n",
      "Epoch 1/25\n",
      "1816/1816 [==============================] - 19s 10ms/step - loss: 1.0164 - accuracy: 0.6775 - val_loss: 0.9724 - val_accuracy: 0.7028\n",
      "Epoch 2/25\n",
      "1816/1816 [==============================] - 17s 9ms/step - loss: 0.9506 - accuracy: 0.6824 - val_loss: 0.9611 - val_accuracy: 0.6976\n",
      "Epoch 3/25\n",
      "1816/1816 [==============================] - 17s 9ms/step - loss: 0.9259 - accuracy: 0.6852 - val_loss: 0.9772 - val_accuracy: 0.6832\n",
      "Epoch 4/25\n",
      "1816/1816 [==============================] - 17s 9ms/step - loss: 0.9098 - accuracy: 0.6890 - val_loss: 0.9818 - val_accuracy: 0.6581\n",
      "Epoch 5/25\n",
      "1816/1816 [==============================] - 17s 9ms/step - loss: 0.8970 - accuracy: 0.6914 - val_loss: 0.9808 - val_accuracy: 0.6778\n",
      "Epoch 6/25\n",
      "1816/1816 [==============================] - 17s 9ms/step - loss: 0.8836 - accuracy: 0.6953 - val_loss: 0.9699 - val_accuracy: 0.6805\n",
      "Epoch 7/25\n",
      "1816/1816 [==============================] - 17s 9ms/step - loss: 0.8722 - accuracy: 0.6976 - val_loss: 1.0186 - val_accuracy: 0.6639\n",
      "1816/1816 [==============================] - 6s 3ms/step\n",
      "Fold 2 Accuracy: 0.6976\n",
      "               precision    recall  f1-score   support\n",
      "\n",
      "Movement time       0.00      0.00      0.00         6\n",
      "Sleep stage 1       0.00      0.00      0.00      2644\n",
      "Sleep stage 2       0.28      0.06      0.09      9963\n",
      "Sleep stage 3       0.00      0.00      0.00      1130\n",
      "Sleep stage 4       0.00      0.00      0.00       311\n",
      "Sleep stage ?       0.00      0.00      0.00       180\n",
      "Sleep stage R       0.00      0.00      0.00      2861\n",
      "Sleep stage W       0.71      0.97      0.82     40999\n",
      "\n",
      "     accuracy                           0.70     58094\n",
      "    macro avg       0.12      0.13      0.11     58094\n",
      " weighted avg       0.55      0.70      0.60     58094\n",
      "\n",
      "\n",
      "=== Fold 3 ===\n",
      "Epoch 1/25\n",
      "2724/2724 [==============================] - 26s 9ms/step - loss: 0.9810 - accuracy: 0.6878 - val_loss: 0.9646 - val_accuracy: 0.6934\n",
      "Epoch 2/25\n",
      "2724/2724 [==============================] - 24s 9ms/step - loss: 0.9295 - accuracy: 0.6905 - val_loss: 0.9787 - val_accuracy: 0.6825\n",
      "Epoch 3/25\n",
      "2724/2724 [==============================] - 24s 9ms/step - loss: 0.9081 - accuracy: 0.6937 - val_loss: 0.9631 - val_accuracy: 0.6890\n",
      "Epoch 4/25\n",
      "2724/2724 [==============================] - 24s 9ms/step - loss: 0.8934 - accuracy: 0.6960 - val_loss: 0.9782 - val_accuracy: 0.6891\n",
      "Epoch 5/25\n",
      "2724/2724 [==============================] - 24s 9ms/step - loss: 0.8803 - accuracy: 0.6991 - val_loss: 0.9991 - val_accuracy: 0.6852\n",
      "Epoch 6/25\n",
      "2724/2724 [==============================] - 23s 9ms/step - loss: 0.8696 - accuracy: 0.7014 - val_loss: 0.9846 - val_accuracy: 0.6812\n",
      "Epoch 7/25\n",
      "2724/2724 [==============================] - 23s 9ms/step - loss: 0.8599 - accuracy: 0.7033 - val_loss: 0.9869 - val_accuracy: 0.6820\n",
      "Epoch 8/25\n",
      "2724/2724 [==============================] - 24s 9ms/step - loss: 0.8516 - accuracy: 0.7050 - val_loss: 1.0027 - val_accuracy: 0.6779\n",
      "1816/1816 [==============================] - 6s 3ms/step\n",
      "Fold 3 Accuracy: 0.6890\n",
      "               precision    recall  f1-score   support\n",
      "\n",
      "Movement time       0.00      0.00      0.00         7\n",
      "Sleep stage 1       0.00      0.00      0.00      3532\n",
      "Sleep stage 2       0.21      0.02      0.04      9305\n",
      "Sleep stage 3       0.00      0.00      0.00       973\n",
      "Sleep stage 4       0.00      0.00      0.00       598\n",
      "Sleep stage ?       0.00      0.00      0.00         0\n",
      "Sleep stage R       0.00      0.00      0.00      3337\n",
      "Sleep stage W       0.70      0.99      0.82     40342\n",
      "\n",
      "     accuracy                           0.69     58094\n",
      "    macro avg       0.11      0.13      0.11     58094\n",
      " weighted avg       0.52      0.69      0.57     58094\n",
      "\n",
      "\n",
      "=== Fold 4 ===\n",
      "Epoch 1/25\n",
      "3631/3631 [==============================] - 35s 9ms/step - loss: 0.9706 - accuracy: 0.6893 - val_loss: 1.0619 - val_accuracy: 0.6684\n",
      "Epoch 2/25\n",
      "3631/3631 [==============================] - 31s 9ms/step - loss: 0.9249 - accuracy: 0.6912 - val_loss: 1.0989 - val_accuracy: 0.6661\n",
      "Epoch 3/25\n",
      "3631/3631 [==============================] - 30s 8ms/step - loss: 0.9070 - accuracy: 0.6936 - val_loss: 1.1036 - val_accuracy: 0.6629\n",
      "Epoch 4/25\n",
      "3631/3631 [==============================] - 31s 9ms/step - loss: 0.8957 - accuracy: 0.6954 - val_loss: 1.0831 - val_accuracy: 0.6637\n",
      "Epoch 5/25\n",
      "3631/3631 [==============================] - 31s 9ms/step - loss: 0.8842 - accuracy: 0.6977 - val_loss: 1.1462 - val_accuracy: 0.6512\n",
      "Epoch 6/25\n",
      "3631/3631 [==============================] - 31s 8ms/step - loss: 0.8754 - accuracy: 0.6992 - val_loss: 1.1318 - val_accuracy: 0.6599\n",
      "1816/1816 [==============================] - 5s 3ms/step\n",
      "Fold 4 Accuracy: 0.6684\n",
      "               precision    recall  f1-score   support\n",
      "\n",
      "Movement time       0.00      0.00      0.00        11\n",
      "Sleep stage 1       0.00      0.00      0.00      4400\n",
      "Sleep stage 2       0.31      0.05      0.09      9438\n",
      "Sleep stage 3       0.00      0.00      0.00      1406\n",
      "Sleep stage 4       0.00      0.00      0.00       192\n",
      "Sleep stage ?       0.00      0.00      0.00        97\n",
      "Sleep stage R       0.00      0.00      0.00      3671\n",
      "Sleep stage W       0.68      0.99      0.80     38879\n",
      "\n",
      "     accuracy                           0.67     58094\n",
      "    macro avg       0.12      0.13      0.11     58094\n",
      " weighted avg       0.50      0.67      0.55     58094\n",
      "\n",
      "\n",
      "=== Fold 5 ===\n",
      "Epoch 1/25\n",
      "4539/4539 [==============================] - 40s 9ms/step - loss: 0.9902 - accuracy: 0.6854 - val_loss: 1.9303 - val_accuracy: 0.4579\n",
      "Epoch 2/25\n",
      "4539/4539 [==============================] - 38s 8ms/step - loss: 0.9474 - accuracy: 0.6869 - val_loss: 1.8347 - val_accuracy: 0.4571\n",
      "Epoch 3/25\n",
      "4539/4539 [==============================] - 38s 8ms/step - loss: 0.9308 - accuracy: 0.6889 - val_loss: 2.0640 - val_accuracy: 0.4573\n",
      "Epoch 4/25\n",
      "4539/4539 [==============================] - 38s 8ms/step - loss: 0.9194 - accuracy: 0.6905 - val_loss: 2.0492 - val_accuracy: 0.4595\n",
      "Epoch 5/25\n",
      "4539/4539 [==============================] - 38s 8ms/step - loss: 0.9094 - accuracy: 0.6919 - val_loss: 2.0651 - val_accuracy: 0.4588\n",
      "Epoch 6/25\n",
      "4539/4539 [==============================] - 38s 8ms/step - loss: 0.9008 - accuracy: 0.6928 - val_loss: 2.0580 - val_accuracy: 0.4567\n",
      "Epoch 7/25\n",
      "4539/4539 [==============================] - 38s 8ms/step - loss: 0.8923 - accuracy: 0.6949 - val_loss: 2.1613 - val_accuracy: 0.4611\n",
      "1816/1816 [==============================] - 6s 3ms/step\n",
      "Fold 5 Accuracy: 0.4571\n",
      "               precision    recall  f1-score   support\n",
      "\n",
      "Movement time       0.00      0.00      0.00        20\n",
      "Sleep stage 1       0.00      0.00      0.00      4854\n",
      "Sleep stage 2       0.24      0.00      0.00     17390\n",
      "Sleep stage 3       0.00      0.00      0.00      1951\n",
      "Sleep stage 4       0.00      0.00      0.00      1240\n",
      "Sleep stage ?       0.00      0.00      0.00         0\n",
      "Sleep stage R       0.00      0.00      0.00      6078\n",
      "Sleep stage W       0.46      1.00      0.63     26561\n",
      "\n",
      "     accuracy                           0.46     58094\n",
      "    macro avg       0.09      0.13      0.08     58094\n",
      " weighted avg       0.28      0.46      0.29     58094\n",
      "\n"
     ]
    },
    {
     "data": {
      "image/png": "[encoded data removed]",
      "text/plain": [
       "<Figure size 1000x600 with 2 Axes>"
      ]
     },
     "metadata": {},
     "output_type": "display_data"
    }
   ],
   "source": [
    "import numpy as np\n",
    "import tensorflow as tf\n",
    "from tensorflow.keras import layers, models, optimizers, callbacks\n",
    "from sklearn.model_selection import TimeSeriesSplit\n",
    "from sklearn.preprocessing import LabelEncoder, StandardScaler\n",
    "from sklearn.metrics import classification_report, accuracy_score\n",
    "import matplotlib.pyplot as plt\n",
    "import os\n",
    "import scipy.signal\n",
    "\n",
    "# Path to processed EEG epochs\n",
    "data_folder = \"processed_epochs\"\n",
    "\n",
    "def extract_psd_features(eeg_epoch, fs):\n",
    "    freqs, psd = scipy.signal.welch(eeg_epoch, fs=fs, nperseg=fs * 2)\n",
    "    psd = np.log1p(psd)\n",
    "    return psd.flatten()\n",
    "\n",
    "# Data loading and feature extraction\n",
    "X, y = [], []\n",
    "for file in os.listdir(data_folder):\n",
    "    if file.endswith(\".npz\"):\n",
    "        data = np.load(os.path.join(data_folder, file))\n",
    "        eeg_epochs, labels, fs = data[\"eeg\"], data[\"labels\"], data[\"fs\"]\n",
    "\n",
    "        for i in range(eeg_epochs.shape[0]):\n",
    "            features = np.array([extract_psd_features(eeg_epochs[i, ch], fs) for ch in range(eeg_epochs.shape[1])])\n",
    "            X.append(features)\n",
    "            y.append(labels[i])\n",
    "\n",
    "X = np.array(X)  # (samples, channels, psd_features)\n",
    "y = np.array(y)\n",
    "\n",
    "# Handle NaNs or Infs\n",
    "if np.isnan(X).any() or np.isinf(X).any():\n",
    "    print(\"Replacing NaN/Inf with zero\")\n",
    "    X = np.nan_to_num(X)\n",
    "\n",
    "# Label encoding\n",
    "le = LabelEncoder()\n",
    "y = le.fit_transform(y)\n",
    "\n",
    "# Reshape for scaling (samples * channels, features)\n",
    "num_samples, num_channels, num_features = X.shape\n",
    "X_reshaped = X.reshape(-1, num_features)\n",
    "\n",
    "scaler = StandardScaler()\n",
    "X_scaled = scaler.fit_transform(X_reshaped)\n",
    "\n",
    "# Reshape back to original shape\n",
    "X = X_scaled.reshape(num_samples, num_channels, num_features)\n",
    "\n",
    "# TensorFlow Model with TimeSeriesSplit\n",
    "tscv = TimeSeriesSplit(n_splits=5)\n",
    "fold = 1\n",
    "history_list = []\n",
    "\n",
    "for train_index, test_index in tscv.split(X):\n",
    "    print(f\"\\n=== Fold {fold} ===\")\n",
    "    X_train, X_test = X[train_index], X[test_index]\n",
    "    y_train, y_test = y[train_index], y[test_index]\n",
    "\n",
    "    # Build the LSTM model\n",
    "    model = models.Sequential([\n",
    "        layers.Input(shape=(num_channels, num_features)),\n",
    "        layers.LSTM(256, return_sequences=True),\n",
    "        layers.Dropout(0.3),\n",
    "        layers.LSTM(128, return_sequences=True),\n",
    "        layers.Dropout(0.3),\n",
    "        layers.LSTM(64),\n",
    "        layers.Dense(64, activation='relu'),\n",
    "        layers.Dropout(0.3),\n",
    "        layers.Dense(len(np.unique(y)), activation='softmax')\n",
    "    ])\n",
    "\n",
    "    model.compile(optimizer=optimizers.Adam(learning_rate=0.001),\n",
    "                  loss='sparse_categorical_crossentropy',\n",
    "                  metrics=['accuracy'])\n",
    "\n",
    "    # Train the model\n",
    "    history = model.fit(\n",
    "        X_train, y_train,\n",
    "        validation_data=(X_test, y_test),\n",
    "        epochs=25,\n",
    "        batch_size=64,\n",
    "        callbacks=[callbacks.EarlyStopping(patience=5, restore_best_weights=True)],\n",
    "        verbose=1\n",
    "    )\n",
    "    history_list.append(history)\n",
    "\n",
    "    # Evaluate\n",
    "    y_pred = np.argmax(model.predict(X_test), axis=1)\n",
    "    print(f\"Fold {fold} Accuracy: {accuracy_score(y_test, y_pred):.4f}\")\n",
    "    # ✅ Fix the classification report call to prevent ValueError\n",
    "    print(classification_report(\n",
    "        y_test,\n",
    "        y_pred,\n",
    "        target_names=le.classes_,\n",
    "        labels=range(len(le.classes_)),\n",
    "        zero_division=0\n",
    "    ))\n",
    "    fold += 1\n",
    "\n",
    "#  Plotting Last Fold \n",
    "plt.figure(figsize=(10, 6))\n",
    "plt.subplot(2, 1, 1)\n",
    "plt.plot(history.history['loss'], label='Train Loss')\n",
    "plt.plot(history.history['val_loss'], label='Validation Loss')\n",
    "plt.xlabel('Epochs')\n",
    "plt.ylabel('Loss')\n",
    "plt.legend()\n",
    "plt.title('Loss over Epochs')\n",
    "\n",
    "plt.subplot(2, 1, 2)\n",
    "plt.plot(history.history['accuracy'], label='Train Accuracy')\n",
    "plt.plot(history.history['val_accuracy'], label='Validation Accuracy')\n",
    "plt.xlabel('Epochs')\n",
    "plt.ylabel('Accuracy')\n",
    "plt.legend()\n",
    "plt.title('Accuracy over Epochs')\n",
    "\n",
    "plt.tight_layout()\n",
    "plt.show()\n"
   ]
  },
  {
   "cell_type": "code",
   "execution_count": null,
   "metadata": {},
   "outputs": [],
   "source": [
    "import numpy as np\n",
    "import torch\n",
    "import torch.nn as nn\n",
    "import torch.optim as optim\n",
    "from sklearn.model_selection import train_test_split\n",
    "from sklearn.preprocessing import LabelEncoder, StandardScaler\n",
    "from sklearn.metrics import accuracy_score, classification_report, cohen_kappa_score, confusion_matrix\n",
    "import matplotlib.pyplot as plt\n",
    "import seaborn as sns\n",
    "import os\n",
    "import scipy.signal\n",
    "\n",
    "# Path to processed EEG epochs\n",
    "data_folder = \"processed_epochs\"\n",
    "\n",
    "# PSD feature extraction\n",
    "def extract_psd_features(eeg_epoch, fs):\n",
    "    freqs, psd = scipy.signal.welch(eeg_epoch, fs=fs, nperseg=fs * 2)\n",
    "    psd = np.log1p(psd)\n",
    "    return psd.flatten()\n",
    "\n",
    "# Load and preprocess data\n",
    "X, y = [], []\n",
    "for file in os.listdir(data_folder):\n",
    "    if file.endswith(\".npz\"):\n",
    "        data = np.load(os.path.join(data_folder, file))\n",
    "        eeg_epochs, labels, fs = data[\"eeg\"], data[\"labels\"], data[\"fs\"]\n",
    "        for i in range(eeg_epochs.shape[0]):\n",
    "            features = np.array([extract_psd_features(eeg_epochs[i, ch], fs) for ch in range(eeg_epochs.shape[1])])\n",
    "            X.append(features)\n",
    "            y.append(labels[i])\n",
    "\n",
    "X = np.array(X)\n",
    "y = np.array(y)\n",
    "\n",
    "# Handle NaN/Inf\n",
    "X = np.nan_to_num(X)\n",
    "\n",
    "# Encode labels\n",
    "le = LabelEncoder()\n",
    "y = le.fit_transform(y)\n",
    "\n",
    "# Train-test split\n",
    "X_train, X_test, y_train, y_test = train_test_split(X, y, test_size=0.2, stratify=y, random_state=42)\n",
    "\n",
    "# Normalize features\n",
    "scaler = StandardScaler()\n",
    "X_train = np.array([scaler.fit_transform(sample) for sample in X_train])\n",
    "X_test = np.array([scaler.transform(sample) for sample in X_test])\n",
    "\n",
    "# Convert to PyTorch tensors\n",
    "X_train_tensor = torch.tensor(X_train, dtype=torch.float32)\n",
    "X_test_tensor = torch.tensor(X_test, dtype=torch.float32)\n",
    "y_train_tensor = torch.tensor(y_train, dtype=torch.long)\n",
    "y_test_tensor = torch.tensor(y_test, dtype=torch.long)\n",
    "\n",
    "# LSTM Model with 3 LSTM Layers\n",
    "class EEG_LSTM_Model(nn.Module):\n",
    "    def __init__(self, input_size, num_classes):\n",
    "        super(EEG_LSTM_Model, self).__init__()\n",
    "        self.lstm1 = nn.LSTM(input_size, 128, batch_first=True, dropout=0.3)\n",
    "        self.lstm2 = nn.LSTM(128, 64, batch_first=True, dropout=0.3)\n",
    "        self.lstm3 = nn.LSTM(64, 32, batch_first=True, dropout=0.3)\n",
    "        self.fc1 = nn.Linear(32, 32)\n",
    "        self.dropout = nn.Dropout(0.3)\n",
    "        self.fc2 = nn.Linear(32, num_classes)\n",
    "\n",
    "    def forward(self, x):\n",
    "        x, _ = self.lstm1(x)\n",
    "        x, _ = self.lstm2(x)\n",
    "        x, _ = self.lstm3(x)\n",
    "        x = x[:, -1, :]\n",
    "        x = torch.relu(self.fc1(x))\n",
    "        x = self.dropout(x)\n",
    "        x = self.fc2(x)\n",
    "        return x\n",
    "\n",
    "model = EEG_LSTM_Model(input_size=X_train.shape[2], num_classes=len(np.unique(y)))\n",
    "criterion = nn.CrossEntropyLoss()\n",
    "optimizer = optim.Adam(model.parameters(), lr=0.001)\n",
    "\n",
    "# Training loop\n",
    "epochs = 50\n",
    "train_accuracies, test_accuracies = [], []\n",
    "\n",
    "for epoch in range(epochs):\n",
    "    model.train()\n",
    "    optimizer.zero_grad()\n",
    "    output = model(X_train_tensor)\n",
    "    loss = criterion(output, y_train_tensor)\n",
    "    loss.backward()\n",
    "    optimizer.step()\n",
    "\n",
    "    # Train accuracy\n",
    "    _, predicted = torch.max(output, 1)\n",
    "    train_acc = (predicted == y_train_tensor).float().mean().item()\n",
    "    train_accuracies.append(train_acc)\n",
    "\n",
    "    # Test accuracy\n",
    "    model.eval()\n",
    "    with torch.no_grad():\n",
    "        test_output = model(X_test_tensor)\n",
    "        _, test_pred = torch.max(test_output, 1)\n",
    "        test_acc = (test_pred == y_test_tensor).float().mean().item()\n",
    "        test_accuracies.append(test_acc)\n",
    "\n",
    "    print(f\"Epoch [{epoch + 1}/{epochs}], Loss: {loss.item():.4f}, Train Acc: {train_acc:.4f}, Test Acc: {test_acc:.4f}\")\n",
    "\n",
    "# Final Evaluation\n",
    "model.eval()\n",
    "with torch.no_grad():\n",
    "    final_output = model(X_test_tensor)\n",
    "    _, final_pred = torch.max(final_output, 1)\n",
    "    final_pred_np = final_pred.numpy()\n",
    "\n",
    "# Accuracy & Kappa\n",
    "accuracy = accuracy_score(y_test, final_pred_np)\n",
    "kappa = cohen_kappa_score(y_test, final_pred_np)\n",
    "print(f\"\\nFinal Test Accuracy: {accuracy:.4f}\")\n",
    "print(f\"Cohen's Kappa: {kappa:.4f}\")\n",
    "print(\"Classification Report:\\n\", classification_report(y_test, final_pred_np, target_names=le.classes_))\n",
    "\n",
    "# Confusion Matrix Plot\n",
    "cm = confusion_matrix(y_test, final_pred_np)\n",
    "plt.figure(figsize=(8, 6))\n",
    "sns.heatmap(cm, annot=True, fmt='d', cmap='Blues', xticklabels=le.classes_, yticklabels=le.classes_)\n",
    "plt.xlabel('Predicted')\n",
    "plt.ylabel('True')\n",
    "plt.title('Confusion Matrix')\n",
    "plt.show()\n",
    "\n",
    "# Accuracy Plot\n",
    "plt.figure(figsize=(8, 6))\n",
    "plt.plot(train_accuracies, label='Train Accuracy', marker='o')\n",
    "plt.plot(test_accuracies, label='Test Accuracy', marker='s')\n",
    "plt.xlabel('Epochs')\n",
    "plt.ylabel('Accuracy')\n",
    "plt.title('Training vs. Validation Accuracy (3 LSTM Layers)')\n",
    "plt.legend()\n",
    "plt.grid()\n",
    "plt.show()\n"
   ]
  },
  {
   "cell_type": "code",
   "execution_count": null,
   "metadata": {},
   "outputs": [],
   "source": []
  },
  {
   "cell_type": "code",
   "execution_count": 16,
   "metadata": {},
   "outputs": [
    {
     "name": "stderr",
     "output_type": "stream",
     "text": [
      "c:\\Users\\gpu.arl\\.conda\\envs\\2448507\\lib\\site-packages\\torch\\nn\\modules\\rnn.py:123: UserWarning: dropout option adds dropout after all but last recurrent layer, so non-zero dropout expects num_layers greater than 1, but got dropout=0.3 and num_layers=1\n",
      "  warnings.warn(\n"
     ]
    },
    {
     "ename": "OutOfMemoryError",
     "evalue": "CUDA out of memory. Tried to allocate 21.54 GiB. GPU 0 has a total capacity of 47.99 GiB of which 0 bytes is free. Of the allocated memory 12.90 GiB is allocated by PyTorch, and 22.58 MiB is reserved by PyTorch but unallocated. If reserved but unallocated memory is large try setting PYTORCH_CUDA_ALLOC_CONF=expandable_segments:True to avoid fragmentation.  See documentation for Memory Management  (https://pytorch.org/docs/stable/notes/cuda.html#environment-variables)",
     "output_type": "error",
     "traceback": [
      "\u001b[1;31m---------------------------------------------------------------------------\u001b[0m",
      "\u001b[1;31mOutOfMemoryError\u001b[0m                          Traceback (most recent call last)",
      "Cell \u001b[1;32mIn[16], line 108\u001b[0m\n\u001b[0;32m    105\u001b[0m y_train_tensor \u001b[38;5;241m=\u001b[39m y_train_tensor\u001b[38;5;241m.\u001b[39mto(device)\n\u001b[0;32m    107\u001b[0m \u001b[38;5;66;03m# Forward pass\u001b[39;00m\n\u001b[1;32m--> 108\u001b[0m output \u001b[38;5;241m=\u001b[39m \u001b[43mmodel\u001b[49m\u001b[43m(\u001b[49m\u001b[43mX_train_tensor\u001b[49m\u001b[43m)\u001b[49m\n\u001b[0;32m    109\u001b[0m loss \u001b[38;5;241m=\u001b[39m criterion(output, y_train_tensor)\n\u001b[0;32m    111\u001b[0m \u001b[38;5;66;03m# Backward pass and optimization\u001b[39;00m\n",
      "File \u001b[1;32mc:\\Users\\gpu.arl\\.conda\\envs\\2448507\\lib\\site-packages\\torch\\nn\\modules\\module.py:1739\u001b[0m, in \u001b[0;36mModule._wrapped_call_impl\u001b[1;34m(self, *args, **kwargs)\u001b[0m\n\u001b[0;32m   1737\u001b[0m     \u001b[38;5;28;01mreturn\u001b[39;00m \u001b[38;5;28mself\u001b[39m\u001b[38;5;241m.\u001b[39m_compiled_call_impl(\u001b[38;5;241m*\u001b[39margs, \u001b[38;5;241m*\u001b[39m\u001b[38;5;241m*\u001b[39mkwargs)  \u001b[38;5;66;03m# type: ignore[misc]\u001b[39;00m\n\u001b[0;32m   1738\u001b[0m \u001b[38;5;28;01melse\u001b[39;00m:\n\u001b[1;32m-> 1739\u001b[0m     \u001b[38;5;28;01mreturn\u001b[39;00m \u001b[38;5;28mself\u001b[39m\u001b[38;5;241m.\u001b[39m_call_impl(\u001b[38;5;241m*\u001b[39margs, \u001b[38;5;241m*\u001b[39m\u001b[38;5;241m*\u001b[39mkwargs)\n",
      "File \u001b[1;32mc:\\Users\\gpu.arl\\.conda\\envs\\2448507\\lib\\site-packages\\torch\\nn\\modules\\module.py:1750\u001b[0m, in \u001b[0;36mModule._call_impl\u001b[1;34m(self, *args, **kwargs)\u001b[0m\n\u001b[0;32m   1745\u001b[0m \u001b[38;5;66;03m# If we don't have any hooks, we want to skip the rest of the logic in\u001b[39;00m\n\u001b[0;32m   1746\u001b[0m \u001b[38;5;66;03m# this function, and just call forward.\u001b[39;00m\n\u001b[0;32m   1747\u001b[0m \u001b[38;5;28;01mif\u001b[39;00m \u001b[38;5;129;01mnot\u001b[39;00m (\u001b[38;5;28mself\u001b[39m\u001b[38;5;241m.\u001b[39m_backward_hooks \u001b[38;5;129;01mor\u001b[39;00m \u001b[38;5;28mself\u001b[39m\u001b[38;5;241m.\u001b[39m_backward_pre_hooks \u001b[38;5;129;01mor\u001b[39;00m \u001b[38;5;28mself\u001b[39m\u001b[38;5;241m.\u001b[39m_forward_hooks \u001b[38;5;129;01mor\u001b[39;00m \u001b[38;5;28mself\u001b[39m\u001b[38;5;241m.\u001b[39m_forward_pre_hooks\n\u001b[0;32m   1748\u001b[0m         \u001b[38;5;129;01mor\u001b[39;00m _global_backward_pre_hooks \u001b[38;5;129;01mor\u001b[39;00m _global_backward_hooks\n\u001b[0;32m   1749\u001b[0m         \u001b[38;5;129;01mor\u001b[39;00m _global_forward_hooks \u001b[38;5;129;01mor\u001b[39;00m _global_forward_pre_hooks):\n\u001b[1;32m-> 1750\u001b[0m     \u001b[38;5;28;01mreturn\u001b[39;00m forward_call(\u001b[38;5;241m*\u001b[39margs, \u001b[38;5;241m*\u001b[39m\u001b[38;5;241m*\u001b[39mkwargs)\n\u001b[0;32m   1752\u001b[0m result \u001b[38;5;241m=\u001b[39m \u001b[38;5;28;01mNone\u001b[39;00m\n\u001b[0;32m   1753\u001b[0m called_always_called_hooks \u001b[38;5;241m=\u001b[39m \u001b[38;5;28mset\u001b[39m()\n",
      "Cell \u001b[1;32mIn[16], line 80\u001b[0m, in \u001b[0;36mEEGModel.forward\u001b[1;34m(self, x)\u001b[0m\n\u001b[0;32m     79\u001b[0m \u001b[38;5;28;01mdef\u001b[39;00m\u001b[38;5;250m \u001b[39m\u001b[38;5;21mforward\u001b[39m(\u001b[38;5;28mself\u001b[39m, x):\n\u001b[1;32m---> 80\u001b[0m     x, _ \u001b[38;5;241m=\u001b[39m \u001b[38;5;28;43mself\u001b[39;49m\u001b[38;5;241;43m.\u001b[39;49m\u001b[43mlstm1\u001b[49m\u001b[43m(\u001b[49m\u001b[43mx\u001b[49m\u001b[43m)\u001b[49m\n\u001b[0;32m     81\u001b[0m     x, _ \u001b[38;5;241m=\u001b[39m \u001b[38;5;28mself\u001b[39m\u001b[38;5;241m.\u001b[39mlstm2(x)\n\u001b[0;32m     82\u001b[0m     x \u001b[38;5;241m=\u001b[39m x[:, \u001b[38;5;241m-\u001b[39m\u001b[38;5;241m1\u001b[39m, :]  \u001b[38;5;66;03m# Take the output of the last LSTM time step\u001b[39;00m\n",
      "File \u001b[1;32mc:\\Users\\gpu.arl\\.conda\\envs\\2448507\\lib\\site-packages\\torch\\nn\\modules\\module.py:1739\u001b[0m, in \u001b[0;36mModule._wrapped_call_impl\u001b[1;34m(self, *args, **kwargs)\u001b[0m\n\u001b[0;32m   1737\u001b[0m     \u001b[38;5;28;01mreturn\u001b[39;00m \u001b[38;5;28mself\u001b[39m\u001b[38;5;241m.\u001b[39m_compiled_call_impl(\u001b[38;5;241m*\u001b[39margs, \u001b[38;5;241m*\u001b[39m\u001b[38;5;241m*\u001b[39mkwargs)  \u001b[38;5;66;03m# type: ignore[misc]\u001b[39;00m\n\u001b[0;32m   1738\u001b[0m \u001b[38;5;28;01melse\u001b[39;00m:\n\u001b[1;32m-> 1739\u001b[0m     \u001b[38;5;28;01mreturn\u001b[39;00m \u001b[38;5;28mself\u001b[39m\u001b[38;5;241m.\u001b[39m_call_impl(\u001b[38;5;241m*\u001b[39margs, \u001b[38;5;241m*\u001b[39m\u001b[38;5;241m*\u001b[39mkwargs)\n",
      "File \u001b[1;32mc:\\Users\\gpu.arl\\.conda\\envs\\2448507\\lib\\site-packages\\torch\\nn\\modules\\module.py:1750\u001b[0m, in \u001b[0;36mModule._call_impl\u001b[1;34m(self, *args, **kwargs)\u001b[0m\n\u001b[0;32m   1745\u001b[0m \u001b[38;5;66;03m# If we don't have any hooks, we want to skip the rest of the logic in\u001b[39;00m\n\u001b[0;32m   1746\u001b[0m \u001b[38;5;66;03m# this function, and just call forward.\u001b[39;00m\n\u001b[0;32m   1747\u001b[0m \u001b[38;5;28;01mif\u001b[39;00m \u001b[38;5;129;01mnot\u001b[39;00m (\u001b[38;5;28mself\u001b[39m\u001b[38;5;241m.\u001b[39m_backward_hooks \u001b[38;5;129;01mor\u001b[39;00m \u001b[38;5;28mself\u001b[39m\u001b[38;5;241m.\u001b[39m_backward_pre_hooks \u001b[38;5;129;01mor\u001b[39;00m \u001b[38;5;28mself\u001b[39m\u001b[38;5;241m.\u001b[39m_forward_hooks \u001b[38;5;129;01mor\u001b[39;00m \u001b[38;5;28mself\u001b[39m\u001b[38;5;241m.\u001b[39m_forward_pre_hooks\n\u001b[0;32m   1748\u001b[0m         \u001b[38;5;129;01mor\u001b[39;00m _global_backward_pre_hooks \u001b[38;5;129;01mor\u001b[39;00m _global_backward_hooks\n\u001b[0;32m   1749\u001b[0m         \u001b[38;5;129;01mor\u001b[39;00m _global_forward_hooks \u001b[38;5;129;01mor\u001b[39;00m _global_forward_pre_hooks):\n\u001b[1;32m-> 1750\u001b[0m     \u001b[38;5;28;01mreturn\u001b[39;00m forward_call(\u001b[38;5;241m*\u001b[39margs, \u001b[38;5;241m*\u001b[39m\u001b[38;5;241m*\u001b[39mkwargs)\n\u001b[0;32m   1752\u001b[0m result \u001b[38;5;241m=\u001b[39m \u001b[38;5;28;01mNone\u001b[39;00m\n\u001b[0;32m   1753\u001b[0m called_always_called_hooks \u001b[38;5;241m=\u001b[39m \u001b[38;5;28mset\u001b[39m()\n",
      "File \u001b[1;32mc:\\Users\\gpu.arl\\.conda\\envs\\2448507\\lib\\site-packages\\torch\\nn\\modules\\rnn.py:1124\u001b[0m, in \u001b[0;36mLSTM.forward\u001b[1;34m(self, input, hx)\u001b[0m\n\u001b[0;32m   1121\u001b[0m         hx \u001b[38;5;241m=\u001b[39m \u001b[38;5;28mself\u001b[39m\u001b[38;5;241m.\u001b[39mpermute_hidden(hx, sorted_indices)\n\u001b[0;32m   1123\u001b[0m \u001b[38;5;28;01mif\u001b[39;00m batch_sizes \u001b[38;5;129;01mis\u001b[39;00m \u001b[38;5;28;01mNone\u001b[39;00m:\n\u001b[1;32m-> 1124\u001b[0m     result \u001b[38;5;241m=\u001b[39m \u001b[43m_VF\u001b[49m\u001b[38;5;241;43m.\u001b[39;49m\u001b[43mlstm\u001b[49m\u001b[43m(\u001b[49m\n\u001b[0;32m   1125\u001b[0m \u001b[43m        \u001b[49m\u001b[38;5;28;43minput\u001b[39;49m\u001b[43m,\u001b[49m\n\u001b[0;32m   1126\u001b[0m \u001b[43m        \u001b[49m\u001b[43mhx\u001b[49m\u001b[43m,\u001b[49m\n\u001b[0;32m   1127\u001b[0m \u001b[43m        \u001b[49m\u001b[38;5;28;43mself\u001b[39;49m\u001b[38;5;241;43m.\u001b[39;49m\u001b[43m_flat_weights\u001b[49m\u001b[43m,\u001b[49m\u001b[43m  \u001b[49m\u001b[38;5;66;43;03m# type: ignore[arg-type]\u001b[39;49;00m\n\u001b[0;32m   1128\u001b[0m \u001b[43m        \u001b[49m\u001b[38;5;28;43mself\u001b[39;49m\u001b[38;5;241;43m.\u001b[39;49m\u001b[43mbias\u001b[49m\u001b[43m,\u001b[49m\n\u001b[0;32m   1129\u001b[0m \u001b[43m        \u001b[49m\u001b[38;5;28;43mself\u001b[39;49m\u001b[38;5;241;43m.\u001b[39;49m\u001b[43mnum_layers\u001b[49m\u001b[43m,\u001b[49m\n\u001b[0;32m   1130\u001b[0m \u001b[43m        \u001b[49m\u001b[38;5;28;43mself\u001b[39;49m\u001b[38;5;241;43m.\u001b[39;49m\u001b[43mdropout\u001b[49m\u001b[43m,\u001b[49m\n\u001b[0;32m   1131\u001b[0m \u001b[43m        \u001b[49m\u001b[38;5;28;43mself\u001b[39;49m\u001b[38;5;241;43m.\u001b[39;49m\u001b[43mtraining\u001b[49m\u001b[43m,\u001b[49m\n\u001b[0;32m   1132\u001b[0m \u001b[43m        \u001b[49m\u001b[38;5;28;43mself\u001b[39;49m\u001b[38;5;241;43m.\u001b[39;49m\u001b[43mbidirectional\u001b[49m\u001b[43m,\u001b[49m\n\u001b[0;32m   1133\u001b[0m \u001b[43m        \u001b[49m\u001b[38;5;28;43mself\u001b[39;49m\u001b[38;5;241;43m.\u001b[39;49m\u001b[43mbatch_first\u001b[49m\u001b[43m,\u001b[49m\n\u001b[0;32m   1134\u001b[0m \u001b[43m    \u001b[49m\u001b[43m)\u001b[49m\n\u001b[0;32m   1135\u001b[0m \u001b[38;5;28;01melse\u001b[39;00m:\n\u001b[0;32m   1136\u001b[0m     result \u001b[38;5;241m=\u001b[39m _VF\u001b[38;5;241m.\u001b[39mlstm(\n\u001b[0;32m   1137\u001b[0m         \u001b[38;5;28minput\u001b[39m,\n\u001b[0;32m   1138\u001b[0m         batch_sizes,\n\u001b[1;32m   (...)\u001b[0m\n\u001b[0;32m   1145\u001b[0m         \u001b[38;5;28mself\u001b[39m\u001b[38;5;241m.\u001b[39mbidirectional,\n\u001b[0;32m   1146\u001b[0m     )\n",
      "\u001b[1;31mOutOfMemoryError\u001b[0m: CUDA out of memory. Tried to allocate 21.54 GiB. GPU 0 has a total capacity of 47.99 GiB of which 0 bytes is free. Of the allocated memory 12.90 GiB is allocated by PyTorch, and 22.58 MiB is reserved by PyTorch but unallocated. If reserved but unallocated memory is large try setting PYTORCH_CUDA_ALLOC_CONF=expandable_segments:True to avoid fragmentation.  See documentation for Memory Management  (https://pytorch.org/docs/stable/notes/cuda.html#environment-variables)"
     ]
    }
   ],
   "source": [
    "import numpy as np\n",
    "import pywt\n",
    "import os\n",
    "import torch\n",
    "import torch.nn as nn\n",
    "import torch.optim as optim\n",
    "from sklearn.model_selection import train_test_split\n",
    "from sklearn.preprocessing import LabelEncoder, StandardScaler\n",
    "from sklearn.metrics import accuracy_score, classification_report\n",
    "import matplotlib.pyplot as plt\n",
    "\n",
    "# Path to processed EEG epochs\n",
    "data_folder = \"processed_epochs\"\n",
    "\n",
    "# Function to compute DWT features\n",
    "def extract_dwt_features(eeg_epoch, wavelet='db4', level=1):\n",
    "    coeffs = pywt.wavedec(eeg_epoch, wavelet, level=level)\n",
    "    features = np.concatenate([c.flatten() for c in coeffs])  # Flatten all coefficients\n",
    "    return features\n",
    "\n",
    "X = []\n",
    "y = []\n",
    "\n",
    "for file in os.listdir(data_folder):\n",
    "    if file.endswith(\".npz\"):\n",
    "        data = np.load(os.path.join(data_folder, file))\n",
    "        eeg_epochs = data[\"eeg\"]  \n",
    "        labels = data[\"labels\"]\n",
    "\n",
    "        # Extract DWT features for each epoch\n",
    "        for i in range(eeg_epochs.shape[0]):\n",
    "            features = np.array([extract_dwt_features(eeg_epochs[i, ch]) for ch in range(eeg_epochs.shape[1])])\n",
    "            X.append(features)\n",
    "            y.append(labels[i])\n",
    "\n",
    "# Convert to NumPy arrays\n",
    "X = np.array(X)\n",
    "y = np.array(y)\n",
    "\n",
    "# Handle NaN/Inf values\n",
    "if np.isnan(X).any() or np.isinf(X).any():\n",
    "    print(\"Warning: NaN or Inf detected in feature matrix! Replacing with zero.\")\n",
    "    X = np.nan_to_num(X)\n",
    "\n",
    "# Encode labels\n",
    "label_encoder = LabelEncoder()\n",
    "y = label_encoder.fit_transform(y)\n",
    "\n",
    "# Split data into train (80%) and test (20%) sets\n",
    "X_train, X_test, y_train, y_test = train_test_split(X, y, test_size=0.2, random_state=42, stratify=y)\n",
    "\n",
    "# Normalize features\n",
    "scaler = StandardScaler()\n",
    "X_train = np.array([scaler.fit_transform(sample) for sample in X_train])\n",
    "X_test = np.array([scaler.transform(sample) for sample in X_test])\n",
    "\n",
    "# Convert to PyTorch tensors\n",
    "X_train_tensor = torch.tensor(X_train, dtype=torch.float32)\n",
    "X_test_tensor = torch.tensor(X_test, dtype=torch.float32)\n",
    "y_train_tensor = torch.tensor(y_train, dtype=torch.long)\n",
    "y_test_tensor = torch.tensor(y_test, dtype=torch.long)\n",
    "\n",
    "# Set the number of CPU threads (limit to 30)\n",
    "torch.set_num_threads(30)\n",
    "\n",
    "# Check if GPU is available, and move the model and data to GPU\n",
    "device = torch.device('cuda' if torch.cuda.is_available() else 'cpu')\n",
    "\n",
    "# Define LSTM Model with Regularization\n",
    "class EEGModel(nn.Module):\n",
    "    def __init__(self, input_size, num_classes):\n",
    "        super(EEGModel, self).__init__()\n",
    "        self.lstm1 = nn.LSTM(input_size, 64, batch_first=True, dropout=0.3)\n",
    "        self.lstm2 = nn.LSTM(64, 32, batch_first=True, dropout=0.3)\n",
    "        self.fc1 = nn.Linear(32, 32)\n",
    "        self.fc2 = nn.Linear(32, num_classes)\n",
    "        self.dropout = nn.Dropout(0.2)\n",
    "        \n",
    "    def forward(self, x):\n",
    "        x, _ = self.lstm1(x)\n",
    "        x, _ = self.lstm2(x)\n",
    "        x = x[:, -1, :]  # Take the output of the last LSTM time step\n",
    "        x = self.fc1(x)\n",
    "        x = self.dropout(x)\n",
    "        x = self.fc2(x)\n",
    "        return x\n",
    "\n",
    "# Initialize model, loss function, and optimizer\n",
    "model = EEGModel(input_size=X_train.shape[2], num_classes=len(np.unique(y)))\n",
    "model.to(device)  # Move the model to GPU (if available)\n",
    "criterion = nn.CrossEntropyLoss()\n",
    "optimizer = optim.Adam(model.parameters(), lr=0.001)\n",
    "\n",
    "# Training loop\n",
    "epochs = 30\n",
    "train_accuracies = []\n",
    "test_accuracies = []\n",
    "\n",
    "for epoch in range(epochs):\n",
    "    model.train()\n",
    "    optimizer.zero_grad()\n",
    "    \n",
    "    # Move data to device (GPU or CPU)\n",
    "    X_train_tensor = X_train_tensor.to(device)\n",
    "    y_train_tensor = y_train_tensor.to(device)\n",
    "    \n",
    "    # Forward pass\n",
    "    output = model(X_train_tensor)\n",
    "    loss = criterion(output, y_train_tensor)\n",
    "    \n",
    "    # Backward pass and optimization\n",
    "    loss.backward()\n",
    "    optimizer.step()\n",
    "    \n",
    "    # Calculate train accuracy\n",
    "    _, predicted = torch.max(output, 1)\n",
    "    train_accuracy = (predicted == y_train_tensor).float().mean().item()\n",
    "    train_accuracies.append(train_accuracy)\n",
    "    \n",
    "    # Evaluate on test set\n",
    "    model.eval()\n",
    "    with torch.no_grad():\n",
    "        X_test_tensor = X_test_tensor.to(device)\n",
    "        y_test_tensor = y_test_tensor.to(device)\n",
    "        test_output = model(X_test_tensor)\n",
    "        _, test_predicted = torch.max(test_output, 1)\n",
    "        test_accuracy = (test_predicted == y_test_tensor).float().mean().item()\n",
    "        test_accuracies.append(test_accuracy)\n",
    "    \n",
    "    # Print epoch results\n",
    "    print(f\"Epoch [{epoch+1}/{epochs}], Loss: {loss.item():.4f}, Train Accuracy: {train_accuracy:.4f}, Test Accuracy: {test_accuracy:.4f}\")\n",
    "\n",
    "# Final evaluation\n",
    "model.eval()\n",
    "with torch.no_grad():\n",
    "    final_test_output = model(X_test_tensor.to(device))\n",
    "    _, final_test_predicted = torch.max(final_test_output, 1)\n",
    "    accuracy = accuracy_score(y_test, final_test_predicted.cpu().numpy())\n",
    "    print(f\"Final Test Accuracy: {accuracy:.2f}\")\n",
    "    print(\"Classification Report:\\n\", classification_report(y_test, final_test_predicted.cpu().numpy()))\n",
    "\n",
    "# Plot training vs validation accuracy\n",
    "plt.figure(figsize=(8, 6))\n",
    "plt.plot(train_accuracies, label='Train Accuracy', marker='o')\n",
    "plt.plot(test_accuracies, label='Test Accuracy', marker='s')\n",
    "plt.xlabel('Epochs')\n",
    "plt.ylabel('Accuracy')\n",
    "plt.title('LSTM with DWT Features: Training vs. Validation Accuracy')\n",
    "plt.legend()\n",
    "plt.grid()\n",
    "plt.show()"
   ]
  },
  {
   "cell_type": "code",
   "execution_count": null,
   "metadata": {},
   "outputs": [],
   "source": [
    "import numpy as np\n",
    "import pywt\n",
    "import os\n",
    "import torch\n",
    "import torch.nn as nn\n",
    "import torch.optim as optim\n",
    "from sklearn.model_selection import train_test_split\n",
    "from sklearn.preprocessing import LabelEncoder, StandardScaler\n",
    "from sklearn.metrics import accuracy_score, classification_report\n",
    "import matplotlib.pyplot as plt\n",
    "\n",
    "# Path to processed EEG epochs\n",
    "data_folder = \"processed_epochs\"\n",
    "\n",
    "# Function to compute DWT features\n",
    "def extract_dwt_features(eeg_epoch, wavelet='db4', level=1):\n",
    "    coeffs = pywt.wavedec(eeg_epoch, wavelet, level=level)\n",
    "    features = np.concatenate([c.flatten() for c in coeffs])  # Flatten all coefficients\n",
    "    return features\n",
    "\n",
    "X = []\n",
    "y = []\n",
    "\n",
    "for file in os.listdir(data_folder):\n",
    "    if file.endswith(\".npz\"):\n",
    "        data = np.load(os.path.join(data_folder, file))\n",
    "        eeg_epochs = data[\"eeg\"]  \n",
    "        labels = data[\"labels\"]\n",
    "\n",
    "        # Extract DWT features for each epoch\n",
    "        for i in range(eeg_epochs.shape[0]):\n",
    "            features = np.array([extract_dwt_features(eeg_epochs[i, ch]) for ch in range(eeg_epochs.shape[1])])\n",
    "            X.append(features)\n",
    "            y.append(labels[i])\n",
    "\n",
    "# Convert to NumPy arrays\n",
    "X = np.array(X)\n",
    "y = np.array(y)\n",
    "\n",
    "# Handle NaN/Inf values\n",
    "if np.isnan(X).any() or np.isinf(X).any():\n",
    "    print(\"Warning: NaN or Inf detected in feature matrix! Replacing with zero.\")\n",
    "    X = np.nan_to_num(X)\n",
    "\n",
    "# Encode labels\n",
    "label_encoder = LabelEncoder()\n",
    "y = label_encoder.fit_transform(y)\n",
    "\n",
    "# Split data into train (80%) and test (20%) sets\n",
    "X_train, X_test, y_train, y_test = train_test_split(X, y, test_size=0.2, random_state=42, stratify=y)\n",
    "\n",
    "# Normalize features\n",
    "scaler = StandardScaler()\n",
    "X_train = np.array([scaler.fit_transform(sample) for sample in X_train])\n",
    "X_test = np.array([scaler.transform(sample) for sample in X_test])\n",
    "\n",
    "# Convert to PyTorch tensors\n",
    "X_train_tensor = torch.tensor(X_train, dtype=torch.float32)\n",
    "X_test_tensor = torch.tensor(X_test, dtype=torch.float32)\n",
    "y_train_tensor = torch.tensor(y_train, dtype=torch.long)\n",
    "y_test_tensor = torch.tensor(y_test, dtype=torch.long)\n",
    "\n",
    "# Set the number of CPU threads (limit to 30)\n",
    "torch.set_num_threads(30)\n",
    "\n",
    "# Check if GPU is available, and move the model and data to GPU\n",
    "device = torch.device('cuda' if torch.cuda.is_available() else 'cpu')\n",
    "\n",
    "# Define LSTM Model with Regularization\n",
    "class EEGModel(nn.Module):\n",
    "    def __init__(self, input_size, num_classes):\n",
    "        super(EEGModel, self).__init__()\n",
    "        self.lstm1 = nn.LSTM(input_size, 64, batch_first=True, dropout=0.3)\n",
    "        self.lstm2 = nn.LSTM(64, 32, batch_first=True, dropout=0.3)\n",
    "        self.fc1 = nn.Linear(32, 32)\n",
    "        self.fc2 = nn.Linear(32, num_classes)\n",
    "        self.dropout = nn.Dropout(0.2)\n",
    "        \n",
    "    def forward(self, x):\n",
    "        x, _ = self.lstm1(x)\n",
    "        x, _ = self.lstm2(x)\n",
    "        x = x[:, -1, :]  # Take the output of the last LSTM time step\n",
    "        x = self.fc1(x)\n",
    "        x = self.dropout(x)\n",
    "        x = self.fc2(x)\n",
    "        return x\n",
    "\n",
    "# Initialize model, loss function, and optimizer\n",
    "model = EEGModel(input_size=X_train.shape[2], num_classes=len(np.unique(y)))\n",
    "model.to(device)  # Move the model to GPU (if available)\n",
    "criterion = nn.CrossEntropyLoss()\n",
    "optimizer = optim.Adam(model.parameters(), lr=0.001)\n",
    "\n",
    "# Training loop\n",
    "epochs = 30\n",
    "train_accuracies = []\n",
    "test_accuracies = []\n",
    "\n",
    "for epoch in range(epochs):\n",
    "    model.train()\n",
    "    optimizer.zero_grad()\n",
    "    \n",
    "    # Move data to device (GPU or CPU)\n",
    "    X_train_tensor = X_train_tensor.to(device)\n",
    "    y_train_tensor = y_train_tensor.to(device)\n",
    "    \n",
    "    # Forward pass\n",
    "    output = model(X_train_tensor)\n",
    "    loss = criterion(output, y_train_tensor)\n",
    "    \n",
    "    # Backward pass and optimization\n",
    "    loss.backward()\n",
    "    optimizer.step()\n",
    "    \n",
    "    # Calculate train accuracy\n",
    "    _, predicted = torch.max(output, 1)\n",
    "    train_accuracy = (predicted == y_train_tensor).float().mean().item()\n",
    "    train_accuracies.append(train_accuracy)\n",
    "    \n",
    "    # Evaluate on test set\n",
    "    model.eval()\n",
    "    with torch.no_grad():\n",
    "        X_test_tensor = X_test_tensor.to(device)\n",
    "        y_test_tensor = y_test_tensor.to(device)\n",
    "        test_output = model(X_test_tensor)\n",
    "        _, test_predicted = torch.max(test_output, 1)\n",
    "        test_accuracy = (test_predicted == y_test_tensor).float().mean().item()\n",
    "        test_accuracies.append(test_accuracy)\n",
    "    \n",
    "    # Print epoch results\n",
    "    print(f\"Epoch [{epoch+1}/{epochs}], Loss: {loss.item():.4f}, Train Accuracy: {train_accuracy:.4f}, Test Accuracy: {test_accuracy:.4f}\")\n",
    "\n",
    "# Final evaluation\n",
    "model.eval()\n",
    "with torch.no_grad():\n",
    "    final_test_output = model(X_test_tensor.to(device))\n",
    "    _, final_test_predicted = torch.max(final_test_output, 1)\n",
    "    accuracy = accuracy_score(y_test, final_test_predicted.cpu().numpy())\n",
    "    print(f\"Final Test Accuracy: {accuracy:.2f}\")\n",
    "    print(\"Classification Report:\\n\", classification_report(y_test, final_test_predicted.cpu().numpy()))\n",
    "\n",
    "# Plot training vs validation accuracy\n",
    "plt.figure(figsize=(8, 6))\n",
    "plt.plot(train_accuracies, label='Train Accuracy', marker='o')\n",
    "plt.plot(test_accuracies, label='Test Accuracy', marker='s')\n",
    "plt.xlabel('Epochs')\n",
    "plt.ylabel('Accuracy')\n",
    "plt.title('LSTM with DWT Features: Training vs. Validation Accuracy')\n",
    "plt.legend()\n",
    "plt.grid()\n",
    "plt.show()"
   ]
  },
  {
   "cell_type": "code",
   "execution_count": null,
   "metadata": {},
   "outputs": [],
   "source": [
    "import numpy as np\n",
    "import os\n",
    "import matplotlib.pyplot as plt\n",
    "import seaborn as sns\n",
    "import scipy.signal\n",
    "from sklearn.model_selection import train_test_split\n",
    "from sklearn.preprocessing import LabelEncoder, StandardScaler\n",
    "from sklearn.svm import SVC\n",
    "from sklearn.metrics import accuracy_score, classification_report, cohen_kappa_score, confusion_matrix\n",
    "\n",
    "# Path to processed EEG epochs\n",
    "data_folder = \"processed_epochs\"\n",
    "\n",
    "# Statistical feature extraction per channel\n",
    "def extract_statistical_features(eeg_epoch):\n",
    "    features = []\n",
    "    features.append(np.mean(eeg_epoch))        # Mean\n",
    "    features.append(np.std(eeg_epoch))         # Standard Deviation\n",
    "    features.append(np.var(eeg_epoch))         # Variance\n",
    "    features.append(np.median(eeg_epoch))      # Median\n",
    "    features.append(np.max(eeg_epoch))         # Max\n",
    "    features.append(np.min(eeg_epoch))         # Min\n",
    "    features.append(np.ptp(eeg_epoch))         # Peak-to-Peak\n",
    "    features.append(np.percentile(eeg_epoch, 25))  # 25th Percentile\n",
    "    features.append(np.percentile(eeg_epoch, 75))  # 75th Percentile\n",
    "    return features\n",
    "\n",
    "# Load and extract statistical features\n",
    "X, y = [], []\n",
    "for file in os.listdir(data_folder):\n",
    "    if file.endswith(\".npz\"):\n",
    "        data = np.load(os.path.join(data_folder, file))\n",
    "        eeg_epochs, labels = data[\"eeg\"], data[\"labels\"]\n",
    "        for i in range(eeg_epochs.shape[0]):\n",
    "            epoch_features = []\n",
    "            for ch in range(eeg_epochs.shape[1]):\n",
    "                ch_features = extract_statistical_features(eeg_epochs[i, ch])\n",
    "                epoch_features.extend(ch_features)  # Flatten channel features\n",
    "            X.append(epoch_features)\n",
    "            y.append(labels[i])\n",
    "\n",
    "X = np.array(X)\n",
    "y = np.array(y)\n",
    "\n",
    "# Replace NaNs/Infs\n",
    "X = np.nan_to_num(X)\n",
    "\n",
    "# Encode labels\n",
    "le = LabelEncoder()\n",
    "y = le.fit_transform(y)\n",
    "\n",
    "# Train-Test Split\n",
    "X_train, X_test, y_train, y_test = train_test_split(\n",
    "    X, y, test_size=0.2, stratify=y, random_state=42\n",
    ")\n",
    "\n",
    "# Feature scaling\n",
    "scaler = StandardScaler()\n",
    "X_train = scaler.fit_transform(X_train)\n",
    "X_test = scaler.transform(X_test)\n",
    "\n",
    "# SVM Classifier (RBF kernel)\n",
    "svm_model = SVC(kernel='rbf', C=1.0, gamma='scale', probability=True, random_state=42)\n",
    "svm_model.fit(X_train, y_train)\n",
    "\n",
    "# Predictions\n",
    "y_pred = svm_model.predict(X_test)\n",
    "\n",
    "# Evaluation\n",
    "accuracy = accuracy_score(y_test, y_pred)\n",
    "kappa = cohen_kappa_score(y_test, y_pred)\n",
    "print(f\"\\nSVM Final Test Accuracy: {accuracy:.4f}\")\n",
    "print(f\"Cohen's Kappa: {kappa:.4f}\")\n",
    "print(\"Classification Report:\\n\", classification_report(y_test, y_pred, target_names=le.classes_))\n",
    "\n",
    "# Confusion Matrix\n",
    "cm = confusion_matrix(y_test, y_pred)\n",
    "plt.figure(figsize=(8, 6))\n",
    "sns.heatmap(cm, annot=True, fmt='d', cmap='Blues', xticklabels=le.classes_, yticklabels=le.classes_)\n",
    "plt.xlabel('Predicted')\n",
    "plt.ylabel('True')\n",
    "plt.title('SVM Confusion Matrix')\n",
    "plt.show()\n",
    "\n",
    "# Covariance Matrix of the Features\n",
    "cov_matrix = np.cov(X_train, rowvar=False)  # Covariance across features\n",
    "plt.figure(figsize=(10, 8))\n",
    "sns.heatmap(cov_matrix, cmap='viridis')\n",
    "plt.title('Covariance Matrix of Extracted Statistical Features')\n",
    "plt.xlabel('Feature Index')\n",
    "plt.ylabel('Feature Index')\n",
    "plt.show()\n"
   ]
  },
  {
   "cell_type": "code",
   "execution_count": null,
   "metadata": {},
   "outputs": [],
   "source": [
    "import numpy as np\n",
    "import os\n",
    "import matplotlib.pyplot as plt\n",
    "import seaborn as sns\n",
    "import scipy.signal\n",
    "from sklearn.model_selection import train_test_split\n",
    "from sklearn.preprocessing import LabelEncoder, StandardScaler\n",
    "from sklearn.ensemble import RandomForestClassifier\n",
    "from sklearn.metrics import accuracy_score, classification_report, cohen_kappa_score, confusion_matrix\n",
    "\n",
    "# Path to processed EEG epochs\n",
    "data_folder = \"processed_epochs\"\n",
    "\n",
    "# Statistical feature extraction per channel\n",
    "def extract_statistical_features(eeg_epoch):\n",
    "    features = []\n",
    "    features.append(np.mean(eeg_epoch))        # Mean\n",
    "    features.append(np.std(eeg_epoch))         # Standard Deviation\n",
    "    features.append(np.var(eeg_epoch))         # Variance\n",
    "    features.append(np.median(eeg_epoch))      # Median\n",
    "    features.append(np.max(eeg_epoch))         # Max\n",
    "    features.append(np.min(eeg_epoch))         # Min\n",
    "    features.append(np.ptp(eeg_epoch))         # Peak-to-Peak\n",
    "    features.append(np.percentile(eeg_epoch, 25))  # 25th Percentile\n",
    "    features.append(np.percentile(eeg_epoch, 75))  # 75th Percentile\n",
    "    return features\n",
    "\n",
    "# Load and extract statistical features\n",
    "X, y = [], []\n",
    "for file in os.listdir(data_folder):\n",
    "    if file.endswith(\".npz\"):\n",
    "        data = np.load(os.path.join(data_folder, file))\n",
    "        eeg_epochs, labels = data[\"eeg\"], data[\"labels\"]\n",
    "        for i in range(eeg_epochs.shape[0]):\n",
    "            epoch_features = []\n",
    "            for ch in range(eeg_epochs.shape[1]):\n",
    "                ch_features = extract_statistical_features(eeg_epochs[i, ch])\n",
    "                epoch_features.extend(ch_features)  # Flatten channel features\n",
    "            X.append(epoch_features)\n",
    "            y.append(labels[i])\n",
    "\n",
    "X = np.array(X)\n",
    "y = np.array(y)\n",
    "\n",
    "# Replace NaNs/Infs\n",
    "X = np.nan_to_num(X)\n",
    "\n",
    "# Encode labels\n",
    "le = LabelEncoder()\n",
    "y = le.fit_transform(y)\n",
    "\n",
    "# Train-Test Split\n",
    "X_train, X_test, y_train, y_test = train_test_split(\n",
    "    X, y, test_size=0.2, stratify=y, random_state=42\n",
    ")\n",
    "\n",
    "# Feature scaling (optional for RF but good practice)\n",
    "scaler = StandardScaler()\n",
    "X_train = scaler.fit_transform(X_train)\n",
    "X_test = scaler.transform(X_test)\n",
    "\n",
    "# Random Forest Classifier\n",
    "rf_model = RandomForestClassifier(\n",
    "    n_estimators=100,\n",
    "    max_depth=None,\n",
    "    random_state=42,\n",
    "    n_jobs=-1\n",
    ")\n",
    "rf_model.fit(X_train, y_train)\n",
    "\n",
    "# Predictions\n",
    "y_pred = rf_model.predict(X_test)\n",
    "\n",
    "# Evaluation\n",
    "accuracy = accuracy_score(y_test, y_pred)\n",
    "kappa = cohen_kappa_score(y_test, y_pred)\n",
    "print(f\"\\nRandom Forest Final Test Accuracy: {accuracy:.4f}\")\n",
    "print(f\"Cohen's Kappa: {kappa:.4f}\")\n",
    "print(\"Classification Report:\\n\", classification_report(y_test, y_pred, target_names=le.classes_))\n",
    "\n",
    "# Confusion Matrix\n",
    "cm = confusion_matrix(y_test, y_pred)\n",
    "plt.figure(figsize=(8, 6))\n",
    "sns.heatmap(cm, annot=True, fmt='d', cmap='Blues', xticklabels=le.classes_, yticklabels=le.classes_)\n",
    "plt.xlabel('Predicted')\n",
    "plt.ylabel('True')\n",
    "plt.title('Random Forest Confusion Matrix')\n",
    "plt.show()\n",
    "\n",
    "# Covariance Matrix of the Features\n",
    "cov_matrix = np.cov(X_train, rowvar=False)  # Covariance across features\n",
    "plt.figure(figsize=(10, 8))\n",
    "sns.heatmap(cov_matrix, cmap='viridis')\n",
    "plt.title('Covariance Matrix of Extracted Statistical Features (Random Forest)')\n",
    "plt.xlabel('Feature Index')\n",
    "plt.ylabel('Feature Index')\n",
    "plt.show()\n"
   ]
  },
  {
   "cell_type": "code",
   "execution_count": null,
   "metadata": {},
   "outputs": [],
   "source": []
  },
  {
   "cell_type": "code",
   "execution_count": null,
   "metadata": {},
   "outputs": [],
   "source": []
  }
 ],
 "metadata": {
  "kernelspec": {
   "display_name": "Python 3",
   "language": "python",
   "name": "python3"
  },
  "language_info": {
   "codemirror_mode": {
    "name": "ipython",
    "version": 3
   },
   "file_extension": ".py",
   "mimetype": "text/x-python",
   "name": "python",
   "nbconvert_exporter": "python",
   "pygments_lexer": "ipython3",
   "version": "3.9.15"
  }
 },
 "nbformat": 4,
 "nbformat_minor": 2
}
