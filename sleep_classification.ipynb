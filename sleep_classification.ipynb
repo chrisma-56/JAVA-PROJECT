{
 "cells": [
  {
   "cell_type": "code",
   "execution_count": 1,
   "metadata": {},
   "outputs": [
    {
     "name": "stdout",
     "output_type": "stream",
     "text": [
      "Number of GPU:  1\n",
      "GPU Name:  NVIDIA GeForce RTX 3050 Laptop GPU\n",
      "Using device: cuda\n"
     ]
    }
   ],
   "source": [
    "import torch\n",
    "\n",
    "print(\"Number of GPU: \", torch.cuda.device_count())\n",
    "print(\"GPU Name: \", torch.cuda.get_device_name())\n",
    "\n",
    "\n",
    "device = torch.device('cuda' if torch.cuda.is_available() else 'cpu')\n",
    "print('Using device:', device)"
   ]
  },
  {
   "cell_type": "markdown",
   "metadata": {},
   "source": [
    "matching the psg files to hypnograms by names"
   ]
  },
  {
   "cell_type": "code",
   "execution_count": 1,
   "metadata": {},
   "outputs": [
    {
     "name": "stdout",
     "output_type": "stream",
     "text": [
      "⚠️ Warning: Hypnogram file not found for SC4801G0-PSG.edf\n",
      "⚠️ Warning: Hypnogram file not found for SC4802G0-PSG.edf\n",
      "⚠️ Warning: Hypnogram file not found for SC4812G0-PSG.edf\n",
      "⚠️ Warning: Hypnogram file not found for ST7242J0-PSG.edf\n",
      "✅ Matched: SC4092E0-PSG.edf <-> SC4092EC-Hypnogram.edf\n",
      "✅ Matched: SC4101E0-PSG.edf <-> SC4101EC-Hypnogram.edf\n",
      "✅ Matched: SC4102E0-PSG.edf <-> SC4102EC-Hypnogram.edf\n",
      "✅ Matched: SC4111E0-PSG.edf <-> SC4111EC-Hypnogram.edf\n",
      "✅ Matched: SC4112E0-PSG.edf <-> SC4112EC-Hypnogram.edf\n",
      "✅ Matched: SC4121E0-PSG.edf <-> SC4121EC-Hypnogram.edf\n",
      "✅ Matched: SC4122E0-PSG.edf <-> SC4122EV-Hypnogram.edf\n",
      "✅ Matched: SC4131E0-PSG.edf <-> SC4131EC-Hypnogram.edf\n",
      "✅ Matched: SC4141E0-PSG.edf <-> SC4141EU-Hypnogram.edf\n",
      "✅ Matched: SC4142E0-PSG.edf <-> SC4142EU-Hypnogram.edf\n",
      "✅ Matched: SC4151E0-PSG.edf <-> SC4151EC-Hypnogram.edf\n",
      "✅ Matched: SC4152E0-PSG.edf <-> SC4152EC-Hypnogram.edf\n",
      "✅ Matched: SC4161E0-PSG.edf <-> SC4161EC-Hypnogram.edf\n",
      "✅ Matched: SC4162E0-PSG.edf <-> SC4162EC-Hypnogram.edf\n",
      "✅ Matched: SC4171E0-PSG.edf <-> SC4171EU-Hypnogram.edf\n",
      "✅ Matched: SC4172E0-PSG.edf <-> SC4172EC-Hypnogram.edf\n",
      "✅ Matched: SC4181E0-PSG.edf <-> SC4181EC-Hypnogram.edf\n",
      "✅ Matched: SC4182E0-PSG.edf <-> SC4182EC-Hypnogram.edf\n",
      "✅ Matched: SC4191E0-PSG.edf <-> SC4191EP-Hypnogram.edf\n",
      "✅ Matched: SC4192E0-PSG.edf <-> SC4192EV-Hypnogram.edf\n",
      "✅ Matched: SC4201E0-PSG.edf <-> SC4201EC-Hypnogram.edf\n",
      "✅ Matched: SC4202E0-PSG.edf <-> SC4202EC-Hypnogram.edf\n",
      "✅ Matched: SC4211E0-PSG.edf <-> SC4211EC-Hypnogram.edf\n",
      "✅ Matched: SC4212E0-PSG.edf <-> SC4212EC-Hypnogram.edf\n",
      "✅ Matched: SC4221E0-PSG.edf <-> SC4221EJ-Hypnogram.edf\n",
      "✅ Matched: SC4222E0-PSG.edf <-> SC4222EC-Hypnogram.edf\n",
      "✅ Matched: SC4231E0-PSG.edf <-> SC4231EJ-Hypnogram.edf\n",
      "✅ Matched: SC4232E0-PSG.edf <-> SC4232EV-Hypnogram.edf\n",
      "✅ Matched: SC4241E0-PSG.edf <-> SC4241EC-Hypnogram.edf\n",
      "✅ Matched: SC4242E0-PSG.edf <-> SC4242EA-Hypnogram.edf\n",
      "✅ Matched: SC4251E0-PSG.edf <-> SC4251EP-Hypnogram.edf\n",
      "✅ Matched: SC4252E0-PSG.edf <-> SC4252EU-Hypnogram.edf\n",
      "✅ Matched: SC4261F0-PSG.edf <-> SC4261FM-Hypnogram.edf\n",
      "✅ Matched: SC4262F0-PSG.edf <-> SC4262FC-Hypnogram.edf\n",
      "✅ Matched: SC4271F0-PSG.edf <-> SC4271FC-Hypnogram.edf\n",
      "✅ Matched: SC4272F0-PSG.edf <-> SC4272FM-Hypnogram.edf\n",
      "✅ Matched: SC4281G0-PSG.edf <-> SC4281GC-Hypnogram.edf\n",
      "✅ Matched: SC4282G0-PSG.edf <-> SC4282GC-Hypnogram.edf\n",
      "✅ Matched: SC4291G0-PSG.edf <-> SC4291GA-Hypnogram.edf\n",
      "✅ Matched: SC4292G0-PSG.edf <-> SC4292GC-Hypnogram.edf\n",
      "✅ Matched: SC4311E0-PSG.edf <-> SC4311EC-Hypnogram.edf\n",
      "✅ Matched: SC4312E0-PSG.edf <-> SC4312EM-Hypnogram.edf\n",
      "✅ Matched: SC4321E0-PSG.edf <-> SC4321EC-Hypnogram.edf\n",
      "✅ Matched: SC4331F0-PSG.edf <-> SC4331FV-Hypnogram.edf\n",
      "✅ Matched: SC4332F0-PSG.edf <-> SC4332FC-Hypnogram.edf\n",
      "✅ Matched: SC4341F0-PSG.edf <-> SC4341FA-Hypnogram.edf\n",
      "✅ Matched: SC4342F0-PSG.edf <-> SC4342FA-Hypnogram.edf\n",
      "✅ Matched: SC4351F0-PSG.edf <-> SC4351FA-Hypnogram.edf\n",
      "✅ Matched: SC4352F0-PSG.edf <-> SC4352FV-Hypnogram.edf\n",
      "✅ Matched: SC4362F0-PSG.edf <-> SC4362FC-Hypnogram.edf\n",
      "✅ Matched: SC4371F0-PSG.edf <-> SC4371FA-Hypnogram.edf\n",
      "✅ Matched: SC4372F0-PSG.edf <-> SC4372FC-Hypnogram.edf\n",
      "✅ Matched: SC4381F0-PSG.edf <-> SC4381FC-Hypnogram.edf\n",
      "✅ Matched: SC4382F0-PSG.edf <-> SC4382FW-Hypnogram.edf\n",
      "✅ Matched: SC4401E0-PSG.edf <-> SC4401EC-Hypnogram.edf\n",
      "✅ Matched: SC4402E0-PSG.edf <-> SC4402EW-Hypnogram.edf\n",
      "✅ Matched: SC4411E0-PSG.edf <-> SC4411EJ-Hypnogram.edf\n",
      "✅ Matched: SC4412E0-PSG.edf <-> SC4412EM-Hypnogram.edf\n",
      "✅ Matched: SC4421E0-PSG.edf <-> SC4421EA-Hypnogram.edf\n",
      "✅ Matched: SC4422E0-PSG.edf <-> SC4422EA-Hypnogram.edf\n",
      "✅ Matched: SC4431E0-PSG.edf <-> SC4431EM-Hypnogram.edf\n",
      "✅ Matched: SC4432E0-PSG.edf <-> SC4432EM-Hypnogram.edf\n",
      "✅ Matched: SC4441E0-PSG.edf <-> SC4441EC-Hypnogram.edf\n",
      "✅ Matched: SC4442E0-PSG.edf <-> SC4442EV-Hypnogram.edf\n",
      "✅ Matched: SC4451F0-PSG.edf <-> SC4451FY-Hypnogram.edf\n",
      "✅ Matched: SC4452F0-PSG.edf <-> SC4452FW-Hypnogram.edf\n",
      "✅ Matched: SC4461F0-PSG.edf <-> SC4461FA-Hypnogram.edf\n",
      "✅ Matched: SC4462F0-PSG.edf <-> SC4462FJ-Hypnogram.edf\n",
      "✅ Matched: SC4471F0-PSG.edf <-> SC4471FA-Hypnogram.edf\n",
      "✅ Matched: SC4472F0-PSG.edf <-> SC4472FA-Hypnogram.edf\n",
      "✅ Matched: SC4481F0-PSG.edf <-> SC4481FV-Hypnogram.edf\n",
      "✅ Matched: SC4482F0-PSG.edf <-> SC4482FJ-Hypnogram.edf\n",
      "✅ Matched: SC4491G0-PSG.edf <-> SC4491GJ-Hypnogram.edf\n",
      "✅ Matched: SC4492G0-PSG.edf <-> SC4492GJ-Hypnogram.edf\n",
      "✅ Matched: SC4501E0-PSG.edf <-> SC4501EW-Hypnogram.edf\n",
      "✅ Matched: SC4502E0-PSG.edf <-> SC4502EM-Hypnogram.edf\n",
      "✅ Matched: SC4511E0-PSG.edf <-> SC4511EJ-Hypnogram.edf\n",
      "✅ Matched: SC4512E0-PSG.edf <-> SC4512EW-Hypnogram.edf\n",
      "✅ Matched: SC4522E0-PSG.edf <-> SC4522EM-Hypnogram.edf\n",
      "✅ Matched: SC4531E0-PSG.edf <-> SC4531EM-Hypnogram.edf\n",
      "✅ Matched: SC4532E0-PSG.edf <-> SC4532EV-Hypnogram.edf\n",
      "✅ Matched: SC4541F0-PSG.edf <-> SC4541FA-Hypnogram.edf\n",
      "✅ Matched: SC4542F0-PSG.edf <-> SC4542FW-Hypnogram.edf\n",
      "✅ Matched: SC4551F0-PSG.edf <-> SC4551FC-Hypnogram.edf\n",
      "✅ Matched: SC4552F0-PSG.edf <-> SC4552FW-Hypnogram.edf\n",
      "✅ Matched: SC4561F0-PSG.edf <-> SC4561FJ-Hypnogram.edf\n",
      "✅ Matched: SC4562F0-PSG.edf <-> SC4562FJ-Hypnogram.edf\n",
      "✅ Matched: SC4571F0-PSG.edf <-> SC4571FV-Hypnogram.edf\n",
      "✅ Matched: SC4572F0-PSG.edf <-> SC4572FC-Hypnogram.edf\n",
      "✅ Matched: SC4581G0-PSG.edf <-> SC4581GM-Hypnogram.edf\n",
      "✅ Matched: SC4582G0-PSG.edf <-> SC4582GP-Hypnogram.edf\n",
      "✅ Matched: SC4591G0-PSG.edf <-> SC4591GY-Hypnogram.edf\n",
      "✅ Matched: SC4592G0-PSG.edf <-> SC4592GY-Hypnogram.edf\n",
      "✅ Matched: SC4601E0-PSG.edf <-> SC4601EC-Hypnogram.edf\n",
      "✅ Matched: SC4602E0-PSG.edf <-> SC4602EJ-Hypnogram.edf\n",
      "✅ Matched: SC4611E0-PSG.edf <-> SC4611EG-Hypnogram.edf\n",
      "✅ Matched: SC4612E0-PSG.edf <-> SC4612EA-Hypnogram.edf\n",
      "✅ Matched: SC4621E0-PSG.edf <-> SC4621EV-Hypnogram.edf\n",
      "✅ Matched: SC4622E0-PSG.edf <-> SC4622EJ-Hypnogram.edf\n",
      "✅ Matched: SC4631E0-PSG.edf <-> SC4631EM-Hypnogram.edf\n",
      "✅ Matched: SC4632E0-PSG.edf <-> SC4632EA-Hypnogram.edf\n",
      "✅ Matched: SC4641E0-PSG.edf <-> SC4641EP-Hypnogram.edf\n",
      "✅ Matched: SC4651E0-PSG.edf <-> SC4651EP-Hypnogram.edf\n",
      "✅ Matched: SC4652E0-PSG.edf <-> SC4652EG-Hypnogram.edf\n",
      "✅ Matched: SC4661E0-PSG.edf <-> SC4661EJ-Hypnogram.edf\n",
      "✅ Matched: SC4662E0-PSG.edf <-> SC4662EJ-Hypnogram.edf\n",
      "✅ Matched: SC4671G0-PSG.edf <-> SC4671GJ-Hypnogram.edf\n",
      "✅ Matched: SC4672G0-PSG.edf <-> SC4672GV-Hypnogram.edf\n",
      "✅ Matched: SC4701E0-PSG.edf <-> SC4701EC-Hypnogram.edf\n",
      "✅ Matched: SC4702E0-PSG.edf <-> SC4702EA-Hypnogram.edf\n",
      "✅ Matched: SC4711E0-PSG.edf <-> SC4711EC-Hypnogram.edf\n",
      "✅ Matched: SC4712E0-PSG.edf <-> SC4712EA-Hypnogram.edf\n",
      "✅ Matched: SC4721E0-PSG.edf <-> SC4721EC-Hypnogram.edf\n",
      "✅ Matched: SC4722E0-PSG.edf <-> SC4722EM-Hypnogram.edf\n",
      "✅ Matched: SC4731E0-PSG.edf <-> SC4731EM-Hypnogram.edf\n",
      "✅ Matched: SC4732E0-PSG.edf <-> SC4732EJ-Hypnogram.edf\n",
      "✅ Matched: SC4751E0-PSG.edf <-> SC4751EC-Hypnogram.edf\n",
      "✅ Matched: SC4811G0-PSG.edf <-> SC4811GG-Hypnogram.edf\n",
      "✅ Matched: SC4821G0-PSG.edf <-> SC4821GC-Hypnogram.edf\n",
      "✅ Matched: SC4822G0-PSG.edf <-> SC4822GC-Hypnogram.edf\n",
      "✅ Matched: ST7222J0-PSG.edf <-> ST7222JA-Hypnogram.edf\n",
      "✅ Matched: ST7241J0-PSG.edf <-> ST7241JO-Hypnogram.edf\n"
     ]
    }
   ],
   "source": [
    "import os\n",
    "\n",
    "edf_folder = r\"E:\\sleep_full_dataset\"  # Change this to the correct folder path\n",
    "\n",
    "# Get all files in the folder\n",
    "all_files = os.listdir(edf_folder)\n",
    "\n",
    "# Extract PSG and Hypnogram file lists\n",
    "psg_files = [f for f in all_files if \"-PSG.edf\" in f]\n",
    "hypnogram_files = [f for f in all_files if \"-Hypnogram.edf\" in f]\n",
    "\n",
    "# Extract subject IDs using only the first 7 characters (e.g., \"SC4022\")\n",
    "psg_subjects = {f[:7]: f for f in psg_files}\n",
    "hypnogram_subjects = {f[:7]: f for f in hypnogram_files}\n",
    "\n",
    "# Find matching PSG & Hypnogram pairs\n",
    "matched_files = []\n",
    "for subject_id, psg_file in psg_subjects.items():\n",
    "    if subject_id in hypnogram_subjects:\n",
    "        matched_files.append((psg_file, hypnogram_subjects[subject_id]))\n",
    "    else:\n",
    "        print(f\"⚠️ Warning: Hypnogram file not found for {psg_file}\")\n",
    "\n",
    "# Print matched PSG-Hypnogram pairs\n",
    "for psg, hypnogram in matched_files:\n",
    "    print(f\"✅ Matched: {psg} <-> {hypnogram}\")"
   ]
  },
  {
   "cell_type": "markdown",
   "metadata": {},
   "source": [
    "processing into 3o sec window, and mounting the hypnogram files"
   ]
  },
  {
   "cell_type": "code",
   "execution_count": 2,
   "metadata": {},
   "outputs": [
    {
     "name": "stderr",
     "output_type": "stream",
     "text": [
      "Processing EEG Data:   1%|          | 1/122 [00:02<04:20,  2.15s/it]"
     ]
    },
    {
     "name": "stdout",
     "output_type": "stream",
     "text": [
      "Processed and saved: SC4092E0-PSG.edf\n"
     ]
    },
    {
     "name": "stderr",
     "output_type": "stream",
     "text": [
      "Processing EEG Data:   2%|▏         | 2/122 [00:08<09:01,  4.51s/it]"
     ]
    },
    {
     "name": "stdout",
     "output_type": "stream",
     "text": [
      "Processed and saved: SC4101E0-PSG.edf\n"
     ]
    },
    {
     "name": "stderr",
     "output_type": "stream",
     "text": [
      "Processing EEG Data:   2%|▏         | 3/122 [00:13<09:51,  4.97s/it]"
     ]
    },
    {
     "name": "stdout",
     "output_type": "stream",
     "text": [
      "Processed and saved: SC4102E0-PSG.edf\n"
     ]
    },
    {
     "name": "stderr",
     "output_type": "stream",
     "text": [
      "Processing EEG Data:   3%|▎         | 4/122 [00:15<07:28,  3.80s/it]"
     ]
    },
    {
     "name": "stdout",
     "output_type": "stream",
     "text": [
      "Processed and saved: SC4111E0-PSG.edf\n"
     ]
    },
    {
     "name": "stderr",
     "output_type": "stream",
     "text": [
      "Processing EEG Data:   4%|▍         | 5/122 [00:18<06:41,  3.43s/it]"
     ]
    },
    {
     "name": "stdout",
     "output_type": "stream",
     "text": [
      "Processed and saved: SC4112E0-PSG.edf\n"
     ]
    },
    {
     "name": "stderr",
     "output_type": "stream",
     "text": [
      "Processing EEG Data:   5%|▍         | 6/122 [00:20<05:45,  2.98s/it]"
     ]
    },
    {
     "name": "stdout",
     "output_type": "stream",
     "text": [
      "Processed and saved: SC4121E0-PSG.edf\n"
     ]
    },
    {
     "name": "stderr",
     "output_type": "stream",
     "text": [
      "Processing EEG Data:   6%|▌         | 7/122 [00:22<05:03,  2.64s/it]"
     ]
    },
    {
     "name": "stdout",
     "output_type": "stream",
     "text": [
      "Processed and saved: SC4122E0-PSG.edf\n"
     ]
    },
    {
     "name": "stderr",
     "output_type": "stream",
     "text": [
      "Processing EEG Data:   7%|▋         | 8/122 [00:25<04:50,  2.55s/it]"
     ]
    },
    {
     "name": "stdout",
     "output_type": "stream",
     "text": [
      "Processed and saved: SC4131E0-PSG.edf\n"
     ]
    },
    {
     "name": "stderr",
     "output_type": "stream",
     "text": [
      "Processing EEG Data:   7%|▋         | 9/122 [00:27<04:30,  2.40s/it]"
     ]
    },
    {
     "name": "stdout",
     "output_type": "stream",
     "text": [
      "Processed and saved: SC4141E0-PSG.edf\n"
     ]
    },
    {
     "name": "stderr",
     "output_type": "stream",
     "text": [
      "Processing EEG Data:   8%|▊         | 10/122 [00:29<04:16,  2.29s/it]"
     ]
    },
    {
     "name": "stdout",
     "output_type": "stream",
     "text": [
      "Processed and saved: SC4142E0-PSG.edf\n"
     ]
    },
    {
     "name": "stderr",
     "output_type": "stream",
     "text": [
      "Processing EEG Data:   9%|▉         | 11/122 [00:31<04:03,  2.19s/it]"
     ]
    },
    {
     "name": "stdout",
     "output_type": "stream",
     "text": [
      "Processed and saved: SC4151E0-PSG.edf\n"
     ]
    },
    {
     "name": "stderr",
     "output_type": "stream",
     "text": [
      "Processing EEG Data:  10%|▉         | 12/122 [00:33<03:59,  2.18s/it]"
     ]
    },
    {
     "name": "stdout",
     "output_type": "stream",
     "text": [
      "Processed and saved: SC4152E0-PSG.edf\n"
     ]
    },
    {
     "name": "stderr",
     "output_type": "stream",
     "text": [
      "Processing EEG Data:  11%|█         | 13/122 [00:35<03:55,  2.16s/it]"
     ]
    },
    {
     "name": "stdout",
     "output_type": "stream",
     "text": [
      "Processed and saved: SC4161E0-PSG.edf\n"
     ]
    },
    {
     "name": "stderr",
     "output_type": "stream",
     "text": [
      "Processing EEG Data:  11%|█▏        | 14/122 [00:37<03:57,  2.20s/it]"
     ]
    },
    {
     "name": "stdout",
     "output_type": "stream",
     "text": [
      "Processed and saved: SC4162E0-PSG.edf\n"
     ]
    },
    {
     "name": "stderr",
     "output_type": "stream",
     "text": [
      "Processing EEG Data:  12%|█▏        | 15/122 [00:40<04:21,  2.44s/it]"
     ]
    },
    {
     "name": "stdout",
     "output_type": "stream",
     "text": [
      "Processed and saved: SC4171E0-PSG.edf\n"
     ]
    },
    {
     "name": "stderr",
     "output_type": "stream",
     "text": [
      "Processing EEG Data:  13%|█▎        | 16/122 [00:42<04:08,  2.35s/it]"
     ]
    },
    {
     "name": "stdout",
     "output_type": "stream",
     "text": [
      "Processed and saved: SC4172E0-PSG.edf\n"
     ]
    },
    {
     "name": "stderr",
     "output_type": "stream",
     "text": [
      "Processing EEG Data:  14%|█▍        | 17/122 [00:44<03:57,  2.26s/it]"
     ]
    },
    {
     "name": "stdout",
     "output_type": "stream",
     "text": [
      "Processed and saved: SC4181E0-PSG.edf\n"
     ]
    },
    {
     "name": "stderr",
     "output_type": "stream",
     "text": [
      "Processing EEG Data:  15%|█▍        | 18/122 [00:46<03:51,  2.22s/it]"
     ]
    },
    {
     "name": "stdout",
     "output_type": "stream",
     "text": [
      "Processed and saved: SC4182E0-PSG.edf\n"
     ]
    },
    {
     "name": "stderr",
     "output_type": "stream",
     "text": [
      "Processing EEG Data:  16%|█▌        | 19/122 [00:49<04:13,  2.46s/it]"
     ]
    },
    {
     "name": "stdout",
     "output_type": "stream",
     "text": [
      "Processed and saved: SC4191E0-PSG.edf\n"
     ]
    },
    {
     "name": "stderr",
     "output_type": "stream",
     "text": [
      "Processing EEG Data:  16%|█▋        | 20/122 [00:51<03:56,  2.32s/it]"
     ]
    },
    {
     "name": "stdout",
     "output_type": "stream",
     "text": [
      "Processed and saved: SC4192E0-PSG.edf\n"
     ]
    },
    {
     "name": "stderr",
     "output_type": "stream",
     "text": [
      "Processing EEG Data:  17%|█▋        | 21/122 [00:54<03:52,  2.31s/it]"
     ]
    },
    {
     "name": "stdout",
     "output_type": "stream",
     "text": [
      "Processed and saved: SC4201E0-PSG.edf\n"
     ]
    },
    {
     "name": "stderr",
     "output_type": "stream",
     "text": [
      "Processing EEG Data:  18%|█▊        | 22/122 [00:56<03:43,  2.23s/it]"
     ]
    },
    {
     "name": "stdout",
     "output_type": "stream",
     "text": [
      "Processed and saved: SC4202E0-PSG.edf\n"
     ]
    },
    {
     "name": "stderr",
     "output_type": "stream",
     "text": [
      "Processing EEG Data:  19%|█▉        | 23/122 [00:58<03:38,  2.21s/it]"
     ]
    },
    {
     "name": "stdout",
     "output_type": "stream",
     "text": [
      "Processed and saved: SC4211E0-PSG.edf\n"
     ]
    },
    {
     "name": "stderr",
     "output_type": "stream",
     "text": [
      "Processing EEG Data:  20%|█▉        | 24/122 [01:01<03:55,  2.40s/it]"
     ]
    },
    {
     "name": "stdout",
     "output_type": "stream",
     "text": [
      "Processed and saved: SC4212E0-PSG.edf\n"
     ]
    },
    {
     "name": "stderr",
     "output_type": "stream",
     "text": [
      "Processing EEG Data:  20%|██        | 25/122 [01:03<03:51,  2.38s/it]"
     ]
    },
    {
     "name": "stdout",
     "output_type": "stream",
     "text": [
      "Processed and saved: SC4221E0-PSG.edf\n"
     ]
    },
    {
     "name": "stderr",
     "output_type": "stream",
     "text": [
      "Processing EEG Data:  21%|██▏       | 26/122 [01:05<03:37,  2.27s/it]"
     ]
    },
    {
     "name": "stdout",
     "output_type": "stream",
     "text": [
      "Processed and saved: SC4222E0-PSG.edf\n"
     ]
    },
    {
     "name": "stderr",
     "output_type": "stream",
     "text": [
      "Processing EEG Data:  22%|██▏       | 27/122 [01:08<03:54,  2.47s/it]"
     ]
    },
    {
     "name": "stdout",
     "output_type": "stream",
     "text": [
      "Processed and saved: SC4231E0-PSG.edf\n"
     ]
    },
    {
     "name": "stderr",
     "output_type": "stream",
     "text": [
      "Processing EEG Data:  23%|██▎       | 28/122 [01:10<03:38,  2.33s/it]"
     ]
    },
    {
     "name": "stdout",
     "output_type": "stream",
     "text": [
      "Processed and saved: SC4232E0-PSG.edf\n"
     ]
    },
    {
     "name": "stderr",
     "output_type": "stream",
     "text": [
      "Processing EEG Data:  24%|██▍       | 29/122 [01:12<03:27,  2.23s/it]"
     ]
    },
    {
     "name": "stdout",
     "output_type": "stream",
     "text": [
      "Processed and saved: SC4241E0-PSG.edf\n"
     ]
    },
    {
     "name": "stderr",
     "output_type": "stream",
     "text": [
      "Processing EEG Data:  25%|██▍       | 30/122 [01:14<03:20,  2.18s/it]"
     ]
    },
    {
     "name": "stdout",
     "output_type": "stream",
     "text": [
      "Processed and saved: SC4242E0-PSG.edf\n"
     ]
    },
    {
     "name": "stderr",
     "output_type": "stream",
     "text": [
      "Processing EEG Data:  25%|██▌       | 31/122 [01:16<03:19,  2.20s/it]"
     ]
    },
    {
     "name": "stdout",
     "output_type": "stream",
     "text": [
      "Processed and saved: SC4251E0-PSG.edf\n"
     ]
    },
    {
     "name": "stderr",
     "output_type": "stream",
     "text": [
      "Processing EEG Data:  26%|██▌       | 32/122 [01:19<03:31,  2.35s/it]"
     ]
    },
    {
     "name": "stdout",
     "output_type": "stream",
     "text": [
      "Processed and saved: SC4252E0-PSG.edf\n"
     ]
    },
    {
     "name": "stderr",
     "output_type": "stream",
     "text": [
      "Processing EEG Data:  27%|██▋       | 33/122 [01:21<03:21,  2.26s/it]"
     ]
    },
    {
     "name": "stdout",
     "output_type": "stream",
     "text": [
      "Processed and saved: SC4261F0-PSG.edf\n"
     ]
    },
    {
     "name": "stderr",
     "output_type": "stream",
     "text": [
      "Processing EEG Data:  28%|██▊       | 34/122 [01:23<03:12,  2.18s/it]"
     ]
    },
    {
     "name": "stdout",
     "output_type": "stream",
     "text": [
      "Processed and saved: SC4262F0-PSG.edf\n"
     ]
    },
    {
     "name": "stderr",
     "output_type": "stream",
     "text": [
      "Processing EEG Data:  29%|██▊       | 35/122 [01:25<03:00,  2.07s/it]"
     ]
    },
    {
     "name": "stdout",
     "output_type": "stream",
     "text": [
      "Processed and saved: SC4271F0-PSG.edf\n"
     ]
    },
    {
     "name": "stderr",
     "output_type": "stream",
     "text": [
      "Processing EEG Data:  30%|██▉       | 36/122 [01:27<02:59,  2.09s/it]"
     ]
    },
    {
     "name": "stdout",
     "output_type": "stream",
     "text": [
      "Processed and saved: SC4272F0-PSG.edf\n"
     ]
    },
    {
     "name": "stderr",
     "output_type": "stream",
     "text": [
      "Processing EEG Data:  30%|███       | 37/122 [01:29<02:56,  2.08s/it]"
     ]
    },
    {
     "name": "stdout",
     "output_type": "stream",
     "text": [
      "Processed and saved: SC4281G0-PSG.edf\n"
     ]
    },
    {
     "name": "stderr",
     "output_type": "stream",
     "text": [
      "Processing EEG Data:  31%|███       | 38/122 [01:32<03:08,  2.24s/it]"
     ]
    },
    {
     "name": "stdout",
     "output_type": "stream",
     "text": [
      "Processed and saved: SC4282G0-PSG.edf\n"
     ]
    },
    {
     "name": "stderr",
     "output_type": "stream",
     "text": [
      "Processing EEG Data:  32%|███▏      | 39/122 [01:34<03:01,  2.19s/it]"
     ]
    },
    {
     "name": "stdout",
     "output_type": "stream",
     "text": [
      "Processed and saved: SC4291G0-PSG.edf\n"
     ]
    },
    {
     "name": "stderr",
     "output_type": "stream",
     "text": [
      "Processing EEG Data:  33%|███▎      | 40/122 [01:36<02:57,  2.16s/it]"
     ]
    },
    {
     "name": "stdout",
     "output_type": "stream",
     "text": [
      "Processed and saved: SC4292G0-PSG.edf\n"
     ]
    },
    {
     "name": "stderr",
     "output_type": "stream",
     "text": [
      "Processing EEG Data:  34%|███▎      | 41/122 [01:38<02:51,  2.11s/it]"
     ]
    },
    {
     "name": "stdout",
     "output_type": "stream",
     "text": [
      "Processed and saved: SC4311E0-PSG.edf\n"
     ]
    },
    {
     "name": "stderr",
     "output_type": "stream",
     "text": [
      "Processing EEG Data:  34%|███▍      | 42/122 [01:41<03:12,  2.40s/it]"
     ]
    },
    {
     "name": "stdout",
     "output_type": "stream",
     "text": [
      "Processed and saved: SC4312E0-PSG.edf\n"
     ]
    },
    {
     "name": "stderr",
     "output_type": "stream",
     "text": [
      "Processing EEG Data:  35%|███▌      | 43/122 [01:43<03:04,  2.33s/it]"
     ]
    },
    {
     "name": "stdout",
     "output_type": "stream",
     "text": [
      "Processed and saved: SC4321E0-PSG.edf\n"
     ]
    },
    {
     "name": "stderr",
     "output_type": "stream",
     "text": [
      "Processing EEG Data:  36%|███▌      | 44/122 [01:46<03:12,  2.47s/it]"
     ]
    },
    {
     "name": "stdout",
     "output_type": "stream",
     "text": [
      "Processed and saved: SC4331F0-PSG.edf\n"
     ]
    },
    {
     "name": "stderr",
     "output_type": "stream",
     "text": [
      "Processing EEG Data:  37%|███▋      | 45/122 [01:48<03:00,  2.35s/it]"
     ]
    },
    {
     "name": "stdout",
     "output_type": "stream",
     "text": [
      "Processed and saved: SC4332F0-PSG.edf\n"
     ]
    },
    {
     "name": "stderr",
     "output_type": "stream",
     "text": [
      "Processing EEG Data:  38%|███▊      | 46/122 [01:50<02:52,  2.27s/it]"
     ]
    },
    {
     "name": "stdout",
     "output_type": "stream",
     "text": [
      "Processed and saved: SC4341F0-PSG.edf\n"
     ]
    },
    {
     "name": "stderr",
     "output_type": "stream",
     "text": [
      "Processing EEG Data:  39%|███▊      | 47/122 [01:52<02:45,  2.21s/it]"
     ]
    },
    {
     "name": "stdout",
     "output_type": "stream",
     "text": [
      "Processed and saved: SC4342F0-PSG.edf\n"
     ]
    },
    {
     "name": "stderr",
     "output_type": "stream",
     "text": [
      "Processing EEG Data:  39%|███▉      | 48/122 [01:54<02:38,  2.15s/it]"
     ]
    },
    {
     "name": "stdout",
     "output_type": "stream",
     "text": [
      "Processed and saved: SC4351F0-PSG.edf\n"
     ]
    },
    {
     "name": "stderr",
     "output_type": "stream",
     "text": [
      "Processing EEG Data:  40%|████      | 49/122 [01:56<02:31,  2.08s/it]"
     ]
    },
    {
     "name": "stdout",
     "output_type": "stream",
     "text": [
      "Processed and saved: SC4352F0-PSG.edf\n"
     ]
    },
    {
     "name": "stderr",
     "output_type": "stream",
     "text": [
      "Processing EEG Data:  41%|████      | 50/122 [01:58<02:22,  1.98s/it]"
     ]
    },
    {
     "name": "stdout",
     "output_type": "stream",
     "text": [
      "Processed and saved: SC4362F0-PSG.edf\n"
     ]
    },
    {
     "name": "stderr",
     "output_type": "stream",
     "text": [
      "Processing EEG Data:  42%|████▏     | 51/122 [02:00<02:25,  2.05s/it]"
     ]
    },
    {
     "name": "stdout",
     "output_type": "stream",
     "text": [
      "Processed and saved: SC4371F0-PSG.edf\n"
     ]
    },
    {
     "name": "stderr",
     "output_type": "stream",
     "text": [
      "Processing EEG Data:  43%|████▎     | 52/122 [02:03<02:40,  2.30s/it]"
     ]
    },
    {
     "name": "stdout",
     "output_type": "stream",
     "text": [
      "Processed and saved: SC4372F0-PSG.edf\n"
     ]
    },
    {
     "name": "stderr",
     "output_type": "stream",
     "text": [
      "Processing EEG Data:  43%|████▎     | 53/122 [02:05<02:33,  2.22s/it]"
     ]
    },
    {
     "name": "stdout",
     "output_type": "stream",
     "text": [
      "Processed and saved: SC4381F0-PSG.edf\n"
     ]
    },
    {
     "name": "stderr",
     "output_type": "stream",
     "text": [
      "Processing EEG Data:  44%|████▍     | 54/122 [02:07<02:27,  2.17s/it]"
     ]
    },
    {
     "name": "stdout",
     "output_type": "stream",
     "text": [
      "Processed and saved: SC4382F0-PSG.edf\n"
     ]
    },
    {
     "name": "stderr",
     "output_type": "stream",
     "text": [
      "Processing EEG Data:  45%|████▌     | 55/122 [02:09<02:21,  2.11s/it]"
     ]
    },
    {
     "name": "stdout",
     "output_type": "stream",
     "text": [
      "Processed and saved: SC4401E0-PSG.edf\n"
     ]
    },
    {
     "name": "stderr",
     "output_type": "stream",
     "text": [
      "Processing EEG Data:  46%|████▌     | 56/122 [02:12<02:28,  2.25s/it]"
     ]
    },
    {
     "name": "stdout",
     "output_type": "stream",
     "text": [
      "Processed and saved: SC4402E0-PSG.edf\n"
     ]
    },
    {
     "name": "stderr",
     "output_type": "stream",
     "text": [
      "Processing EEG Data:  47%|████▋     | 57/122 [02:14<02:22,  2.19s/it]"
     ]
    },
    {
     "name": "stdout",
     "output_type": "stream",
     "text": [
      "Processed and saved: SC4411E0-PSG.edf\n"
     ]
    },
    {
     "name": "stderr",
     "output_type": "stream",
     "text": [
      "Processing EEG Data:  48%|████▊     | 58/122 [02:16<02:19,  2.19s/it]"
     ]
    },
    {
     "name": "stdout",
     "output_type": "stream",
     "text": [
      "Processed and saved: SC4412E0-PSG.edf\n"
     ]
    },
    {
     "name": "stderr",
     "output_type": "stream",
     "text": [
      "Processing EEG Data:  48%|████▊     | 59/122 [02:18<02:18,  2.20s/it]"
     ]
    },
    {
     "name": "stdout",
     "output_type": "stream",
     "text": [
      "Processed and saved: SC4421E0-PSG.edf\n"
     ]
    },
    {
     "name": "stderr",
     "output_type": "stream",
     "text": [
      "Processing EEG Data:  49%|████▉     | 60/122 [02:20<02:12,  2.14s/it]"
     ]
    },
    {
     "name": "stdout",
     "output_type": "stream",
     "text": [
      "Processed and saved: SC4422E0-PSG.edf\n"
     ]
    },
    {
     "name": "stderr",
     "output_type": "stream",
     "text": [
      "Processing EEG Data:  50%|█████     | 61/122 [02:22<02:10,  2.14s/it]"
     ]
    },
    {
     "name": "stdout",
     "output_type": "stream",
     "text": [
      "Processed and saved: SC4431E0-PSG.edf\n"
     ]
    },
    {
     "name": "stderr",
     "output_type": "stream",
     "text": [
      "Processing EEG Data:  51%|█████     | 62/122 [02:24<02:08,  2.14s/it]"
     ]
    },
    {
     "name": "stdout",
     "output_type": "stream",
     "text": [
      "Processed and saved: SC4432E0-PSG.edf\n"
     ]
    },
    {
     "name": "stderr",
     "output_type": "stream",
     "text": [
      "Processing EEG Data:  52%|█████▏    | 63/122 [02:27<02:18,  2.36s/it]"
     ]
    },
    {
     "name": "stdout",
     "output_type": "stream",
     "text": [
      "Processed and saved: SC4441E0-PSG.edf\n"
     ]
    },
    {
     "name": "stderr",
     "output_type": "stream",
     "text": [
      "Processing EEG Data:  52%|█████▏    | 64/122 [02:30<02:18,  2.39s/it]"
     ]
    },
    {
     "name": "stdout",
     "output_type": "stream",
     "text": [
      "Processed and saved: SC4442E0-PSG.edf\n"
     ]
    },
    {
     "name": "stderr",
     "output_type": "stream",
     "text": [
      "Processing EEG Data:  53%|█████▎    | 65/122 [02:32<02:11,  2.31s/it]"
     ]
    },
    {
     "name": "stdout",
     "output_type": "stream",
     "text": [
      "Processed and saved: SC4451F0-PSG.edf\n"
     ]
    },
    {
     "name": "stderr",
     "output_type": "stream",
     "text": [
      "Processing EEG Data:  54%|█████▍    | 66/122 [02:34<02:07,  2.27s/it]"
     ]
    },
    {
     "name": "stdout",
     "output_type": "stream",
     "text": [
      "Processed and saved: SC4452F0-PSG.edf\n"
     ]
    },
    {
     "name": "stderr",
     "output_type": "stream",
     "text": [
      "Processing EEG Data:  55%|█████▍    | 67/122 [02:36<02:01,  2.20s/it]"
     ]
    },
    {
     "name": "stdout",
     "output_type": "stream",
     "text": [
      "Processed and saved: SC4461F0-PSG.edf\n"
     ]
    },
    {
     "name": "stderr",
     "output_type": "stream",
     "text": [
      "Processing EEG Data:  56%|█████▌    | 68/122 [02:38<01:58,  2.19s/it]"
     ]
    },
    {
     "name": "stdout",
     "output_type": "stream",
     "text": [
      "Processed and saved: SC4462F0-PSG.edf\n"
     ]
    },
    {
     "name": "stderr",
     "output_type": "stream",
     "text": [
      "Processing EEG Data:  57%|█████▋    | 69/122 [02:40<01:53,  2.15s/it]"
     ]
    },
    {
     "name": "stdout",
     "output_type": "stream",
     "text": [
      "Processed and saved: SC4471F0-PSG.edf\n"
     ]
    },
    {
     "name": "stderr",
     "output_type": "stream",
     "text": [
      "Processing EEG Data:  57%|█████▋    | 70/122 [02:43<02:01,  2.35s/it]"
     ]
    },
    {
     "name": "stdout",
     "output_type": "stream",
     "text": [
      "Processed and saved: SC4472F0-PSG.edf\n"
     ]
    },
    {
     "name": "stderr",
     "output_type": "stream",
     "text": [
      "Processing EEG Data:  58%|█████▊    | 71/122 [02:46<02:08,  2.51s/it]"
     ]
    },
    {
     "name": "stdout",
     "output_type": "stream",
     "text": [
      "Processed and saved: SC4481F0-PSG.edf\n"
     ]
    },
    {
     "name": "stderr",
     "output_type": "stream",
     "text": [
      "Processing EEG Data:  59%|█████▉    | 72/122 [02:48<02:04,  2.49s/it]"
     ]
    },
    {
     "name": "stdout",
     "output_type": "stream",
     "text": [
      "Processed and saved: SC4482F0-PSG.edf\n"
     ]
    },
    {
     "name": "stderr",
     "output_type": "stream",
     "text": [
      "Processing EEG Data:  60%|█████▉    | 73/122 [02:51<02:02,  2.50s/it]"
     ]
    },
    {
     "name": "stdout",
     "output_type": "stream",
     "text": [
      "Processed and saved: SC4491G0-PSG.edf\n"
     ]
    },
    {
     "name": "stderr",
     "output_type": "stream",
     "text": [
      "Processing EEG Data:  61%|██████    | 74/122 [02:53<01:48,  2.25s/it]"
     ]
    },
    {
     "name": "stdout",
     "output_type": "stream",
     "text": [
      "Processed and saved: SC4492G0-PSG.edf\n"
     ]
    },
    {
     "name": "stderr",
     "output_type": "stream",
     "text": [
      "Processing EEG Data:  61%|██████▏   | 75/122 [02:55<01:45,  2.24s/it]"
     ]
    },
    {
     "name": "stdout",
     "output_type": "stream",
     "text": [
      "Processed and saved: SC4501E0-PSG.edf\n"
     ]
    },
    {
     "name": "stderr",
     "output_type": "stream",
     "text": [
      "Processing EEG Data:  62%|██████▏   | 76/122 [02:57<01:43,  2.26s/it]"
     ]
    },
    {
     "name": "stdout",
     "output_type": "stream",
     "text": [
      "Processed and saved: SC4502E0-PSG.edf\n"
     ]
    },
    {
     "name": "stderr",
     "output_type": "stream",
     "text": [
      "Processing EEG Data:  63%|██████▎   | 77/122 [02:59<01:39,  2.20s/it]"
     ]
    },
    {
     "name": "stdout",
     "output_type": "stream",
     "text": [
      "Processed and saved: SC4511E0-PSG.edf\n"
     ]
    },
    {
     "name": "stderr",
     "output_type": "stream",
     "text": [
      "Processing EEG Data:  64%|██████▍   | 78/122 [03:01<01:38,  2.25s/it]"
     ]
    },
    {
     "name": "stdout",
     "output_type": "stream",
     "text": [
      "Processed and saved: SC4512E0-PSG.edf\n"
     ]
    },
    {
     "name": "stderr",
     "output_type": "stream",
     "text": [
      "Processing EEG Data:  65%|██████▍   | 79/122 [03:04<01:38,  2.29s/it]"
     ]
    },
    {
     "name": "stdout",
     "output_type": "stream",
     "text": [
      "Processed and saved: SC4522E0-PSG.edf\n"
     ]
    },
    {
     "name": "stderr",
     "output_type": "stream",
     "text": [
      "Processing EEG Data:  66%|██████▌   | 80/122 [03:06<01:33,  2.23s/it]"
     ]
    },
    {
     "name": "stdout",
     "output_type": "stream",
     "text": [
      "Processed and saved: SC4531E0-PSG.edf\n"
     ]
    },
    {
     "name": "stderr",
     "output_type": "stream",
     "text": [
      "Processing EEG Data:  66%|██████▋   | 81/122 [03:09<01:35,  2.33s/it]"
     ]
    },
    {
     "name": "stdout",
     "output_type": "stream",
     "text": [
      "Processed and saved: SC4532E0-PSG.edf\n"
     ]
    },
    {
     "name": "stderr",
     "output_type": "stream",
     "text": [
      "Processing EEG Data:  67%|██████▋   | 82/122 [03:11<01:30,  2.25s/it]"
     ]
    },
    {
     "name": "stdout",
     "output_type": "stream",
     "text": [
      "Processed and saved: SC4541F0-PSG.edf\n"
     ]
    },
    {
     "name": "stderr",
     "output_type": "stream",
     "text": [
      "Processing EEG Data:  68%|██████▊   | 83/122 [03:13<01:31,  2.34s/it]"
     ]
    },
    {
     "name": "stdout",
     "output_type": "stream",
     "text": [
      "Processed and saved: SC4542F0-PSG.edf\n"
     ]
    },
    {
     "name": "stderr",
     "output_type": "stream",
     "text": [
      "Processing EEG Data:  69%|██████▉   | 84/122 [03:15<01:27,  2.29s/it]"
     ]
    },
    {
     "name": "stdout",
     "output_type": "stream",
     "text": [
      "Processed and saved: SC4551F0-PSG.edf\n"
     ]
    },
    {
     "name": "stderr",
     "output_type": "stream",
     "text": [
      "Processing EEG Data:  70%|██████▉   | 85/122 [03:17<01:23,  2.25s/it]"
     ]
    },
    {
     "name": "stdout",
     "output_type": "stream",
     "text": [
      "Processed and saved: SC4552F0-PSG.edf\n"
     ]
    },
    {
     "name": "stderr",
     "output_type": "stream",
     "text": [
      "Processing EEG Data:  70%|███████   | 86/122 [03:20<01:18,  2.19s/it]"
     ]
    },
    {
     "name": "stdout",
     "output_type": "stream",
     "text": [
      "Processed and saved: SC4561F0-PSG.edf\n"
     ]
    },
    {
     "name": "stderr",
     "output_type": "stream",
     "text": [
      "Processing EEG Data:  71%|███████▏  | 87/122 [03:22<01:16,  2.17s/it]"
     ]
    },
    {
     "name": "stdout",
     "output_type": "stream",
     "text": [
      "Processed and saved: SC4562F0-PSG.edf\n"
     ]
    },
    {
     "name": "stderr",
     "output_type": "stream",
     "text": [
      "Processing EEG Data:  72%|███████▏  | 88/122 [03:24<01:20,  2.36s/it]"
     ]
    },
    {
     "name": "stdout",
     "output_type": "stream",
     "text": [
      "Processed and saved: SC4571F0-PSG.edf\n"
     ]
    },
    {
     "name": "stderr",
     "output_type": "stream",
     "text": [
      "Processing EEG Data:  73%|███████▎  | 89/122 [03:27<01:23,  2.54s/it]"
     ]
    },
    {
     "name": "stdout",
     "output_type": "stream",
     "text": [
      "Processed and saved: SC4572F0-PSG.edf\n"
     ]
    },
    {
     "name": "stderr",
     "output_type": "stream",
     "text": [
      "Processing EEG Data:  74%|███████▍  | 90/122 [03:30<01:24,  2.65s/it]"
     ]
    },
    {
     "name": "stdout",
     "output_type": "stream",
     "text": [
      "Processed and saved: SC4581G0-PSG.edf\n"
     ]
    },
    {
     "name": "stderr",
     "output_type": "stream",
     "text": [
      "Processing EEG Data:  75%|███████▍  | 91/122 [03:32<01:16,  2.46s/it]"
     ]
    },
    {
     "name": "stdout",
     "output_type": "stream",
     "text": [
      "Processed and saved: SC4582G0-PSG.edf\n"
     ]
    },
    {
     "name": "stderr",
     "output_type": "stream",
     "text": [
      "Processing EEG Data:  75%|███████▌  | 92/122 [03:35<01:11,  2.39s/it]"
     ]
    },
    {
     "name": "stdout",
     "output_type": "stream",
     "text": [
      "Processed and saved: SC4591G0-PSG.edf\n"
     ]
    },
    {
     "name": "stderr",
     "output_type": "stream",
     "text": [
      "Processing EEG Data:  76%|███████▌  | 93/122 [03:36<01:02,  2.15s/it]"
     ]
    },
    {
     "name": "stdout",
     "output_type": "stream",
     "text": [
      "Processed and saved: SC4592G0-PSG.edf\n"
     ]
    },
    {
     "name": "stderr",
     "output_type": "stream",
     "text": [
      "Processing EEG Data:  77%|███████▋  | 94/122 [03:38<00:59,  2.14s/it]"
     ]
    },
    {
     "name": "stdout",
     "output_type": "stream",
     "text": [
      "Processed and saved: SC4601E0-PSG.edf\n"
     ]
    },
    {
     "name": "stderr",
     "output_type": "stream",
     "text": [
      "Processing EEG Data:  78%|███████▊  | 95/122 [03:40<00:57,  2.14s/it]"
     ]
    },
    {
     "name": "stdout",
     "output_type": "stream",
     "text": [
      "Processed and saved: SC4602E0-PSG.edf\n"
     ]
    },
    {
     "name": "stderr",
     "output_type": "stream",
     "text": [
      "Processing EEG Data:  79%|███████▊  | 96/122 [03:42<00:54,  2.11s/it]"
     ]
    },
    {
     "name": "stdout",
     "output_type": "stream",
     "text": [
      "Processed and saved: SC4611E0-PSG.edf\n"
     ]
    },
    {
     "name": "stderr",
     "output_type": "stream",
     "text": [
      "Processing EEG Data:  80%|███████▉  | 97/122 [03:45<00:58,  2.35s/it]"
     ]
    },
    {
     "name": "stdout",
     "output_type": "stream",
     "text": [
      "Processed and saved: SC4612E0-PSG.edf\n"
     ]
    },
    {
     "name": "stderr",
     "output_type": "stream",
     "text": [
      "Processing EEG Data:  80%|████████  | 98/122 [03:47<00:53,  2.24s/it]"
     ]
    },
    {
     "name": "stdout",
     "output_type": "stream",
     "text": [
      "Processed and saved: SC4621E0-PSG.edf\n"
     ]
    },
    {
     "name": "stderr",
     "output_type": "stream",
     "text": [
      "Processing EEG Data:  81%|████████  | 99/122 [03:50<00:51,  2.22s/it]"
     ]
    },
    {
     "name": "stdout",
     "output_type": "stream",
     "text": [
      "Processed and saved: SC4622E0-PSG.edf\n"
     ]
    },
    {
     "name": "stderr",
     "output_type": "stream",
     "text": [
      "Processing EEG Data:  82%|████████▏ | 100/122 [03:52<00:48,  2.19s/it]"
     ]
    },
    {
     "name": "stdout",
     "output_type": "stream",
     "text": [
      "Processed and saved: SC4631E0-PSG.edf\n"
     ]
    },
    {
     "name": "stderr",
     "output_type": "stream",
     "text": [
      "Processing EEG Data:  83%|████████▎ | 101/122 [03:54<00:46,  2.19s/it]"
     ]
    },
    {
     "name": "stdout",
     "output_type": "stream",
     "text": [
      "Processed and saved: SC4632E0-PSG.edf\n"
     ]
    },
    {
     "name": "stderr",
     "output_type": "stream",
     "text": [
      "Processing EEG Data:  84%|████████▎ | 102/122 [03:56<00:43,  2.15s/it]"
     ]
    },
    {
     "name": "stdout",
     "output_type": "stream",
     "text": [
      "Processed and saved: SC4641E0-PSG.edf\n"
     ]
    },
    {
     "name": "stderr",
     "output_type": "stream",
     "text": [
      "Processing EEG Data:  84%|████████▍ | 103/122 [03:58<00:41,  2.16s/it]"
     ]
    },
    {
     "name": "stdout",
     "output_type": "stream",
     "text": [
      "Processed and saved: SC4651E0-PSG.edf\n"
     ]
    },
    {
     "name": "stderr",
     "output_type": "stream",
     "text": [
      "Processing EEG Data:  85%|████████▌ | 104/122 [04:00<00:38,  2.16s/it]"
     ]
    },
    {
     "name": "stdout",
     "output_type": "stream",
     "text": [
      "Processed and saved: SC4652E0-PSG.edf\n"
     ]
    },
    {
     "name": "stderr",
     "output_type": "stream",
     "text": [
      "Processing EEG Data:  86%|████████▌ | 105/122 [04:02<00:36,  2.13s/it]"
     ]
    },
    {
     "name": "stdout",
     "output_type": "stream",
     "text": [
      "Processed and saved: SC4661E0-PSG.edf\n"
     ]
    },
    {
     "name": "stderr",
     "output_type": "stream",
     "text": [
      "Processing EEG Data:  87%|████████▋ | 106/122 [04:04<00:34,  2.13s/it]"
     ]
    },
    {
     "name": "stdout",
     "output_type": "stream",
     "text": [
      "Processed and saved: SC4662E0-PSG.edf\n"
     ]
    },
    {
     "name": "stderr",
     "output_type": "stream",
     "text": [
      "Processing EEG Data:  88%|████████▊ | 107/122 [04:07<00:31,  2.13s/it]"
     ]
    },
    {
     "name": "stdout",
     "output_type": "stream",
     "text": [
      "Processed and saved: SC4671G0-PSG.edf\n"
     ]
    },
    {
     "name": "stderr",
     "output_type": "stream",
     "text": [
      "Processing EEG Data:  89%|████████▊ | 108/122 [04:09<00:29,  2.08s/it]"
     ]
    },
    {
     "name": "stdout",
     "output_type": "stream",
     "text": [
      "Processed and saved: SC4672G0-PSG.edf\n"
     ]
    },
    {
     "name": "stderr",
     "output_type": "stream",
     "text": [
      "Processing EEG Data:  89%|████████▉ | 109/122 [04:11<00:26,  2.07s/it]"
     ]
    },
    {
     "name": "stdout",
     "output_type": "stream",
     "text": [
      "Processed and saved: SC4701E0-PSG.edf\n"
     ]
    },
    {
     "name": "stderr",
     "output_type": "stream",
     "text": [
      "Processing EEG Data:  90%|█████████ | 110/122 [04:13<00:24,  2.08s/it]"
     ]
    },
    {
     "name": "stdout",
     "output_type": "stream",
     "text": [
      "Processed and saved: SC4702E0-PSG.edf\n"
     ]
    },
    {
     "name": "stderr",
     "output_type": "stream",
     "text": [
      "Processing EEG Data:  91%|█████████ | 111/122 [04:15<00:22,  2.07s/it]"
     ]
    },
    {
     "name": "stdout",
     "output_type": "stream",
     "text": [
      "Processed and saved: SC4711E0-PSG.edf\n"
     ]
    },
    {
     "name": "stderr",
     "output_type": "stream",
     "text": [
      "Processing EEG Data:  92%|█████████▏| 112/122 [04:17<00:22,  2.27s/it]"
     ]
    },
    {
     "name": "stdout",
     "output_type": "stream",
     "text": [
      "Processed and saved: SC4712E0-PSG.edf\n"
     ]
    },
    {
     "name": "stderr",
     "output_type": "stream",
     "text": [
      "Processing EEG Data:  93%|█████████▎| 113/122 [04:19<00:19,  2.12s/it]"
     ]
    },
    {
     "name": "stdout",
     "output_type": "stream",
     "text": [
      "Processed and saved: SC4721E0-PSG.edf\n"
     ]
    },
    {
     "name": "stderr",
     "output_type": "stream",
     "text": [
      "Processing EEG Data:  93%|█████████▎| 114/122 [04:21<00:16,  2.11s/it]"
     ]
    },
    {
     "name": "stdout",
     "output_type": "stream",
     "text": [
      "Processed and saved: SC4722E0-PSG.edf\n"
     ]
    },
    {
     "name": "stderr",
     "output_type": "stream",
     "text": [
      "Processing EEG Data:  94%|█████████▍| 115/122 [04:23<00:14,  2.11s/it]"
     ]
    },
    {
     "name": "stdout",
     "output_type": "stream",
     "text": [
      "Processed and saved: SC4731E0-PSG.edf\n"
     ]
    },
    {
     "name": "stderr",
     "output_type": "stream",
     "text": [
      "Processing EEG Data:  95%|█████████▌| 116/122 [04:25<00:12,  2.06s/it]"
     ]
    },
    {
     "name": "stdout",
     "output_type": "stream",
     "text": [
      "Processed and saved: SC4732E0-PSG.edf\n"
     ]
    },
    {
     "name": "stderr",
     "output_type": "stream",
     "text": [
      "Processing EEG Data:  96%|█████████▌| 117/122 [04:27<00:10,  2.07s/it]"
     ]
    },
    {
     "name": "stdout",
     "output_type": "stream",
     "text": [
      "Processed and saved: SC4751E0-PSG.edf\n"
     ]
    },
    {
     "name": "stderr",
     "output_type": "stream",
     "text": [
      "Processing EEG Data:  97%|█████████▋| 118/122 [04:29<00:08,  2.02s/it]"
     ]
    },
    {
     "name": "stdout",
     "output_type": "stream",
     "text": [
      "Processed and saved: SC4811G0-PSG.edf\n"
     ]
    },
    {
     "name": "stderr",
     "output_type": "stream",
     "text": [
      "Processing EEG Data:  98%|█████████▊| 119/122 [04:32<00:06,  2.14s/it]"
     ]
    },
    {
     "name": "stdout",
     "output_type": "stream",
     "text": [
      "Processed and saved: SC4821G0-PSG.edf\n"
     ]
    },
    {
     "name": "stderr",
     "output_type": "stream",
     "text": [
      "Processing EEG Data:  98%|█████████▊| 120/122 [04:34<00:04,  2.14s/it]"
     ]
    },
    {
     "name": "stdout",
     "output_type": "stream",
     "text": [
      "Processed and saved: SC4822G0-PSG.edf\n"
     ]
    },
    {
     "name": "stderr",
     "output_type": "stream",
     "text": [
      "Processing EEG Data:  99%|█████████▉| 121/122 [04:36<00:02,  2.18s/it]"
     ]
    },
    {
     "name": "stdout",
     "output_type": "stream",
     "text": [
      "Processed and saved: ST7222J0-PSG.edf\n"
     ]
    },
    {
     "name": "stderr",
     "output_type": "stream",
     "text": [
      "Processing EEG Data: 100%|██████████| 122/122 [04:39<00:00,  2.29s/it]"
     ]
    },
    {
     "name": "stdout",
     "output_type": "stream",
     "text": [
      "Processed and saved: ST7241J0-PSG.edf\n",
      "✅ EEG epochs successfully processed and saved with corresponding labels.\n"
     ]
    },
    {
     "name": "stderr",
     "output_type": "stream",
     "text": [
      "\n"
     ]
    }
   ],
   "source": [
    "import os\n",
    "import numpy as np\n",
    "import pyedflib\n",
    "from tqdm import tqdm\n",
    "\n",
    "edf_folder = r\"E:\\sleep_full_dataset\"\n",
    "output_folder = \"processed_epochs\"\n",
    "os.makedirs(output_folder, exist_ok=True)\n",
    "\n",
    "# Required EEG channels\n",
    "required_channels = ['EEG Fpz-Cz', 'EEG Pz-Oz']\n",
    "\n",
    "# Function to extract sleep stage labels from hypnogram\n",
    "def extract_labels(hypnogram_file):\n",
    "    edf_reader = pyedflib.EdfReader(hypnogram_file)\n",
    "    annotations = edf_reader.readAnnotations()\n",
    "    edf_reader.close()\n",
    "    \n",
    "    onset_times = annotations[0]  # Start time of annotation\n",
    "    durations = annotations[1]    # Duration of annotation\n",
    "    labels = annotations[2]       # Sleep stage labels\n",
    "\n",
    "    sleep_stages = []\n",
    "    for onset, duration, label in zip(onset_times, durations, labels):\n",
    "        epoch_count = int(duration // 30)  # Number of 30-sec epochs\n",
    "        sleep_stages.extend([label] * epoch_count)\n",
    "\n",
    "    return np.array(sleep_stages)\n",
    "\n",
    "# Process each matched PSG-Hypnogram pair\n",
    "for psg_file, hypnogram_file in tqdm(matched_files, desc=\"Processing EEG Data\"):\n",
    "    psg_path = os.path.join(edf_folder, psg_file)\n",
    "    hypnogram_path = os.path.join(edf_folder, hypnogram_file)\n",
    "\n",
    "    # Load EEG data from PSG file\n",
    "    edf_reader = pyedflib.EdfReader(psg_path)\n",
    "    channel_labels = edf_reader.getSignalLabels()\n",
    "\n",
    "    # Find indices of required channels\n",
    "    channel_indices = [channel_labels.index(ch) for ch in required_channels if ch in channel_labels]\n",
    "    if not channel_indices:\n",
    "        print(f\"Skipping {psg_file}: Required EEG channels not found!\")\n",
    "        edf_reader.close()\n",
    "        continue\n",
    "\n",
    "    # Extract EEG signals\n",
    "    eeg_signals = np.array([edf_reader.readSignal(idx) for idx in channel_indices])\n",
    "    sampling_rate = edf_reader.getSampleFrequencies()[channel_indices[0]]\n",
    "    edf_reader.close()\n",
    "\n",
    "    # Calculate number of samples per 30s epoch\n",
    "    samples_per_epoch = int(sampling_rate * 30)\n",
    "    num_epochs = eeg_signals.shape[1] // samples_per_epoch  # Number of full epochs\n",
    "\n",
    "    # Trim EEG signals to full epochs only\n",
    "    eeg_epochs = eeg_signals[:, :num_epochs * samples_per_epoch].reshape(num_epochs, len(channel_indices), samples_per_epoch)\n",
    "\n",
    "    # Extract sleep stage labels\n",
    "    sleep_labels = extract_labels(hypnogram_path)\n",
    "\n",
    "    # Ensure sleep labels match the number of epochs\n",
    "    min_epochs = min(num_epochs, len(sleep_labels))\n",
    "    eeg_epochs = eeg_epochs[:min_epochs]\n",
    "    sleep_labels = sleep_labels[:min_epochs]\n",
    "\n",
    "    # Save processed epochs\n",
    "    save_path = os.path.join(output_folder, psg_file.replace(\"-PSG.edf\", \".npz\"))\n",
    "    np.savez(save_path, eeg=eeg_epochs, labels=sleep_labels, fs=sampling_rate, channels=required_channels)\n",
    "\n",
    "    print(f\"Processed and saved: {psg_file}\")\n",
    "\n",
    "print(\"✅ EEG epochs successfully processed and saved with corresponding labels.\")"
   ]
  },
  {
   "cell_type": "code",
   "execution_count": null,
   "metadata": {},
   "outputs": [],
   "source": []
  },
  {
   "cell_type": "code",
   "execution_count": 21,
   "metadata": {},
   "outputs": [
    {
     "name": "stdout",
     "output_type": "stream",
     "text": [
      "Epoch 1/30, Loss: 1.0216\n",
      "Epoch 2/30, Loss: 0.9925\n",
      "Epoch 3/30, Loss: 0.9788\n",
      "Epoch 4/30, Loss: 0.9687\n",
      "Epoch 5/30, Loss: 0.9608\n",
      "Epoch 6/30, Loss: 0.9538\n",
      "Epoch 7/30, Loss: 0.9483\n",
      "Epoch 8/30, Loss: 0.9435\n",
      "Epoch 9/30, Loss: 0.9399\n",
      "Epoch 10/30, Loss: 0.9359\n",
      "Epoch 11/30, Loss: 0.9331\n",
      "Epoch 12/30, Loss: 0.9297\n",
      "Epoch 13/30, Loss: 0.9259\n",
      "Epoch 14/30, Loss: 0.9234\n",
      "Epoch 15/30, Loss: 0.9211\n",
      "Epoch 16/30, Loss: 0.9196\n",
      "Epoch 17/30, Loss: 0.9172\n",
      "Epoch 18/30, Loss: 0.9146\n",
      "Epoch 19/30, Loss: 0.9120\n",
      "Epoch 20/30, Loss: 0.9108\n",
      "Epoch 21/30, Loss: 0.9088\n",
      "Epoch 22/30, Loss: 0.9069\n",
      "Epoch 23/30, Loss: 0.9058\n",
      "Epoch 24/30, Loss: 0.9038\n",
      "Epoch 25/30, Loss: 0.9033\n",
      "Epoch 26/30, Loss: 0.9023\n",
      "Epoch 27/30, Loss: 0.9006\n",
      "Epoch 28/30, Loss: 0.8990\n",
      "Epoch 29/30, Loss: 0.8984\n",
      "Epoch 30/30, Loss: 0.8957\n",
      "Test Accuracy: 0.68\n",
      "Classification Report:\n",
      "               precision    recall  f1-score   support\n",
      "\n",
      "           0       0.00      0.00      0.00        21\n",
      "           1       0.30      0.01      0.01      3708\n",
      "           2       0.45      0.16      0.24     12067\n",
      "           3       0.43      0.02      0.04      1562\n",
      "           4       0.39      0.07      0.12       703\n",
      "           5       0.59      0.08      0.15       236\n",
      "           6       0.35      0.04      0.06      4539\n",
      "           7       0.70      0.98      0.82     45954\n",
      "\n",
      "    accuracy                           0.68     68790\n",
      "   macro avg       0.40      0.17      0.18     68790\n",
      "weighted avg       0.61      0.68      0.60     68790\n",
      "\n"
     ]
    },
    {
     "name": "stderr",
     "output_type": "stream",
     "text": [
      "c:\\my_new_environment\\venv\\Lib\\site-packages\\sklearn\\metrics\\_classification.py:1565: UndefinedMetricWarning: Precision is ill-defined and being set to 0.0 in labels with no predicted samples. Use `zero_division` parameter to control this behavior.\n",
      "  _warn_prf(average, modifier, f\"{metric.capitalize()} is\", len(result))\n",
      "c:\\my_new_environment\\venv\\Lib\\site-packages\\sklearn\\metrics\\_classification.py:1565: UndefinedMetricWarning: Precision is ill-defined and being set to 0.0 in labels with no predicted samples. Use `zero_division` parameter to control this behavior.\n",
      "  _warn_prf(average, modifier, f\"{metric.capitalize()} is\", len(result))\n",
      "c:\\my_new_environment\\venv\\Lib\\site-packages\\sklearn\\metrics\\_classification.py:1565: UndefinedMetricWarning: Precision is ill-defined and being set to 0.0 in labels with no predicted samples. Use `zero_division` parameter to control this behavior.\n",
      "  _warn_prf(average, modifier, f\"{metric.capitalize()} is\", len(result))\n"
     ]
    }
   ],
   "source": [
    "import os\n",
    "import numpy as np\n",
    "import scipy.signal\n",
    "import torch\n",
    "import torch.nn as nn\n",
    "import torch.optim as optim\n",
    "from torch.utils.data import DataLoader, TensorDataset, random_split\n",
    "from sklearn.model_selection import train_test_split\n",
    "from sklearn.preprocessing import StandardScaler, LabelEncoder\n",
    "from sklearn.metrics import accuracy_score, classification_report\n",
    "\n",
    "# Path to processed EEG epochs\n",
    "data_folder = \"processed_epochs\"\n",
    "\n",
    "def extract_psd_features(eeg_epoch, fs):\n",
    "    freqs, psd = scipy.signal.welch(eeg_epoch, fs=fs, nperseg=fs*2)\n",
    "    psd = np.log1p(psd)\n",
    "    return psd.flatten()\n",
    "\n",
    "X, y = [], []\n",
    "\n",
    "for file in os.listdir(data_folder):\n",
    "    if file.endswith(\".npz\"):\n",
    "        data = np.load(os.path.join(data_folder, file))\n",
    "        eeg_epochs = data[\"eeg\"]\n",
    "        labels = data[\"labels\"]\n",
    "        fs = data[\"fs\"]\n",
    "\n",
    "        for i in range(eeg_epochs.shape[0]):\n",
    "            features = np.hstack([extract_psd_features(eeg_epochs[i, ch], fs) for ch in range(eeg_epochs.shape[1])])\n",
    "            X.append(features)\n",
    "            y.append(labels[i])\n",
    "\n",
    "X, y = np.array(X), np.array(y)\n",
    "\n",
    "if np.isnan(X).any() or np.isinf(X).any():\n",
    "    print(\"Warning: NaN or Inf detected in feature matrix! Replacing with zero.\")\n",
    "    X = np.nan_to_num(X)\n",
    "\n",
    "label_encoder = LabelEncoder()\n",
    "y = label_encoder.fit_transform(y)\n",
    "\n",
    "X_train, X_test, y_train, y_test = train_test_split(X, y, test_size=0.2, random_state=42, stratify=y)\n",
    "\n",
    "scaler = StandardScaler()\n",
    "X_train = scaler.fit_transform(X_train)\n",
    "X_test = scaler.transform(X_test)\n",
    "\n",
    "X_train, y_train = torch.tensor(X_train, dtype=torch.float32), torch.tensor(y_train, dtype=torch.long)\n",
    "X_test, y_test = torch.tensor(X_test, dtype=torch.float32), torch.tensor(y_test, dtype=torch.long)\n",
    "\n",
    "train_dataset = TensorDataset(X_train, y_train)\n",
    "test_dataset = TensorDataset(X_test, y_test)\n",
    "train_loader = DataLoader(train_dataset, batch_size=32, shuffle=True)\n",
    "test_loader = DataLoader(test_dataset, batch_size=32, shuffle=False)\n",
    "\n",
    "class EEGClassifier(nn.Module):\n",
    "    def __init__(self, input_size, num_classes):\n",
    "        super(EEGClassifier, self).__init__()\n",
    "        self.fc1 = nn.Linear(input_size, 128)\n",
    "        self.fc2 = nn.Linear(128, 64)\n",
    "        self.fc3 = nn.Linear(64, 32)\n",
    "        self.fc4 = nn.Linear(32, num_classes)\n",
    "        self.relu = nn.ReLU()\n",
    "        self.softmax = nn.Softmax(dim=1)\n",
    "    \n",
    "    def forward(self, x):\n",
    "        x = self.relu(self.fc1(x))\n",
    "        x = self.relu(self.fc2(x))\n",
    "        x = self.relu(self.fc3(x))\n",
    "        x = self.fc4(x)\n",
    "        return x  # No softmax because CrossEntropyLoss applies it\n",
    "\n",
    "num_classes = len(np.unique(y))\n",
    "model = EEGClassifier(input_size=X_train.shape[1], num_classes=num_classes)\n",
    "device = torch.device(\"cuda\" if torch.cuda.is_available() else \"cpu\")\n",
    "model.to(device)\n",
    "\n",
    "criterion = nn.CrossEntropyLoss()\n",
    "optimizer = optim.Adam(model.parameters(), lr=0.001)\n",
    "\n",
    "# Training loop\n",
    "epochs = 30\n",
    "for epoch in range(epochs):\n",
    "    model.train()\n",
    "    running_loss = 0.0\n",
    "    for inputs, labels in train_loader:\n",
    "        inputs, labels = inputs.to(device), labels.to(device)\n",
    "        optimizer.zero_grad()\n",
    "        outputs = model(inputs)\n",
    "        loss = criterion(outputs, labels)\n",
    "        loss.backward()\n",
    "        optimizer.step()\n",
    "        running_loss += loss.item()\n",
    "    print(f\"Epoch {epoch+1}/{epochs}, Loss: {running_loss/len(train_loader):.4f}\")\n",
    "\n",
    "# Evaluation\n",
    "model.eval()\n",
    "y_pred = []\n",
    "y_true = []\n",
    "with torch.no_grad():\n",
    "    for inputs, labels in test_loader:\n",
    "        inputs, labels = inputs.to(device), labels.to(device)\n",
    "        outputs = model(inputs)\n",
    "        _, predicted = torch.max(outputs, 1)\n",
    "        y_pred.extend(predicted.cpu().numpy())\n",
    "        y_true.extend(labels.cpu().numpy())\n",
    "\n",
    "accuracy = accuracy_score(y_true, y_pred)\n",
    "print(f\"Test Accuracy: {accuracy:.2f}\")\n",
    "print(\"Classification Report:\\n\", classification_report(y_true, y_pred))"
   ]
  },
  {
   "cell_type": "code",
   "execution_count": 24,
   "metadata": {},
   "outputs": [
    {
     "name": "stdout",
     "output_type": "stream",
     "text": [
      "Epoch [5/30], Loss: 2.0842, Val Accuracy: 0.0102\n",
      "Epoch [10/30], Loss: 2.0746, Val Accuracy: 0.3401\n",
      "Epoch [15/30], Loss: 2.0549, Val Accuracy: 0.6554\n",
      "Epoch [20/30], Loss: 2.0059, Val Accuracy: 0.6680\n",
      "Epoch [25/30], Loss: 1.8958, Val Accuracy: 0.6680\n",
      "Epoch [30/30], Loss: 1.7532, Val Accuracy: 0.6680\n",
      "Test Accuracy: 0.67\n",
      "Classification Report:\n",
      "               precision    recall  f1-score   support\n",
      "\n",
      "           0       0.00      0.00      0.00        21\n",
      "           1       0.00      0.00      0.00      3708\n",
      "           2       0.00      0.00      0.00     12067\n",
      "           3       0.00      0.00      0.00      1562\n",
      "           4       0.00      0.00      0.00       703\n",
      "           5       0.00      0.00      0.00       236\n",
      "           6       0.00      0.00      0.00      4539\n",
      "           7       0.67      1.00      0.80     45954\n",
      "\n",
      "    accuracy                           0.67     68790\n",
      "   macro avg       0.08      0.12      0.10     68790\n",
      "weighted avg       0.45      0.67      0.54     68790\n",
      "\n"
     ]
    },
    {
     "name": "stderr",
     "output_type": "stream",
     "text": [
      "c:\\my_new_environment\\venv\\Lib\\site-packages\\sklearn\\metrics\\_classification.py:1565: UndefinedMetricWarning: Precision is ill-defined and being set to 0.0 in labels with no predicted samples. Use `zero_division` parameter to control this behavior.\n",
      "  _warn_prf(average, modifier, f\"{metric.capitalize()} is\", len(result))\n",
      "c:\\my_new_environment\\venv\\Lib\\site-packages\\sklearn\\metrics\\_classification.py:1565: UndefinedMetricWarning: Precision is ill-defined and being set to 0.0 in labels with no predicted samples. Use `zero_division` parameter to control this behavior.\n",
      "  _warn_prf(average, modifier, f\"{metric.capitalize()} is\", len(result))\n",
      "c:\\my_new_environment\\venv\\Lib\\site-packages\\sklearn\\metrics\\_classification.py:1565: UndefinedMetricWarning: Precision is ill-defined and being set to 0.0 in labels with no predicted samples. Use `zero_division` parameter to control this behavior.\n",
      "  _warn_prf(average, modifier, f\"{metric.capitalize()} is\", len(result))\n"
     ]
    },
    {
     "data": {
      "image/png": "[encoded data removed]",
      "text/plain": [
       "<Figure size 800x600 with 2 Axes>"
      ]
     },
     "metadata": {},
     "output_type": "display_data"
    }
   ],
   "source": [
    "import numpy as np\n",
    "import torch\n",
    "import torch.nn as nn\n",
    "import torch.optim as optim\n",
    "from sklearn.model_selection import train_test_split\n",
    "from sklearn.preprocessing import LabelEncoder, StandardScaler\n",
    "from sklearn.metrics import accuracy_score, classification_report\n",
    "import matplotlib.pyplot as plt\n",
    "import os\n",
    "import scipy.signal\n",
    "\n",
    "# Path to processed EEG epochs\n",
    "data_folder = \"processed_epochs\"\n",
    "\n",
    "# Function to compute power spectral density (PSD) features\n",
    "def extract_psd_features(eeg_epoch, fs):\n",
    "    freqs, psd = scipy.signal.welch(eeg_epoch, fs=fs, nperseg=fs*2)  \n",
    "    psd = np.log1p(psd)  # Log transform to avoid log(0) issues\n",
    "    return psd.flatten()\n",
    "\n",
    "X = []\n",
    "y = []\n",
    "\n",
    "for file in os.listdir(data_folder):\n",
    "    if file.endswith(\".npz\"):\n",
    "        data = np.load(os.path.join(data_folder, file))\n",
    "        eeg_epochs = data[\"eeg\"]  # Shape: (num_epochs, num_channels, samples_per_epoch)\n",
    "        labels = data[\"labels\"]\n",
    "        fs = data[\"fs\"]\n",
    "\n",
    "        # Extract PSD features for each epoch\n",
    "        for i in range(eeg_epochs.shape[0]):\n",
    "            features = np.array([extract_psd_features(eeg_epochs[i, ch], fs) for ch in range(eeg_epochs.shape[1])])\n",
    "            X.append(features)\n",
    "            y.append(labels[i])\n",
    "\n",
    "# Convert to NumPy arrays\n",
    "X = np.array(X)  # Shape: (num_samples, num_channels, num_features)\n",
    "y = np.array(y)\n",
    "\n",
    "# Handle NaN/Inf values\n",
    "if np.isnan(X).any() or np.isinf(X).any():\n",
    "    print(\"Warning: NaN or Inf detected in feature matrix! Replacing with zero.\")\n",
    "    X = np.nan_to_num(X)\n",
    "\n",
    "# Encode labels\n",
    "label_encoder = LabelEncoder()\n",
    "y = label_encoder.fit_transform(y)\n",
    "\n",
    "# Split data into train (80%) and test (20%) sets\n",
    "X_train, X_test, y_train, y_test = train_test_split(X, y, test_size=0.2, random_state=42, stratify=y)\n",
    "\n",
    "# Normalize features\n",
    "scaler = StandardScaler()\n",
    "X_train = np.array([scaler.fit_transform(sample) for sample in X_train])\n",
    "X_test = np.array([scaler.transform(sample) for sample in X_test])\n",
    "\n",
    "# Convert data to PyTorch tensors\n",
    "X_train = torch.tensor(X_train, dtype=torch.float32)\n",
    "X_test = torch.tensor(X_test, dtype=torch.float32)\n",
    "y_train = torch.tensor(y_train, dtype=torch.long)\n",
    "y_test = torch.tensor(y_test, dtype=torch.long)\n",
    "\n",
    "# Define LSTM Model in PyTorch\n",
    "class EEG_LSTM_Model(nn.Module):\n",
    "    def __init__(self, input_size, hidden_size_1, hidden_size_2, output_size):\n",
    "        super(EEG_LSTM_Model, self).__init__()\n",
    "        self.lstm1 = nn.LSTM(input_size, hidden_size_1, batch_first=True)\n",
    "        self.lstm2 = nn.LSTM(hidden_size_1, hidden_size_2, batch_first=True)\n",
    "        self.fc1 = nn.Linear(hidden_size_2, 32)\n",
    "        self.fc2 = nn.Linear(32, output_size)\n",
    "        self.relu = nn.ReLU()\n",
    "        self.softmax = nn.Softmax(dim=1)\n",
    "\n",
    "    def forward(self, x):\n",
    "        x, _ = self.lstm1(x)\n",
    "        x, _ = self.lstm2(x)\n",
    "        x = self.relu(x[:, -1, :])  # Use the output from the last time step\n",
    "        x = self.fc1(x)\n",
    "        x = self.fc2(x)\n",
    "        x = self.softmax(x)\n",
    "        return x\n",
    "\n",
    "# Initialize model\n",
    "model = EEG_LSTM_Model(input_size=X_train.shape[2], hidden_size_1=128, hidden_size_2=64, output_size=len(np.unique(y)))\n",
    "\n",
    "# Loss and optimizer\n",
    "criterion = nn.CrossEntropyLoss()\n",
    "optimizer = optim.Adam(model.parameters(), lr=0.001)\n",
    "\n",
    "# Training loop\n",
    "epochs = 30\n",
    "train_losses = []\n",
    "val_accuracies = []\n",
    "\n",
    "for epoch in range(epochs):\n",
    "    model.train()\n",
    "    optimizer.zero_grad()\n",
    "    \n",
    "    # Forward pass\n",
    "    outputs = model(X_train)\n",
    "    loss = criterion(outputs, y_train)\n",
    "    \n",
    "    # Backward pass\n",
    "    loss.backward()\n",
    "    optimizer.step()\n",
    "\n",
    "    train_losses.append(loss.item())\n",
    "\n",
    "    # Evaluate the model on validation set\n",
    "    model.eval()\n",
    "    with torch.no_grad():\n",
    "        outputs = model(X_test)\n",
    "        _, predicted = torch.max(outputs, 1)\n",
    "        correct = (predicted == y_test).sum().item()\n",
    "        accuracy = correct / y_test.size(0)\n",
    "        val_accuracies.append(accuracy)\n",
    "\n",
    "    if (epoch + 1) % 5 == 0:  # Print every 5 epochs\n",
    "        print(f\"Epoch [{epoch+1}/{epochs}], Loss: {loss.item():.4f}, Val Accuracy: {accuracy:.4f}\")\n",
    "\n",
    "# Evaluate model\n",
    "model.eval()\n",
    "with torch.no_grad():\n",
    "    outputs = model(X_test)\n",
    "    _, predicted = torch.max(outputs, 1)\n",
    "    accuracy = accuracy_score(y_test, predicted)\n",
    "    print(f\"Test Accuracy: {accuracy:.2f}\")\n",
    "    print(\"Classification Report:\\n\", classification_report(y_test, predicted))\n",
    "\n",
    "# Plot Training Loss and Validation Accuracy\n",
    "plt.figure(figsize=(8, 6))\n",
    "plt.subplot(2, 1, 1)\n",
    "plt.plot(train_losses, label='Train Loss', marker='o')\n",
    "plt.xlabel('Epochs')\n",
    "plt.ylabel('Loss')\n",
    "plt.title('Training Loss')\n",
    "\n",
    "plt.subplot(2, 1, 2)\n",
    "plt.plot(val_accuracies, label='Val Accuracy', marker='s')\n",
    "plt.xlabel('Epochs')\n",
    "plt.ylabel('Accuracy')\n",
    "plt.title('Validation Accuracy')\n",
    "plt.tight_layout()\n",
    "plt.show()\n"
   ]
  },
  {
   "cell_type": "code",
   "execution_count": null,
   "metadata": {},
   "outputs": [],
   "source": []
  },
  {
   "cell_type": "markdown",
   "metadata": {},
   "source": [
    "LSTM WITH regularization"
   ]
  },
  {
   "cell_type": "code",
   "execution_count": 25,
   "metadata": {},
   "outputs": [
    {
     "name": "stderr",
     "output_type": "stream",
     "text": [
      "c:\\my_new_environment\\venv\\Lib\\site-packages\\torch\\nn\\modules\\rnn.py:123: UserWarning: dropout option adds dropout after all but last recurrent layer, so non-zero dropout expects num_layers greater than 1, but got dropout=0.3 and num_layers=1\n",
      "  warnings.warn(\n"
     ]
    },
    {
     "name": "stdout",
     "output_type": "stream",
     "text": [
      "Epoch [1/50], Loss: 2.2348, Train Accuracy: 0.0539, Test Accuracy: 0.1102\n",
      "Epoch [2/50], Loss: 2.2199, Train Accuracy: 0.0737, Test Accuracy: 0.1158\n",
      "Epoch [3/50], Loss: 2.2052, Train Accuracy: 0.0943, Test Accuracy: 0.1208\n",
      "Epoch [4/50], Loss: 2.1905, Train Accuracy: 0.1158, Test Accuracy: 0.1281\n",
      "Epoch [5/50], Loss: 2.1759, Train Accuracy: 0.1331, Test Accuracy: 0.1392\n",
      "Epoch [6/50], Loss: 2.1608, Train Accuracy: 0.1468, Test Accuracy: 0.1456\n",
      "Epoch [7/50], Loss: 2.1456, Train Accuracy: 0.1570, Test Accuracy: 0.1513\n",
      "Epoch [8/50], Loss: 2.1301, Train Accuracy: 0.1633, Test Accuracy: 0.1584\n",
      "Epoch [9/50], Loss: 2.1137, Train Accuracy: 0.1685, Test Accuracy: 0.1707\n",
      "Epoch [10/50], Loss: 2.0971, Train Accuracy: 0.1712, Test Accuracy: 0.1753\n",
      "Epoch [11/50], Loss: 2.0794, Train Accuracy: 0.1734, Test Accuracy: 0.1754\n",
      "Epoch [12/50], Loss: 2.0609, Train Accuracy: 0.1767, Test Accuracy: 0.1754\n",
      "Epoch [13/50], Loss: 2.0414, Train Accuracy: 0.1836, Test Accuracy: 0.1754\n",
      "Epoch [14/50], Loss: 2.0207, Train Accuracy: 0.1964, Test Accuracy: 0.1754\n",
      "Epoch [15/50], Loss: 1.9985, Train Accuracy: 0.2181, Test Accuracy: 0.1754\n",
      "Epoch [16/50], Loss: 1.9750, Train Accuracy: 0.2432, Test Accuracy: 0.1754\n",
      "Epoch [17/50], Loss: 1.9496, Train Accuracy: 0.2715, Test Accuracy: 0.1755\n",
      "Epoch [18/50], Loss: 1.9228, Train Accuracy: 0.3003, Test Accuracy: 0.1761\n",
      "Epoch [19/50], Loss: 1.8941, Train Accuracy: 0.3304, Test Accuracy: 0.1787\n",
      "Epoch [20/50], Loss: 1.8630, Train Accuracy: 0.3629, Test Accuracy: 0.1850\n",
      "Epoch [21/50], Loss: 1.8300, Train Accuracy: 0.3962, Test Accuracy: 0.1967\n",
      "Epoch [22/50], Loss: 1.7955, Train Accuracy: 0.4293, Test Accuracy: 0.2175\n",
      "Epoch [23/50], Loss: 1.7587, Train Accuracy: 0.4605, Test Accuracy: 0.2533\n",
      "Epoch [24/50], Loss: 1.7202, Train Accuracy: 0.4937, Test Accuracy: 0.3766\n",
      "Epoch [25/50], Loss: 1.6802, Train Accuracy: 0.5234, Test Accuracy: 0.4836\n",
      "Epoch [26/50], Loss: 1.6388, Train Accuracy: 0.5515, Test Accuracy: 0.5457\n",
      "Epoch [27/50], Loss: 1.5968, Train Accuracy: 0.5757, Test Accuracy: 0.6112\n",
      "Epoch [28/50], Loss: 1.5541, Train Accuracy: 0.5960, Test Accuracy: 0.6449\n",
      "Epoch [29/50], Loss: 1.5119, Train Accuracy: 0.6139, Test Accuracy: 0.6529\n",
      "Epoch [30/50], Loss: 1.4701, Train Accuracy: 0.6297, Test Accuracy: 0.6571\n",
      "Epoch [31/50], Loss: 1.4302, Train Accuracy: 0.6410, Test Accuracy: 0.6599\n",
      "Epoch [32/50], Loss: 1.3929, Train Accuracy: 0.6490, Test Accuracy: 0.6616\n",
      "Epoch [33/50], Loss: 1.3584, Train Accuracy: 0.6554, Test Accuracy: 0.6631\n",
      "Epoch [34/50], Loss: 1.3282, Train Accuracy: 0.6597, Test Accuracy: 0.6644\n",
      "Epoch [35/50], Loss: 1.3024, Train Accuracy: 0.6622, Test Accuracy: 0.6652\n",
      "Epoch [36/50], Loss: 1.2807, Train Accuracy: 0.6644, Test Accuracy: 0.6659\n",
      "Epoch [37/50], Loss: 1.2642, Train Accuracy: 0.6655, Test Accuracy: 0.6662\n",
      "Epoch [38/50], Loss: 1.2512, Train Accuracy: 0.6663, Test Accuracy: 0.6666\n",
      "Epoch [39/50], Loss: 1.2422, Train Accuracy: 0.6665, Test Accuracy: 0.6669\n",
      "Epoch [40/50], Loss: 1.2355, Train Accuracy: 0.6668, Test Accuracy: 0.6670\n",
      "Epoch [41/50], Loss: 1.2296, Train Accuracy: 0.6671, Test Accuracy: 0.6671\n",
      "Epoch [42/50], Loss: 1.2261, Train Accuracy: 0.6670, Test Accuracy: 0.6672\n",
      "Epoch [43/50], Loss: 1.2216, Train Accuracy: 0.6670, Test Accuracy: 0.6675\n",
      "Epoch [44/50], Loss: 1.2164, Train Accuracy: 0.6670, Test Accuracy: 0.6676\n",
      "Epoch [45/50], Loss: 1.2112, Train Accuracy: 0.6670, Test Accuracy: 0.6677\n",
      "Epoch [46/50], Loss: 1.2055, Train Accuracy: 0.6668, Test Accuracy: 0.6677\n",
      "Epoch [47/50], Loss: 1.1990, Train Accuracy: 0.6666, Test Accuracy: 0.6678\n",
      "Epoch [48/50], Loss: 1.1915, Train Accuracy: 0.6661, Test Accuracy: 0.6678\n",
      "Epoch [49/50], Loss: 1.1856, Train Accuracy: 0.6658, Test Accuracy: 0.6678\n",
      "Epoch [50/50], Loss: 1.1792, Train Accuracy: 0.6655, Test Accuracy: 0.6678\n",
      "Final Test Accuracy: 0.67\n",
      "Classification Report:\n",
      "               precision    recall  f1-score   support\n",
      "\n",
      "           0       0.00      0.00      0.00        21\n",
      "           1       0.00      0.00      0.00      3708\n",
      "           2       0.00      0.00      0.00     12067\n",
      "           3       0.00      0.00      0.00      1562\n",
      "           4       0.00      0.00      0.00       703\n",
      "           5       0.00      0.00      0.00       236\n",
      "           6       0.00      0.00      0.00      4539\n",
      "           7       0.67      1.00      0.80     45954\n",
      "\n",
      "    accuracy                           0.67     68790\n",
      "   macro avg       0.08      0.12      0.10     68790\n",
      "weighted avg       0.45      0.67      0.54     68790\n",
      "\n"
     ]
    },
    {
     "name": "stderr",
     "output_type": "stream",
     "text": [
      "c:\\my_new_environment\\venv\\Lib\\site-packages\\sklearn\\metrics\\_classification.py:1565: UndefinedMetricWarning: Precision is ill-defined and being set to 0.0 in labels with no predicted samples. Use `zero_division` parameter to control this behavior.\n",
      "  _warn_prf(average, modifier, f\"{metric.capitalize()} is\", len(result))\n",
      "c:\\my_new_environment\\venv\\Lib\\site-packages\\sklearn\\metrics\\_classification.py:1565: UndefinedMetricWarning: Precision is ill-defined and being set to 0.0 in labels with no predicted samples. Use `zero_division` parameter to control this behavior.\n",
      "  _warn_prf(average, modifier, f\"{metric.capitalize()} is\", len(result))\n",
      "c:\\my_new_environment\\venv\\Lib\\site-packages\\sklearn\\metrics\\_classification.py:1565: UndefinedMetricWarning: Precision is ill-defined and being set to 0.0 in labels with no predicted samples. Use `zero_division` parameter to control this behavior.\n",
      "  _warn_prf(average, modifier, f\"{metric.capitalize()} is\", len(result))\n"
     ]
    },
    {
     "data": {
      "image/png": "[encoded data removed]",
      "text/plain": [
       "<Figure size 800x600 with 1 Axes>"
      ]
     },
     "metadata": {},
     "output_type": "display_data"
    }
   ],
   "source": [
    "import numpy as np\n",
    "import torch\n",
    "import torch.nn as nn\n",
    "import torch.optim as optim\n",
    "from sklearn.model_selection import train_test_split\n",
    "from sklearn.preprocessing import LabelEncoder, StandardScaler\n",
    "from sklearn.metrics import accuracy_score, classification_report\n",
    "import matplotlib.pyplot as plt\n",
    "import os\n",
    "import scipy.signal\n",
    "\n",
    "# Path to processed EEG epochs\n",
    "data_folder = \"processed_epochs\"\n",
    "\n",
    "# Function to compute power spectral density (PSD) features\n",
    "def extract_psd_features(eeg_epoch, fs):\n",
    "    freqs, psd = scipy.signal.welch(eeg_epoch, fs=fs, nperseg=fs*2)  \n",
    "    psd = np.log1p(psd)  # Log transform to avoid log(0) issues\n",
    "    return psd.flatten()\n",
    "\n",
    "# Load and preprocess data\n",
    "X = []\n",
    "y = []\n",
    "\n",
    "for file in os.listdir(data_folder):\n",
    "    if file.endswith(\".npz\"):\n",
    "        data = np.load(os.path.join(data_folder, file))\n",
    "        eeg_epochs = data[\"eeg\"]  # Shape: (num_epochs, num_channels, samples_per_epoch)\n",
    "        labels = data[\"labels\"]\n",
    "        fs = data[\"fs\"]\n",
    "\n",
    "        # Extract PSD features for each epoch\n",
    "        for i in range(eeg_epochs.shape[0]):\n",
    "            features = np.array([extract_psd_features(eeg_epochs[i, ch], fs) for ch in range(eeg_epochs.shape[1])])\n",
    "            X.append(features)\n",
    "            y.append(labels[i])\n",
    "\n",
    "# Convert to NumPy arrays\n",
    "X = np.array(X)\n",
    "y = np.array(y)\n",
    "\n",
    "# Handle NaN/Inf values\n",
    "if np.isnan(X).any() or np.isinf(X).any():\n",
    "    print(\"Warning: NaN or Inf detected in feature matrix! Replacing with zero.\")\n",
    "    X = np.nan_to_num(X)\n",
    "\n",
    "# Encode labels\n",
    "label_encoder = LabelEncoder()\n",
    "y = label_encoder.fit_transform(y)\n",
    "\n",
    "# Split data into train (80%) and test (20%) sets\n",
    "X_train, X_test, y_train, y_test = train_test_split(X, y, test_size=0.2, random_state=42, stratify=y)\n",
    "\n",
    "# Normalize features\n",
    "scaler = StandardScaler()\n",
    "X_train = np.array([scaler.fit_transform(sample) for sample in X_train])\n",
    "X_test = np.array([scaler.transform(sample) for sample in X_test])\n",
    "\n",
    "# Convert to PyTorch tensors\n",
    "X_train_tensor = torch.tensor(X_train, dtype=torch.float32)\n",
    "X_test_tensor = torch.tensor(X_test, dtype=torch.float32)\n",
    "y_train_tensor = torch.tensor(y_train, dtype=torch.long)\n",
    "y_test_tensor = torch.tensor(y_test, dtype=torch.long)\n",
    "\n",
    "# Define LSTM Model with Regularization\n",
    "class EEGModel(nn.Module):\n",
    "    def __init__(self, input_size, num_classes):\n",
    "        super(EEGModel, self).__init__()\n",
    "        self.lstm1 = nn.LSTM(input_size, 64, batch_first=True, dropout=0.3)\n",
    "        self.lstm2 = nn.LSTM(64, 32, batch_first=True, dropout=0.3)\n",
    "        self.fc1 = nn.Linear(32, 32)\n",
    "        self.fc2 = nn.Linear(32, num_classes)\n",
    "        self.dropout = nn.Dropout(0.2)\n",
    "        \n",
    "    def forward(self, x):\n",
    "        x, _ = self.lstm1(x)\n",
    "        x, _ = self.lstm2(x)\n",
    "        x = x[:, -1, :]  # Take the output of the last LSTM time step\n",
    "        x = self.fc1(x)\n",
    "        x = self.dropout(x)\n",
    "        x = self.fc2(x)\n",
    "        return x\n",
    "\n",
    "# Initialize model, loss function, and optimizer\n",
    "model = EEGModel(input_size=X_train.shape[2], num_classes=len(np.unique(y)))\n",
    "criterion = nn.CrossEntropyLoss()\n",
    "optimizer = optim.Adam(model.parameters(), lr=0.001)\n",
    "\n",
    "# Training loop\n",
    "epochs = 50\n",
    "train_accuracies = []\n",
    "test_accuracies = []\n",
    "\n",
    "for epoch in range(epochs):\n",
    "    model.train()\n",
    "    optimizer.zero_grad()\n",
    "    \n",
    "    # Forward pass\n",
    "    output = model(X_train_tensor)\n",
    "    loss = criterion(output, y_train_tensor)\n",
    "    \n",
    "    # Backward pass and optimization\n",
    "    loss.backward()\n",
    "    optimizer.step()\n",
    "    \n",
    "    # Calculate train accuracy\n",
    "    _, predicted = torch.max(output, 1)\n",
    "    train_accuracy = (predicted == y_train_tensor).float().mean().item()\n",
    "    train_accuracies.append(train_accuracy)\n",
    "    \n",
    "    # Evaluate on test set\n",
    "    model.eval()\n",
    "    with torch.no_grad():\n",
    "        test_output = model(X_test_tensor)\n",
    "        _, test_predicted = torch.max(test_output, 1)\n",
    "        test_accuracy = (test_predicted == y_test_tensor).float().mean().item()\n",
    "        test_accuracies.append(test_accuracy)\n",
    "    \n",
    "    # Print epoch results\n",
    "    print(f\"Epoch [{epoch+1}/{epochs}], Loss: {loss.item():.4f}, Train Accuracy: {train_accuracy:.4f}, Test Accuracy: {test_accuracy:.4f}\")\n",
    "\n",
    "# Evaluate final model\n",
    "model.eval()\n",
    "with torch.no_grad():\n",
    "    final_test_output = model(X_test_tensor)\n",
    "    _, final_test_predicted = torch.max(final_test_output, 1)\n",
    "    accuracy = accuracy_score(y_test, final_test_predicted.numpy())\n",
    "    print(f\"Final Test Accuracy: {accuracy:.2f}\")\n",
    "    print(\"Classification Report:\\n\", classification_report(y_test, final_test_predicted.numpy()))\n",
    "\n",
    "# Plot training vs validation accuracy\n",
    "plt.figure(figsize=(8, 6))\n",
    "plt.plot(train_accuracies, label='Train Accuracy', marker='o')\n",
    "plt.plot(test_accuracies, label='Test Accuracy', marker='s')\n",
    "plt.xlabel('Epochs')\n",
    "plt.ylabel('Accuracy')\n",
    "plt.title('LSTM with Regularization: Training vs. Validation Accuracy')\n",
    "plt.legend()\n",
    "plt.grid()\n",
    "plt.show()\n"
   ]
  },
  {
   "cell_type": "markdown",
   "metadata": {},
   "source": [
    "LSTM with dwt features\n"
   ]
  },
  {
   "cell_type": "code",
   "execution_count": 3,
   "metadata": {},
   "outputs": [
    {
     "ename": "MemoryError",
     "evalue": "Unable to allocate 12.3 GiB for an array with shape (275159, 2, 3006) and data type float64",
     "output_type": "error",
     "traceback": [
      "\u001b[31m---------------------------------------------------------------------------\u001b[39m",
      "\u001b[31mMemoryError\u001b[39m                               Traceback (most recent call last)",
      "\u001b[36mCell\u001b[39m\u001b[36m \u001b[39m\u001b[32mIn[3]\u001b[39m\u001b[32m, line 55\u001b[39m\n\u001b[32m     53\u001b[39m \u001b[38;5;66;03m# Normalize features\u001b[39;00m\n\u001b[32m     54\u001b[39m scaler = StandardScaler()\n\u001b[32m---> \u001b[39m\u001b[32m55\u001b[39m X_train = \u001b[43mnp\u001b[49m\u001b[43m.\u001b[49m\u001b[43marray\u001b[49m\u001b[43m(\u001b[49m\u001b[43m[\u001b[49m\u001b[43mscaler\u001b[49m\u001b[43m.\u001b[49m\u001b[43mfit_transform\u001b[49m\u001b[43m(\u001b[49m\u001b[43msample\u001b[49m\u001b[43m)\u001b[49m\u001b[43m \u001b[49m\u001b[38;5;28;43;01mfor\u001b[39;49;00m\u001b[43m \u001b[49m\u001b[43msample\u001b[49m\u001b[43m \u001b[49m\u001b[38;5;129;43;01min\u001b[39;49;00m\u001b[43m \u001b[49m\u001b[43mX_train\u001b[49m\u001b[43m]\u001b[49m\u001b[43m)\u001b[49m\n\u001b[32m     56\u001b[39m X_test = np.array([scaler.transform(sample) \u001b[38;5;28;01mfor\u001b[39;00m sample \u001b[38;5;129;01min\u001b[39;00m X_test])\n\u001b[32m     58\u001b[39m \u001b[38;5;66;03m# Convert to PyTorch tensors\u001b[39;00m\n",
      "\u001b[31mMemoryError\u001b[39m: Unable to allocate 12.3 GiB for an array with shape (275159, 2, 3006) and data type float64"
     ]
    }
   ],
   "source": [
    "import numpy as np\n",
    "import pywt\n",
    "import os\n",
    "import scipy.signal\n",
    "import torch\n",
    "import torch.nn as nn\n",
    "import torch.optim as optim\n",
    "from sklearn.model_selection import train_test_split\n",
    "from sklearn.preprocessing import LabelEncoder, StandardScaler\n",
    "from sklearn.metrics import accuracy_score, classification_report\n",
    "import matplotlib.pyplot as plt\n",
    "\n",
    "# Path to processed EEG epochs\n",
    "data_folder = \"processed_epochs\"\n",
    "\n",
    "# Function to compute DWT features\n",
    "def extract_dwt_features(eeg_epoch, wavelet='db4', level=1):\n",
    "    coeffs = pywt.wavedec(eeg_epoch, wavelet, level=level)\n",
    "    features = np.concatenate([c.flatten() for c in coeffs])  # Flatten all coefficients\n",
    "    return features\n",
    "\n",
    "X = []\n",
    "y = []\n",
    "\n",
    "for file in os.listdir(data_folder):\n",
    "    if file.endswith(\".npz\"):\n",
    "        data = np.load(os.path.join(data_folder, file))\n",
    "        eeg_epochs = data[\"eeg\"]  \n",
    "        labels = data[\"labels\"]\n",
    "\n",
    "        # Extract DWT features for each epoch\n",
    "        for i in range(eeg_epochs.shape[0]):\n",
    "            features = np.array([extract_dwt_features(eeg_epochs[i, ch]) for ch in range(eeg_epochs.shape[1])])\n",
    "            X.append(features)\n",
    "            y.append(labels[i])\n",
    "\n",
    "# Convert to NumPy arrays\n",
    "X = np.array(X)\n",
    "y = np.array(y)\n",
    "\n",
    "# Handle NaN/Inf values\n",
    "if np.isnan(X).any() or np.isinf(X).any():\n",
    "    print(\"Warning: NaN or Inf detected in feature matrix! Replacing with zero.\")\n",
    "    X = np.nan_to_num(X)\n",
    "\n",
    "# Encode labels\n",
    "label_encoder = LabelEncoder()\n",
    "y = label_encoder.fit_transform(y)\n",
    "\n",
    "# Split data into train (80%) and test (20%) sets\n",
    "X_train, X_test, y_train, y_test = train_test_split(X, y, test_size=0.2, random_state=42, stratify=y)\n",
    "\n",
    "# Normalize features\n",
    "scaler = StandardScaler()\n",
    "X_train = np.array([scaler.fit_transform(sample) for sample in X_train])\n",
    "X_test = np.array([scaler.transform(sample) for sample in X_test])\n",
    "\n",
    "# Convert to PyTorch tensors\n",
    "X_train_tensor = torch.tensor(X_train, dtype=torch.float32)\n",
    "X_test_tensor = torch.tensor(X_test, dtype=torch.float32)\n",
    "y_train_tensor = torch.tensor(y_train, dtype=torch.long)\n",
    "y_test_tensor = torch.tensor(y_test, dtype=torch.long)\n",
    "\n",
    "# Define LSTM Model with Regularization\n",
    "class EEGModel(nn.Module):\n",
    "    def __init__(self, input_size, num_classes):\n",
    "        super(EEGModel, self).__init__()\n",
    "        self.lstm1 = nn.LSTM(input_size, 64, batch_first=True, dropout=0.3)\n",
    "        self.lstm2 = nn.LSTM(64, 32, batch_first=True, dropout=0.3)\n",
    "        self.fc1 = nn.Linear(32, 32)\n",
    "        self.fc2 = nn.Linear(32, num_classes)\n",
    "        self.dropout = nn.Dropout(0.2)\n",
    "        \n",
    "    def forward(self, x):\n",
    "        x, _ = self.lstm1(x)\n",
    "        x, _ = self.lstm2(x)\n",
    "        x = x[:, -1, :]  # Take the output of the last LSTM time step\n",
    "        x = self.fc1(x)\n",
    "        x = self.dropout(x)\n",
    "        x = self.fc2(x)\n",
    "        return x\n",
    "\n",
    "# Initialize model, loss function, and optimizer\n",
    "model = EEGModel(input_size=X_train.shape[2], num_classes=len(np.unique(y)))\n",
    "criterion = nn.CrossEntropyLoss()\n",
    "optimizer = optim.Adam(model.parameters(), lr=0.001)\n",
    "\n",
    "# Training loop\n",
    "epochs = 30\n",
    "train_accuracies = []\n",
    "test_accuracies = []\n",
    "\n",
    "for epoch in range(epochs):\n",
    "    model.train()\n",
    "    optimizer.zero_grad()\n",
    "    \n",
    "    # Forward pass\n",
    "    output = model(X_train_tensor)\n",
    "    loss = criterion(output, y_train_tensor)\n",
    "    \n",
    "    # Backward pass and optimization\n",
    "    loss.backward()\n",
    "    optimizer.step()\n",
    "    \n",
    "    # Calculate train accuracy\n",
    "    _, predicted = torch.max(output, 1)\n",
    "    train_accuracy = (predicted == y_train_tensor).float().mean().item()\n",
    "    train_accuracies.append(train_accuracy)\n",
    "    \n",
    "    # Evaluate on test set\n",
    "    model.eval()\n",
    "    with torch.no_grad():\n",
    "        test_output = model(X_test_tensor)\n",
    "        _, test_predicted = torch.max(test_output, 1)\n",
    "        test_accuracy = (test_predicted == y_test_tensor).float().mean().item()\n",
    "        test_accuracies.append(test_accuracy)\n",
    "    \n",
    "    # Print epoch results\n",
    "    print(f\"Epoch [{epoch+1}/{epochs}], Loss: {loss.item():.4f}, Train Accuracy: {train_accuracy:.4f}, Test Accuracy: {test_accuracy:.4f}\")\n",
    "\n",
    "# Final evaluation\n",
    "model.eval()\n",
    "with torch.no_grad():\n",
    "    final_test_output = model(X_test_tensor)\n",
    "    _, final_test_predicted = torch.max(final_test_output, 1)\n",
    "    accuracy = accuracy_score(y_test, final_test_predicted.numpy())\n",
    "    print(f\"Final Test Accuracy: {accuracy:.2f}\")\n",
    "    print(\"Classification Report:\\n\", classification_report(y_test, final_test_predicted.numpy()))\n",
    "\n",
    "# Plot training vs validation accuracy\n",
    "plt.figure(figsize=(8, 6))\n",
    "plt.plot(train_accuracies, label='Train Accuracy', marker='o')\n",
    "plt.plot(test_accuracies, label='Test Accuracy', marker='s')\n",
    "plt.xlabel('Epochs')\n",
    "plt.ylabel('Accuracy')\n",
    "plt.title('LSTM with DWT Features: Training vs. Validation Accuracy')\n",
    "plt.legend()\n",
    "plt.grid()\n",
    "plt.show()\n"
   ]
  },
  {
   "cell_type": "markdown",
   "metadata": {},
   "source": [
    "after gpu optimization"
   ]
  },
  {
   "cell_type": "code",
   "execution_count": 3,
   "metadata": {},
   "outputs": [
    {
     "name": "stderr",
     "output_type": "stream",
     "text": [
      "c:\\my_new_environment\\venv\\Lib\\site-packages\\torch\\nn\\modules\\rnn.py:123: UserWarning: dropout option adds dropout after all but last recurrent layer, so non-zero dropout expects num_layers greater than 1, but got dropout=0.3 and num_layers=1\n",
      "  warnings.warn(\n"
     ]
    },
    {
     "name": "stdout",
     "output_type": "stream",
     "text": [
      "Epoch [1/30], Loss: 2.2188, Train Accuracy: 0.0015, Test Accuracy: 0.0008\n",
      "Epoch [2/30], Loss: 2.2062, Train Accuracy: 0.0014, Test Accuracy: 0.0008\n",
      "Epoch [3/30], Loss: 2.1939, Train Accuracy: 0.0016, Test Accuracy: 0.0008\n",
      "Epoch [4/30], Loss: 2.1819, Train Accuracy: 0.0017, Test Accuracy: 0.0008\n",
      "Epoch [5/30], Loss: 2.1696, Train Accuracy: 0.0021, Test Accuracy: 0.0008\n",
      "Epoch [6/30], Loss: 2.1574, Train Accuracy: 0.0020, Test Accuracy: 0.0008\n",
      "Epoch [7/30], Loss: 2.1452, Train Accuracy: 0.0021, Test Accuracy: 0.0008\n",
      "Epoch [8/30], Loss: 2.1327, Train Accuracy: 0.0025, Test Accuracy: 0.0008\n",
      "Epoch [9/30], Loss: 2.1196, Train Accuracy: 0.0029, Test Accuracy: 0.0009\n",
      "Epoch [10/30], Loss: 2.1066, Train Accuracy: 0.0038, Test Accuracy: 0.0009\n",
      "Epoch [11/30], Loss: 2.0923, Train Accuracy: 0.0087, Test Accuracy: 0.0009\n",
      "Epoch [12/30], Loss: 2.0780, Train Accuracy: 0.0232, Test Accuracy: 0.0014\n",
      "Epoch [13/30], Loss: 2.0628, Train Accuracy: 0.0601, Test Accuracy: 0.0023\n",
      "Epoch [14/30], Loss: 2.0467, Train Accuracy: 0.1291, Test Accuracy: 0.0095\n",
      "Epoch [15/30], Loss: 2.0294, Train Accuracy: 0.2266, Test Accuracy: 0.0285\n",
      "Epoch [16/30], Loss: 2.0109, Train Accuracy: 0.3324, Test Accuracy: 0.0682\n",
      "Epoch [17/30], Loss: 1.9918, Train Accuracy: 0.4232, Test Accuracy: 0.1295\n",
      "Epoch [18/30], Loss: 1.9712, Train Accuracy: 0.4868, Test Accuracy: 0.2085\n",
      "Epoch [19/30], Loss: 1.9486, Train Accuracy: 0.5322, Test Accuracy: 0.2846\n",
      "Epoch [20/30], Loss: 1.9247, Train Accuracy: 0.5525, Test Accuracy: 0.3583\n",
      "Epoch [21/30], Loss: 1.8986, Train Accuracy: 0.5638, Test Accuracy: 0.4168\n",
      "Epoch [22/30], Loss: 1.8706, Train Accuracy: 0.5707, Test Accuracy: 0.4624\n",
      "Epoch [23/30], Loss: 1.8416, Train Accuracy: 0.5705, Test Accuracy: 0.4971\n",
      "Epoch [24/30], Loss: 1.8092, Train Accuracy: 0.5722, Test Accuracy: 0.5197\n",
      "Epoch [25/30], Loss: 1.7753, Train Accuracy: 0.5716, Test Accuracy: 0.5346\n",
      "Epoch [26/30], Loss: 1.7392, Train Accuracy: 0.5701, Test Accuracy: 0.5456\n",
      "Epoch [27/30], Loss: 1.7016, Train Accuracy: 0.5689, Test Accuracy: 0.5535\n",
      "Epoch [28/30], Loss: 1.6608, Train Accuracy: 0.5689, Test Accuracy: 0.5592\n",
      "Epoch [29/30], Loss: 1.6192, Train Accuracy: 0.5691, Test Accuracy: 0.5621\n",
      "Epoch [30/30], Loss: 1.5773, Train Accuracy: 0.5678, Test Accuracy: 0.5655\n",
      "Final Test Accuracy: 0.57\n",
      "Classification Report:\n",
      "               precision    recall  f1-score   support\n",
      "\n",
      "           0       0.00      0.00      0.00         8\n",
      "           1       0.00      0.00      0.00       489\n",
      "           2       0.27      0.01      0.02      2388\n",
      "           3       0.00      0.00      0.00       336\n",
      "           4       0.00      0.00      0.00       197\n",
      "           5       0.00      0.00      0.00       181\n",
      "           6       0.00      0.00      0.00       971\n",
      "           7       0.57      0.99      0.72      6008\n",
      "\n",
      "    accuracy                           0.57     10578\n",
      "   macro avg       0.10      0.13      0.09     10578\n",
      "weighted avg       0.38      0.57      0.42     10578\n",
      "\n"
     ]
    },
    {
     "name": "stderr",
     "output_type": "stream",
     "text": [
      "c:\\my_new_environment\\venv\\Lib\\site-packages\\sklearn\\metrics\\_classification.py:1565: UndefinedMetricWarning: Precision is ill-defined and being set to 0.0 in labels with no predicted samples. Use `zero_division` parameter to control this behavior.\n",
      "  _warn_prf(average, modifier, f\"{metric.capitalize()} is\", len(result))\n",
      "c:\\my_new_environment\\venv\\Lib\\site-packages\\sklearn\\metrics\\_classification.py:1565: UndefinedMetricWarning: Precision is ill-defined and being set to 0.0 in labels with no predicted samples. Use `zero_division` parameter to control this behavior.\n",
      "  _warn_prf(average, modifier, f\"{metric.capitalize()} is\", len(result))\n",
      "c:\\my_new_environment\\venv\\Lib\\site-packages\\sklearn\\metrics\\_classification.py:1565: UndefinedMetricWarning: Precision is ill-defined and being set to 0.0 in labels with no predicted samples. Use `zero_division` parameter to control this behavior.\n",
      "  _warn_prf(average, modifier, f\"{metric.capitalize()} is\", len(result))\n"
     ]
    },
    {
     "data": {
      "image/png": "[encoded data removed]",
      "text/plain": [
       "<Figure size 800x600 with 1 Axes>"
      ]
     },
     "metadata": {},
     "output_type": "display_data"
    }
   ],
   "source": [
    "import numpy as np\n",
    "import pywt\n",
    "import os\n",
    "import torch\n",
    "import torch.nn as nn\n",
    "import torch.optim as optim\n",
    "from sklearn.model_selection import train_test_split\n",
    "from sklearn.preprocessing import LabelEncoder, StandardScaler\n",
    "from sklearn.metrics import accuracy_score, classification_report\n",
    "import matplotlib.pyplot as plt\n",
    "\n",
    "# Path to processed EEG epochs\n",
    "data_folder = \"processed_epochs\"\n",
    "\n",
    "# Function to compute DWT features\n",
    "def extract_dwt_features(eeg_epoch, wavelet='db4', level=1):\n",
    "    coeffs = pywt.wavedec(eeg_epoch, wavelet, level=level)\n",
    "    features = np.concatenate([c.flatten() for c in coeffs])  # Flatten all coefficients\n",
    "    return features\n",
    "\n",
    "X = []\n",
    "y = []\n",
    "\n",
    "for file in os.listdir(data_folder):\n",
    "    if file.endswith(\".npz\"):\n",
    "        data = np.load(os.path.join(data_folder, file))\n",
    "        eeg_epochs = data[\"eeg\"]  \n",
    "        labels = data[\"labels\"]\n",
    "\n",
    "        # Extract DWT features for each epoch\n",
    "        for i in range(eeg_epochs.shape[0]):\n",
    "            features = np.array([extract_dwt_features(eeg_epochs[i, ch]) for ch in range(eeg_epochs.shape[1])])\n",
    "            X.append(features)\n",
    "            y.append(labels[i])\n",
    "\n",
    "# Convert to NumPy arrays\n",
    "X = np.array(X)\n",
    "y = np.array(y)\n",
    "\n",
    "# Handle NaN/Inf values\n",
    "if np.isnan(X).any() or np.isinf(X).any():\n",
    "    print(\"Warning: NaN or Inf detected in feature matrix! Replacing with zero.\")\n",
    "    X = np.nan_to_num(X)\n",
    "\n",
    "# Encode labels\n",
    "label_encoder = LabelEncoder()\n",
    "y = label_encoder.fit_transform(y)\n",
    "\n",
    "# Split data into train (80%) and test (20%) sets\n",
    "X_train, X_test, y_train, y_test = train_test_split(X, y, test_size=0.2, random_state=42, stratify=y)\n",
    "\n",
    "# Normalize features\n",
    "scaler = StandardScaler()\n",
    "X_train = np.array([scaler.fit_transform(sample) for sample in X_train])\n",
    "X_test = np.array([scaler.transform(sample) for sample in X_test])\n",
    "\n",
    "# Convert to PyTorch tensors\n",
    "X_train_tensor = torch.tensor(X_train, dtype=torch.float32)\n",
    "X_test_tensor = torch.tensor(X_test, dtype=torch.float32)\n",
    "y_train_tensor = torch.tensor(y_train, dtype=torch.long)\n",
    "y_test_tensor = torch.tensor(y_test, dtype=torch.long)\n",
    "\n",
    "# Set the number of CPU threads (limit to 30)\n",
    "torch.set_num_threads(30)\n",
    "\n",
    "# Check if GPU is available, and move the model and data to GPU\n",
    "device = torch.device('cuda' if torch.cuda.is_available() else 'cpu')\n",
    "\n",
    "# Define LSTM Model with Regularization\n",
    "class EEGModel(nn.Module):\n",
    "    def __init__(self, input_size, num_classes):\n",
    "        super(EEGModel, self).__init__()\n",
    "        self.lstm1 = nn.LSTM(input_size, 64, batch_first=True, dropout=0.3)\n",
    "        self.lstm2 = nn.LSTM(64, 32, batch_first=True, dropout=0.3)\n",
    "        self.fc1 = nn.Linear(32, 32)\n",
    "        self.fc2 = nn.Linear(32, num_classes)\n",
    "        self.dropout = nn.Dropout(0.2)\n",
    "        \n",
    "    def forward(self, x):\n",
    "        x, _ = self.lstm1(x)\n",
    "        x, _ = self.lstm2(x)\n",
    "        x = x[:, -1, :]  # Take the output of the last LSTM time step\n",
    "        x = self.fc1(x)\n",
    "        x = self.dropout(x)\n",
    "        x = self.fc2(x)\n",
    "        return x\n",
    "\n",
    "# Initialize model, loss function, and optimizer\n",
    "model = EEGModel(input_size=X_train.shape[2], num_classes=len(np.unique(y)))\n",
    "model.to(device)  # Move the model to GPU (if available)\n",
    "criterion = nn.CrossEntropyLoss()\n",
    "optimizer = optim.Adam(model.parameters(), lr=0.001)\n",
    "\n",
    "# Training loop\n",
    "epochs = 30\n",
    "train_accuracies = []\n",
    "test_accuracies = []\n",
    "\n",
    "for epoch in range(epochs):\n",
    "    model.train()\n",
    "    optimizer.zero_grad()\n",
    "    \n",
    "    # Move data to device (GPU or CPU)\n",
    "    X_train_tensor = X_train_tensor.to(device)\n",
    "    y_train_tensor = y_train_tensor.to(device)\n",
    "    \n",
    "    # Forward pass\n",
    "    output = model(X_train_tensor)\n",
    "    loss = criterion(output, y_train_tensor)\n",
    "    \n",
    "    # Backward pass and optimization\n",
    "    loss.backward()\n",
    "    optimizer.step()\n",
    "    \n",
    "    # Calculate train accuracy\n",
    "    _, predicted = torch.max(output, 1)\n",
    "    train_accuracy = (predicted == y_train_tensor).float().mean().item()\n",
    "    train_accuracies.append(train_accuracy)\n",
    "    \n",
    "    # Evaluate on test set\n",
    "    model.eval()\n",
    "    with torch.no_grad():\n",
    "        X_test_tensor = X_test_tensor.to(device)\n",
    "        y_test_tensor = y_test_tensor.to(device)\n",
    "        test_output = model(X_test_tensor)\n",
    "        _, test_predicted = torch.max(test_output, 1)\n",
    "        test_accuracy = (test_predicted == y_test_tensor).float().mean().item()\n",
    "        test_accuracies.append(test_accuracy)\n",
    "    \n",
    "    # Print epoch results\n",
    "    print(f\"Epoch [{epoch+1}/{epochs}], Loss: {loss.item():.4f}, Train Accuracy: {train_accuracy:.4f}, Test Accuracy: {test_accuracy:.4f}\")\n",
    "\n",
    "# Final evaluation\n",
    "model.eval()\n",
    "with torch.no_grad():\n",
    "    final_test_output = model(X_test_tensor.to(device))\n",
    "    _, final_test_predicted = torch.max(final_test_output, 1)\n",
    "    accuracy = accuracy_score(y_test, final_test_predicted.cpu().numpy())\n",
    "    print(f\"Final Test Accuracy: {accuracy:.2f}\")\n",
    "    print(\"Classification Report:\\n\", classification_report(y_test, final_test_predicted.cpu().numpy()))\n",
    "\n",
    "# Plot training vs validation accuracy\n",
    "plt.figure(figsize=(8, 6))\n",
    "plt.plot(train_accuracies, label='Train Accuracy', marker='o')\n",
    "plt.plot(test_accuracies, label='Test Accuracy', marker='s')\n",
    "plt.xlabel('Epochs')\n",
    "plt.ylabel('Accuracy')\n",
    "plt.title('LSTM with DWT Features: Training vs. Validation Accuracy')\n",
    "plt.legend()\n",
    "plt.grid()\n",
    "plt.show()\n"
   ]
  },
  {
   "cell_type": "markdown",
   "metadata": {},
   "source": [
    "SleepEDFmodel"
   ]
  },
  {
   "cell_type": "code",
   "execution_count": null,
   "metadata": {},
   "outputs": [],
   "source": [
    "import numpy as np\n",
    "import torch\n",
    "import torch.nn as nn\n",
    "import torch.optim as optim\n",
    "from sklearn.model_selection import train_test_split\n",
    "from sklearn.preprocessing import LabelEncoder, StandardScaler\n",
    "from sklearn.metrics import accuracy_score, classification_report\n",
    "import matplotlib.pyplot as plt\n",
    "import pywt\n",
    "import os\n",
    "\n",
    "# Path to processed EEG epochs\n",
    "data_folder = \"processed_epochs\"\n",
    "\n",
    "# Function to compute DWT features\n",
    "def extract_dwt_features(eeg_epoch, wavelet='db4', level=1):\n",
    "    coeffs = pywt.wavedec(eeg_epoch, wavelet, level=level)\n",
    "    features = np.concatenate([c.flatten() for c in coeffs])  # Flatten all coefficients\n",
    "    return features\n",
    "\n",
    "# Load EEG data\n",
    "X = []\n",
    "y = []\n",
    "\n",
    "for file in os.listdir(data_folder):\n",
    "    if file.endswith(\".npz\"):\n",
    "        data = np.load(os.path.join(data_folder, file))\n",
    "        eeg_epochs = data[\"eeg\"]  \n",
    "        labels = data[\"labels\"]\n",
    "\n",
    "        # Extract DWT features for each epoch\n",
    "        for i in range(eeg_epochs.shape[0]):\n",
    "            features = np.array([extract_dwt_features(eeg_epochs[i, ch]) for ch in range(eeg_epochs.shape[1])])\n",
    "            X.append(features)\n",
    "            y.append(labels[i])\n",
    "\n",
    "# Convert to NumPy arrays\n",
    "X = np.array(X)\n",
    "y = np.array(y)\n",
    "\n",
    "# Handle NaN/Inf values\n",
    "if np.isnan(X).any() or np.isinf(X).any():\n",
    "    print(\"Warning: NaN or Inf detected in feature matrix! Replacing with zero.\")\n",
    "    X = np.nan_to_num(X)\n",
    "\n",
    "# Encode labels\n",
    "label_encoder = LabelEncoder()\n",
    "y = label_encoder.fit_transform(y)\n",
    "\n",
    "# Split data into train (80%) and test (20%) sets\n",
    "X_train, X_test, y_train, y_test = train_test_split(X, y, test_size=0.2, random_state=42, stratify=y)\n",
    "\n",
    "# Normalize features\n",
    "scaler = StandardScaler()\n",
    "X_train = np.array([scaler.fit_transform(sample) for sample in X_train])\n",
    "X_test = np.array([scaler.transform(sample) for sample in X_test])\n",
    "\n",
    "# Convert data to PyTorch tensors\n",
    "X_train_tensor = torch.tensor(X_train, dtype=torch.float32)\n",
    "y_train_tensor = torch.tensor(y_train, dtype=torch.long)\n",
    "X_test_tensor = torch.tensor(X_test, dtype=torch.float32)\n",
    "y_test_tensor = torch.tensor(y_test, dtype=torch.long)\n",
    "\n",
    "# Define the SleepEEGModel with LSTM in PyTorch\n",
    "class SleepEEGModel(nn.Module):\n",
    "    def __init__(self, input_size, num_classes):\n",
    "        super(SleepEEGModel, self).__init__()\n",
    "        self.lstm1 = nn.LSTM(input_size, 64, batch_first=True, dropout=0.3)\n",
    "        self.lstm2 = nn.LSTM(64, 32, batch_first=True, dropout=0.3)\n",
    "        self.fc1 = nn.Linear(32, 32)\n",
    "        self.fc2 = nn.Linear(32, num_classes)\n",
    "        self.dropout = nn.Dropout(0.2)\n",
    "        self.batch_norm1 = nn.BatchNorm1d(64)\n",
    "        self.batch_norm2 = nn.BatchNorm1d(32)\n",
    "\n",
    "    def forward(self, x):\n",
    "        x, _ = self.lstm1(x)\n",
    "        x = self.batch_norm1(x)\n",
    "        x = torch.relu(x)\n",
    "        x = self.dropout(x)\n",
    "        \n",
    "        x, _ = self.lstm2(x)\n",
    "        x = self.batch_norm2(x)\n",
    "        x = torch.relu(x)\n",
    "        x = self.dropout(x)\n",
    "        \n",
    "        x = x[:, -1, :]  # Take the last time step\n",
    "        x = self.fc1(x)\n",
    "        x = torch.relu(x)\n",
    "        x = self.fc2(x)\n",
    "        return x\n",
    "\n",
    "# Instantiate the model, loss function, and optimizer\n",
    "input_size = X_train.shape[2]  # Number of features per sample\n",
    "num_classes = len(np.unique(y))\n",
    "model = SleepEEGModel(input_size=input_size, num_classes=num_classes)\n",
    "\n",
    "criterion = nn.CrossEntropyLoss()\n",
    "optimizer = optim.Adam(model.parameters(), lr=0.001)\n",
    "\n",
    "# Training the model\n",
    "num_epochs = 30\n",
    "train_accuracies = []\n",
    "val_accuracies = []\n",
    "train_losses = []\n",
    "val_losses = []\n",
    "\n",
    "for epoch in range(num_epochs):\n",
    "    model.train()\n",
    "    optimizer.zero_grad()\n",
    "    \n",
    "    # Forward pass\n",
    "    outputs = model(X_train_tensor)\n",
    "    loss = criterion(outputs, y_train_tensor)\n",
    "    train_losses.append(loss.item())\n",
    "    \n",
    "    # Backward pass and optimization\n",
    "    loss.backward()\n",
    "    optimizer.step()\n",
    "\n",
    "    # Compute train accuracy\n",
    "    _, predicted = torch.max(outputs, 1)\n",
    "    train_accuracy = accuracy_score(y_train_tensor, predicted)\n",
    "    train_accuracies.append(train_accuracy)\n",
    "    \n",
    "    # Validation\n",
    "    model.eval()\n",
    "    with torch.no_grad():\n",
    "        outputs_val = model(X_test_tensor)\n",
    "        loss_val = criterion(outputs_val, y_test_tensor)\n",
    "        val_losses.append(loss_val.item())\n",
    "        \n",
    "        # Compute test accuracy\n",
    "        _, predicted_val = torch.max(outputs_val, 1)\n",
    "        val_accuracy = accuracy_score(y_test_tensor, predicted_val)\n",
    "        val_accuracies.append(val_accuracy)\n",
    "    \n",
    "    # Print progress\n",
    "    print(f\"Epoch [{epoch+1}/{num_epochs}], Loss: {loss.item():.4f}, Train Accuracy: {train_accuracy:.4f}, Val Accuracy: {val_accuracy:.4f}\")\n",
    "\n",
    "# Evaluate model\n",
    "print(\"\\nFinal Evaluation:\")\n",
    "print(f\"Final Train Accuracy: {train_accuracies[-1]:.4f}\")\n",
    "print(f\"Final Test Accuracy: {val_accuracies[-1]:.4f}\")\n",
    "print(\"Classification Report (Test Set):\\n\", classification_report(y_test, predicted_val))\n",
    "\n",
    "# Plot Training and Validation Accuracy\n",
    "plt.figure(figsize=(8, 6))\n",
    "plt.plot(train_accuracies, label='Train Accuracy', marker='o')\n",
    "plt.plot(val_accuracies, label='Test Accuracy', marker='s')\n",
    "plt.xlabel('Epochs')\n",
    "plt.ylabel('Accuracy')\n",
    "plt.title('Train and Test Accuracy (LSTM Model)')\n",
    "plt.legend()\n",
    "plt.grid()\n",
    "plt.show()\n",
    "\n",
    "# Plot Training and Validation Loss\n",
    "plt.figure(figsize=(8, 6))\n",
    "plt.plot(train_losses, label='Train Loss', marker='o')\n",
    "plt.plot(val_losses, label='Test Loss', marker='s')\n",
    "plt.xlabel('Epochs')\n",
    "plt.ylabel('Loss')\n",
    "plt.title('Train and Test Loss (LSTM Model)')\n",
    "plt.legend()\n",
    "plt.grid()\n",
    "plt.show()\n"
   ]
  },
  {
   "cell_type": "code",
   "execution_count": null,
   "metadata": {},
   "outputs": [],
   "source": [
    "import numpy as np\n",
    "import torch\n",
    "import torch.nn as nn\n",
    "import torch.optim as optim\n",
    "from sklearn.decomposition import PCA\n",
    "from sklearn.model_selection import train_test_split\n",
    "from sklearn.preprocessing import LabelEncoder, StandardScaler\n",
    "from sklearn.metrics import accuracy_score, classification_report\n",
    "import matplotlib.pyplot as plt\n",
    "import pywt\n",
    "import os\n",
    "\n",
    "# Path to processed EEG epochs\n",
    "data_folder = \"processed_epochs\"\n",
    "\n",
    "# Function to compute DWT features\n",
    "def extract_dwt_features(eeg_epoch, wavelet='db4', level=1):\n",
    "    coeffs = pywt.wavedec(eeg_epoch, wavelet, level=level)\n",
    "    features = np.concatenate([c.flatten() for c in coeffs])  # Flatten all coefficients\n",
    "    return features\n",
    "\n",
    "# Load EEG data\n",
    "X = []\n",
    "y = []\n",
    "\n",
    "for file in os.listdir(data_folder):\n",
    "    if file.endswith(\".npz\"):\n",
    "        data = np.load(os.path.join(data_folder, file))\n",
    "        eeg_epochs = data[\"eeg\"]  \n",
    "        labels = data[\"labels\"]\n",
    "\n",
    "        # Extract DWT features for each epoch\n",
    "        for i in range(eeg_epochs.shape[0]):\n",
    "            features = np.array([extract_dwt_features(eeg_epochs[i, ch]) for ch in range(eeg_epochs.shape[1])])\n",
    "            X.append(features)\n",
    "            y.append(labels[i])\n",
    "\n",
    "# Convert to NumPy arrays\n",
    "X = np.array(X)\n",
    "y = np.array(y)\n",
    "\n",
    "# Handle NaN/Inf values\n",
    "if np.isnan(X).any() or np.isinf(X).any():\n",
    "    print(\"Warning: NaN or Inf detected in feature matrix! Replacing with zero.\")\n",
    "    X = np.nan_to_num(X)\n",
    "\n",
    "# Encode labels\n",
    "label_encoder = LabelEncoder()\n",
    "y = label_encoder.fit_transform(y)\n",
    "\n",
    "# Split data into train (80%) and test (20%) sets\n",
    "X_train, X_test, y_train, y_test = train_test_split(X, y, test_size=0.2, random_state=42, stratify=y)\n",
    "\n",
    "# Normalize features\n",
    "scaler = StandardScaler()\n",
    "X_train = np.array([scaler.fit_transform(sample) for sample in X_train])\n",
    "X_test = np.array([scaler.transform(sample) for sample in X_test])\n",
    "\n",
    "# Apply PCA for dimensionality reduction\n",
    "pca = PCA(n_components=0.95)  # Retain 95% of variance\n",
    "X_train_pca = pca.fit_transform(X_train.reshape(X_train.shape[0], -1))  # Flatten for PCA\n",
    "X_test_pca = pca.transform(X_test.reshape(X_test.shape[0], -1))\n",
    "\n",
    "# Convert data to PyTorch tensors\n",
    "X_train_tensor = torch.tensor(X_train_pca, dtype=torch.float32)\n",
    "y_train_tensor = torch.tensor(y_train, dtype=torch.long)\n",
    "X_test_tensor = torch.tensor(X_test_pca, dtype=torch.float32)\n",
    "y_test_tensor = torch.tensor(y_test, dtype=torch.long)\n",
    "\n",
    "# Define the SleepEEGModel with LSTM in PyTorch\n",
    "class SleepEEGModel(nn.Module):\n",
    "    def __init__(self, input_size, num_classes):\n",
    "        super(SleepEEGModel, self).__init__()\n",
    "        self.lstm1 = nn.LSTM(input_size, 64, batch_first=True, dropout=0.3)\n",
    "        self.lstm2 = nn.LSTM(64, 32, batch_first=True, dropout=0.3)\n",
    "        self.fc1 = nn.Linear(32, 32)\n",
    "        self.fc2 = nn.Linear(32, num_classes)\n",
    "        self.dropout = nn.Dropout(0.2)\n",
    "        self.batch_norm1 = nn.BatchNorm1d(64)\n",
    "        self.batch_norm2 = nn.BatchNorm1d(32)\n",
    "\n",
    "    def forward(self, x):\n",
    "        x, _ = self.lstm1(x)\n",
    "        x = self.batch_norm1(x)\n",
    "        x = torch.relu(x)\n",
    "        x = self.dropout(x)\n",
    "        \n",
    "        x, _ = self.lstm2(x)\n",
    "        x = self.batch_norm2(x)\n",
    "        x = torch.relu(x)\n",
    "        x = self.dropout(x)\n",
    "        \n",
    "        x = x[:, -1, :]  # Take the last time step\n",
    "        x = self.fc1(x)\n",
    "        x = torch.relu(x)\n",
    "        x = self.fc2(x)\n",
    "        return x\n",
    "\n",
    "# Instantiate the model, loss function, and optimizer\n",
    "input_size = X_train_pca.shape[1]  # Number of features after PCA\n",
    "num_classes = len(np.unique(y))\n",
    "model = SleepEEGModel(input_size=input_size, num_classes=num_classes)\n",
    "\n",
    "criterion = nn.CrossEntropyLoss()\n",
    "optimizer = optim.Adam(model.parameters(), lr=0.001)\n",
    "\n",
    "# Training the model\n",
    "num_epochs = 30\n",
    "train_accuracies = []\n",
    "val_accuracies = []\n",
    "train_losses = []\n",
    "val_losses = []\n",
    "\n",
    "for epoch in range(num_epochs):\n",
    "    model.train()\n",
    "    optimizer.zero_grad()\n",
    "    \n",
    "    # Forward pass\n",
    "    outputs = model(X_train_tensor.unsqueeze(1))  # Add batch dimension for LSTM\n",
    "    loss = criterion(outputs, y_train_tensor)\n",
    "    train_losses.append(loss.item())\n",
    "    \n",
    "    # Backward pass and optimization\n",
    "    loss.backward()\n",
    "    optimizer.step()\n",
    "\n",
    "    # Compute train accuracy\n",
    "    _, predicted = torch.max(outputs, 1)\n",
    "    train_accuracy = accuracy_score(y_train_tensor, predicted)\n",
    "    train_accuracies.append(train_accuracy)\n",
    "    \n",
    "    # Validation\n",
    "    model.eval()\n",
    "    with torch.no_grad():\n",
    "        outputs_val = model(X_test_tensor.unsqueeze(1))  # Add batch dimension for LSTM\n",
    "        loss_val = criterion(outputs_val, y_test_tensor)\n",
    "        val_losses.append(loss_val.item())\n",
    "        \n",
    "        # Compute test accuracy\n",
    "        _, predicted_val = torch.max(outputs_val, 1)\n",
    "        val_accuracy = accuracy_score(y_test_tensor, predicted_val)\n",
    "        val_accuracies.append(val_accuracy)\n",
    "    \n",
    "    # Print progress\n",
    "    print(f\"Epoch [{epoch+1}/{num_epochs}], Loss: {loss.item():.4f}, Train Accuracy: {train_accuracy:.4f}, Val Accuracy: {val_accuracy:.4f}\")\n",
    "\n",
    "# Evaluate model\n",
    "print(\"\\nFinal Evaluation:\")\n",
    "print(f\"Final Train Accuracy: {train_accuracies[-1]:.4f}\")\n",
    "print(f\"Final Test Accuracy: {val_accuracies[-1]:.4f}\")\n",
    "print(\"Classification Report (Test Set):\\n\", classification_report(y_test, predicted_val))\n",
    "\n",
    "# Plot Training and Validation Accuracy\n",
    "plt.figure(figsize=(8, 6))\n",
    "plt.plot(train_accuracies, label='Train Accuracy', marker='o')\n",
    "plt.plot(val_accuracies, label='Test Accuracy', marker='s')\n",
    "plt.xlabel('Epochs')\n",
    "plt.ylabel('Accuracy')\n",
    "plt.title('Train and Test Accuracy (LSTM Model with PCA)')\n",
    "plt.legend()\n",
    "plt.grid()\n",
    "plt.show()\n",
    "\n",
    "# Plot Training and Validation Loss\n",
    "plt.figure(figsize=(8, 6))\n",
    "plt.plot(train_losses, label='Train Loss', marker='o')\n",
    "plt.plot(val_losses, label='Test Loss', marker='s')\n",
    "plt.xlabel('Epochs')\n",
    "plt.ylabel('Loss')\n",
    "plt.title('Train and Test Loss (LSTM Model with PCA)')\n",
    "plt.legend()\n",
    "plt.grid()\n",
    "plt.show()\n"
   ]
  },
  {
   "cell_type": "code",
   "execution_count": null,
   "metadata": {},
   "outputs": [],
   "source": []
  },
  {
   "cell_type": "code",
   "execution_count": 1,
   "metadata": {},
   "outputs": [
    {
     "name": "stdout",
     "output_type": "stream",
     "text": [
      "Using device: cuda\n"
     ]
    },
    {
     "name": "stderr",
     "output_type": "stream",
     "text": [
      "c:\\my_new_environment\\venv\\Lib\\site-packages\\torch\\nn\\modules\\rnn.py:123: UserWarning: dropout option adds dropout after all but last recurrent layer, so non-zero dropout expects num_layers greater than 1, but got dropout=0.3 and num_layers=1\n",
      "  warnings.warn(\n"
     ]
    },
    {
     "name": "stdout",
     "output_type": "stream",
     "text": [
      "Epoch [1/30], Train Loss: 1.6165, Train Accuracy: 0.1963, Val Loss: 1.6190, Val Accuracy: 0.1950\n",
      "Epoch [2/30], Train Loss: 1.6115, Train Accuracy: 0.1963, Val Loss: 1.6187, Val Accuracy: 0.1950\n",
      "Epoch [3/30], Train Loss: 1.6075, Train Accuracy: 0.1963, Val Loss: 1.6184, Val Accuracy: 0.1950\n",
      "Epoch [4/30], Train Loss: 1.6038, Train Accuracy: 0.1963, Val Loss: 1.6182, Val Accuracy: 0.1950\n",
      "Epoch [5/30], Train Loss: 1.5976, Train Accuracy: 0.1963, Val Loss: 1.6180, Val Accuracy: 0.1950\n",
      "Epoch [6/30], Train Loss: 1.5958, Train Accuracy: 0.1975, Val Loss: 1.6178, Val Accuracy: 0.1950\n",
      "Epoch [7/30], Train Loss: 1.5925, Train Accuracy: 0.1963, Val Loss: 1.6176, Val Accuracy: 0.1950\n",
      "Epoch [8/30], Train Loss: 1.5883, Train Accuracy: 0.2025, Val Loss: 1.6174, Val Accuracy: 0.1950\n",
      "Epoch [9/30], Train Loss: 1.5853, Train Accuracy: 0.2013, Val Loss: 1.6173, Val Accuracy: 0.1950\n",
      "Epoch [10/30], Train Loss: 1.5815, Train Accuracy: 0.2050, Val Loss: 1.6172, Val Accuracy: 0.1950\n",
      "Epoch [11/30], Train Loss: 1.5759, Train Accuracy: 0.2137, Val Loss: 1.6171, Val Accuracy: 0.1950\n",
      "Epoch [12/30], Train Loss: 1.5723, Train Accuracy: 0.2200, Val Loss: 1.6170, Val Accuracy: 0.1950\n",
      "Epoch [13/30], Train Loss: 1.5688, Train Accuracy: 0.2250, Val Loss: 1.6169, Val Accuracy: 0.1950\n",
      "Epoch [14/30], Train Loss: 1.5652, Train Accuracy: 0.2400, Val Loss: 1.6169, Val Accuracy: 0.1950\n",
      "Epoch [15/30], Train Loss: 1.5579, Train Accuracy: 0.2575, Val Loss: 1.6168, Val Accuracy: 0.1950\n",
      "Epoch [16/30], Train Loss: 1.5536, Train Accuracy: 0.2712, Val Loss: 1.6168, Val Accuracy: 0.1950\n",
      "Epoch [17/30], Train Loss: 1.5487, Train Accuracy: 0.2700, Val Loss: 1.6167, Val Accuracy: 0.1950\n",
      "Epoch [18/30], Train Loss: 1.5416, Train Accuracy: 0.3125, Val Loss: 1.6167, Val Accuracy: 0.1950\n",
      "Epoch [19/30], Train Loss: 1.5357, Train Accuracy: 0.3325, Val Loss: 1.6168, Val Accuracy: 0.1950\n",
      "Epoch [20/30], Train Loss: 1.5317, Train Accuracy: 0.3613, Val Loss: 1.6168, Val Accuracy: 0.1950\n",
      "Epoch [21/30], Train Loss: 1.5241, Train Accuracy: 0.3962, Val Loss: 1.6169, Val Accuracy: 0.1950\n",
      "Epoch [22/30], Train Loss: 1.5181, Train Accuracy: 0.4150, Val Loss: 1.6170, Val Accuracy: 0.1950\n",
      "Epoch [23/30], Train Loss: 1.5103, Train Accuracy: 0.4412, Val Loss: 1.6171, Val Accuracy: 0.1950\n",
      "Epoch [24/30], Train Loss: 1.5043, Train Accuracy: 0.4412, Val Loss: 1.6172, Val Accuracy: 0.1950\n",
      "Epoch [25/30], Train Loss: 1.4945, Train Accuracy: 0.5025, Val Loss: 1.6174, Val Accuracy: 0.1900\n",
      "Epoch [26/30], Train Loss: 1.4876, Train Accuracy: 0.5138, Val Loss: 1.6175, Val Accuracy: 0.1900\n",
      "Epoch [27/30], Train Loss: 1.4782, Train Accuracy: 0.5400, Val Loss: 1.6177, Val Accuracy: 0.1900\n",
      "Epoch [28/30], Train Loss: 1.4679, Train Accuracy: 0.5600, Val Loss: 1.6180, Val Accuracy: 0.1800\n",
      "Epoch [29/30], Train Loss: 1.4590, Train Accuracy: 0.5737, Val Loss: 1.6182, Val Accuracy: 0.1750\n",
      "Epoch [30/30], Train Loss: 1.4490, Train Accuracy: 0.6100, Val Loss: 1.6185, Val Accuracy: 0.1800\n",
      "\n",
      "Final Evaluation:\n",
      "Final Train Accuracy: 0.6100\n",
      "Final Test Accuracy: 0.1800\n"
     ]
    },
    {
     "ename": "TypeError",
     "evalue": "can't convert cuda:0 device type tensor to numpy. Use Tensor.cpu() to copy the tensor to host memory first.",
     "output_type": "error",
     "traceback": [
      "\u001b[31m---------------------------------------------------------------------------\u001b[39m",
      "\u001b[31mTypeError\u001b[39m                                 Traceback (most recent call last)",
      "\u001b[36mCell\u001b[39m\u001b[36m \u001b[39m\u001b[32mIn[1]\u001b[39m\u001b[32m, line 115\u001b[39m\n\u001b[32m    113\u001b[39m \u001b[38;5;28mprint\u001b[39m(\u001b[33mf\u001b[39m\u001b[33m\"\u001b[39m\u001b[33mFinal Train Accuracy: \u001b[39m\u001b[38;5;132;01m{\u001b[39;00mtrain_accuracies[-\u001b[32m1\u001b[39m]\u001b[38;5;132;01m:\u001b[39;00m\u001b[33m.4f\u001b[39m\u001b[38;5;132;01m}\u001b[39;00m\u001b[33m\"\u001b[39m)\n\u001b[32m    114\u001b[39m \u001b[38;5;28mprint\u001b[39m(\u001b[33mf\u001b[39m\u001b[33m\"\u001b[39m\u001b[33mFinal Test Accuracy: \u001b[39m\u001b[38;5;132;01m{\u001b[39;00mval_accuracies[-\u001b[32m1\u001b[39m]\u001b[38;5;132;01m:\u001b[39;00m\u001b[33m.4f\u001b[39m\u001b[38;5;132;01m}\u001b[39;00m\u001b[33m\"\u001b[39m)\n\u001b[32m--> \u001b[39m\u001b[32m115\u001b[39m \u001b[38;5;28mprint\u001b[39m(\u001b[33m\"\u001b[39m\u001b[33mClassification Report (Test Set):\u001b[39m\u001b[38;5;130;01m\\n\u001b[39;00m\u001b[33m\"\u001b[39m, \u001b[43mclassification_report\u001b[49m\u001b[43m(\u001b[49m\u001b[43my_test\u001b[49m\u001b[43m,\u001b[49m\u001b[43m \u001b[49m\u001b[43mpredicted_val\u001b[49m\u001b[43m)\u001b[49m)\n\u001b[32m    117\u001b[39m \u001b[38;5;66;03m# Plot Training and Validation Accuracy\u001b[39;00m\n\u001b[32m    118\u001b[39m \u001b[38;5;28;01mimport\u001b[39;00m\u001b[38;5;250m \u001b[39m\u001b[34;01mmatplotlib\u001b[39;00m\u001b[34;01m.\u001b[39;00m\u001b[34;01mpyplot\u001b[39;00m\u001b[38;5;250m \u001b[39m\u001b[38;5;28;01mas\u001b[39;00m\u001b[38;5;250m \u001b[39m\u001b[34;01mplt\u001b[39;00m\n",
      "\u001b[36mFile \u001b[39m\u001b[32mc:\\my_new_environment\\venv\\Lib\\site-packages\\sklearn\\utils\\_param_validation.py:216\u001b[39m, in \u001b[36mvalidate_params.<locals>.decorator.<locals>.wrapper\u001b[39m\u001b[34m(*args, **kwargs)\u001b[39m\n\u001b[32m    210\u001b[39m \u001b[38;5;28;01mtry\u001b[39;00m:\n\u001b[32m    211\u001b[39m     \u001b[38;5;28;01mwith\u001b[39;00m config_context(\n\u001b[32m    212\u001b[39m         skip_parameter_validation=(\n\u001b[32m    213\u001b[39m             prefer_skip_nested_validation \u001b[38;5;129;01mor\u001b[39;00m global_skip_validation\n\u001b[32m    214\u001b[39m         )\n\u001b[32m    215\u001b[39m     ):\n\u001b[32m--> \u001b[39m\u001b[32m216\u001b[39m         \u001b[38;5;28;01mreturn\u001b[39;00m \u001b[43mfunc\u001b[49m\u001b[43m(\u001b[49m\u001b[43m*\u001b[49m\u001b[43margs\u001b[49m\u001b[43m,\u001b[49m\u001b[43m \u001b[49m\u001b[43m*\u001b[49m\u001b[43m*\u001b[49m\u001b[43mkwargs\u001b[49m\u001b[43m)\u001b[49m\n\u001b[32m    217\u001b[39m \u001b[38;5;28;01mexcept\u001b[39;00m InvalidParameterError \u001b[38;5;28;01mas\u001b[39;00m e:\n\u001b[32m    218\u001b[39m     \u001b[38;5;66;03m# When the function is just a wrapper around an estimator, we allow\u001b[39;00m\n\u001b[32m    219\u001b[39m     \u001b[38;5;66;03m# the function to delegate validation to the estimator, but we replace\u001b[39;00m\n\u001b[32m    220\u001b[39m     \u001b[38;5;66;03m# the name of the estimator by the name of the function in the error\u001b[39;00m\n\u001b[32m    221\u001b[39m     \u001b[38;5;66;03m# message to avoid confusion.\u001b[39;00m\n\u001b[32m    222\u001b[39m     msg = re.sub(\n\u001b[32m    223\u001b[39m         \u001b[33mr\u001b[39m\u001b[33m\"\u001b[39m\u001b[33mparameter of \u001b[39m\u001b[33m\\\u001b[39m\u001b[33mw+ must be\u001b[39m\u001b[33m\"\u001b[39m,\n\u001b[32m    224\u001b[39m         \u001b[33mf\u001b[39m\u001b[33m\"\u001b[39m\u001b[33mparameter of \u001b[39m\u001b[38;5;132;01m{\u001b[39;00mfunc.\u001b[34m__qualname__\u001b[39m\u001b[38;5;132;01m}\u001b[39;00m\u001b[33m must be\u001b[39m\u001b[33m\"\u001b[39m,\n\u001b[32m    225\u001b[39m         \u001b[38;5;28mstr\u001b[39m(e),\n\u001b[32m    226\u001b[39m     )\n",
      "\u001b[36mFile \u001b[39m\u001b[32mc:\\my_new_environment\\venv\\Lib\\site-packages\\sklearn\\metrics\\_classification.py:2671\u001b[39m, in \u001b[36mclassification_report\u001b[39m\u001b[34m(y_true, y_pred, labels, target_names, sample_weight, digits, output_dict, zero_division)\u001b[39m\n\u001b[32m   2563\u001b[39m \u001b[38;5;250m\u001b[39m\u001b[33;03m\"\"\"Build a text report showing the main classification metrics.\u001b[39;00m\n\u001b[32m   2564\u001b[39m \n\u001b[32m   2565\u001b[39m \u001b[33;03mRead more in the :ref:`User Guide <classification_report>`.\u001b[39;00m\n\u001b[32m   (...)\u001b[39m\u001b[32m   2667\u001b[39m \u001b[33;03m<BLANKLINE>\u001b[39;00m\n\u001b[32m   2668\u001b[39m \u001b[33;03m\"\"\"\u001b[39;00m\n\u001b[32m   2670\u001b[39m y_true, y_pred = attach_unique(y_true, y_pred)\n\u001b[32m-> \u001b[39m\u001b[32m2671\u001b[39m y_type, y_true, y_pred = \u001b[43m_check_targets\u001b[49m\u001b[43m(\u001b[49m\u001b[43my_true\u001b[49m\u001b[43m,\u001b[49m\u001b[43m \u001b[49m\u001b[43my_pred\u001b[49m\u001b[43m)\u001b[49m\n\u001b[32m   2673\u001b[39m \u001b[38;5;28;01mif\u001b[39;00m labels \u001b[38;5;129;01mis\u001b[39;00m \u001b[38;5;28;01mNone\u001b[39;00m:\n\u001b[32m   2674\u001b[39m     labels = unique_labels(y_true, y_pred)\n",
      "\u001b[36mFile \u001b[39m\u001b[32mc:\\my_new_environment\\venv\\Lib\\site-packages\\sklearn\\metrics\\_classification.py:100\u001b[39m, in \u001b[36m_check_targets\u001b[39m\u001b[34m(y_true, y_pred)\u001b[39m\n\u001b[32m     98\u001b[39m check_consistent_length(y_true, y_pred)\n\u001b[32m     99\u001b[39m type_true = type_of_target(y_true, input_name=\u001b[33m\"\u001b[39m\u001b[33my_true\u001b[39m\u001b[33m\"\u001b[39m)\n\u001b[32m--> \u001b[39m\u001b[32m100\u001b[39m type_pred = \u001b[43mtype_of_target\u001b[49m\u001b[43m(\u001b[49m\u001b[43my_pred\u001b[49m\u001b[43m,\u001b[49m\u001b[43m \u001b[49m\u001b[43minput_name\u001b[49m\u001b[43m=\u001b[49m\u001b[33;43m\"\u001b[39;49m\u001b[33;43my_pred\u001b[39;49m\u001b[33;43m\"\u001b[39;49m\u001b[43m)\u001b[49m\n\u001b[32m    102\u001b[39m y_type = {type_true, type_pred}\n\u001b[32m    103\u001b[39m \u001b[38;5;28;01mif\u001b[39;00m y_type == {\u001b[33m\"\u001b[39m\u001b[33mbinary\u001b[39m\u001b[33m\"\u001b[39m, \u001b[33m\"\u001b[39m\u001b[33mmulticlass\u001b[39m\u001b[33m\"\u001b[39m}:\n",
      "\u001b[36mFile \u001b[39m\u001b[32mc:\\my_new_environment\\venv\\Lib\\site-packages\\sklearn\\utils\\multiclass.py:333\u001b[39m, in \u001b[36mtype_of_target\u001b[39m\u001b[34m(y, input_name, raise_unknown)\u001b[39m\n\u001b[32m    330\u001b[39m \u001b[38;5;28;01mif\u001b[39;00m sparse_pandas:\n\u001b[32m    331\u001b[39m     \u001b[38;5;28;01mraise\u001b[39;00m \u001b[38;5;167;01mValueError\u001b[39;00m(\u001b[33m\"\u001b[39m\u001b[33my cannot be class \u001b[39m\u001b[33m'\u001b[39m\u001b[33mSparseSeries\u001b[39m\u001b[33m'\u001b[39m\u001b[33m or \u001b[39m\u001b[33m'\u001b[39m\u001b[33mSparseArray\u001b[39m\u001b[33m'\u001b[39m\u001b[33m\"\u001b[39m)\n\u001b[32m--> \u001b[39m\u001b[32m333\u001b[39m \u001b[38;5;28;01mif\u001b[39;00m \u001b[43mis_multilabel\u001b[49m\u001b[43m(\u001b[49m\u001b[43my\u001b[49m\u001b[43m)\u001b[49m:\n\u001b[32m    334\u001b[39m     \u001b[38;5;28;01mreturn\u001b[39;00m \u001b[33m\"\u001b[39m\u001b[33mmultilabel-indicator\u001b[39m\u001b[33m\"\u001b[39m\n\u001b[32m    336\u001b[39m \u001b[38;5;66;03m# DeprecationWarning will be replaced by ValueError, see NEP 34\u001b[39;00m\n\u001b[32m    337\u001b[39m \u001b[38;5;66;03m# https://numpy.org/neps/nep-0034-infer-dtype-is-object.html\u001b[39;00m\n\u001b[32m    338\u001b[39m \u001b[38;5;66;03m# We therefore catch both deprecation (NumPy < 1.24) warning and\u001b[39;00m\n\u001b[32m    339\u001b[39m \u001b[38;5;66;03m# value error (NumPy >= 1.24).\u001b[39;00m\n",
      "\u001b[36mFile \u001b[39m\u001b[32mc:\\my_new_environment\\venv\\Lib\\site-packages\\sklearn\\utils\\multiclass.py:172\u001b[39m, in \u001b[36mis_multilabel\u001b[39m\u001b[34m(y)\u001b[39m\n\u001b[32m    170\u001b[39m warnings.simplefilter(\u001b[33m\"\u001b[39m\u001b[33merror\u001b[39m\u001b[33m\"\u001b[39m, VisibleDeprecationWarning)\n\u001b[32m    171\u001b[39m \u001b[38;5;28;01mtry\u001b[39;00m:\n\u001b[32m--> \u001b[39m\u001b[32m172\u001b[39m     y = \u001b[43mcheck_array\u001b[49m\u001b[43m(\u001b[49m\u001b[43my\u001b[49m\u001b[43m,\u001b[49m\u001b[43m \u001b[49m\u001b[43mdtype\u001b[49m\u001b[43m=\u001b[49m\u001b[38;5;28;43;01mNone\u001b[39;49;00m\u001b[43m,\u001b[49m\u001b[43m \u001b[49m\u001b[43m*\u001b[49m\u001b[43m*\u001b[49m\u001b[43mcheck_y_kwargs\u001b[49m\u001b[43m)\u001b[49m\n\u001b[32m    173\u001b[39m \u001b[38;5;28;01mexcept\u001b[39;00m (VisibleDeprecationWarning, \u001b[38;5;167;01mValueError\u001b[39;00m) \u001b[38;5;28;01mas\u001b[39;00m e:\n\u001b[32m    174\u001b[39m     \u001b[38;5;28;01mif\u001b[39;00m \u001b[38;5;28mstr\u001b[39m(e).startswith(\u001b[33m\"\u001b[39m\u001b[33mComplex data not supported\u001b[39m\u001b[33m\"\u001b[39m):\n",
      "\u001b[36mFile \u001b[39m\u001b[32mc:\\my_new_environment\\venv\\Lib\\site-packages\\sklearn\\utils\\validation.py:1055\u001b[39m, in \u001b[36mcheck_array\u001b[39m\u001b[34m(array, accept_sparse, accept_large_sparse, dtype, order, copy, force_writeable, force_all_finite, ensure_all_finite, ensure_non_negative, ensure_2d, allow_nd, ensure_min_samples, ensure_min_features, estimator, input_name)\u001b[39m\n\u001b[32m   1053\u001b[39m         array = xp.astype(array, dtype, copy=\u001b[38;5;28;01mFalse\u001b[39;00m)\n\u001b[32m   1054\u001b[39m     \u001b[38;5;28;01melse\u001b[39;00m:\n\u001b[32m-> \u001b[39m\u001b[32m1055\u001b[39m         array = \u001b[43m_asarray_with_order\u001b[49m\u001b[43m(\u001b[49m\u001b[43marray\u001b[49m\u001b[43m,\u001b[49m\u001b[43m \u001b[49m\u001b[43morder\u001b[49m\u001b[43m=\u001b[49m\u001b[43morder\u001b[49m\u001b[43m,\u001b[49m\u001b[43m \u001b[49m\u001b[43mdtype\u001b[49m\u001b[43m=\u001b[49m\u001b[43mdtype\u001b[49m\u001b[43m,\u001b[49m\u001b[43m \u001b[49m\u001b[43mxp\u001b[49m\u001b[43m=\u001b[49m\u001b[43mxp\u001b[49m\u001b[43m)\u001b[49m\n\u001b[32m   1056\u001b[39m \u001b[38;5;28;01mexcept\u001b[39;00m ComplexWarning \u001b[38;5;28;01mas\u001b[39;00m complex_warning:\n\u001b[32m   1057\u001b[39m     \u001b[38;5;28;01mraise\u001b[39;00m \u001b[38;5;167;01mValueError\u001b[39;00m(\n\u001b[32m   1058\u001b[39m         \u001b[33m\"\u001b[39m\u001b[33mComplex data not supported\u001b[39m\u001b[38;5;130;01m\\n\u001b[39;00m\u001b[38;5;132;01m{}\u001b[39;00m\u001b[38;5;130;01m\\n\u001b[39;00m\u001b[33m\"\u001b[39m.format(array)\n\u001b[32m   1059\u001b[39m     ) \u001b[38;5;28;01mfrom\u001b[39;00m\u001b[38;5;250m \u001b[39m\u001b[34;01mcomplex_warning\u001b[39;00m\n",
      "\u001b[36mFile \u001b[39m\u001b[32mc:\\my_new_environment\\venv\\Lib\\site-packages\\sklearn\\utils\\_array_api.py:839\u001b[39m, in \u001b[36m_asarray_with_order\u001b[39m\u001b[34m(array, dtype, order, copy, xp, device)\u001b[39m\n\u001b[32m    837\u001b[39m     array = numpy.array(array, order=order, dtype=dtype)\n\u001b[32m    838\u001b[39m \u001b[38;5;28;01melse\u001b[39;00m:\n\u001b[32m--> \u001b[39m\u001b[32m839\u001b[39m     array = \u001b[43mnumpy\u001b[49m\u001b[43m.\u001b[49m\u001b[43masarray\u001b[49m\u001b[43m(\u001b[49m\u001b[43marray\u001b[49m\u001b[43m,\u001b[49m\u001b[43m \u001b[49m\u001b[43morder\u001b[49m\u001b[43m=\u001b[49m\u001b[43morder\u001b[49m\u001b[43m,\u001b[49m\u001b[43m \u001b[49m\u001b[43mdtype\u001b[49m\u001b[43m=\u001b[49m\u001b[43mdtype\u001b[49m\u001b[43m)\u001b[49m\n\u001b[32m    841\u001b[39m \u001b[38;5;66;03m# At this point array is a NumPy ndarray. We convert it to an array\u001b[39;00m\n\u001b[32m    842\u001b[39m \u001b[38;5;66;03m# container that is consistent with the input's namespace.\u001b[39;00m\n\u001b[32m    843\u001b[39m \u001b[38;5;28;01mreturn\u001b[39;00m xp.asarray(array)\n",
      "\u001b[36mFile \u001b[39m\u001b[32mc:\\my_new_environment\\venv\\Lib\\site-packages\\torch\\_tensor.py:1194\u001b[39m, in \u001b[36mTensor.__array__\u001b[39m\u001b[34m(self, dtype)\u001b[39m\n\u001b[32m   1192\u001b[39m     \u001b[38;5;28;01mreturn\u001b[39;00m handle_torch_function(Tensor.__array__, (\u001b[38;5;28mself\u001b[39m,), \u001b[38;5;28mself\u001b[39m, dtype=dtype)\n\u001b[32m   1193\u001b[39m \u001b[38;5;28;01mif\u001b[39;00m dtype \u001b[38;5;129;01mis\u001b[39;00m \u001b[38;5;28;01mNone\u001b[39;00m:\n\u001b[32m-> \u001b[39m\u001b[32m1194\u001b[39m     \u001b[38;5;28;01mreturn\u001b[39;00m \u001b[38;5;28;43mself\u001b[39;49m\u001b[43m.\u001b[49m\u001b[43mnumpy\u001b[49m\u001b[43m(\u001b[49m\u001b[43m)\u001b[49m\n\u001b[32m   1195\u001b[39m \u001b[38;5;28;01melse\u001b[39;00m:\n\u001b[32m   1196\u001b[39m     \u001b[38;5;28;01mreturn\u001b[39;00m \u001b[38;5;28mself\u001b[39m.numpy().astype(dtype, copy=\u001b[38;5;28;01mFalse\u001b[39;00m)\n",
      "\u001b[31mTypeError\u001b[39m: can't convert cuda:0 device type tensor to numpy. Use Tensor.cpu() to copy the tensor to host memory first."
     ]
    }
   ],
   "source": [
    "import numpy as np\n",
    "import torch\n",
    "import torch.nn as nn\n",
    "import torch.optim as optim\n",
    "from sklearn.decomposition import PCA\n",
    "from sklearn.model_selection import train_test_split\n",
    "from sklearn.preprocessing import LabelEncoder, StandardScaler\n",
    "from sklearn.metrics import accuracy_score, classification_report\n",
    "import os\n",
    "\n",
    "# Ensure PyTorch Uses GPU\n",
    "device = torch.device(\"cuda\" if torch.cuda.is_available() else \"cpu\")\n",
    "print(f\"Using device: {device}\")\n",
    "\n",
    "# Load EEG data\n",
    "X = np.random.randn(1000, 32, 300)  # (Samples, Channels, Time)\n",
    "y = np.random.randint(0, 5, 1000)   # 5 classes\n",
    "\n",
    "# Encode labels\n",
    "label_encoder = LabelEncoder()\n",
    "y = label_encoder.fit_transform(y)\n",
    "\n",
    "# Split dataset\n",
    "X_train, X_test, y_train, y_test = train_test_split(X, y, test_size=0.2, random_state=42, stratify=y)\n",
    "\n",
    "# Normalize features\n",
    "scaler = StandardScaler()\n",
    "X_train = np.array([scaler.fit_transform(sample) for sample in X_train])\n",
    "X_test = np.array([scaler.transform(sample) for sample in X_test])\n",
    "\n",
    "# Apply PCA (Flatten first)\n",
    "pca = PCA(n_components=0.95)\n",
    "X_train_pca = pca.fit_transform(X_train.reshape(X_train.shape[0], -1))\n",
    "X_test_pca = pca.transform(X_test.reshape(X_test.shape[0], -1))\n",
    "\n",
    "# Convert to PyTorch tensors and move to GPU\n",
    "X_train_tensor = torch.tensor(X_train_pca, dtype=torch.float32).to(device)\n",
    "y_train_tensor = torch.tensor(y_train, dtype=torch.long).to(device)\n",
    "X_test_tensor = torch.tensor(X_test_pca, dtype=torch.float32).to(device)\n",
    "y_test_tensor = torch.tensor(y_test, dtype=torch.long).to(device)\n",
    "\n",
    "# ✅ Fixed LSTM Model\n",
    "class SleepEEGModel(nn.Module):\n",
    "    def __init__(self, input_size, num_classes):\n",
    "        super(SleepEEGModel, self).__init__()\n",
    "        self.lstm1 = nn.LSTM(input_size, 64, batch_first=True, dropout=0.3)\n",
    "        self.lstm2 = nn.LSTM(64, 32, batch_first=True, dropout=0.3)\n",
    "        self.fc1 = nn.Linear(32, 32)\n",
    "        self.fc2 = nn.Linear(32, num_classes)\n",
    "        self.dropout = nn.Dropout(0.2)\n",
    "\n",
    "    def forward(self, x):\n",
    "        x, _ = self.lstm1(x)\n",
    "        x, _ = self.lstm2(x)\n",
    "        x = x[:, -1, :]  # Take last time step\n",
    "        x = torch.relu(self.fc1(x))\n",
    "        x = self.dropout(x)\n",
    "        x = self.fc2(x)\n",
    "        return x\n",
    "\n",
    "# Instantiate model and move to GPU\n",
    "input_size = X_train_pca.shape[1]\n",
    "num_classes = len(np.unique(y))\n",
    "model = SleepEEGModel(input_size=input_size, num_classes=num_classes).to(device)\n",
    "\n",
    "# Loss and optimizer\n",
    "criterion = nn.CrossEntropyLoss()\n",
    "optimizer = optim.Adam(model.parameters(), lr=0.001)\n",
    "\n",
    "# Training loop\n",
    "num_epochs = 30\n",
    "train_accuracies = []\n",
    "train_losses = []\n",
    "val_accuracies = []\n",
    "val_losses = []\n",
    "\n",
    "for epoch in range(num_epochs):\n",
    "    model.train()\n",
    "    optimizer.zero_grad()\n",
    "\n",
    "    # Forward pass\n",
    "    outputs = model(X_train_tensor.unsqueeze(1))  # Add batch dimension for LSTM\n",
    "    loss = criterion(outputs, y_train_tensor)\n",
    "\n",
    "    loss.backward()\n",
    "    optimizer.step()\n",
    "\n",
    "    # Compute training accuracy\n",
    "    _, predicted = torch.max(outputs, 1)\n",
    "    train_accuracy = accuracy_score(y_train_tensor.cpu(), predicted.cpu())\n",
    "    train_accuracies.append(train_accuracy)\n",
    "    train_losses.append(loss.item())\n",
    "\n",
    "    # Validation\n",
    "    model.eval()\n",
    "    with torch.no_grad():\n",
    "        outputs_val = model(X_test_tensor.unsqueeze(1))  # Add batch dimension for LSTM\n",
    "        loss_val = criterion(outputs_val, y_test_tensor)\n",
    "\n",
    "        # Compute validation accuracy\n",
    "        _, predicted_val = torch.max(outputs_val, 1)\n",
    "        val_accuracy = accuracy_score(y_test_tensor.cpu(), predicted_val.cpu())\n",
    "        val_accuracies.append(val_accuracy)\n",
    "        val_losses.append(loss_val.item())\n",
    "    \n",
    "    # Print progress\n",
    "    print(f\"Epoch [{epoch+1}/{num_epochs}], \"\n",
    "          f\"Train Loss: {loss.item():.4f}, Train Accuracy: {train_accuracy:.4f}, \"\n",
    "          f\"Val Loss: {loss_val.item():.4f}, Val Accuracy: {val_accuracy:.4f}\")\n",
    "\n",
    "# Final Evaluation\n",
    "print(\"\\nFinal Evaluation:\")\n",
    "print(f\"Final Train Accuracy: {train_accuracies[-1]:.4f}\")\n",
    "print(f\"Final Test Accuracy: {val_accuracies[-1]:.4f}\")\n",
    "print(\"Classification Report (Test Set):\\n\", classification_report(y_test, predicted_val))\n",
    "\n",
    "# Plot Training and Validation Accuracy\n",
    "import matplotlib.pyplot as plt\n",
    "plt.figure(figsize=(8, 6))\n",
    "plt.plot(train_accuracies, label='Train Accuracy', marker='o')\n",
    "plt.plot(val_accuracies, label='Test Accuracy', marker='s')\n",
    "plt.xlabel('Epochs')\n",
    "plt.ylabel('Accuracy')\n",
    "plt.title('Train and Test Accuracy (LSTM Model with PCA)')\n",
    "plt.legend()\n",
    "plt.grid()\n",
    "plt.show()\n",
    "\n",
    "# Plot Training and Validation Loss\n",
    "plt.figure(figsize=(8, 6))\n",
    "plt.plot(train_losses, label='Train Loss', marker='o')\n",
    "plt.plot(val_losses, label='Test Loss', marker='s')\n",
    "plt.xlabel('Epochs')\n",
    "plt.ylabel('Loss')\n",
    "plt.title('Train and Test Loss (LSTM Model with PCA)')\n",
    "plt.legend()\n",
    "plt.grid()\n",
    "plt.show()\n"
   ]
  },
  {
   "cell_type": "code",
   "execution_count": 2,
   "metadata": {},
   "outputs": [
    {
     "name": "stdout",
     "output_type": "stream",
     "text": [
      "\n",
      "Final Evaluation:\n",
      "Final Train Accuracy: 0.6100\n",
      "Final Test Accuracy: 0.1800\n",
      "Classification Report (Test Set):\n",
      "               precision    recall  f1-score   support\n",
      "\n",
      "           0       0.19      0.87      0.31        39\n",
      "           1       0.00      0.00      0.00        37\n",
      "           2       0.11      0.02      0.04        41\n",
      "           3       0.00      0.00      0.00        41\n",
      "           4       0.12      0.02      0.04        42\n",
      "\n",
      "    accuracy                           0.18       200\n",
      "   macro avg       0.08      0.18      0.08       200\n",
      "weighted avg       0.09      0.18      0.08       200\n",
      "\n"
     ]
    },
    {
     "name": "stderr",
     "output_type": "stream",
     "text": [
      "c:\\my_new_environment\\venv\\Lib\\site-packages\\sklearn\\metrics\\_classification.py:1565: UndefinedMetricWarning: Precision is ill-defined and being set to 0.0 in labels with no predicted samples. Use `zero_division` parameter to control this behavior.\n",
      "  _warn_prf(average, modifier, f\"{metric.capitalize()} is\", len(result))\n",
      "c:\\my_new_environment\\venv\\Lib\\site-packages\\sklearn\\metrics\\_classification.py:1565: UndefinedMetricWarning: Precision is ill-defined and being set to 0.0 in labels with no predicted samples. Use `zero_division` parameter to control this behavior.\n",
      "  _warn_prf(average, modifier, f\"{metric.capitalize()} is\", len(result))\n",
      "c:\\my_new_environment\\venv\\Lib\\site-packages\\sklearn\\metrics\\_classification.py:1565: UndefinedMetricWarning: Precision is ill-defined and being set to 0.0 in labels with no predicted samples. Use `zero_division` parameter to control this behavior.\n",
      "  _warn_prf(average, modifier, f\"{metric.capitalize()} is\", len(result))\n"
     ]
    },
    {
     "data": {
      "image/png": "[encoded data removed]",
      "text/plain": [
       "<Figure size 800x600 with 1 Axes>"
      ]
     },
     "metadata": {},
     "output_type": "display_data"
    },
    {
     "data": {
      "image/png": "[encoded data removed]",
      "text/plain": [
       "<Figure size 800x600 with 1 Axes>"
      ]
     },
     "metadata": {},
     "output_type": "display_data"
    }
   ],
   "source": [
    "# Final Evaluation\n",
    "print(\"\\nFinal Evaluation:\")\n",
    "print(f\"Final Train Accuracy: {train_accuracies[-1]:.4f}\")\n",
    "print(f\"Final Test Accuracy: {val_accuracies[-1]:.4f}\")\n",
    "\n",
    "# Convert tensors to CPU and NumPy arrays before using classification_report\n",
    "y_test_cpu = y_test_tensor.cpu().numpy()\n",
    "predicted_val_cpu = predicted_val.cpu().numpy()\n",
    "\n",
    "# Print classification report for the test set\n",
    "print(\"Classification Report (Test Set):\\n\", classification_report(y_test_cpu, predicted_val_cpu))\n",
    "\n",
    "# Plot Training and Validation Accuracy\n",
    "import matplotlib.pyplot as plt\n",
    "plt.figure(figsize=(8, 6))\n",
    "plt.plot(train_accuracies, label='Train Accuracy', marker='o')\n",
    "plt.plot(val_accuracies, label='Test Accuracy', marker='s')\n",
    "plt.xlabel('Epochs')\n",
    "plt.ylabel('Accuracy')\n",
    "plt.title('Train and Test Accuracy (LSTM Model with PCA)')\n",
    "plt.legend()\n",
    "plt.grid()\n",
    "plt.show()\n",
    "\n",
    "# Plot Training and Validation Loss\n",
    "plt.figure(figsize=(8, 6))\n",
    "plt.plot(train_losses, label='Train Loss', marker='o')\n",
    "plt.plot(val_losses, label='Test Loss', marker='s')\n",
    "plt.xlabel('Epochs')\n",
    "plt.ylabel('Loss')\n",
    "plt.title('Train and Test Loss (LSTM Model with PCA)')\n",
    "plt.legend()\n",
    "plt.grid()\n",
    "plt.show()\n"
   ]
  }
 ],
 "metadata": {
  "kernelspec": {
   "display_name": "venv",
   "language": "python",
   "name": "python3"
  },
  "language_info": {
   "codemirror_mode": {
    "name": "ipython",
    "version": 3
   },
   "file_extension": ".py",
   "mimetype": "text/x-python",
   "name": "python",
   "nbconvert_exporter": "python",
   "pygments_lexer": "ipython3",
   "version": "3.12.2"
  }
 },
 "nbformat": 4,
 "nbformat_minor": 2
}
