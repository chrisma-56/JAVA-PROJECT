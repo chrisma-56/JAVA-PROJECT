{
 "cells": [
  {
   "cell_type": "code",
   "execution_count": 1,
   "metadata": {},
   "outputs": [
    {
     "name": "stdout",
     "output_type": "stream",
     "text": [
      "⚠️ Warning: Hypnogram file not found for SC4801G0-PSG.edf\n",
      "⚠️ Warning: Hypnogram file not found for SC4802G0-PSG.edf\n",
      "⚠️ Warning: Hypnogram file not found for SC4812G0-PSG.edf\n",
      "✅ Matched: SC4092E0-PSG.edf <-> SC4092EC-Hypnogram.edf\n",
      "✅ Matched: SC4101E0-PSG.edf <-> SC4101EC-Hypnogram.edf\n",
      "✅ Matched: SC4102E0-PSG.edf <-> SC4102EC-Hypnogram.edf\n",
      "✅ Matched: SC4111E0-PSG.edf <-> SC4111EC-Hypnogram.edf\n",
      "✅ Matched: SC4112E0-PSG.edf <-> SC4112EC-Hypnogram.edf\n",
      "✅ Matched: SC4121E0-PSG.edf <-> SC4121EC-Hypnogram.edf\n",
      "✅ Matched: SC4122E0-PSG.edf <-> SC4122EV-Hypnogram.edf\n",
      "✅ Matched: SC4131E0-PSG.edf <-> SC4131EC-Hypnogram.edf\n",
      "✅ Matched: SC4141E0-PSG.edf <-> SC4141EU-Hypnogram.edf\n",
      "✅ Matched: SC4142E0-PSG.edf <-> SC4142EU-Hypnogram.edf\n",
      "✅ Matched: SC4151E0-PSG.edf <-> SC4151EC-Hypnogram.edf\n",
      "✅ Matched: SC4152E0-PSG.edf <-> SC4152EC-Hypnogram.edf\n",
      "✅ Matched: SC4161E0-PSG.edf <-> SC4161EC-Hypnogram.edf\n",
      "✅ Matched: SC4162E0-PSG.edf <-> SC4162EC-Hypnogram.edf\n",
      "✅ Matched: SC4171E0-PSG.edf <-> SC4171EU-Hypnogram.edf\n",
      "✅ Matched: SC4172E0-PSG.edf <-> SC4172EC-Hypnogram.edf\n",
      "✅ Matched: SC4181E0-PSG.edf <-> SC4181EC-Hypnogram.edf\n",
      "✅ Matched: SC4182E0-PSG.edf <-> SC4182EC-Hypnogram.edf\n",
      "✅ Matched: SC4191E0-PSG.edf <-> SC4191EP-Hypnogram.edf\n",
      "✅ Matched: SC4192E0-PSG.edf <-> SC4192EV-Hypnogram.edf\n",
      "✅ Matched: SC4201E0-PSG.edf <-> SC4201EC-Hypnogram.edf\n",
      "✅ Matched: SC4202E0-PSG.edf <-> SC4202EC-Hypnogram.edf\n",
      "✅ Matched: SC4211E0-PSG.edf <-> SC4211EC-Hypnogram.edf\n",
      "✅ Matched: SC4212E0-PSG.edf <-> SC4212EC-Hypnogram.edf\n",
      "✅ Matched: SC4221E0-PSG.edf <-> SC4221EJ-Hypnogram.edf\n",
      "✅ Matched: SC4222E0-PSG.edf <-> SC4222EC-Hypnogram.edf\n",
      "✅ Matched: SC4231E0-PSG.edf <-> SC4231EJ-Hypnogram.edf\n",
      "✅ Matched: SC4232E0-PSG.edf <-> SC4232EV-Hypnogram.edf\n",
      "✅ Matched: SC4241E0-PSG.edf <-> SC4241EC-Hypnogram.edf\n",
      "✅ Matched: SC4242E0-PSG.edf <-> SC4242EA-Hypnogram.edf\n",
      "✅ Matched: SC4251E0-PSG.edf <-> SC4251EP-Hypnogram.edf\n",
      "✅ Matched: SC4252E0-PSG.edf <-> SC4252EU-Hypnogram.edf\n",
      "✅ Matched: SC4261F0-PSG.edf <-> SC4261FM-Hypnogram.edf\n",
      "✅ Matched: SC4262F0-PSG.edf <-> SC4262FC-Hypnogram.edf\n",
      "✅ Matched: SC4271F0-PSG.edf <-> SC4271FC-Hypnogram.edf\n",
      "✅ Matched: SC4272F0-PSG.edf <-> SC4272FM-Hypnogram.edf\n",
      "✅ Matched: SC4281G0-PSG.edf <-> SC4281GC-Hypnogram.edf\n",
      "✅ Matched: SC4282G0-PSG.edf <-> SC4282GC-Hypnogram.edf\n",
      "✅ Matched: SC4291G0-PSG.edf <-> SC4291GA-Hypnogram.edf\n",
      "✅ Matched: SC4292G0-PSG.edf <-> SC4292GC-Hypnogram.edf\n",
      "✅ Matched: SC4311E0-PSG.edf <-> SC4311EC-Hypnogram.edf\n",
      "✅ Matched: SC4312E0-PSG.edf <-> SC4312EM-Hypnogram.edf\n",
      "✅ Matched: SC4321E0-PSG.edf <-> SC4321EC-Hypnogram.edf\n",
      "✅ Matched: SC4331F0-PSG.edf <-> SC4331FV-Hypnogram.edf\n",
      "✅ Matched: SC4332F0-PSG.edf <-> SC4332FC-Hypnogram.edf\n",
      "✅ Matched: SC4341F0-PSG.edf <-> SC4341FA-Hypnogram.edf\n",
      "✅ Matched: SC4342F0-PSG.edf <-> SC4342FA-Hypnogram.edf\n",
      "✅ Matched: SC4351F0-PSG.edf <-> SC4351FA-Hypnogram.edf\n",
      "✅ Matched: SC4352F0-PSG.edf <-> SC4352FV-Hypnogram.edf\n",
      "✅ Matched: SC4362F0-PSG.edf <-> SC4362FC-Hypnogram.edf\n",
      "✅ Matched: SC4371F0-PSG.edf <-> SC4371FA-Hypnogram.edf\n",
      "✅ Matched: SC4372F0-PSG.edf <-> SC4372FC-Hypnogram.edf\n",
      "✅ Matched: SC4381F0-PSG.edf <-> SC4381FC-Hypnogram.edf\n",
      "✅ Matched: SC4382F0-PSG.edf <-> SC4382FW-Hypnogram.edf\n",
      "✅ Matched: SC4401E0-PSG.edf <-> SC4401EC-Hypnogram.edf\n",
      "✅ Matched: SC4402E0-PSG.edf <-> SC4402EW-Hypnogram.edf\n",
      "✅ Matched: SC4411E0-PSG.edf <-> SC4411EJ-Hypnogram.edf\n",
      "✅ Matched: SC4412E0-PSG.edf <-> SC4412EM-Hypnogram.edf\n",
      "✅ Matched: SC4421E0-PSG.edf <-> SC4421EA-Hypnogram.edf\n",
      "✅ Matched: SC4422E0-PSG.edf <-> SC4422EA-Hypnogram.edf\n",
      "✅ Matched: SC4431E0-PSG.edf <-> SC4431EM-Hypnogram.edf\n",
      "✅ Matched: SC4432E0-PSG.edf <-> SC4432EM-Hypnogram.edf\n",
      "✅ Matched: SC4441E0-PSG.edf <-> SC4441EC-Hypnogram.edf\n",
      "✅ Matched: SC4442E0-PSG.edf <-> SC4442EV-Hypnogram.edf\n",
      "✅ Matched: SC4451F0-PSG.edf <-> SC4451FY-Hypnogram.edf\n",
      "✅ Matched: SC4452F0-PSG.edf <-> SC4452FW-Hypnogram.edf\n",
      "✅ Matched: SC4461F0-PSG.edf <-> SC4461FA-Hypnogram.edf\n",
      "✅ Matched: SC4462F0-PSG.edf <-> SC4462FJ-Hypnogram.edf\n",
      "✅ Matched: SC4471F0-PSG.edf <-> SC4471FA-Hypnogram.edf\n",
      "✅ Matched: SC4472F0-PSG.edf <-> SC4472FA-Hypnogram.edf\n",
      "✅ Matched: SC4481F0-PSG.edf <-> SC4481FV-Hypnogram.edf\n",
      "✅ Matched: SC4482F0-PSG.edf <-> SC4482FJ-Hypnogram.edf\n",
      "✅ Matched: SC4491G0-PSG.edf <-> SC4491GJ-Hypnogram.edf\n",
      "✅ Matched: SC4492G0-PSG.edf <-> SC4492GJ-Hypnogram.edf\n",
      "✅ Matched: SC4501E0-PSG.edf <-> SC4501EW-Hypnogram.edf\n",
      "✅ Matched: SC4502E0-PSG.edf <-> SC4502EM-Hypnogram.edf\n",
      "✅ Matched: SC4511E0-PSG.edf <-> SC4511EJ-Hypnogram.edf\n",
      "✅ Matched: SC4512E0-PSG.edf <-> SC4512EW-Hypnogram.edf\n",
      "✅ Matched: SC4522E0-PSG.edf <-> SC4522EM-Hypnogram.edf\n",
      "✅ Matched: SC4531E0-PSG.edf <-> SC4531EM-Hypnogram.edf\n",
      "✅ Matched: SC4532E0-PSG.edf <-> SC4532EV-Hypnogram.edf\n",
      "✅ Matched: SC4541F0-PSG.edf <-> SC4541FA-Hypnogram.edf\n",
      "✅ Matched: SC4542F0-PSG.edf <-> SC4542FW-Hypnogram.edf\n",
      "✅ Matched: SC4551F0-PSG.edf <-> SC4551FC-Hypnogram.edf\n",
      "✅ Matched: SC4552F0-PSG.edf <-> SC4552FW-Hypnogram.edf\n",
      "✅ Matched: SC4561F0-PSG.edf <-> SC4561FJ-Hypnogram.edf\n",
      "✅ Matched: SC4562F0-PSG.edf <-> SC4562FJ-Hypnogram.edf\n",
      "✅ Matched: SC4571F0-PSG.edf <-> SC4571FV-Hypnogram.edf\n",
      "✅ Matched: SC4572F0-PSG.edf <-> SC4572FC-Hypnogram.edf\n",
      "✅ Matched: SC4581G0-PSG.edf <-> SC4581GM-Hypnogram.edf\n",
      "✅ Matched: SC4582G0-PSG.edf <-> SC4582GP-Hypnogram.edf\n",
      "✅ Matched: SC4591G0-PSG.edf <-> SC4591GY-Hypnogram.edf\n",
      "✅ Matched: SC4592G0-PSG.edf <-> SC4592GY-Hypnogram.edf\n",
      "✅ Matched: SC4601E0-PSG.edf <-> SC4601EC-Hypnogram.edf\n",
      "✅ Matched: SC4602E0-PSG.edf <-> SC4602EJ-Hypnogram.edf\n",
      "✅ Matched: SC4611E0-PSG.edf <-> SC4611EG-Hypnogram.edf\n",
      "✅ Matched: SC4612E0-PSG.edf <-> SC4612EA-Hypnogram.edf\n",
      "✅ Matched: SC4621E0-PSG.edf <-> SC4621EV-Hypnogram.edf\n",
      "✅ Matched: SC4622E0-PSG.edf <-> SC4622EJ-Hypnogram.edf\n",
      "✅ Matched: SC4631E0-PSG.edf <-> SC4631EM-Hypnogram.edf\n",
      "✅ Matched: SC4632E0-PSG.edf <-> SC4632EA-Hypnogram.edf\n",
      "✅ Matched: SC4641E0-PSG.edf <-> SC4641EP-Hypnogram.edf\n",
      "✅ Matched: SC4651E0-PSG.edf <-> SC4651EP-Hypnogram.edf\n",
      "✅ Matched: SC4652E0-PSG.edf <-> SC4652EG-Hypnogram.edf\n",
      "✅ Matched: SC4661E0-PSG.edf <-> SC4661EJ-Hypnogram.edf\n",
      "✅ Matched: SC4662E0-PSG.edf <-> SC4662EJ-Hypnogram.edf\n",
      "✅ Matched: SC4671G0-PSG.edf <-> SC4671GJ-Hypnogram.edf\n",
      "✅ Matched: SC4672G0-PSG.edf <-> SC4672GV-Hypnogram.edf\n",
      "✅ Matched: SC4701E0-PSG.edf <-> SC4701EC-Hypnogram.edf\n",
      "✅ Matched: SC4702E0-PSG.edf <-> SC4702EA-Hypnogram.edf\n",
      "✅ Matched: SC4711E0-PSG.edf <-> SC4711EC-Hypnogram.edf\n",
      "✅ Matched: SC4712E0-PSG.edf <-> SC4712EA-Hypnogram.edf\n",
      "✅ Matched: SC4721E0-PSG.edf <-> SC4721EC-Hypnogram.edf\n",
      "✅ Matched: SC4722E0-PSG.edf <-> SC4722EM-Hypnogram.edf\n",
      "✅ Matched: SC4731E0-PSG.edf <-> SC4731EM-Hypnogram.edf\n",
      "✅ Matched: SC4732E0-PSG.edf <-> SC4732EJ-Hypnogram.edf\n",
      "✅ Matched: SC4751E0-PSG.edf <-> SC4751EC-Hypnogram.edf\n",
      "✅ Matched: SC4811G0-PSG.edf <-> SC4811GG-Hypnogram.edf\n",
      "✅ Matched: SC4821G0-PSG.edf <-> SC4821GC-Hypnogram.edf\n",
      "✅ Matched: SC4822G0-PSG.edf <-> SC4822GC-Hypnogram.edf\n",
      "✅ Matched: ST7192J0-PSG.edf <-> ST7192JR-Hypnogram.edf\n",
      "✅ Matched: ST7201J0-PSG.edf <-> ST7201JO-Hypnogram.edf\n",
      "✅ Matched: ST7202J0-PSG.edf <-> ST7202JO-Hypnogram.edf\n",
      "✅ Matched: ST7211J0-PSG.edf <-> ST7211JJ-Hypnogram.edf\n",
      "✅ Matched: ST7212J0-PSG.edf <-> ST7212JJ-Hypnogram.edf\n",
      "✅ Matched: ST7221J0-PSG.edf <-> ST7221JA-Hypnogram.edf\n",
      "✅ Matched: ST7222J0-PSG.edf <-> ST7222JA-Hypnogram.edf\n",
      "✅ Matched: ST7241J0-PSG.edf <-> ST7241JO-Hypnogram.edf\n",
      "✅ Matched: ST7242J0-PSG.edf <-> ST7242JO-Hypnogram.edf\n"
     ]
    }
   ],
   "source": [
    "import os\n",
    "\n",
    "edf_folder = r\"E:\\sleep_full_dataset\"  # Change this to the correct folder path\n",
    "\n",
    "# Get all files in the folder\n",
    "all_files = os.listdir(edf_folder)\n",
    "\n",
    "# Extract PSG and Hypnogram file lists\n",
    "psg_files = [f for f in all_files if \"-PSG.edf\" in f]\n",
    "hypnogram_files = [f for f in all_files if \"-Hypnogram.edf\" in f]\n",
    "\n",
    "# Extract subject IDs using only the first 7 characters (e.g., \"SC4022\")\n",
    "psg_subjects = {f[:7]: f for f in psg_files}\n",
    "hypnogram_subjects = {f[:7]: f for f in hypnogram_files}\n",
    "\n",
    "# Find matching PSG & Hypnogram pairs\n",
    "matched_files = []\n",
    "for subject_id, psg_file in psg_subjects.items():\n",
    "    if subject_id in hypnogram_subjects:\n",
    "        matched_files.append((psg_file, hypnogram_subjects[subject_id]))\n",
    "    else:\n",
    "        print(f\"⚠️ Warning: Hypnogram file not found for {psg_file}\")\n",
    "\n",
    "# Print matched PSG-Hypnogram pairs\n",
    "for psg, hypnogram in matched_files:\n",
    "    print(f\"✅ Matched: {psg} <-> {hypnogram}\")"
   ]
  },
  {
   "cell_type": "code",
   "execution_count": 5,
   "metadata": {},
   "outputs": [
    {
     "name": "stderr",
     "output_type": "stream",
     "text": [
      "Processing EEG Data:   1%|          | 1/129 [00:11<23:33, 11.05s/it]"
     ]
    },
    {
     "name": "stdout",
     "output_type": "stream",
     "text": [
      "Processed and saved: SC4092E0-PSG.edf\n"
     ]
    },
    {
     "name": "stderr",
     "output_type": "stream",
     "text": [
      "Processing EEG Data:   2%|▏         | 2/129 [00:21<22:29, 10.62s/it]"
     ]
    },
    {
     "name": "stdout",
     "output_type": "stream",
     "text": [
      "Processed and saved: SC4101E0-PSG.edf\n"
     ]
    },
    {
     "name": "stderr",
     "output_type": "stream",
     "text": [
      "Processing EEG Data:   2%|▏         | 3/129 [00:32<22:57, 10.93s/it]"
     ]
    },
    {
     "name": "stdout",
     "output_type": "stream",
     "text": [
      "Processed and saved: SC4102E0-PSG.edf\n"
     ]
    },
    {
     "name": "stderr",
     "output_type": "stream",
     "text": [
      "Processing EEG Data:   3%|▎         | 4/129 [00:42<22:03, 10.59s/it]"
     ]
    },
    {
     "name": "stdout",
     "output_type": "stream",
     "text": [
      "Processed and saved: SC4111E0-PSG.edf\n"
     ]
    },
    {
     "name": "stderr",
     "output_type": "stream",
     "text": [
      "Processing EEG Data:   4%|▍         | 5/129 [00:53<21:50, 10.57s/it]"
     ]
    },
    {
     "name": "stdout",
     "output_type": "stream",
     "text": [
      "Processed and saved: SC4112E0-PSG.edf\n"
     ]
    },
    {
     "name": "stderr",
     "output_type": "stream",
     "text": [
      "Processing EEG Data:   5%|▍         | 6/129 [01:05<22:53, 11.17s/it]"
     ]
    },
    {
     "name": "stdout",
     "output_type": "stream",
     "text": [
      "Processed and saved: SC4121E0-PSG.edf\n"
     ]
    },
    {
     "name": "stderr",
     "output_type": "stream",
     "text": [
      "Processing EEG Data:   5%|▌         | 7/129 [01:17<23:01, 11.33s/it]"
     ]
    },
    {
     "name": "stdout",
     "output_type": "stream",
     "text": [
      "Processed and saved: SC4122E0-PSG.edf\n"
     ]
    },
    {
     "name": "stderr",
     "output_type": "stream",
     "text": [
      "Processing EEG Data:   6%|▌         | 8/129 [01:29<23:36, 11.71s/it]"
     ]
    },
    {
     "name": "stdout",
     "output_type": "stream",
     "text": [
      "Processed and saved: SC4131E0-PSG.edf\n"
     ]
    },
    {
     "name": "stderr",
     "output_type": "stream",
     "text": [
      "Processing EEG Data:   7%|▋         | 9/129 [01:41<23:43, 11.86s/it]"
     ]
    },
    {
     "name": "stdout",
     "output_type": "stream",
     "text": [
      "Processed and saved: SC4141E0-PSG.edf\n"
     ]
    },
    {
     "name": "stderr",
     "output_type": "stream",
     "text": [
      "Processing EEG Data:   8%|▊         | 10/129 [01:54<23:50, 12.02s/it]"
     ]
    },
    {
     "name": "stdout",
     "output_type": "stream",
     "text": [
      "Processed and saved: SC4142E0-PSG.edf\n"
     ]
    },
    {
     "name": "stderr",
     "output_type": "stream",
     "text": [
      "Processing EEG Data:   9%|▊         | 11/129 [02:05<23:20, 11.87s/it]"
     ]
    },
    {
     "name": "stdout",
     "output_type": "stream",
     "text": [
      "Processed and saved: SC4151E0-PSG.edf\n"
     ]
    },
    {
     "name": "stderr",
     "output_type": "stream",
     "text": [
      "Processing EEG Data:   9%|▉         | 12/129 [02:18<23:41, 12.15s/it]"
     ]
    },
    {
     "name": "stdout",
     "output_type": "stream",
     "text": [
      "Processed and saved: SC4152E0-PSG.edf\n"
     ]
    },
    {
     "name": "stderr",
     "output_type": "stream",
     "text": [
      "Processing EEG Data:  10%|█         | 13/129 [02:30<23:11, 11.99s/it]"
     ]
    },
    {
     "name": "stdout",
     "output_type": "stream",
     "text": [
      "Processed and saved: SC4161E0-PSG.edf\n"
     ]
    },
    {
     "name": "stderr",
     "output_type": "stream",
     "text": [
      "Processing EEG Data:  11%|█         | 14/129 [02:42<23:09, 12.08s/it]"
     ]
    },
    {
     "name": "stdout",
     "output_type": "stream",
     "text": [
      "Processed and saved: SC4162E0-PSG.edf\n"
     ]
    },
    {
     "name": "stderr",
     "output_type": "stream",
     "text": [
      "Processing EEG Data:  12%|█▏        | 15/129 [02:54<22:59, 12.10s/it]"
     ]
    },
    {
     "name": "stdout",
     "output_type": "stream",
     "text": [
      "Processed and saved: SC4171E0-PSG.edf\n"
     ]
    },
    {
     "name": "stderr",
     "output_type": "stream",
     "text": [
      "Processing EEG Data:  12%|█▏        | 16/129 [03:06<22:44, 12.07s/it]"
     ]
    },
    {
     "name": "stdout",
     "output_type": "stream",
     "text": [
      "Processed and saved: SC4172E0-PSG.edf\n"
     ]
    },
    {
     "name": "stderr",
     "output_type": "stream",
     "text": [
      "Processing EEG Data:  13%|█▎        | 17/129 [03:19<22:39, 12.14s/it]"
     ]
    },
    {
     "name": "stdout",
     "output_type": "stream",
     "text": [
      "Processed and saved: SC4181E0-PSG.edf\n"
     ]
    },
    {
     "name": "stderr",
     "output_type": "stream",
     "text": [
      "Processing EEG Data:  14%|█▍        | 18/129 [03:31<22:40, 12.25s/it]"
     ]
    },
    {
     "name": "stdout",
     "output_type": "stream",
     "text": [
      "Processed and saved: SC4182E0-PSG.edf\n"
     ]
    },
    {
     "name": "stderr",
     "output_type": "stream",
     "text": [
      "Processing EEG Data:  15%|█▍        | 19/129 [03:43<22:33, 12.30s/it]"
     ]
    },
    {
     "name": "stdout",
     "output_type": "stream",
     "text": [
      "Processed and saved: SC4191E0-PSG.edf\n"
     ]
    },
    {
     "name": "stderr",
     "output_type": "stream",
     "text": [
      "Processing EEG Data:  16%|█▌        | 20/129 [03:55<22:04, 12.15s/it]"
     ]
    },
    {
     "name": "stdout",
     "output_type": "stream",
     "text": [
      "Processed and saved: SC4192E0-PSG.edf\n"
     ]
    },
    {
     "name": "stderr",
     "output_type": "stream",
     "text": [
      "Processing EEG Data:  16%|█▋        | 21/129 [04:08<22:20, 12.41s/it]"
     ]
    },
    {
     "name": "stdout",
     "output_type": "stream",
     "text": [
      "Processed and saved: SC4201E0-PSG.edf\n"
     ]
    },
    {
     "name": "stderr",
     "output_type": "stream",
     "text": [
      "Processing EEG Data:  17%|█▋        | 22/129 [04:20<21:59, 12.34s/it]"
     ]
    },
    {
     "name": "stdout",
     "output_type": "stream",
     "text": [
      "Processed and saved: SC4202E0-PSG.edf\n"
     ]
    },
    {
     "name": "stderr",
     "output_type": "stream",
     "text": [
      "Processing EEG Data:  18%|█▊        | 23/129 [04:34<22:16, 12.61s/it]"
     ]
    },
    {
     "name": "stdout",
     "output_type": "stream",
     "text": [
      "Processed and saved: SC4211E0-PSG.edf\n"
     ]
    },
    {
     "name": "stderr",
     "output_type": "stream",
     "text": [
      "Processing EEG Data:  19%|█▊        | 24/129 [04:47<22:10, 12.67s/it]"
     ]
    },
    {
     "name": "stdout",
     "output_type": "stream",
     "text": [
      "Processed and saved: SC4212E0-PSG.edf\n"
     ]
    },
    {
     "name": "stderr",
     "output_type": "stream",
     "text": [
      "Processing EEG Data:  19%|█▉        | 25/129 [04:59<21:49, 12.59s/it]"
     ]
    },
    {
     "name": "stdout",
     "output_type": "stream",
     "text": [
      "Processed and saved: SC4221E0-PSG.edf\n"
     ]
    },
    {
     "name": "stderr",
     "output_type": "stream",
     "text": [
      "Processing EEG Data:  20%|██        | 26/129 [05:11<21:35, 12.58s/it]"
     ]
    },
    {
     "name": "stdout",
     "output_type": "stream",
     "text": [
      "Processed and saved: SC4222E0-PSG.edf\n"
     ]
    },
    {
     "name": "stderr",
     "output_type": "stream",
     "text": [
      "Processing EEG Data:  21%|██        | 27/129 [05:24<21:28, 12.64s/it]"
     ]
    },
    {
     "name": "stdout",
     "output_type": "stream",
     "text": [
      "Processed and saved: SC4231E0-PSG.edf\n"
     ]
    },
    {
     "name": "stderr",
     "output_type": "stream",
     "text": [
      "Processing EEG Data:  22%|██▏       | 28/129 [05:37<21:12, 12.59s/it]"
     ]
    },
    {
     "name": "stdout",
     "output_type": "stream",
     "text": [
      "Processed and saved: SC4232E0-PSG.edf\n"
     ]
    },
    {
     "name": "stderr",
     "output_type": "stream",
     "text": [
      "Processing EEG Data:  22%|██▏       | 29/129 [05:49<20:47, 12.48s/it]"
     ]
    },
    {
     "name": "stdout",
     "output_type": "stream",
     "text": [
      "Processed and saved: SC4241E0-PSG.edf\n"
     ]
    },
    {
     "name": "stderr",
     "output_type": "stream",
     "text": [
      "Processing EEG Data:  23%|██▎       | 30/129 [06:01<20:18, 12.31s/it]"
     ]
    },
    {
     "name": "stdout",
     "output_type": "stream",
     "text": [
      "Processed and saved: SC4242E0-PSG.edf\n"
     ]
    },
    {
     "name": "stderr",
     "output_type": "stream",
     "text": [
      "Processing EEG Data:  24%|██▍       | 31/129 [06:13<20:09, 12.34s/it]"
     ]
    },
    {
     "name": "stdout",
     "output_type": "stream",
     "text": [
      "Processed and saved: SC4251E0-PSG.edf\n"
     ]
    },
    {
     "name": "stderr",
     "output_type": "stream",
     "text": [
      "Processing EEG Data:  25%|██▍       | 32/129 [06:25<19:39, 12.16s/it]"
     ]
    },
    {
     "name": "stdout",
     "output_type": "stream",
     "text": [
      "Processed and saved: SC4252E0-PSG.edf\n"
     ]
    },
    {
     "name": "stderr",
     "output_type": "stream",
     "text": [
      "Processing EEG Data:  26%|██▌       | 33/129 [06:38<19:42, 12.32s/it]"
     ]
    },
    {
     "name": "stdout",
     "output_type": "stream",
     "text": [
      "Processed and saved: SC4261F0-PSG.edf\n"
     ]
    },
    {
     "name": "stderr",
     "output_type": "stream",
     "text": [
      "Processing EEG Data:  26%|██▋       | 34/129 [06:50<19:29, 12.31s/it]"
     ]
    },
    {
     "name": "stdout",
     "output_type": "stream",
     "text": [
      "Processed and saved: SC4262F0-PSG.edf\n"
     ]
    },
    {
     "name": "stderr",
     "output_type": "stream",
     "text": [
      "Processing EEG Data:  27%|██▋       | 35/129 [07:01<18:37, 11.89s/it]"
     ]
    },
    {
     "name": "stdout",
     "output_type": "stream",
     "text": [
      "Processed and saved: SC4271F0-PSG.edf\n"
     ]
    },
    {
     "name": "stderr",
     "output_type": "stream",
     "text": [
      "Processing EEG Data:  28%|██▊       | 36/129 [07:14<18:47, 12.12s/it]"
     ]
    },
    {
     "name": "stdout",
     "output_type": "stream",
     "text": [
      "Processed and saved: SC4272F0-PSG.edf\n"
     ]
    },
    {
     "name": "stderr",
     "output_type": "stream",
     "text": [
      "Processing EEG Data:  29%|██▊       | 37/129 [07:26<18:45, 12.23s/it]"
     ]
    },
    {
     "name": "stdout",
     "output_type": "stream",
     "text": [
      "Processed and saved: SC4281G0-PSG.edf\n"
     ]
    },
    {
     "name": "stderr",
     "output_type": "stream",
     "text": [
      "Processing EEG Data:  29%|██▉       | 38/129 [07:38<18:37, 12.28s/it]"
     ]
    },
    {
     "name": "stdout",
     "output_type": "stream",
     "text": [
      "Processed and saved: SC4282G0-PSG.edf\n"
     ]
    },
    {
     "name": "stderr",
     "output_type": "stream",
     "text": [
      "Processing EEG Data:  30%|███       | 39/129 [07:51<18:22, 12.25s/it]"
     ]
    },
    {
     "name": "stdout",
     "output_type": "stream",
     "text": [
      "Processed and saved: SC4291G0-PSG.edf\n"
     ]
    },
    {
     "name": "stderr",
     "output_type": "stream",
     "text": [
      "Processing EEG Data:  31%|███       | 40/129 [08:03<18:14, 12.29s/it]"
     ]
    },
    {
     "name": "stdout",
     "output_type": "stream",
     "text": [
      "Processed and saved: SC4292G0-PSG.edf\n"
     ]
    },
    {
     "name": "stderr",
     "output_type": "stream",
     "text": [
      "Processing EEG Data:  32%|███▏      | 41/129 [08:15<17:47, 12.13s/it]"
     ]
    },
    {
     "name": "stdout",
     "output_type": "stream",
     "text": [
      "Processed and saved: SC4311E0-PSG.edf\n"
     ]
    },
    {
     "name": "stderr",
     "output_type": "stream",
     "text": [
      "Processing EEG Data:  33%|███▎      | 42/129 [08:27<17:35, 12.13s/it]"
     ]
    },
    {
     "name": "stdout",
     "output_type": "stream",
     "text": [
      "Processed and saved: SC4312E0-PSG.edf\n"
     ]
    },
    {
     "name": "stderr",
     "output_type": "stream",
     "text": [
      "Processing EEG Data:  33%|███▎      | 43/129 [08:39<17:27, 12.18s/it]"
     ]
    },
    {
     "name": "stdout",
     "output_type": "stream",
     "text": [
      "Processed and saved: SC4321E0-PSG.edf\n"
     ]
    },
    {
     "name": "stderr",
     "output_type": "stream",
     "text": [
      "Processing EEG Data:  34%|███▍      | 44/129 [08:52<17:27, 12.33s/it]"
     ]
    },
    {
     "name": "stdout",
     "output_type": "stream",
     "text": [
      "Processed and saved: SC4331F0-PSG.edf\n"
     ]
    },
    {
     "name": "stderr",
     "output_type": "stream",
     "text": [
      "Processing EEG Data:  35%|███▍      | 45/129 [09:04<17:17, 12.36s/it]"
     ]
    },
    {
     "name": "stdout",
     "output_type": "stream",
     "text": [
      "Processed and saved: SC4332F0-PSG.edf\n"
     ]
    },
    {
     "name": "stderr",
     "output_type": "stream",
     "text": [
      "Processing EEG Data:  36%|███▌      | 46/129 [09:17<17:04, 12.35s/it]"
     ]
    },
    {
     "name": "stdout",
     "output_type": "stream",
     "text": [
      "Processed and saved: SC4341F0-PSG.edf\n"
     ]
    },
    {
     "name": "stderr",
     "output_type": "stream",
     "text": [
      "Processing EEG Data:  36%|███▋      | 47/129 [09:29<16:50, 12.33s/it]"
     ]
    },
    {
     "name": "stdout",
     "output_type": "stream",
     "text": [
      "Processed and saved: SC4342F0-PSG.edf\n"
     ]
    },
    {
     "name": "stderr",
     "output_type": "stream",
     "text": [
      "Processing EEG Data:  37%|███▋      | 48/129 [09:41<16:32, 12.26s/it]"
     ]
    },
    {
     "name": "stdout",
     "output_type": "stream",
     "text": [
      "Processed and saved: SC4351F0-PSG.edf\n"
     ]
    },
    {
     "name": "stderr",
     "output_type": "stream",
     "text": [
      "Processing EEG Data:  38%|███▊      | 49/129 [09:52<15:56, 11.96s/it]"
     ]
    },
    {
     "name": "stdout",
     "output_type": "stream",
     "text": [
      "Processed and saved: SC4352F0-PSG.edf\n"
     ]
    },
    {
     "name": "stderr",
     "output_type": "stream",
     "text": [
      "Processing EEG Data:  39%|███▉      | 50/129 [10:00<13:55, 10.57s/it]"
     ]
    },
    {
     "name": "stdout",
     "output_type": "stream",
     "text": [
      "Processed and saved: SC4362F0-PSG.edf\n"
     ]
    },
    {
     "name": "stderr",
     "output_type": "stream",
     "text": [
      "Processing EEG Data:  40%|███▉      | 51/129 [10:12<14:37, 11.25s/it]"
     ]
    },
    {
     "name": "stdout",
     "output_type": "stream",
     "text": [
      "Processed and saved: SC4371F0-PSG.edf\n"
     ]
    },
    {
     "name": "stderr",
     "output_type": "stream",
     "text": [
      "Processing EEG Data:  40%|████      | 52/129 [10:25<14:55, 11.62s/it]"
     ]
    },
    {
     "name": "stdout",
     "output_type": "stream",
     "text": [
      "Processed and saved: SC4372F0-PSG.edf\n"
     ]
    },
    {
     "name": "stderr",
     "output_type": "stream",
     "text": [
      "Processing EEG Data:  41%|████      | 53/129 [10:37<14:57, 11.80s/it]"
     ]
    },
    {
     "name": "stdout",
     "output_type": "stream",
     "text": [
      "Processed and saved: SC4381F0-PSG.edf\n"
     ]
    },
    {
     "name": "stderr",
     "output_type": "stream",
     "text": [
      "Processing EEG Data:  42%|████▏     | 54/129 [10:50<14:58, 11.98s/it]"
     ]
    },
    {
     "name": "stdout",
     "output_type": "stream",
     "text": [
      "Processed and saved: SC4382F0-PSG.edf\n"
     ]
    },
    {
     "name": "stderr",
     "output_type": "stream",
     "text": [
      "Processing EEG Data:  43%|████▎     | 55/129 [11:01<14:42, 11.93s/it]"
     ]
    },
    {
     "name": "stdout",
     "output_type": "stream",
     "text": [
      "Processed and saved: SC4401E0-PSG.edf\n"
     ]
    },
    {
     "name": "stderr",
     "output_type": "stream",
     "text": [
      "Processing EEG Data:  43%|████▎     | 56/129 [11:14<14:46, 12.15s/it]"
     ]
    },
    {
     "name": "stdout",
     "output_type": "stream",
     "text": [
      "Processed and saved: SC4402E0-PSG.edf\n"
     ]
    },
    {
     "name": "stderr",
     "output_type": "stream",
     "text": [
      "Processing EEG Data:  44%|████▍     | 57/129 [11:26<14:35, 12.15s/it]"
     ]
    },
    {
     "name": "stdout",
     "output_type": "stream",
     "text": [
      "Processed and saved: SC4411E0-PSG.edf\n"
     ]
    },
    {
     "name": "stderr",
     "output_type": "stream",
     "text": [
      "Processing EEG Data:  45%|████▍     | 58/129 [11:39<14:31, 12.28s/it]"
     ]
    },
    {
     "name": "stdout",
     "output_type": "stream",
     "text": [
      "Processed and saved: SC4412E0-PSG.edf\n"
     ]
    },
    {
     "name": "stderr",
     "output_type": "stream",
     "text": [
      "Processing EEG Data:  46%|████▌     | 59/129 [11:51<14:22, 12.32s/it]"
     ]
    },
    {
     "name": "stdout",
     "output_type": "stream",
     "text": [
      "Processed and saved: SC4421E0-PSG.edf\n"
     ]
    },
    {
     "name": "stderr",
     "output_type": "stream",
     "text": [
      "Processing EEG Data:  47%|████▋     | 60/129 [12:04<14:13, 12.36s/it]"
     ]
    },
    {
     "name": "stdout",
     "output_type": "stream",
     "text": [
      "Processed and saved: SC4422E0-PSG.edf\n"
     ]
    },
    {
     "name": "stderr",
     "output_type": "stream",
     "text": [
      "Processing EEG Data:  47%|████▋     | 61/129 [12:16<14:09, 12.49s/it]"
     ]
    },
    {
     "name": "stdout",
     "output_type": "stream",
     "text": [
      "Processed and saved: SC4431E0-PSG.edf\n"
     ]
    },
    {
     "name": "stderr",
     "output_type": "stream",
     "text": [
      "Processing EEG Data:  48%|████▊     | 62/129 [12:29<13:58, 12.52s/it]"
     ]
    },
    {
     "name": "stdout",
     "output_type": "stream",
     "text": [
      "Processed and saved: SC4432E0-PSG.edf\n"
     ]
    },
    {
     "name": "stderr",
     "output_type": "stream",
     "text": [
      "Processing EEG Data:  49%|████▉     | 63/129 [12:41<13:29, 12.27s/it]"
     ]
    },
    {
     "name": "stdout",
     "output_type": "stream",
     "text": [
      "Processed and saved: SC4441E0-PSG.edf\n"
     ]
    },
    {
     "name": "stderr",
     "output_type": "stream",
     "text": [
      "Processing EEG Data:  50%|████▉     | 64/129 [12:53<13:22, 12.34s/it]"
     ]
    },
    {
     "name": "stdout",
     "output_type": "stream",
     "text": [
      "Processed and saved: SC4442E0-PSG.edf\n"
     ]
    },
    {
     "name": "stderr",
     "output_type": "stream",
     "text": [
      "Processing EEG Data:  50%|█████     | 65/129 [13:06<13:10, 12.35s/it]"
     ]
    },
    {
     "name": "stdout",
     "output_type": "stream",
     "text": [
      "Processed and saved: SC4451F0-PSG.edf\n"
     ]
    },
    {
     "name": "stderr",
     "output_type": "stream",
     "text": [
      "Processing EEG Data:  51%|█████     | 66/129 [13:17<12:50, 12.22s/it]"
     ]
    },
    {
     "name": "stdout",
     "output_type": "stream",
     "text": [
      "Processed and saved: SC4452F0-PSG.edf\n"
     ]
    },
    {
     "name": "stderr",
     "output_type": "stream",
     "text": [
      "Processing EEG Data:  52%|█████▏    | 67/129 [13:30<12:35, 12.18s/it]"
     ]
    },
    {
     "name": "stdout",
     "output_type": "stream",
     "text": [
      "Processed and saved: SC4461F0-PSG.edf\n"
     ]
    },
    {
     "name": "stderr",
     "output_type": "stream",
     "text": [
      "Processing EEG Data:  53%|█████▎    | 68/129 [13:42<12:33, 12.35s/it]"
     ]
    },
    {
     "name": "stdout",
     "output_type": "stream",
     "text": [
      "Processed and saved: SC4462F0-PSG.edf\n"
     ]
    },
    {
     "name": "stderr",
     "output_type": "stream",
     "text": [
      "Processing EEG Data:  53%|█████▎    | 69/129 [13:54<12:17, 12.29s/it]"
     ]
    },
    {
     "name": "stdout",
     "output_type": "stream",
     "text": [
      "Processed and saved: SC4471F0-PSG.edf\n"
     ]
    },
    {
     "name": "stderr",
     "output_type": "stream",
     "text": [
      "Processing EEG Data:  54%|█████▍    | 70/129 [14:07<12:08, 12.34s/it]"
     ]
    },
    {
     "name": "stdout",
     "output_type": "stream",
     "text": [
      "Processed and saved: SC4472F0-PSG.edf\n"
     ]
    },
    {
     "name": "stderr",
     "output_type": "stream",
     "text": [
      "Processing EEG Data:  55%|█████▌    | 71/129 [14:20<12:04, 12.49s/it]"
     ]
    },
    {
     "name": "stdout",
     "output_type": "stream",
     "text": [
      "Processed and saved: SC4481F0-PSG.edf\n"
     ]
    },
    {
     "name": "stderr",
     "output_type": "stream",
     "text": [
      "Processing EEG Data:  56%|█████▌    | 72/129 [14:33<11:58, 12.60s/it]"
     ]
    },
    {
     "name": "stdout",
     "output_type": "stream",
     "text": [
      "Processed and saved: SC4482F0-PSG.edf\n"
     ]
    },
    {
     "name": "stderr",
     "output_type": "stream",
     "text": [
      "Processing EEG Data:  57%|█████▋    | 73/129 [14:45<11:46, 12.62s/it]"
     ]
    },
    {
     "name": "stdout",
     "output_type": "stream",
     "text": [
      "Processed and saved: SC4491G0-PSG.edf\n"
     ]
    },
    {
     "name": "stderr",
     "output_type": "stream",
     "text": [
      "Processing EEG Data:  57%|█████▋    | 74/129 [14:55<10:43, 11.70s/it]"
     ]
    },
    {
     "name": "stdout",
     "output_type": "stream",
     "text": [
      "Processed and saved: SC4492G0-PSG.edf\n"
     ]
    },
    {
     "name": "stderr",
     "output_type": "stream",
     "text": [
      "Processing EEG Data:  58%|█████▊    | 75/129 [15:07<10:41, 11.87s/it]"
     ]
    },
    {
     "name": "stdout",
     "output_type": "stream",
     "text": [
      "Processed and saved: SC4501E0-PSG.edf\n"
     ]
    },
    {
     "name": "stderr",
     "output_type": "stream",
     "text": [
      "Processing EEG Data:  59%|█████▉    | 76/129 [15:19<10:34, 11.98s/it]"
     ]
    },
    {
     "name": "stdout",
     "output_type": "stream",
     "text": [
      "Processed and saved: SC4502E0-PSG.edf\n"
     ]
    },
    {
     "name": "stderr",
     "output_type": "stream",
     "text": [
      "Processing EEG Data:  60%|█████▉    | 77/129 [15:31<10:25, 12.03s/it]"
     ]
    },
    {
     "name": "stdout",
     "output_type": "stream",
     "text": [
      "Processed and saved: SC4511E0-PSG.edf\n"
     ]
    },
    {
     "name": "stderr",
     "output_type": "stream",
     "text": [
      "Processing EEG Data:  60%|██████    | 78/129 [15:44<10:18, 12.14s/it]"
     ]
    },
    {
     "name": "stdout",
     "output_type": "stream",
     "text": [
      "Processed and saved: SC4512E0-PSG.edf\n"
     ]
    },
    {
     "name": "stderr",
     "output_type": "stream",
     "text": [
      "Processing EEG Data:  61%|██████    | 79/129 [15:56<10:11, 12.23s/it]"
     ]
    },
    {
     "name": "stdout",
     "output_type": "stream",
     "text": [
      "Processed and saved: SC4522E0-PSG.edf\n"
     ]
    },
    {
     "name": "stderr",
     "output_type": "stream",
     "text": [
      "Processing EEG Data:  62%|██████▏   | 80/129 [16:08<09:48, 12.01s/it]"
     ]
    },
    {
     "name": "stdout",
     "output_type": "stream",
     "text": [
      "Processed and saved: SC4531E0-PSG.edf\n"
     ]
    },
    {
     "name": "stderr",
     "output_type": "stream",
     "text": [
      "Processing EEG Data:  63%|██████▎   | 81/129 [16:20<09:37, 12.02s/it]"
     ]
    },
    {
     "name": "stdout",
     "output_type": "stream",
     "text": [
      "Processed and saved: SC4532E0-PSG.edf\n"
     ]
    },
    {
     "name": "stderr",
     "output_type": "stream",
     "text": [
      "Processing EEG Data:  64%|██████▎   | 82/129 [16:32<09:28, 12.09s/it]"
     ]
    },
    {
     "name": "stdout",
     "output_type": "stream",
     "text": [
      "Processed and saved: SC4541F0-PSG.edf\n"
     ]
    },
    {
     "name": "stderr",
     "output_type": "stream",
     "text": [
      "Processing EEG Data:  64%|██████▍   | 83/129 [16:44<09:17, 12.12s/it]"
     ]
    },
    {
     "name": "stdout",
     "output_type": "stream",
     "text": [
      "Processed and saved: SC4542F0-PSG.edf\n"
     ]
    },
    {
     "name": "stderr",
     "output_type": "stream",
     "text": [
      "Processing EEG Data:  65%|██████▌   | 84/129 [16:57<09:13, 12.30s/it]"
     ]
    },
    {
     "name": "stdout",
     "output_type": "stream",
     "text": [
      "Processed and saved: SC4551F0-PSG.edf\n"
     ]
    },
    {
     "name": "stderr",
     "output_type": "stream",
     "text": [
      "Processing EEG Data:  66%|██████▌   | 85/129 [17:10<09:06, 12.43s/it]"
     ]
    },
    {
     "name": "stdout",
     "output_type": "stream",
     "text": [
      "Processed and saved: SC4552F0-PSG.edf\n"
     ]
    },
    {
     "name": "stderr",
     "output_type": "stream",
     "text": [
      "Processing EEG Data:  67%|██████▋   | 86/129 [17:22<08:53, 12.40s/it]"
     ]
    },
    {
     "name": "stdout",
     "output_type": "stream",
     "text": [
      "Processed and saved: SC4561F0-PSG.edf\n"
     ]
    },
    {
     "name": "stderr",
     "output_type": "stream",
     "text": [
      "Processing EEG Data:  67%|██████▋   | 87/129 [17:35<08:45, 12.52s/it]"
     ]
    },
    {
     "name": "stdout",
     "output_type": "stream",
     "text": [
      "Processed and saved: SC4562F0-PSG.edf\n"
     ]
    },
    {
     "name": "stderr",
     "output_type": "stream",
     "text": [
      "Processing EEG Data:  68%|██████▊   | 88/129 [17:48<08:35, 12.57s/it]"
     ]
    },
    {
     "name": "stdout",
     "output_type": "stream",
     "text": [
      "Processed and saved: SC4571F0-PSG.edf\n"
     ]
    },
    {
     "name": "stderr",
     "output_type": "stream",
     "text": [
      "Processing EEG Data:  69%|██████▉   | 89/129 [18:00<08:26, 12.66s/it]"
     ]
    },
    {
     "name": "stdout",
     "output_type": "stream",
     "text": [
      "Processed and saved: SC4572F0-PSG.edf\n"
     ]
    },
    {
     "name": "stderr",
     "output_type": "stream",
     "text": [
      "Processing EEG Data:  70%|██████▉   | 90/129 [18:13<08:11, 12.60s/it]"
     ]
    },
    {
     "name": "stdout",
     "output_type": "stream",
     "text": [
      "Processed and saved: SC4581G0-PSG.edf\n"
     ]
    },
    {
     "name": "stderr",
     "output_type": "stream",
     "text": [
      "Processing EEG Data:  71%|███████   | 91/129 [18:25<07:50, 12.38s/it]"
     ]
    },
    {
     "name": "stdout",
     "output_type": "stream",
     "text": [
      "Processed and saved: SC4582G0-PSG.edf\n"
     ]
    },
    {
     "name": "stderr",
     "output_type": "stream",
     "text": [
      "Processing EEG Data:  71%|███████▏  | 92/129 [18:37<07:41, 12.46s/it]"
     ]
    },
    {
     "name": "stdout",
     "output_type": "stream",
     "text": [
      "Processed and saved: SC4591G0-PSG.edf\n"
     ]
    },
    {
     "name": "stderr",
     "output_type": "stream",
     "text": [
      "Processing EEG Data:  72%|███████▏  | 93/129 [18:46<06:50, 11.41s/it]"
     ]
    },
    {
     "name": "stdout",
     "output_type": "stream",
     "text": [
      "Processed and saved: SC4592G0-PSG.edf\n"
     ]
    },
    {
     "name": "stderr",
     "output_type": "stream",
     "text": [
      "Processing EEG Data:  73%|███████▎  | 94/129 [18:59<06:50, 11.73s/it]"
     ]
    },
    {
     "name": "stdout",
     "output_type": "stream",
     "text": [
      "Processed and saved: SC4601E0-PSG.edf\n"
     ]
    },
    {
     "name": "stderr",
     "output_type": "stream",
     "text": [
      "Processing EEG Data:  74%|███████▎  | 95/129 [19:11<06:45, 11.94s/it]"
     ]
    },
    {
     "name": "stdout",
     "output_type": "stream",
     "text": [
      "Processed and saved: SC4602E0-PSG.edf\n"
     ]
    },
    {
     "name": "stderr",
     "output_type": "stream",
     "text": [
      "Processing EEG Data:  74%|███████▍  | 96/129 [19:23<06:31, 11.87s/it]"
     ]
    },
    {
     "name": "stdout",
     "output_type": "stream",
     "text": [
      "Processed and saved: SC4611E0-PSG.edf\n"
     ]
    },
    {
     "name": "stderr",
     "output_type": "stream",
     "text": [
      "Processing EEG Data:  75%|███████▌  | 97/129 [19:35<06:21, 11.91s/it]"
     ]
    },
    {
     "name": "stdout",
     "output_type": "stream",
     "text": [
      "Processed and saved: SC4612E0-PSG.edf\n"
     ]
    },
    {
     "name": "stderr",
     "output_type": "stream",
     "text": [
      "Processing EEG Data:  76%|███████▌  | 98/129 [19:47<06:05, 11.79s/it]"
     ]
    },
    {
     "name": "stdout",
     "output_type": "stream",
     "text": [
      "Processed and saved: SC4621E0-PSG.edf\n"
     ]
    },
    {
     "name": "stderr",
     "output_type": "stream",
     "text": [
      "Processing EEG Data:  77%|███████▋  | 99/129 [19:59<06:02, 12.07s/it]"
     ]
    },
    {
     "name": "stdout",
     "output_type": "stream",
     "text": [
      "Processed and saved: SC4622E0-PSG.edf\n"
     ]
    },
    {
     "name": "stderr",
     "output_type": "stream",
     "text": [
      "Processing EEG Data:  78%|███████▊  | 100/129 [20:11<05:50, 12.08s/it]"
     ]
    },
    {
     "name": "stdout",
     "output_type": "stream",
     "text": [
      "Processed and saved: SC4631E0-PSG.edf\n"
     ]
    },
    {
     "name": "stderr",
     "output_type": "stream",
     "text": [
      "Processing EEG Data:  78%|███████▊  | 101/129 [20:24<05:43, 12.26s/it]"
     ]
    },
    {
     "name": "stdout",
     "output_type": "stream",
     "text": [
      "Processed and saved: SC4632E0-PSG.edf\n"
     ]
    },
    {
     "name": "stderr",
     "output_type": "stream",
     "text": [
      "Processing EEG Data:  79%|███████▉  | 102/129 [20:36<05:27, 12.14s/it]"
     ]
    },
    {
     "name": "stdout",
     "output_type": "stream",
     "text": [
      "Processed and saved: SC4641E0-PSG.edf\n"
     ]
    },
    {
     "name": "stderr",
     "output_type": "stream",
     "text": [
      "Processing EEG Data:  80%|███████▉  | 103/129 [20:49<05:19, 12.30s/it]"
     ]
    },
    {
     "name": "stdout",
     "output_type": "stream",
     "text": [
      "Processed and saved: SC4651E0-PSG.edf\n"
     ]
    },
    {
     "name": "stderr",
     "output_type": "stream",
     "text": [
      "Processing EEG Data:  81%|████████  | 104/129 [21:01<05:09, 12.38s/it]"
     ]
    },
    {
     "name": "stdout",
     "output_type": "stream",
     "text": [
      "Processed and saved: SC4652E0-PSG.edf\n"
     ]
    },
    {
     "name": "stderr",
     "output_type": "stream",
     "text": [
      "Processing EEG Data:  81%|████████▏ | 105/129 [21:13<04:55, 12.29s/it]"
     ]
    },
    {
     "name": "stdout",
     "output_type": "stream",
     "text": [
      "Processed and saved: SC4661E0-PSG.edf\n"
     ]
    },
    {
     "name": "stderr",
     "output_type": "stream",
     "text": [
      "Processing EEG Data:  82%|████████▏ | 106/129 [21:26<04:43, 12.32s/it]"
     ]
    },
    {
     "name": "stdout",
     "output_type": "stream",
     "text": [
      "Processed and saved: SC4662E0-PSG.edf\n"
     ]
    },
    {
     "name": "stderr",
     "output_type": "stream",
     "text": [
      "Processing EEG Data:  83%|████████▎ | 107/129 [21:38<04:30, 12.31s/it]"
     ]
    },
    {
     "name": "stdout",
     "output_type": "stream",
     "text": [
      "Processed and saved: SC4671G0-PSG.edf\n"
     ]
    },
    {
     "name": "stderr",
     "output_type": "stream",
     "text": [
      "Processing EEG Data:  84%|████████▎ | 108/129 [21:49<04:13, 12.08s/it]"
     ]
    },
    {
     "name": "stdout",
     "output_type": "stream",
     "text": [
      "Processed and saved: SC4672G0-PSG.edf\n"
     ]
    },
    {
     "name": "stderr",
     "output_type": "stream",
     "text": [
      "Processing EEG Data:  84%|████████▍ | 109/129 [22:01<04:00, 12.03s/it]"
     ]
    },
    {
     "name": "stdout",
     "output_type": "stream",
     "text": [
      "Processed and saved: SC4701E0-PSG.edf\n"
     ]
    },
    {
     "name": "stderr",
     "output_type": "stream",
     "text": [
      "Processing EEG Data:  85%|████████▌ | 110/129 [22:13<03:46, 11.91s/it]"
     ]
    },
    {
     "name": "stdout",
     "output_type": "stream",
     "text": [
      "Processed and saved: SC4702E0-PSG.edf\n"
     ]
    },
    {
     "name": "stderr",
     "output_type": "stream",
     "text": [
      "Processing EEG Data:  86%|████████▌ | 111/129 [22:25<03:35, 11.96s/it]"
     ]
    },
    {
     "name": "stdout",
     "output_type": "stream",
     "text": [
      "Processed and saved: SC4711E0-PSG.edf\n"
     ]
    },
    {
     "name": "stderr",
     "output_type": "stream",
     "text": [
      "Processing EEG Data:  87%|████████▋ | 112/129 [22:38<03:26, 12.14s/it]"
     ]
    },
    {
     "name": "stdout",
     "output_type": "stream",
     "text": [
      "Processed and saved: SC4712E0-PSG.edf\n"
     ]
    },
    {
     "name": "stderr",
     "output_type": "stream",
     "text": [
      "Processing EEG Data:  88%|████████▊ | 113/129 [22:48<03:06, 11.66s/it]"
     ]
    },
    {
     "name": "stdout",
     "output_type": "stream",
     "text": [
      "Processed and saved: SC4721E0-PSG.edf\n"
     ]
    },
    {
     "name": "stderr",
     "output_type": "stream",
     "text": [
      "Processing EEG Data:  88%|████████▊ | 114/129 [23:00<02:57, 11.81s/it]"
     ]
    },
    {
     "name": "stdout",
     "output_type": "stream",
     "text": [
      "Processed and saved: SC4722E0-PSG.edf\n"
     ]
    },
    {
     "name": "stderr",
     "output_type": "stream",
     "text": [
      "Processing EEG Data:  89%|████████▉ | 115/129 [23:13<02:47, 11.98s/it]"
     ]
    },
    {
     "name": "stdout",
     "output_type": "stream",
     "text": [
      "Processed and saved: SC4731E0-PSG.edf\n"
     ]
    },
    {
     "name": "stderr",
     "output_type": "stream",
     "text": [
      "Processing EEG Data:  90%|████████▉ | 116/129 [23:24<02:32, 11.70s/it]"
     ]
    },
    {
     "name": "stdout",
     "output_type": "stream",
     "text": [
      "Processed and saved: SC4732E0-PSG.edf\n"
     ]
    },
    {
     "name": "stderr",
     "output_type": "stream",
     "text": [
      "Processing EEG Data:  91%|█████████ | 117/129 [23:36<02:20, 11.74s/it]"
     ]
    },
    {
     "name": "stdout",
     "output_type": "stream",
     "text": [
      "Processed and saved: SC4751E0-PSG.edf\n"
     ]
    },
    {
     "name": "stderr",
     "output_type": "stream",
     "text": [
      "Processing EEG Data:  91%|█████████▏| 118/129 [23:46<02:05, 11.37s/it]"
     ]
    },
    {
     "name": "stdout",
     "output_type": "stream",
     "text": [
      "Processed and saved: SC4811G0-PSG.edf\n"
     ]
    },
    {
     "name": "stderr",
     "output_type": "stream",
     "text": [
      "Processing EEG Data:  92%|█████████▏| 119/129 [23:58<01:55, 11.58s/it]"
     ]
    },
    {
     "name": "stdout",
     "output_type": "stream",
     "text": [
      "Processed and saved: SC4821G0-PSG.edf\n"
     ]
    },
    {
     "name": "stderr",
     "output_type": "stream",
     "text": [
      "Processing EEG Data:  93%|█████████▎| 120/129 [24:11<01:46, 11.85s/it]"
     ]
    },
    {
     "name": "stdout",
     "output_type": "stream",
     "text": [
      "Processed and saved: SC4822G0-PSG.edf\n"
     ]
    },
    {
     "name": "stderr",
     "output_type": "stream",
     "text": [
      "Processing EEG Data:  94%|█████████▍| 121/129 [24:21<01:30, 11.34s/it]"
     ]
    },
    {
     "name": "stdout",
     "output_type": "stream",
     "text": [
      "Processed and saved: ST7192J0-PSG.edf\n"
     ]
    },
    {
     "name": "stderr",
     "output_type": "stream",
     "text": [
      "Processing EEG Data:  95%|█████████▍| 122/129 [24:30<01:14, 10.60s/it]"
     ]
    },
    {
     "name": "stdout",
     "output_type": "stream",
     "text": [
      "Processed and saved: ST7201J0-PSG.edf\n"
     ]
    },
    {
     "name": "stderr",
     "output_type": "stream",
     "text": [
      "Processing EEG Data:  95%|█████████▌| 123/129 [24:39<01:00, 10.16s/it]"
     ]
    },
    {
     "name": "stdout",
     "output_type": "stream",
     "text": [
      "Processed and saved: ST7202J0-PSG.edf\n"
     ]
    },
    {
     "name": "stderr",
     "output_type": "stream",
     "text": [
      "Processing EEG Data:  96%|█████████▌| 124/129 [24:49<00:50, 10.08s/it]"
     ]
    },
    {
     "name": "stdout",
     "output_type": "stream",
     "text": [
      "Processed and saved: ST7211J0-PSG.edf\n"
     ]
    },
    {
     "name": "stderr",
     "output_type": "stream",
     "text": [
      "Processing EEG Data:  97%|█████████▋| 125/129 [24:58<00:39,  9.93s/it]"
     ]
    },
    {
     "name": "stdout",
     "output_type": "stream",
     "text": [
      "Processed and saved: ST7212J0-PSG.edf\n"
     ]
    },
    {
     "name": "stderr",
     "output_type": "stream",
     "text": [
      "Processing EEG Data:  98%|█████████▊| 126/129 [25:08<00:29,  9.99s/it]"
     ]
    },
    {
     "name": "stdout",
     "output_type": "stream",
     "text": [
      "Processed and saved: ST7221J0-PSG.edf\n"
     ]
    },
    {
     "name": "stderr",
     "output_type": "stream",
     "text": [
      "Processing EEG Data:  98%|█████████▊| 127/129 [25:17<00:19,  9.63s/it]"
     ]
    },
    {
     "name": "stdout",
     "output_type": "stream",
     "text": [
      "Processed and saved: ST7222J0-PSG.edf\n"
     ]
    },
    {
     "name": "stderr",
     "output_type": "stream",
     "text": [
      "Processing EEG Data:  99%|█████████▉| 128/129 [25:27<00:09,  9.75s/it]"
     ]
    },
    {
     "name": "stdout",
     "output_type": "stream",
     "text": [
      "Processed and saved: ST7241J0-PSG.edf\n"
     ]
    },
    {
     "name": "stderr",
     "output_type": "stream",
     "text": [
      "Processing EEG Data: 100%|██████████| 129/129 [25:36<00:00, 11.91s/it]"
     ]
    },
    {
     "name": "stdout",
     "output_type": "stream",
     "text": [
      "Processed and saved: ST7242J0-PSG.edf\n",
      "✅ EEG epochs successfully processed and saved with corresponding labels.\n"
     ]
    },
    {
     "name": "stderr",
     "output_type": "stream",
     "text": [
      "\n"
     ]
    }
   ],
   "source": [
    "import os\n",
    "import numpy as np\n",
    "import pyedflib\n",
    "from tqdm import tqdm\n",
    "\n",
    "edf_folder = r\"E:\\sleep_full_dataset\"\n",
    "output_folder = \"processed_epochs\"\n",
    "os.makedirs(output_folder, exist_ok=True)\n",
    "\n",
    "# Required EEG channels\n",
    "required_channels = ['EEG Fpz-Cz', 'EEG Pz-Oz']\n",
    "\n",
    "# Function to extract sleep stage labels from hypnogram\n",
    "def extract_labels(hypnogram_file):\n",
    "    edf_reader = pyedflib.EdfReader(hypnogram_file)\n",
    "    annotations = edf_reader.readAnnotations()\n",
    "    edf_reader.close()\n",
    "    \n",
    "    onset_times = annotations[0]  # Start time of annotation\n",
    "    durations = annotations[1]    # Duration of annotation\n",
    "    labels = annotations[2]       # Sleep stage labels\n",
    "\n",
    "    sleep_stages = []\n",
    "    for onset, duration, label in zip(onset_times, durations, labels):\n",
    "        epoch_count = int(duration // 30)  # Number of 30-sec epochs\n",
    "        sleep_stages.extend([label] * epoch_count)\n",
    "\n",
    "    return np.array(sleep_stages)\n",
    "\n",
    "# Process each matched PSG-Hypnogram pair\n",
    "for psg_file, hypnogram_file in tqdm(matched_files, desc=\"Processing EEG Data\"):\n",
    "    psg_path = os.path.join(edf_folder, psg_file)\n",
    "    hypnogram_path = os.path.join(edf_folder, hypnogram_file)\n",
    "\n",
    "    # Load EEG data from PSG file\n",
    "    edf_reader = pyedflib.EdfReader(psg_path)\n",
    "    channel_labels = edf_reader.getSignalLabels()\n",
    "\n",
    "    # Find indices of required channels\n",
    "    channel_indices = [channel_labels.index(ch) for ch in required_channels if ch in channel_labels]\n",
    "    if not channel_indices:\n",
    "        print(f\"Skipping {psg_file}: Required EEG channels not found!\")\n",
    "        edf_reader.close()\n",
    "        continue\n",
    "\n",
    "    # Extract EEG signals\n",
    "    eeg_signals = np.array([edf_reader.readSignal(idx) for idx in channel_indices])\n",
    "    sampling_rate = edf_reader.getSampleFrequencies()[channel_indices[0]]\n",
    "    edf_reader.close()\n",
    "\n",
    "    # Calculate number of samples per 30s epoch\n",
    "    samples_per_epoch = int(sampling_rate * 30)\n",
    "    num_epochs = eeg_signals.shape[1] // samples_per_epoch  # Number of full epochs\n",
    "\n",
    "    # Trim EEG signals to full epochs only\n",
    "    eeg_epochs = eeg_signals[:, :num_epochs * samples_per_epoch].reshape(num_epochs, len(channel_indices), samples_per_epoch)\n",
    "\n",
    "    # Extract sleep stage labels\n",
    "    sleep_labels = extract_labels(hypnogram_path)\n",
    "\n",
    "    # Ensure sleep labels match the number of epochs\n",
    "    min_epochs = min(num_epochs, len(sleep_labels))\n",
    "    eeg_epochs = eeg_epochs[:min_epochs]\n",
    "    sleep_labels = sleep_labels[:min_epochs]\n",
    "\n",
    "    # Save processed epochs\n",
    "    save_path = os.path.join(output_folder, psg_file.replace(\"-PSG.edf\", \".npz\"))\n",
    "    np.savez(save_path, eeg=eeg_epochs, labels=sleep_labels, fs=sampling_rate, channels=required_channels)\n",
    "\n",
    "    print(f\"Processed and saved: {psg_file}\")\n",
    "\n",
    "print(\"✅ EEG epochs successfully processed and saved with corresponding labels.\")"
   ]
  },
  {
   "cell_type": "code",
   "execution_count": null,
   "metadata": {},
   "outputs": [],
   "source": []
  },
  {
   "cell_type": "code",
   "execution_count": 4,
   "metadata": {},
   "outputs": [
    {
     "name": "stdout",
     "output_type": "stream",
     "text": [
      "Number of GPU:  1\n",
      "GPU Name:  NVIDIA RTX A6000\n",
      "Using device: cuda\n"
     ]
    }
   ],
   "source": [
    "import torch\n",
    "\n",
    "print(\"Number of GPU: \", torch.cuda.device_count())\n",
    "print(\"GPU Name: \", torch.cuda.get_device_name())\n",
    "\n",
    "\n",
    "device = torch.device('cuda' if torch.cuda.is_available() else 'cpu')\n",
    "print('Using device:', device)"
   ]
  },
  {
   "cell_type": "code",
   "execution_count": null,
   "metadata": {},
   "outputs": [],
   "source": []
  },
  {
   "cell_type": "code",
   "execution_count": 6,
   "metadata": {},
   "outputs": [
    {
     "name": "stdout",
     "output_type": "stream",
     "text": [
      "Epoch 1/30\n",
      "8391/8391 [==============================] - 26s 3ms/step - loss: 1.0192 - accuracy: 0.6688 - val_loss: 0.9983 - val_accuracy: 0.6696\n",
      "Epoch 2/30\n",
      "8391/8391 [==============================] - 28s 3ms/step - loss: 0.9877 - accuracy: 0.6712 - val_loss: 0.9766 - val_accuracy: 0.6730\n",
      "Epoch 3/30\n",
      "8391/8391 [==============================] - 28s 3ms/step - loss: 0.9728 - accuracy: 0.6729 - val_loss: 0.9792 - val_accuracy: 0.6727\n",
      "Epoch 4/30\n",
      "8391/8391 [==============================] - 28s 3ms/step - loss: 0.9615 - accuracy: 0.6748 - val_loss: 0.9576 - val_accuracy: 0.6755\n",
      "Epoch 5/30\n",
      "8391/8391 [==============================] - 28s 3ms/step - loss: 0.9539 - accuracy: 0.6763 - val_loss: 0.9604 - val_accuracy: 0.6749\n",
      "Epoch 6/30\n",
      "8391/8391 [==============================] - 28s 3ms/step - loss: 0.9479 - accuracy: 0.6777 - val_loss: 0.9514 - val_accuracy: 0.6763\n",
      "Epoch 7/30\n",
      "8391/8391 [==============================] - 28s 3ms/step - loss: 0.9420 - accuracy: 0.6788 - val_loss: 0.9445 - val_accuracy: 0.6776\n",
      "Epoch 8/30\n",
      "8391/8391 [==============================] - 28s 3ms/step - loss: 0.9381 - accuracy: 0.6793 - val_loss: 0.9456 - val_accuracy: 0.6785\n",
      "Epoch 9/30\n",
      "8391/8391 [==============================] - 28s 3ms/step - loss: 0.9332 - accuracy: 0.6806 - val_loss: 0.9389 - val_accuracy: 0.6782\n",
      "Epoch 10/30\n",
      "8391/8391 [==============================] - 28s 3ms/step - loss: 0.9290 - accuracy: 0.6815 - val_loss: 0.9369 - val_accuracy: 0.6799\n",
      "Epoch 11/30\n",
      "8391/8391 [==============================] - 28s 3ms/step - loss: 0.9260 - accuracy: 0.6817 - val_loss: 0.9405 - val_accuracy: 0.6794\n",
      "Epoch 12/30\n",
      "8391/8391 [==============================] - 28s 3ms/step - loss: 0.9237 - accuracy: 0.6829 - val_loss: 0.9384 - val_accuracy: 0.6793\n",
      "Epoch 13/30\n",
      "8391/8391 [==============================] - 28s 3ms/step - loss: 0.9201 - accuracy: 0.6836 - val_loss: 0.9307 - val_accuracy: 0.6818\n",
      "Epoch 14/30\n",
      "8391/8391 [==============================] - 28s 3ms/step - loss: 0.9176 - accuracy: 0.6841 - val_loss: 0.9334 - val_accuracy: 0.6815\n",
      "Epoch 15/30\n",
      "8391/8391 [==============================] - 28s 3ms/step - loss: 0.9161 - accuracy: 0.6839 - val_loss: 0.9343 - val_accuracy: 0.6816\n",
      "Epoch 16/30\n",
      "8391/8391 [==============================] - 28s 3ms/step - loss: 0.9142 - accuracy: 0.6848 - val_loss: 0.9339 - val_accuracy: 0.6811\n",
      "Epoch 17/30\n",
      "8391/8391 [==============================] - 28s 3ms/step - loss: 0.9116 - accuracy: 0.6853 - val_loss: 0.9360 - val_accuracy: 0.6816\n",
      "Epoch 18/30\n",
      "8391/8391 [==============================] - 28s 3ms/step - loss: 0.9096 - accuracy: 0.6863 - val_loss: 0.9331 - val_accuracy: 0.6795\n",
      "Epoch 19/30\n",
      "8391/8391 [==============================] - 28s 3ms/step - loss: 0.9100 - accuracy: 0.6854 - val_loss: 0.9314 - val_accuracy: 0.6811\n",
      "Epoch 20/30\n",
      "8391/8391 [==============================] - 28s 3ms/step - loss: 0.9061 - accuracy: 0.6865 - val_loss: 0.9277 - val_accuracy: 0.6800\n",
      "Epoch 21/30\n",
      "8391/8391 [==============================] - 28s 3ms/step - loss: 0.9044 - accuracy: 0.6864 - val_loss: 0.9326 - val_accuracy: 0.6803\n",
      "Epoch 22/30\n",
      "8391/8391 [==============================] - 28s 3ms/step - loss: 0.9027 - accuracy: 0.6873 - val_loss: 0.9319 - val_accuracy: 0.6823\n",
      "Epoch 23/30\n",
      "8391/8391 [==============================] - 28s 3ms/step - loss: 0.9016 - accuracy: 0.6877 - val_loss: 0.9271 - val_accuracy: 0.6831\n",
      "Epoch 24/30\n",
      "8391/8391 [==============================] - 28s 3ms/step - loss: 0.8990 - accuracy: 0.6880 - val_loss: 0.9301 - val_accuracy: 0.6810\n",
      "Epoch 25/30\n",
      "8391/8391 [==============================] - 28s 3ms/step - loss: 0.8985 - accuracy: 0.6882 - val_loss: 0.9325 - val_accuracy: 0.6816\n",
      "Epoch 26/30\n",
      "8391/8391 [==============================] - 28s 3ms/step - loss: 0.8951 - accuracy: 0.6892 - val_loss: 0.9313 - val_accuracy: 0.6820\n",
      "Epoch 27/30\n",
      "8391/8391 [==============================] - 28s 3ms/step - loss: 0.8956 - accuracy: 0.6890 - val_loss: 0.9306 - val_accuracy: 0.6802\n",
      "Epoch 28/30\n",
      "8391/8391 [==============================] - 28s 3ms/step - loss: 0.8952 - accuracy: 0.6893 - val_loss: 0.9301 - val_accuracy: 0.6823\n",
      "Epoch 29/30\n",
      "8391/8391 [==============================] - 28s 3ms/step - loss: 0.8931 - accuracy: 0.6896 - val_loss: 0.9281 - val_accuracy: 0.6803\n",
      "Epoch 30/30\n",
      "8391/8391 [==============================] - 28s 3ms/step - loss: 0.8922 - accuracy: 0.6900 - val_loss: 0.9298 - val_accuracy: 0.6829\n",
      "2098/2098 [==============================] - 2s 880us/step\n",
      "Test Accuracy: 0.68\n",
      "Classification Report:\n",
      "               precision    recall  f1-score   support\n",
      "\n",
      "           0       0.00      0.00      0.00        19\n",
      "           1       0.33      0.01      0.01      3661\n",
      "           2       0.43      0.17      0.25     11891\n",
      "           3       0.38      0.03      0.05      1470\n",
      "           4       0.20      0.03      0.05       637\n",
      "           5       0.28      0.35      0.31       236\n",
      "           6       0.34      0.01      0.03      4376\n",
      "           7       0.71      0.97      0.82     44836\n",
      "\n",
      "    accuracy                           0.68     67126\n",
      "   macro avg       0.33      0.20      0.19     67126\n",
      "weighted avg       0.60      0.68      0.60     67126\n",
      "\n"
     ]
    },
    {
     "name": "stderr",
     "output_type": "stream",
     "text": [
      "c:\\Users\\gpu.arl\\.conda\\envs\\2448507\\lib\\site-packages\\sklearn\\metrics\\_classification.py:1565: UndefinedMetricWarning: Precision is ill-defined and being set to 0.0 in labels with no predicted samples. Use `zero_division` parameter to control this behavior.\n",
      "  _warn_prf(average, modifier, f\"{metric.capitalize()} is\", len(result))\n",
      "c:\\Users\\gpu.arl\\.conda\\envs\\2448507\\lib\\site-packages\\sklearn\\metrics\\_classification.py:1565: UndefinedMetricWarning: Precision is ill-defined and being set to 0.0 in labels with no predicted samples. Use `zero_division` parameter to control this behavior.\n",
      "  _warn_prf(average, modifier, f\"{metric.capitalize()} is\", len(result))\n",
      "c:\\Users\\gpu.arl\\.conda\\envs\\2448507\\lib\\site-packages\\sklearn\\metrics\\_classification.py:1565: UndefinedMetricWarning: Precision is ill-defined and being set to 0.0 in labels with no predicted samples. Use `zero_division` parameter to control this behavior.\n",
      "  _warn_prf(average, modifier, f\"{metric.capitalize()} is\", len(result))\n"
     ]
    }
   ],
   "source": [
    "import os\n",
    "import numpy as np\n",
    "import scipy.signal\n",
    "import tensorflow as tf\n",
    "from tensorflow import keras\n",
    "from tensorflow.keras import layers\n",
    "from sklearn.model_selection import train_test_split\n",
    "from sklearn.preprocessing import StandardScaler\n",
    "from sklearn.metrics import accuracy_score, classification_report\n",
    "from sklearn.preprocessing import LabelEncoder \n",
    "\n",
    "# Path to processed EEG epochs\n",
    "data_folder = \"processed_epochs\"\n",
    "\n",
    "# Function to compute power spectral density (PSD) features\n",
    "def extract_psd_features(eeg_epoch, fs):\n",
    "    freqs, psd = scipy.signal.welch(eeg_epoch, fs=fs, nperseg=fs*2)  # Compute PSD\n",
    "    psd = np.log1p(psd)  # Use log1p to avoid log(0) issues\n",
    "    return psd.flatten()\n",
    "\n",
    "\n",
    "X = []\n",
    "y = []\n",
    "\n",
    "for file in os.listdir(data_folder):\n",
    "    if file.endswith(\".npz\"):\n",
    "        data = np.load(os.path.join(data_folder, file))\n",
    "        eeg_epochs = data[\"eeg\"]  # Shape: (num_epochs, num_channels, samples_per_epoch)\n",
    "        labels = data[\"labels\"]\n",
    "        fs = data[\"fs\"]\n",
    "\n",
    "        # Extract PSD features for each epoch\n",
    "        for i in range(eeg_epochs.shape[0]):\n",
    "            features = np.hstack([extract_psd_features(eeg_epochs[i, ch], fs) for ch in range(eeg_epochs.shape[1])])\n",
    "            X.append(features)\n",
    "            y.append(labels[i])\n",
    "\n",
    "# Convert to NumPy arrays\n",
    "X = np.array(X)\n",
    "y = np.array(y)\n",
    "\n",
    "\n",
    "if np.isnan(X).any() or np.isinf(X).any():\n",
    "    print(\"Warning: NaN or Inf detected in feature matrix! Replacing with zero.\")\n",
    "    X = np.nan_to_num(X)  # Replace NaN and Inf with zero\n",
    "\n",
    "label_encoder = LabelEncoder()\n",
    "y = label_encoder.fit_transform(y)\n",
    "\n",
    "# Split data into train (80%) and test (20%) sets\n",
    "X_train, X_test, y_train, y_test = train_test_split(X, y, test_size=0.2, random_state=42, stratify=y)\n",
    "\n",
    "# Normalize features\n",
    "scaler = StandardScaler()\n",
    "X_train = scaler.fit_transform(X_train)\n",
    "X_test = scaler.transform(X_test)\n",
    "\n",
    "\n",
    "model = keras.Sequential([\n",
    "    layers.Dense(128, activation=\"relu\", input_shape=(X_train.shape[1],)),\n",
    "    layers.Dense(64, activation=\"relu\"),\n",
    "    layers.Dense(32, activation=\"relu\"),\n",
    "    layers.Dense(len(np.unique(y)), activation=\"softmax\")  # Output layer (num classes)\n",
    "])\n",
    "\n",
    "# Compile model\n",
    "model.compile(optimizer=\"adam\", loss=\"sparse_categorical_crossentropy\", metrics=[\"accuracy\"])\n",
    "\n",
    "# Train the model\n",
    "history = model.fit(X_train, y_train, epochs=30, batch_size=32, validation_data=(X_test, y_test))\n",
    "\n",
    "# Evaluate model\n",
    "y_pred = np.argmax(model.predict(X_test), axis=1)\n",
    "accuracy = accuracy_score(y_test, y_pred)\n",
    "print(f\"Test Accuracy: {accuracy:.2f}\")\n",
    "print(\"Classification Report:\\n\", classification_report(y_test, y_pred))"
   ]
  },
  {
   "cell_type": "code",
   "execution_count": null,
   "metadata": {},
   "outputs": [],
   "source": []
  },
  {
   "cell_type": "code",
   "execution_count": 7,
   "metadata": {},
   "outputs": [
    {
     "ename": "KeyboardInterrupt",
     "evalue": "",
     "output_type": "error",
     "traceback": [
      "\u001b[1;31m---------------------------------------------------------------------------\u001b[0m",
      "\u001b[1;31mKeyboardInterrupt\u001b[0m                         Traceback (most recent call last)",
      "Cell \u001b[1;32mIn[7], line 37\u001b[0m\n\u001b[0;32m     35\u001b[0m \u001b[38;5;28;01mfor\u001b[39;00m i \u001b[38;5;129;01min\u001b[39;00m \u001b[38;5;28mrange\u001b[39m(eeg_epochs\u001b[38;5;241m.\u001b[39mshape[\u001b[38;5;241m0\u001b[39m]):\n\u001b[0;32m     36\u001b[0m     psd_features \u001b[38;5;241m=\u001b[39m np\u001b[38;5;241m.\u001b[39mhstack([extract_psd_features(eeg_epochs[i, ch], fs) \u001b[38;5;28;01mfor\u001b[39;00m ch \u001b[38;5;129;01min\u001b[39;00m \u001b[38;5;28mrange\u001b[39m(eeg_epochs\u001b[38;5;241m.\u001b[39mshape[\u001b[38;5;241m1\u001b[39m])])\n\u001b[1;32m---> 37\u001b[0m     stft_features \u001b[38;5;241m=\u001b[39m np\u001b[38;5;241m.\u001b[39mhstack([extract_stft_features(eeg_epochs[i, ch], fs) \u001b[38;5;28;01mfor\u001b[39;00m ch \u001b[38;5;129;01min\u001b[39;00m \u001b[38;5;28mrange\u001b[39m(eeg_epochs\u001b[38;5;241m.\u001b[39mshape[\u001b[38;5;241m1\u001b[39m])])\n\u001b[0;32m     39\u001b[0m     \u001b[38;5;66;03m# Combine features\u001b[39;00m\n\u001b[0;32m     40\u001b[0m     combined_features \u001b[38;5;241m=\u001b[39m np\u001b[38;5;241m.\u001b[39mhstack((psd_features, stft_features))\n",
      "Cell \u001b[1;32mIn[7], line 37\u001b[0m, in \u001b[0;36m<listcomp>\u001b[1;34m(.0)\u001b[0m\n\u001b[0;32m     35\u001b[0m \u001b[38;5;28;01mfor\u001b[39;00m i \u001b[38;5;129;01min\u001b[39;00m \u001b[38;5;28mrange\u001b[39m(eeg_epochs\u001b[38;5;241m.\u001b[39mshape[\u001b[38;5;241m0\u001b[39m]):\n\u001b[0;32m     36\u001b[0m     psd_features \u001b[38;5;241m=\u001b[39m np\u001b[38;5;241m.\u001b[39mhstack([extract_psd_features(eeg_epochs[i, ch], fs) \u001b[38;5;28;01mfor\u001b[39;00m ch \u001b[38;5;129;01min\u001b[39;00m \u001b[38;5;28mrange\u001b[39m(eeg_epochs\u001b[38;5;241m.\u001b[39mshape[\u001b[38;5;241m1\u001b[39m])])\n\u001b[1;32m---> 37\u001b[0m     stft_features \u001b[38;5;241m=\u001b[39m np\u001b[38;5;241m.\u001b[39mhstack([\u001b[43mextract_stft_features\u001b[49m\u001b[43m(\u001b[49m\u001b[43meeg_epochs\u001b[49m\u001b[43m[\u001b[49m\u001b[43mi\u001b[49m\u001b[43m,\u001b[49m\u001b[43m \u001b[49m\u001b[43mch\u001b[49m\u001b[43m]\u001b[49m\u001b[43m,\u001b[49m\u001b[43m \u001b[49m\u001b[43mfs\u001b[49m\u001b[43m)\u001b[49m \u001b[38;5;28;01mfor\u001b[39;00m ch \u001b[38;5;129;01min\u001b[39;00m \u001b[38;5;28mrange\u001b[39m(eeg_epochs\u001b[38;5;241m.\u001b[39mshape[\u001b[38;5;241m1\u001b[39m])])\n\u001b[0;32m     39\u001b[0m     \u001b[38;5;66;03m# Combine features\u001b[39;00m\n\u001b[0;32m     40\u001b[0m     combined_features \u001b[38;5;241m=\u001b[39m np\u001b[38;5;241m.\u001b[39mhstack((psd_features, stft_features))\n",
      "Cell \u001b[1;32mIn[7], line 21\u001b[0m, in \u001b[0;36mextract_stft_features\u001b[1;34m(eeg_epoch, fs)\u001b[0m\n\u001b[0;32m     19\u001b[0m \u001b[38;5;28;01mdef\u001b[39;00m\u001b[38;5;250m \u001b[39m\u001b[38;5;21mextract_stft_features\u001b[39m(eeg_epoch, fs):\n\u001b[0;32m     20\u001b[0m     f, t, Zxx \u001b[38;5;241m=\u001b[39m scipy\u001b[38;5;241m.\u001b[39msignal\u001b[38;5;241m.\u001b[39mstft(eeg_epoch, fs\u001b[38;5;241m=\u001b[39mfs, nperseg\u001b[38;5;241m=\u001b[39mfs\u001b[38;5;241m/\u001b[39m\u001b[38;5;241m/\u001b[39m\u001b[38;5;241m2\u001b[39m)\n\u001b[1;32m---> 21\u001b[0m     stft_magnitude \u001b[38;5;241m=\u001b[39m \u001b[43mnp\u001b[49m\u001b[38;5;241;43m.\u001b[39;49m\u001b[43mabs\u001b[49m\u001b[43m(\u001b[49m\u001b[43mZxx\u001b[49m\u001b[43m)\u001b[49m  \u001b[38;5;66;03m# Extract magnitude\u001b[39;00m\n\u001b[0;32m     22\u001b[0m     \u001b[38;5;28;01mreturn\u001b[39;00m stft_magnitude\u001b[38;5;241m.\u001b[39mflatten()\n",
      "\u001b[1;31mKeyboardInterrupt\u001b[0m: "
     ]
    }
   ],
   "source": [
    "import scipy.signal\n",
    "import tensorflow as tf\n",
    "from tensorflow import keras\n",
    "from tensorflow.keras import layers\n",
    "from sklearn.preprocessing import LabelEncoder, StandardScaler\n",
    "from sklearn.model_selection import train_test_split\n",
    "from sklearn.metrics import accuracy_score, classification_report\n",
    "\n",
    "# Path to processed EEG epochs\n",
    "data_folder = \"processed_epochs\"\n",
    "\n",
    "# Function to compute power spectral density (PSD) features\n",
    "def extract_psd_features(eeg_epoch, fs):\n",
    "    freqs, psd = scipy.signal.welch(eeg_epoch, fs=fs, nperseg=fs*2)  # Compute PSD\n",
    "    psd = np.log1p(psd)  # Use log1p to avoid log(0) issues\n",
    "    return psd.flatten()\n",
    "\n",
    "# Function to compute Short-Time Fourier Transform (STFT) features\n",
    "def extract_stft_features(eeg_epoch, fs):\n",
    "    f, t, Zxx = scipy.signal.stft(eeg_epoch, fs=fs, nperseg=fs//2)\n",
    "    stft_magnitude = np.abs(Zxx)  # Extract magnitude\n",
    "    return stft_magnitude.flatten()\n",
    "\n",
    "X = []\n",
    "y = []\n",
    "\n",
    "for file in os.listdir(data_folder):\n",
    "    if file.endswith(\".npz\"):\n",
    "        data = np.load(os.path.join(data_folder, file))\n",
    "        eeg_epochs = data[\"eeg\"]  # Shape: (num_epochs, num_channels, samples_per_epoch)\n",
    "        labels = data[\"labels\"]\n",
    "        fs = data[\"fs\"]\n",
    "\n",
    "        # Extract PSD and STFT features for each epoch\n",
    "        for i in range(eeg_epochs.shape[0]):\n",
    "            psd_features = np.hstack([extract_psd_features(eeg_epochs[i, ch], fs) for ch in range(eeg_epochs.shape[1])])\n",
    "            stft_features = np.hstack([extract_stft_features(eeg_epochs[i, ch], fs) for ch in range(eeg_epochs.shape[1])])\n",
    "\n",
    "            # Combine features\n",
    "            combined_features = np.hstack((psd_features, stft_features))\n",
    "\n",
    "            X.append(combined_features)\n",
    "            y.append(labels[i])\n",
    "\n",
    "# Convert lists to NumPy arrays\n",
    "X = np.array(X)\n",
    "y = np.array(y)\n",
    "\n",
    "# Handle NaN/Inf values\n",
    "if np.isnan(X).any() or np.isinf(X).any():\n",
    "    print(\"Warning: NaN or Inf detected in feature matrix! Replacing with zero.\")\n",
    "    X = np.nan_to_num(X)  # Replace NaN and Inf with zero\n",
    "\n",
    "# Encode labels\n",
    "label_encoder = LabelEncoder()\n",
    "y = label_encoder.fit_transform(y)\n",
    "\n",
    "# Split data into train (80%) and test (20%) sets\n",
    "X_train, X_test, y_train, y_test = train_test_split(X, y, test_size=0.2, random_state=42, stratify=y)\n",
    "\n",
    "# Normalize features\n",
    "scaler = StandardScaler()\n",
    "X_train = scaler.fit_transform(X_train)\n",
    "X_test = scaler.transform(X_test)\n",
    "\n",
    "# Define MLP Model\n",
    "model = keras.Sequential([\n",
    "    layers.Dense(128, activation=\"relu\", input_shape=(X_train.shape[1],)),\n",
    "    layers.Dense(64, activation=\"relu\"),\n",
    "    layers.Dense(32, activation=\"relu\"),\n",
    "    layers.Dense(len(np.unique(y)), activation=\"softmax\")  # Output layer (num classes)\n",
    "])\n",
    "\n",
    "# Compile model\n",
    "model.compile(optimizer=\"adam\", loss=\"sparse_categorical_crossentropy\", metrics=[\"accuracy\"])\n",
    "\n",
    "# Train the model\n",
    "history = model.fit(X_train, y_train, epochs=20, batch_size=32, validation_data=(X_test, y_test))\n",
    "\n",
    "# Evaluate model\n",
    "y_pred = np.argmax(model.predict(X_test), axis=1)\n",
    "accuracy = accuracy_score(y_test, y_pred)\n",
    "print(f\"Test Accuracy: {accuracy:.2f}\")\n",
    "print(\"Classification Report:\\n\", classification_report(y_test, y_pred))\n",
    "\n",
    "import matplotlib.pyplot as plt\n",
    "\n",
    "# Plot training & validation accuracy\n",
    "import matplotlib.pyplot as plt\n",
    "\n",
    "# Plot training & validation accuracy and loss\n",
    "plt.figure(figsize=(12, 6))\n",
    "\n",
    "# Accuracy Plot\n",
    "plt.subplot(1, 2, 1)  # Create a subplot for accuracy\n",
    "plt.plot(history.history['accuracy'], label='Train Accuracy', marker='o')\n",
    "plt.plot(history.history['val_accuracy'], label='Test Accuracy', marker='s')\n",
    "plt.xlabel('Epochs')\n",
    "plt.ylabel('Accuracy')\n",
    "plt.title('Training vs. Validation Accuracy')\n",
    "plt.legend()\n",
    "plt.grid()\n",
    "\n",
    "# Loss Plot\n",
    "plt.subplot(1, 2, 2)  # Create a subplot for loss\n",
    "plt.plot(history.history['loss'], label='Train Loss', marker='o')\n",
    "plt.plot(history.history['val_loss'], label='Test Loss', marker='s')\n",
    "plt.xlabel('Epochs')\n",
    "plt.ylabel('Loss')\n",
    "plt.title('Training vs. Validation Loss')\n",
    "plt.legend()\n",
    "plt.grid()\n",
    "\n",
    "# Show the plots\n",
    "plt.tight_layout()\n",
    "plt.show()\n"
   ]
  },
  {
   "cell_type": "code",
   "execution_count": null,
   "metadata": {},
   "outputs": [],
   "source": []
  },
  {
   "cell_type": "markdown",
   "metadata": {},
   "source": [
    "just lstm"
   ]
  },
  {
   "cell_type": "code",
   "execution_count": 8,
   "metadata": {},
   "outputs": [
    {
     "name": "stdout",
     "output_type": "stream",
     "text": [
      "Epoch 1/20\n",
      "8391/8391 [==============================] - 61s 7ms/step - loss: 1.0656 - accuracy: 0.6677 - val_loss: 1.0976 - val_accuracy: 0.6679\n",
      "Epoch 2/20\n",
      "8391/8391 [==============================] - 58s 7ms/step - loss: 1.0569 - accuracy: 0.6679 - val_loss: 1.0935 - val_accuracy: 0.6679\n",
      "Epoch 3/20\n",
      "8391/8391 [==============================] - 58s 7ms/step - loss: 1.0488 - accuracy: 0.6680 - val_loss: 1.1344 - val_accuracy: 0.6499\n",
      "Epoch 4/20\n",
      "8391/8391 [==============================] - 58s 7ms/step - loss: 1.0327 - accuracy: 0.6695 - val_loss: 1.2114 - val_accuracy: 0.6274\n",
      "Epoch 5/20\n",
      "8391/8391 [==============================] - 59s 7ms/step - loss: 1.0100 - accuracy: 0.6724 - val_loss: 1.2259 - val_accuracy: 0.6404\n",
      "Epoch 6/20\n",
      "8391/8391 [==============================] - 59s 7ms/step - loss: 0.9843 - accuracy: 0.6772 - val_loss: 1.3558 - val_accuracy: 0.6263\n",
      "Epoch 7/20\n",
      "8391/8391 [==============================] - 59s 7ms/step - loss: 0.9588 - accuracy: 0.6826 - val_loss: 1.3398 - val_accuracy: 0.6256\n",
      "Epoch 8/20\n",
      "8391/8391 [==============================] - 59s 7ms/step - loss: 0.9342 - accuracy: 0.6887 - val_loss: 1.5433 - val_accuracy: 0.5820\n",
      "Epoch 9/20\n",
      "8391/8391 [==============================] - 59s 7ms/step - loss: 0.9103 - accuracy: 0.6948 - val_loss: 1.5473 - val_accuracy: 0.6160\n",
      "Epoch 10/20\n",
      "8391/8391 [==============================] - 58s 7ms/step - loss: 0.8889 - accuracy: 0.7004 - val_loss: 1.6465 - val_accuracy: 0.5567\n",
      "Epoch 11/20\n",
      "8391/8391 [==============================] - 58s 7ms/step - loss: 0.8702 - accuracy: 0.7059 - val_loss: 1.8010 - val_accuracy: 0.5413\n",
      "Epoch 12/20\n",
      "8391/8391 [==============================] - 58s 7ms/step - loss: 0.8532 - accuracy: 0.7106 - val_loss: 1.9308 - val_accuracy: 0.4974\n",
      "Epoch 13/20\n",
      "8391/8391 [==============================] - 59s 7ms/step - loss: 0.8368 - accuracy: 0.7154 - val_loss: 2.0667 - val_accuracy: 0.4858\n",
      "Epoch 14/20\n",
      "8391/8391 [==============================] - 59s 7ms/step - loss: 0.8225 - accuracy: 0.7193 - val_loss: 2.2972 - val_accuracy: 0.4475\n",
      "Epoch 15/20\n",
      "8391/8391 [==============================] - 59s 7ms/step - loss: 0.8108 - accuracy: 0.7225 - val_loss: 2.6892 - val_accuracy: 0.4209\n",
      "Epoch 16/20\n",
      "8391/8391 [==============================] - 59s 7ms/step - loss: 0.7976 - accuracy: 0.7266 - val_loss: 2.4160 - val_accuracy: 0.4892\n",
      "Epoch 17/20\n",
      "8391/8391 [==============================] - 59s 7ms/step - loss: 0.7870 - accuracy: 0.7296 - val_loss: 2.5594 - val_accuracy: 0.4662\n",
      "Epoch 18/20\n",
      "8391/8391 [==============================] - 58s 7ms/step - loss: 0.7765 - accuracy: 0.7334 - val_loss: 2.5478 - val_accuracy: 0.4704\n",
      "Epoch 19/20\n",
      "8391/8391 [==============================] - 59s 7ms/step - loss: 0.7664 - accuracy: 0.7363 - val_loss: 2.9073 - val_accuracy: 0.4464\n",
      "Epoch 20/20\n",
      "8391/8391 [==============================] - 58s 7ms/step - loss: 0.7581 - accuracy: 0.7391 - val_loss: 2.7327 - val_accuracy: 0.5242\n",
      "2098/2098 [==============================] - 5s 2ms/step\n",
      "Test Accuracy: 0.52\n",
      "Classification Report:\n",
      "               precision    recall  f1-score   support\n",
      "\n",
      "           0       0.00      0.00      0.00        19\n",
      "           1       0.06      0.02      0.03      3661\n",
      "           2       0.18      0.21      0.20     11891\n",
      "           3       0.01      0.01      0.01      1470\n",
      "           4       0.01      0.00      0.01       637\n",
      "           5       0.00      0.00      0.00       236\n",
      "           6       0.06      0.03      0.04      4376\n",
      "           7       0.67      0.72      0.69     44836\n",
      "\n",
      "    accuracy                           0.52     67126\n",
      "   macro avg       0.12      0.12      0.12     67126\n",
      "weighted avg       0.49      0.52      0.50     67126\n",
      "\n"
     ]
    },
    {
     "data": {
      "image/png": "[encoded data removed]",
      "text/plain": [
       "<Figure size 1200x600 with 2 Axes>"
      ]
     },
     "metadata": {},
     "output_type": "display_data"
    }
   ],
   "source": [
    "import numpy as np\n",
    "import tensorflow as tf\n",
    "from tensorflow.keras import layers, Sequential\n",
    "from sklearn.model_selection import train_test_split\n",
    "from sklearn.preprocessing import LabelEncoder, StandardScaler\n",
    "from sklearn.metrics import accuracy_score, classification_report\n",
    "import matplotlib.pyplot as plt\n",
    "import os\n",
    "\n",
    "# Path to processed EEG epochs\n",
    "data_folder = \"processed_epochs\"\n",
    "\n",
    "# Function to compute power spectral density (PSD) features\n",
    "def extract_psd_features(eeg_epoch, fs):\n",
    "    freqs, psd = scipy.signal.welch(eeg_epoch, fs=fs, nperseg=fs*2)  \n",
    "    psd = np.log1p(psd)  # Log transform to avoid log(0) issues\n",
    "    return psd.flatten()\n",
    "\n",
    "X = []\n",
    "y = []\n",
    "\n",
    "for file in os.listdir(data_folder):\n",
    "    if file.endswith(\".npz\"):\n",
    "        data = np.load(os.path.join(data_folder, file))\n",
    "        eeg_epochs = data[\"eeg\"]  # Shape: (num_epochs, num_channels, samples_per_epoch)\n",
    "        labels = data[\"labels\"]\n",
    "        fs = data[\"fs\"]\n",
    "\n",
    "        # Extract PSD features for each epoch\n",
    "        for i in range(eeg_epochs.shape[0]):\n",
    "            features = np.array([extract_psd_features(eeg_epochs[i, ch], fs) for ch in range(eeg_epochs.shape[1])])\n",
    "            X.append(features)\n",
    "            y.append(labels[i])\n",
    "\n",
    "# Convert to NumPy arrays\n",
    "X = np.array(X)  # Shape: (num_samples, num_channels, num_features)\n",
    "y = np.array(y)\n",
    "\n",
    "# Handle NaN/Inf values\n",
    "if np.isnan(X).any() or np.isinf(X).any():\n",
    "    print(\"Warning: NaN or Inf detected in feature matrix! Replacing with zero.\")\n",
    "    X = np.nan_to_num(X)\n",
    "\n",
    "# Encode labels\n",
    "label_encoder = LabelEncoder()\n",
    "y = label_encoder.fit_transform(y)\n",
    "\n",
    "# Split data into train (80%) and test (20%) sets\n",
    "X_train, X_test, y_train, y_test = train_test_split(X, y, test_size=0.2, random_state=42, stratify=y)\n",
    "\n",
    "# Normalize features\n",
    "scaler = StandardScaler()\n",
    "X_train = np.array([scaler.fit_transform(sample) for sample in X_train])\n",
    "X_test = np.array([scaler.transform(sample) for sample in X_test])\n",
    "\n",
    "# Define LSTM Model\n",
    "model = Sequential([\n",
    "    layers.LSTM(128, return_sequences=True, input_shape=(X_train.shape[1], X_train.shape[2])),\n",
    "    layers.LSTM(64),\n",
    "    layers.Dense(32, activation=\"relu\"),\n",
    "    layers.Dense(len(np.unique(y)), activation=\"softmax\")  # Output layer (num classes)\n",
    "])\n",
    "\n",
    "# Compile model\n",
    "model.compile(optimizer=\"adam\", loss=\"sparse_categorical_crossentropy\", metrics=[\"accuracy\"])\n",
    "\n",
    "# Train the model\n",
    "history = model.fit(X_train, y_train, epochs=20, batch_size=32, validation_data=(X_test, y_test))\n",
    "\n",
    "# Evaluate model\n",
    "y_pred = np.argmax(model.predict(X_test), axis=1)\n",
    "accuracy = accuracy_score(y_test, y_pred)\n",
    "print(f\"Test Accuracy: {accuracy:.2f}\")\n",
    "print(\"Classification Report:\\n\", classification_report(y_test, y_pred))\n",
    "\n",
    "# Plot training vs validation accuracy\n",
    "plt.figure(figsize=(12, 6))\n",
    "\n",
    "# Accuracy Plot\n",
    "plt.subplot(1, 2, 1)  # Create a subplot for accuracy\n",
    "plt.plot(history.history['accuracy'], label='Train Accuracy', marker='o')\n",
    "plt.plot(history.history['val_accuracy'], label='Test Accuracy', marker='s')\n",
    "plt.xlabel('Epochs')\n",
    "plt.ylabel('Accuracy')\n",
    "plt.title('Training vs. Validation Accuracy')\n",
    "plt.legend()\n",
    "plt.grid()\n",
    "\n",
    "# Loss Plot\n",
    "plt.subplot(1, 2, 2)  # Create a subplot for loss\n",
    "plt.plot(history.history['loss'], label='Train Loss', marker='o')\n",
    "plt.plot(history.history['val_loss'], label='Test Loss', marker='s')\n",
    "plt.xlabel('Epochs')\n",
    "plt.ylabel('Loss')\n",
    "plt.title('Training vs. Validation Loss')\n",
    "plt.legend()\n",
    "plt.grid()\n",
    "\n",
    "# Show the plots\n",
    "plt.tight_layout()\n",
    "plt.show()"
   ]
  },
  {
   "cell_type": "markdown",
   "metadata": {},
   "source": [
    "lstm with regularization"
   ]
  },
  {
   "cell_type": "code",
   "execution_count": 10,
   "metadata": {},
   "outputs": [
    {
     "name": "stdout",
     "output_type": "stream",
     "text": [
      "Epoch 1/10\n",
      "4196/4196 [==============================] - 65s 15ms/step - loss: 1.2780 - accuracy: 0.6607 - val_loss: 1.0845 - val_accuracy: 0.6679\n",
      "Epoch 2/10\n",
      "4196/4196 [==============================] - 63s 15ms/step - loss: 1.0706 - accuracy: 0.6679 - val_loss: 1.0752 - val_accuracy: 0.6679\n",
      "Epoch 3/10\n",
      "4196/4196 [==============================] - 63s 15ms/step - loss: 1.0693 - accuracy: 0.6679 - val_loss: 1.0847 - val_accuracy: 0.6679\n",
      "Epoch 4/10\n",
      "4196/4196 [==============================] - 63s 15ms/step - loss: 1.0680 - accuracy: 0.6679 - val_loss: 1.0714 - val_accuracy: 0.6679\n",
      "Epoch 5/10\n",
      "4196/4196 [==============================] - 63s 15ms/step - loss: 1.0670 - accuracy: 0.6679 - val_loss: 1.0723 - val_accuracy: 0.6679\n",
      "Epoch 6/10\n",
      "4196/4196 [==============================] - 63s 15ms/step - loss: 1.0668 - accuracy: 0.6679 - val_loss: 1.1108 - val_accuracy: 0.6679\n",
      "Epoch 7/10\n",
      "4196/4196 [==============================] - 63s 15ms/step - loss: 1.0663 - accuracy: 0.6679 - val_loss: 1.0776 - val_accuracy: 0.6679\n",
      "Epoch 8/10\n",
      "4196/4196 [==============================] - 63s 15ms/step - loss: 1.0664 - accuracy: 0.6679 - val_loss: 1.1312 - val_accuracy: 0.6679\n",
      "Epoch 9/10\n",
      "4196/4196 [==============================] - 63s 15ms/step - loss: 1.0660 - accuracy: 0.6679 - val_loss: 1.0747 - val_accuracy: 0.6679\n",
      "Epoch 10/10\n",
      "4196/4196 [==============================] - 63s 15ms/step - loss: 1.0657 - accuracy: 0.6679 - val_loss: 1.2033 - val_accuracy: 0.6679\n",
      "2098/2098 [==============================] - 6s 3ms/step\n",
      "Test Accuracy: 0.67\n",
      "Classification Report:\n",
      "               precision    recall  f1-score   support\n",
      "\n",
      "           0       0.00      0.00      0.00        19\n",
      "           1       0.00      0.00      0.00      3661\n",
      "           2       0.00      0.00      0.00     11891\n",
      "           3       0.00      0.00      0.00      1470\n",
      "           4       0.00      0.00      0.00       637\n",
      "           5       0.00      0.00      0.00       236\n",
      "           6       0.00      0.00      0.00      4376\n",
      "           7       0.67      1.00      0.80     44836\n",
      "\n",
      "    accuracy                           0.67     67126\n",
      "   macro avg       0.08      0.12      0.10     67126\n",
      "weighted avg       0.45      0.67      0.53     67126\n",
      "\n"
     ]
    },
    {
     "name": "stderr",
     "output_type": "stream",
     "text": [
      "c:\\Users\\gpu.arl\\.conda\\envs\\2448507\\lib\\site-packages\\sklearn\\metrics\\_classification.py:1565: UndefinedMetricWarning: Precision is ill-defined and being set to 0.0 in labels with no predicted samples. Use `zero_division` parameter to control this behavior.\n",
      "  _warn_prf(average, modifier, f\"{metric.capitalize()} is\", len(result))\n",
      "c:\\Users\\gpu.arl\\.conda\\envs\\2448507\\lib\\site-packages\\sklearn\\metrics\\_classification.py:1565: UndefinedMetricWarning: Precision is ill-defined and being set to 0.0 in labels with no predicted samples. Use `zero_division` parameter to control this behavior.\n",
      "  _warn_prf(average, modifier, f\"{metric.capitalize()} is\", len(result))\n",
      "c:\\Users\\gpu.arl\\.conda\\envs\\2448507\\lib\\site-packages\\sklearn\\metrics\\_classification.py:1565: UndefinedMetricWarning: Precision is ill-defined and being set to 0.0 in labels with no predicted samples. Use `zero_division` parameter to control this behavior.\n",
      "  _warn_prf(average, modifier, f\"{metric.capitalize()} is\", len(result))\n"
     ]
    },
    {
     "data": {
      "image/png": "[encoded data removed]",
      "text/plain": [
       "<Figure size 800x600 with 1 Axes>"
      ]
     },
     "metadata": {},
     "output_type": "display_data"
    }
   ],
   "source": [
    "import numpy as np\n",
    "import tensorflow as tf\n",
    "from tensorflow.keras import layers, Sequential, regularizers\n",
    "from sklearn.model_selection import train_test_split\n",
    "from sklearn.preprocessing import LabelEncoder, StandardScaler\n",
    "from sklearn.metrics import accuracy_score, classification_report\n",
    "import matplotlib.pyplot as plt\n",
    "import os\n",
    "\n",
    "# Path to processed EEG epochs\n",
    "data_folder = \"processed_epochs\"\n",
    "\n",
    "# Function to compute power spectral density (PSD) features\n",
    "def extract_psd_features(eeg_epoch, fs):\n",
    "    freqs, psd = scipy.signal.welch(eeg_epoch, fs=fs, nperseg=fs*2)  \n",
    "    psd = np.log1p(psd)  # Log transform to avoid log(0) issues\n",
    "    return psd.flatten()\n",
    "\n",
    "X = []\n",
    "y = []\n",
    "\n",
    "for file in os.listdir(data_folder):\n",
    "    if file.endswith(\".npz\"):\n",
    "        data = np.load(os.path.join(data_folder, file))\n",
    "        eeg_epochs = data[\"eeg\"]  \n",
    "        labels = data[\"labels\"]\n",
    "        fs = data[\"fs\"]\n",
    "\n",
    "        # Extract PSD features for each epoch\n",
    "        for i in range(eeg_epochs.shape[0]):\n",
    "            features = np.array([extract_psd_features(eeg_epochs[i, ch], fs) for ch in range(eeg_epochs.shape[1])])\n",
    "            X.append(features)\n",
    "            y.append(labels[i])\n",
    "\n",
    "# Convert to NumPy arrays\n",
    "X = np.array(X)\n",
    "y = np.array(y)\n",
    "\n",
    "# Handle NaN/Inf values\n",
    "if np.isnan(X).any() or np.isinf(X).any():\n",
    "    print(\"Warning: NaN or Inf detected in feature matrix! Replacing with zero.\")\n",
    "    X = np.nan_to_num(X)\n",
    "\n",
    "# Encode labels\n",
    "label_encoder = LabelEncoder()\n",
    "y = label_encoder.fit_transform(y)\n",
    "\n",
    "# Split data into train (80%) and test (20%) sets\n",
    "X_train, X_test, y_train, y_test = train_test_split(X, y, test_size=0.2, random_state=42, stratify=y)\n",
    "\n",
    "# Normalize features\n",
    "scaler = StandardScaler()\n",
    "X_train = np.array([scaler.fit_transform(sample) for sample in X_train])\n",
    "X_test = np.array([scaler.transform(sample) for sample in X_test])\n",
    "\n",
    "# Define LSTM Model with Regularization\n",
    "model = Sequential([\n",
    "    layers.LSTM(64, return_sequences=True, \n",
    "                kernel_regularizer=regularizers.l2(0.01), \n",
    "                recurrent_regularizer=regularizers.l2(0.01),\n",
    "                input_shape=(X_train.shape[1], X_train.shape[2])),\n",
    "    layers.BatchNormalization(),\n",
    "    layers.Dropout(0.3),  \n",
    "    \n",
    "    layers.LSTM(32, return_sequences=False, \n",
    "                kernel_regularizer=regularizers.l2(0.01),\n",
    "                recurrent_regularizer=regularizers.l2(0.01)),\n",
    "    layers.BatchNormalization(),\n",
    "    layers.Dropout(0.3),  \n",
    "    \n",
    "    layers.Dense(32, activation=\"relu\", kernel_regularizer=regularizers.l2(0.01)),\n",
    "    layers.Dropout(0.2),\n",
    "    \n",
    "    layers.Dense(len(np.unique(y)), activation=\"softmax\")\n",
    "])\n",
    "\n",
    "# Compile model with Gradient Clipping\n",
    "optimizer = tf.keras.optimizers.Adam(learning_rate=0.001, clipnorm=1.0)\n",
    "\n",
    "model.compile(optimizer=optimizer, loss=\"sparse_categorical_crossentropy\", metrics=[\"accuracy\"])\n",
    "\n",
    "# Train the model\n",
    "history = model.fit(X_train, y_train, epochs=10, batch_size=64, validation_data=(X_test, y_test))\n",
    "\n",
    "# Evaluate model\n",
    "y_pred = np.argmax(model.predict(X_test), axis=1)\n",
    "accuracy = accuracy_score(y_test, y_pred)\n",
    "print(f\"Test Accuracy: {accuracy:.2f}\")\n",
    "print(\"Classification Report:\\n\", classification_report(y_test, y_pred))\n",
    "\n",
    "# Plot training vs validation accuracy\n",
    "plt.figure(figsize=(8, 6))\n",
    "plt.plot(history.history['accuracy'], label='Train Accuracy', marker='o')\n",
    "plt.plot(history.history['val_accuracy'], label='Test Accuracy', marker='s')\n",
    "plt.xlabel('Epochs')\n",
    "plt.ylabel('Accuracy')\n",
    "plt.title('LSTM with Regularization: Training vs. Validation Accuracy')\n",
    "plt.legend()\n",
    "plt.grid()\n",
    "plt.show()"
   ]
  },
  {
   "cell_type": "code",
   "execution_count": null,
   "metadata": {},
   "outputs": [],
   "source": []
  }
 ],
 "metadata": {
  "kernelspec": {
   "display_name": "Python 3",
   "language": "python",
   "name": "python3"
  },
  "language_info": {
   "codemirror_mode": {
    "name": "ipython",
    "version": 3
   },
   "file_extension": ".py",
   "mimetype": "text/x-python",
   "name": "python",
   "nbconvert_exporter": "python",
   "pygments_lexer": "ipython3",
   "version": "3.9.15"
  }
 },
 "nbformat": 4,
 "nbformat_minor": 2
}
